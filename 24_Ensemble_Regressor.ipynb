{
 "cells": [
  {
   "cell_type": "markdown",
   "metadata": {},
   "source": [
    "# Ensemble Regression Method\n"
   ]
  },
  {
   "cell_type": "code",
   "execution_count": 6,
   "metadata": {
    "scrolled": false
   },
   "outputs": [],
   "source": [
    "#Boston Housing Dataset: Load the boston dataset.\n",
    "from sklearn.datasets import load_boston\n",
    "\n",
    "boston = load_boston()\n",
    "\n",
    "\n",
    "#Creating feature and target arrays\n",
    "X, y = boston.data, boston.target\n",
    "columns = boston.feature_names\n",
    "\n",
    "from sklearn.preprocessing import StandardScaler\n",
    "scaler = StandardScaler(copy=False).fit(X)\n",
    "scaler.transform(X)\n",
    "\n",
    "\n",
    "# TRAIN-TEST split\n",
    "from sklearn.model_selection import train_test_split\n",
    "\n",
    "X_train, X_test, y_train, y_test = train_test_split(X,y,\n",
    "                                                    test_size=0.3,\n",
    "                                                    random_state=42)\n"
   ]
  },
  {
   "cell_type": "markdown",
   "metadata": {},
   "source": [
    "## Random forest\n"
   ]
  },
  {
   "cell_type": "code",
   "execution_count": 10,
   "metadata": {},
   "outputs": [
    {
     "name": "stdout",
     "output_type": "stream",
     "text": [
      "***GRIDSEARCH RESULTS***\n",
      "Best score: 0.773431 using {'criterion': 'mse', 'max_depth': 4, 'min_samples_leaf': 5, 'n_estimators': 200, 'random_state': 42}\n",
      "0.733134 (0.046415) with: {'criterion': 'mse', 'max_depth': 3, 'min_samples_leaf': 10, 'n_estimators': 5, 'random_state': 42}\n",
      "0.749350 (0.047250) with: {'criterion': 'mse', 'max_depth': 3, 'min_samples_leaf': 10, 'n_estimators': 10, 'random_state': 42}\n",
      "0.744404 (0.035020) with: {'criterion': 'mse', 'max_depth': 3, 'min_samples_leaf': 10, 'n_estimators': 100, 'random_state': 42}\n",
      "0.746909 (0.034949) with: {'criterion': 'mse', 'max_depth': 3, 'min_samples_leaf': 10, 'n_estimators': 200, 'random_state': 42}\n",
      "0.738029 (0.035272) with: {'criterion': 'mse', 'max_depth': 3, 'min_samples_leaf': 5, 'n_estimators': 5, 'random_state': 42}\n",
      "0.754844 (0.047871) with: {'criterion': 'mse', 'max_depth': 3, 'min_samples_leaf': 5, 'n_estimators': 10, 'random_state': 42}\n",
      "0.759080 (0.044313) with: {'criterion': 'mse', 'max_depth': 3, 'min_samples_leaf': 5, 'n_estimators': 100, 'random_state': 42}\n",
      "0.760327 (0.041743) with: {'criterion': 'mse', 'max_depth': 3, 'min_samples_leaf': 5, 'n_estimators': 200, 'random_state': 42}\n",
      "0.736288 (0.044638) with: {'criterion': 'mse', 'max_depth': 4, 'min_samples_leaf': 10, 'n_estimators': 5, 'random_state': 42}\n",
      "0.754218 (0.045691) with: {'criterion': 'mse', 'max_depth': 4, 'min_samples_leaf': 10, 'n_estimators': 10, 'random_state': 42}\n",
      "0.751802 (0.033801) with: {'criterion': 'mse', 'max_depth': 4, 'min_samples_leaf': 10, 'n_estimators': 100, 'random_state': 42}\n",
      "0.753254 (0.035772) with: {'criterion': 'mse', 'max_depth': 4, 'min_samples_leaf': 10, 'n_estimators': 200, 'random_state': 42}\n",
      "0.744258 (0.037766) with: {'criterion': 'mse', 'max_depth': 4, 'min_samples_leaf': 5, 'n_estimators': 5, 'random_state': 42}\n",
      "0.761472 (0.043224) with: {'criterion': 'mse', 'max_depth': 4, 'min_samples_leaf': 5, 'n_estimators': 10, 'random_state': 42}\n",
      "0.772913 (0.043007) with: {'criterion': 'mse', 'max_depth': 4, 'min_samples_leaf': 5, 'n_estimators': 100, 'random_state': 42}\n",
      "0.773431 (0.043335) with: {'criterion': 'mse', 'max_depth': 4, 'min_samples_leaf': 5, 'n_estimators': 200, 'random_state': 42}\n"
     ]
    },
    {
     "data": {
      "text/plain": [
       "0.8031205373066841"
      ]
     },
     "execution_count": 10,
     "metadata": {},
     "output_type": "execute_result"
    }
   ],
   "source": [
    "#DEFINE YOUR REGRESSOR and THE PARAMETERS GRID\n",
    "from sklearn.ensemble import RandomForestRegressor \n",
    "import numpy as np\n",
    "\n",
    "regressor = RandomForestRegressor()\n",
    "parameters = {\"n_estimators\":[5,10,100,200], \"criterion\": ['mse'], \"max_depth\":[3,4], \n",
    "              \"min_samples_leaf\": [10,5], \"random_state\" : [42]}\n",
    "\n",
    "#DEFINE YOUR GRIDSEARCH \n",
    "from sklearn.model_selection import GridSearchCV\n",
    "gs = GridSearchCV(regressor, parameters, cv=3) #with no params it reduces to a CV\n",
    "\n",
    "gs = gs.fit(X_train,y_train)\n",
    "\n",
    "#summarize the results of your GRIDSEARCH\n",
    "print('***GRIDSEARCH RESULTS***')\n",
    "print(\"Best score: %f using %s\" % (gs.best_score_, gs.best_params_))\n",
    "means = gs.cv_results_['mean_test_score']\n",
    "stds = gs.cv_results_['std_test_score']\n",
    "params = gs.cv_results_['params']\n",
    "for mean, stdev, param in zip(means, stds, params):\n",
    "    print(\"%f (%f) with: %r\" % (mean, stdev, param))\n",
    "\n",
    "#Returns the coefficient of determination R^2 of the prediction.\n",
    "#Explained variance score: 1 is perfect prediction\n",
    "gs.score(X_test, y_test)"
   ]
  },
  {
   "cell_type": "code",
   "execution_count": 12,
   "metadata": {},
   "outputs": [
    {
     "data": {
      "image/png": "[encoded data removed]",
      "text/plain": [
       "<Figure size 432x288 with 1 Axes>"
      ]
     },
     "metadata": {
      "needs_background": "light"
     },
     "output_type": "display_data"
    }
   ],
   "source": [
    "%matplotlib inline\n",
    "import matplotlib.pyplot as plt\n",
    "plt.scatter(gs.predict(X_train),gs.predict(X_train)-y_train, c=\"b\", label=\"training data\")\n",
    "plt.scatter(gs.predict(X_test),gs.predict(X_test)-y_test, c=\"g\", label=\"hold out data\")\n",
    "plt.xlabel(\"Predicted Values\")\n",
    "plt.ylabel(\"Residuals\")\n",
    "plt.legend(loc=\"upper left\")\n",
    "plt.hlines(y=0, xmin=-10, xmax=50, color=\"r\")\n",
    "plt.xlim([-10,50])\n",
    "plt.show()"
   ]
  },
  {
   "cell_type": "code",
   "execution_count": 13,
   "metadata": {},
   "outputs": [
    {
     "name": "stdout",
     "output_type": "stream",
     "text": [
      "MAE train:  2.1454168017340858\n",
      "MSE train:  10.167855953029287\n",
      "RMSE train:  3.1887075678132177\n",
      "r2:  0.9403829888709508\n",
      "MAE test:  2.4181212398230074\n",
      "MSE test:  14.67009821901736\n",
      "RMSE test:  3.830156422264939\n",
      "r2:  0.896169926580157\n"
     ]
    }
   ],
   "source": [
    "from sklearn import metrics\n",
    "\n",
    "print(\"MAE train: \", metrics.mean_absolute_error(y_train, gs.predict(X_train))) \n",
    "print(\"MSE train: \",metrics.mean_squared_error(y_train, gs.predict(X_train)))\n",
    "print(\"RMSE train: \",np.sqrt(metrics.mean_squared_error(y_train, gs.predict(X_train))))\n",
    "print(\"r2: \",np.sqrt(metrics.r2_score(y_train, gs.predict(X_train))))\n",
    "\n",
    "print(\"MAE test: \", metrics.mean_absolute_error(y_test, gs.predict(X_test))) \n",
    "print(\"MSE test: \",metrics.mean_squared_error(y_test, gs.predict(X_test)))\n",
    "print(\"RMSE test: \",np.sqrt(metrics.mean_squared_error(y_test, gs.predict(X_test))))\n",
    "print(\"r2: \",np.sqrt(metrics.r2_score(y_test, gs.predict(X_test))))"
   ]
  },
  {
   "cell_type": "code",
   "execution_count": null,
   "metadata": {},
   "outputs": [],
   "source": [
    "# We can export as a figure but we must install graphviz https://graphviz.gitlab.io/download/\n",
    "\n",
    "# Install a conda package in the current Jupyter kernel\n",
    "#import sys\n",
    "#!conda install --yes --prefix {sys.prefix} graphviz\n",
    "#!{sys.executable} -m pip install graphviz\n",
    "\n",
    "from sklearn import tree\n",
    "tree.export_graphviz(gs.best_estimator_.estimators_[0], out_file='tree_from_forest.dot',feature_names=columns.tolist(),max_depth=4)"
   ]
  },
  {
   "cell_type": "code",
   "execution_count": null,
   "metadata": {},
   "outputs": [],
   "source": [
    "!dot -Tpng tree_from_forest.dot -o tree_from_forest.png -Gdpi=600"
   ]
  },
  {
   "cell_type": "code",
   "execution_count": null,
   "metadata": {},
   "outputs": [],
   "source": [
    "from IPython.display import Image\n",
    "Image(filename = 'tree_from_forest.png')"
   ]
  },
  {
   "cell_type": "markdown",
   "metadata": {},
   "source": [
    "## AdaBoost"
   ]
  },
  {
   "cell_type": "code",
   "execution_count": 15,
   "metadata": {},
   "outputs": [],
   "source": [
    "from sklearn.ensemble import AdaBoostRegressor\n",
    "\n",
    "adaboost = AdaBoostRegressor(random_state=0, n_estimators=100)\n",
    "adaboost.fit(X_train, y_train)\n",
    "\n",
    "y_train_pred=adaboost.predict(X_train)\n",
    "y_pred=adaboost.predict(X_test)\n"
   ]
  },
  {
   "cell_type": "code",
   "execution_count": 10,
   "metadata": {},
   "outputs": [
    {
     "ename": "NameError",
     "evalue": "name 'y_train_pred' is not defined",
     "output_type": "error",
     "traceback": [
      "\u001b[0;31m---------------------------------------------------------------------------\u001b[0m",
      "\u001b[0;31mNameError\u001b[0m                                 Traceback (most recent call last)",
      "\u001b[0;32m<ipython-input-10-1c98fe50869c>\u001b[0m in \u001b[0;36m<module>\u001b[0;34m\u001b[0m\n\u001b[1;32m      1\u001b[0m \u001b[0;32mfrom\u001b[0m \u001b[0msklearn\u001b[0m \u001b[0;32mimport\u001b[0m \u001b[0mmetrics\u001b[0m\u001b[0;34m\u001b[0m\u001b[0;34m\u001b[0m\u001b[0m\n\u001b[1;32m      2\u001b[0m \u001b[0;34m\u001b[0m\u001b[0m\n\u001b[0;32m----> 3\u001b[0;31m \u001b[0mprint\u001b[0m\u001b[0;34m(\u001b[0m\u001b[0;34m\"MAE train: \"\u001b[0m\u001b[0;34m,\u001b[0m \u001b[0mmetrics\u001b[0m\u001b[0;34m.\u001b[0m\u001b[0mmean_absolute_error\u001b[0m\u001b[0;34m(\u001b[0m\u001b[0my_train\u001b[0m\u001b[0;34m,\u001b[0m \u001b[0my_train_pred\u001b[0m\u001b[0;34m)\u001b[0m\u001b[0;34m)\u001b[0m\u001b[0;34m\u001b[0m\u001b[0;34m\u001b[0m\u001b[0m\n\u001b[0m\u001b[1;32m      4\u001b[0m \u001b[0mprint\u001b[0m\u001b[0;34m(\u001b[0m\u001b[0;34m\"MSE train: \"\u001b[0m\u001b[0;34m,\u001b[0m\u001b[0mmetrics\u001b[0m\u001b[0;34m.\u001b[0m\u001b[0mmean_squared_error\u001b[0m\u001b[0;34m(\u001b[0m\u001b[0my_train\u001b[0m\u001b[0;34m,\u001b[0m \u001b[0my_train_pred\u001b[0m\u001b[0;34m)\u001b[0m\u001b[0;34m)\u001b[0m\u001b[0;34m\u001b[0m\u001b[0;34m\u001b[0m\u001b[0m\n\u001b[1;32m      5\u001b[0m \u001b[0mprint\u001b[0m\u001b[0;34m(\u001b[0m\u001b[0;34m\"RMSE train: \"\u001b[0m\u001b[0;34m,\u001b[0m\u001b[0mnp\u001b[0m\u001b[0;34m.\u001b[0m\u001b[0msqrt\u001b[0m\u001b[0;34m(\u001b[0m\u001b[0mmetrics\u001b[0m\u001b[0;34m.\u001b[0m\u001b[0mmean_squared_error\u001b[0m\u001b[0;34m(\u001b[0m\u001b[0my_train\u001b[0m\u001b[0;34m,\u001b[0m \u001b[0my_train_pred\u001b[0m\u001b[0;34m)\u001b[0m\u001b[0;34m)\u001b[0m\u001b[0;34m)\u001b[0m\u001b[0;34m\u001b[0m\u001b[0;34m\u001b[0m\u001b[0m\n",
      "\u001b[0;31mNameError\u001b[0m: name 'y_train_pred' is not defined"
     ]
    }
   ],
   "source": [
    "from sklearn import metrics\n",
    "\n",
    "print(\"MAE train: \", metrics.mean_absolute_error(y_train, y_train_pred)) \n",
    "print(\"MSE train: \",metrics.mean_squared_error(y_train, y_train_pred))\n",
    "print(\"RMSE train: \",np.sqrt(metrics.mean_squared_error(y_train, y_train_pred)))\n",
    "print(\"r2: \",np.sqrt(metrics.r2_score(y_train, y_train_pred)))\n",
    "\n",
    "print(\"MAE test: \", metrics.mean_absolute_error(y_test,y_pred)) \n",
    "print(\"MSE test: \",metrics.mean_squared_error(y_test, y_pred))\n",
    "print(\"RMSE test: \",np.sqrt(metrics.mean_squared_error(y_test, y_pred)))\n",
    "print(\"r2: \",np.sqrt(metrics.r2_score(y_test, y_pred)))"
   ]
  },
  {
   "cell_type": "code",
   "execution_count": 16,
   "metadata": {},
   "outputs": [
    {
     "name": "stdout",
     "output_type": "stream",
     "text": [
      "***GRIDSEARCH RESULTS***\n",
      "Best score: 0.774452 using {'learning_rate': 2, 'loss': 'linear', 'n_estimators': 100, 'random_state': 0}\n",
      "0.713518 (0.028654) with: {'learning_rate': 0.1, 'loss': 'linear', 'n_estimators': 5, 'random_state': 0}\n",
      "0.717005 (0.048154) with: {'learning_rate': 0.1, 'loss': 'linear', 'n_estimators': 10, 'random_state': 0}\n",
      "0.759994 (0.040874) with: {'learning_rate': 0.1, 'loss': 'linear', 'n_estimators': 100, 'random_state': 0}\n",
      "0.722939 (0.023017) with: {'learning_rate': 0.1, 'loss': 'square', 'n_estimators': 5, 'random_state': 0}\n",
      "0.744488 (0.044324) with: {'learning_rate': 0.1, 'loss': 'square', 'n_estimators': 10, 'random_state': 0}\n",
      "0.752640 (0.042670) with: {'learning_rate': 0.1, 'loss': 'square', 'n_estimators': 100, 'random_state': 0}\n",
      "0.737555 (0.060176) with: {'learning_rate': 0.5, 'loss': 'linear', 'n_estimators': 5, 'random_state': 0}\n",
      "0.740005 (0.063464) with: {'learning_rate': 0.5, 'loss': 'linear', 'n_estimators': 10, 'random_state': 0}\n",
      "0.760458 (0.056186) with: {'learning_rate': 0.5, 'loss': 'linear', 'n_estimators': 100, 'random_state': 0}\n",
      "0.712740 (0.052940) with: {'learning_rate': 0.5, 'loss': 'square', 'n_estimators': 5, 'random_state': 0}\n",
      "0.696227 (0.015033) with: {'learning_rate': 0.5, 'loss': 'square', 'n_estimators': 10, 'random_state': 0}\n",
      "0.762336 (0.053123) with: {'learning_rate': 0.5, 'loss': 'square', 'n_estimators': 100, 'random_state': 0}\n",
      "0.754178 (0.056115) with: {'learning_rate': 1, 'loss': 'linear', 'n_estimators': 5, 'random_state': 0}\n",
      "0.743435 (0.041773) with: {'learning_rate': 1, 'loss': 'linear', 'n_estimators': 10, 'random_state': 0}\n",
      "0.765164 (0.055679) with: {'learning_rate': 1, 'loss': 'linear', 'n_estimators': 100, 'random_state': 0}\n",
      "0.735921 (0.033023) with: {'learning_rate': 1, 'loss': 'square', 'n_estimators': 5, 'random_state': 0}\n",
      "0.734854 (0.056231) with: {'learning_rate': 1, 'loss': 'square', 'n_estimators': 10, 'random_state': 0}\n",
      "0.773549 (0.048155) with: {'learning_rate': 1, 'loss': 'square', 'n_estimators': 100, 'random_state': 0}\n",
      "0.719795 (0.033528) with: {'learning_rate': 2, 'loss': 'linear', 'n_estimators': 5, 'random_state': 0}\n",
      "0.739576 (0.043677) with: {'learning_rate': 2, 'loss': 'linear', 'n_estimators': 10, 'random_state': 0}\n",
      "0.774452 (0.058020) with: {'learning_rate': 2, 'loss': 'linear', 'n_estimators': 100, 'random_state': 0}\n",
      "-0.086749 (0.802335) with: {'learning_rate': 2, 'loss': 'square', 'n_estimators': 5, 'random_state': 0}\n",
      "0.469130 (0.208269) with: {'learning_rate': 2, 'loss': 'square', 'n_estimators': 10, 'random_state': 0}\n",
      "-0.945754 (1.397782) with: {'learning_rate': 2, 'loss': 'square', 'n_estimators': 100, 'random_state': 0}\n"
     ]
    },
    {
     "data": {
      "text/plain": [
       "0.8152880840444166"
      ]
     },
     "execution_count": 16,
     "metadata": {},
     "output_type": "execute_result"
    }
   ],
   "source": [
    "from sklearn.ensemble import AdaBoostClassifier\n",
    "\n",
    "\n",
    "regressor = AdaBoostRegressor() # base_estimator=DecisionTreeRegressor(max_depth=3)\n",
    "parameters = {\"n_estimators\":[5,10,100], \"learning_rate\":[0.1,0.5,1,2], \n",
    "              \"loss\": ['linear', 'square'], \"random_state\" : [0]}\n",
    "\n",
    "#DEFINE YOUR GRIDSEARCH \n",
    "from sklearn.model_selection import GridSearchCV\n",
    "gs = GridSearchCV(regressor, parameters, cv=3) \n",
    "\n",
    "gs = gs.fit(X_train,y_train)\n",
    "\n",
    "\n",
    "#summarize the results of your GRIDSEARCH\n",
    "print('***GRIDSEARCH RESULTS***')\n",
    "print(\"Best score: %f using %s\" % (gs.best_score_, gs.best_params_))\n",
    "means = gs.cv_results_['mean_test_score']\n",
    "stds = gs.cv_results_['std_test_score']\n",
    "params = gs.cv_results_['params']\n",
    "for mean, stdev, param in zip(means, stds, params):\n",
    "    print(\"%f (%f) with: %r\" % (mean, stdev, param))\n",
    "\n",
    "#Returns the coefficient of determination R^2 of the prediction.\n",
    "#Explained variance score: 1 is perfect prediction\n",
    "gs.score(X_test, y_test)"
   ]
  },
  {
   "cell_type": "code",
   "execution_count": 17,
   "metadata": {},
   "outputs": [
    {
     "data": {
      "image/png": "[encoded data removed]",
      "text/plain": [
       "<Figure size 432x288 with 1 Axes>"
      ]
     },
     "metadata": {
      "needs_background": "light"
     },
     "output_type": "display_data"
    }
   ],
   "source": [
    "%matplotlib inline\n",
    "import matplotlib.pyplot as plt\n",
    "plt.scatter(gs.predict(X_train),gs.predict(X_train)-y_train, c=\"b\", label=\"training data\")\n",
    "plt.scatter(gs.predict(X_test),gs.predict(X_test)-y_test, c=\"g\", label=\"hold out data\")\n",
    "plt.xlabel(\"Predicted Values\")\n",
    "plt.ylabel(\"Residuals\")\n",
    "plt.legend(loc=\"upper left\")\n",
    "plt.hlines(y=0, xmin=-10, xmax=50, color=\"r\")\n",
    "plt.xlim([-10,50])\n",
    "plt.show()"
   ]
  },
  {
   "cell_type": "code",
   "execution_count": 18,
   "metadata": {},
   "outputs": [
    {
     "name": "stdout",
     "output_type": "stream",
     "text": [
      "MAE train:  2.2657806641518388\n",
      "MSE train:  7.409321655915248\n",
      "RMSE train:  2.7220069169484575\n",
      "r2:  0.9569242643185858\n",
      "MAE test:  2.616906667750007\n",
      "MSE test:  13.763456646122217\n",
      "RMSE test:  3.7099132936124284\n",
      "r2:  0.9029330451613877\n"
     ]
    }
   ],
   "source": [
    "from sklearn import metrics\n",
    "\n",
    "print(\"MAE train: \", metrics.mean_absolute_error(y_train, gs.predict(X_train))) \n",
    "print(\"MSE train: \",metrics.mean_squared_error(y_train, gs.predict(X_train)))\n",
    "print(\"RMSE train: \",np.sqrt(metrics.mean_squared_error(y_train, gs.predict(X_train))))\n",
    "print(\"r2: \",np.sqrt(metrics.r2_score(y_train, gs.predict(X_train))))\n",
    "\n",
    "print(\"MAE test: \", metrics.mean_absolute_error(y_test, gs.predict(X_test))) \n",
    "print(\"MSE test: \",metrics.mean_squared_error(y_test, gs.predict(X_test)))\n",
    "print(\"RMSE test: \",np.sqrt(metrics.mean_squared_error(y_test, gs.predict(X_test))))\n",
    "print(\"r2: \",np.sqrt(metrics.r2_score(y_test, gs.predict(X_test))))"
   ]
  },
  {
   "cell_type": "markdown",
   "metadata": {},
   "source": [
    "# Gradient Boosting"
   ]
  },
  {
   "cell_type": "markdown",
   "metadata": {},
   "source": [
    "$$ \\hat{y_i} = F_M(x_i) = \\sum_{m=1}^{M} h_m(x_i) $$\n",
    "$$ F_m(x) = F_{m-1}(x) + h_m(x)$$\n",
    "$$ h_m =  \\arg\\min_{h} L_m = \\arg\\min_{h} \\sum_{i=1}^{n}\n",
    "l(y_i, F_{m-1}(x_i) + h(x_i))$$\n",
    "\n",
    "$$ F_m(x) = F_{m-1}(x) + \\nu h_m(x)$$\n",
    "\n"
   ]
  },
  {
   "cell_type": "code",
   "execution_count": 22,
   "metadata": {
    "scrolled": false
   },
   "outputs": [
    {
     "name": "stdout",
     "output_type": "stream",
     "text": [
      "***GRIDSEARCH RESULTS***\n",
      "Best score: 0.771771 using {'learning_rate': 0.5, 'loss': 'ls', 'max_depth': 2, 'n_estimators': 10, 'random_state': 0}\n",
      "0.300946 (0.015869) with: {'learning_rate': 0.1, 'loss': 'ls', 'max_depth': 1, 'n_estimators': 5, 'random_state': 0}\n",
      "0.476527 (0.012960) with: {'learning_rate': 0.1, 'loss': 'ls', 'max_depth': 1, 'n_estimators': 10, 'random_state': 0}\n",
      "0.424269 (0.021106) with: {'learning_rate': 0.1, 'loss': 'ls', 'max_depth': 2, 'n_estimators': 5, 'random_state': 0}\n",
      "0.606452 (0.028036) with: {'learning_rate': 0.1, 'loss': 'ls', 'max_depth': 2, 'n_estimators': 10, 'random_state': 0}\n",
      "0.206463 (0.018392) with: {'learning_rate': 0.1, 'loss': 'lad', 'max_depth': 1, 'n_estimators': 5, 'random_state': 0}\n",
      "0.364776 (0.015849) with: {'learning_rate': 0.1, 'loss': 'lad', 'max_depth': 1, 'n_estimators': 10, 'random_state': 0}\n",
      "0.344188 (0.024721) with: {'learning_rate': 0.1, 'loss': 'lad', 'max_depth': 2, 'n_estimators': 5, 'random_state': 0}\n",
      "0.539218 (0.016095) with: {'learning_rate': 0.1, 'loss': 'lad', 'max_depth': 2, 'n_estimators': 10, 'random_state': 0}\n",
      "0.650848 (0.094616) with: {'learning_rate': 0.5, 'loss': 'ls', 'max_depth': 1, 'n_estimators': 5, 'random_state': 0}\n",
      "0.709090 (0.070622) with: {'learning_rate': 0.5, 'loss': 'ls', 'max_depth': 1, 'n_estimators': 10, 'random_state': 0}\n",
      "0.758130 (0.048621) with: {'learning_rate': 0.5, 'loss': 'ls', 'max_depth': 2, 'n_estimators': 5, 'random_state': 0}\n",
      "0.771771 (0.059852) with: {'learning_rate': 0.5, 'loss': 'ls', 'max_depth': 2, 'n_estimators': 10, 'random_state': 0}\n",
      "0.612527 (0.016590) with: {'learning_rate': 0.5, 'loss': 'lad', 'max_depth': 1, 'n_estimators': 5, 'random_state': 0}\n",
      "0.711709 (0.032641) with: {'learning_rate': 0.5, 'loss': 'lad', 'max_depth': 1, 'n_estimators': 10, 'random_state': 0}\n",
      "0.681933 (0.037982) with: {'learning_rate': 0.5, 'loss': 'lad', 'max_depth': 2, 'n_estimators': 5, 'random_state': 0}\n",
      "0.722657 (0.056125) with: {'learning_rate': 0.5, 'loss': 'lad', 'max_depth': 2, 'n_estimators': 10, 'random_state': 0}\n",
      "0.586639 (0.128178) with: {'learning_rate': 1, 'loss': 'ls', 'max_depth': 1, 'n_estimators': 5, 'random_state': 0}\n",
      "0.693832 (0.093174) with: {'learning_rate': 1, 'loss': 'ls', 'max_depth': 1, 'n_estimators': 10, 'random_state': 0}\n",
      "0.740317 (0.115130) with: {'learning_rate': 1, 'loss': 'ls', 'max_depth': 2, 'n_estimators': 5, 'random_state': 0}\n",
      "0.754277 (0.141968) with: {'learning_rate': 1, 'loss': 'ls', 'max_depth': 2, 'n_estimators': 10, 'random_state': 0}\n",
      "0.631033 (0.064437) with: {'learning_rate': 1, 'loss': 'lad', 'max_depth': 1, 'n_estimators': 5, 'random_state': 0}\n",
      "0.701727 (0.068899) with: {'learning_rate': 1, 'loss': 'lad', 'max_depth': 1, 'n_estimators': 10, 'random_state': 0}\n",
      "0.676122 (0.113924) with: {'learning_rate': 1, 'loss': 'lad', 'max_depth': 2, 'n_estimators': 5, 'random_state': 0}\n",
      "0.704702 (0.110356) with: {'learning_rate': 1, 'loss': 'lad', 'max_depth': 2, 'n_estimators': 10, 'random_state': 0}\n",
      "-0.358545 (0.491362) with: {'learning_rate': 2, 'loss': 'ls', 'max_depth': 1, 'n_estimators': 5, 'random_state': 0}\n",
      "-0.015779 (0.033593) with: {'learning_rate': 2, 'loss': 'ls', 'max_depth': 1, 'n_estimators': 10, 'random_state': 0}\n",
      "-0.287907 (0.378153) with: {'learning_rate': 2, 'loss': 'ls', 'max_depth': 2, 'n_estimators': 5, 'random_state': 0}\n",
      "-0.196464 (0.157639) with: {'learning_rate': 2, 'loss': 'ls', 'max_depth': 2, 'n_estimators': 10, 'random_state': 0}\n",
      "0.142396 (0.126527) with: {'learning_rate': 2, 'loss': 'lad', 'max_depth': 1, 'n_estimators': 5, 'random_state': 0}\n",
      "0.148318 (0.235628) with: {'learning_rate': 2, 'loss': 'lad', 'max_depth': 1, 'n_estimators': 10, 'random_state': 0}\n",
      "0.103013 (0.170174) with: {'learning_rate': 2, 'loss': 'lad', 'max_depth': 2, 'n_estimators': 5, 'random_state': 0}\n",
      "0.073141 (0.162553) with: {'learning_rate': 2, 'loss': 'lad', 'max_depth': 2, 'n_estimators': 10, 'random_state': 0}\n"
     ]
    },
    {
     "data": {
      "text/plain": [
       "0.7991946683628244"
      ]
     },
     "execution_count": 22,
     "metadata": {},
     "output_type": "execute_result"
    }
   ],
   "source": [
    "from sklearn.ensemble import GradientBoostingRegressor\n",
    "\n",
    "regressor = GradientBoostingRegressor() # base_estimator=DecisionTreeRegressor(max_depth=3)\n",
    "parameters = {\"n_estimators\":[5,10], \"learning_rate\":[0.1,0.5,1,2], \n",
    "              \"loss\": ['ls', 'lad'], \"random_state\" : [0] ,\n",
    "             \"max_depth\":[1,2]}\n",
    "\n",
    "#DEFINE YOUR GRIDSEARCH \n",
    "from sklearn.model_selection import GridSearchCV\n",
    "gs = GridSearchCV(regressor, parameters, cv=3) \n",
    "\n",
    "gs = gs.fit(X_train,y_train)\n",
    "\n",
    "\n",
    "#summarize the results of your GRIDSEARCH\n",
    "print('***GRIDSEARCH RESULTS***')\n",
    "print(\"Best score: %f using %s\" % (gs.best_score_, gs.best_params_))\n",
    "means = gs.cv_results_['mean_test_score']\n",
    "stds = gs.cv_results_['std_test_score']\n",
    "params = gs.cv_results_['params']\n",
    "for mean, stdev, param in zip(means, stds, params):\n",
    "    print(\"%f (%f) with: %r\" % (mean, stdev, param))\n",
    "\n",
    "#Returns the coefficient of determination R^2 of the prediction.\n",
    "#Explained variance score: 1 is perfect prediction\n",
    "gs.score(X_test, y_test)"
   ]
  },
  {
   "cell_type": "code",
   "execution_count": 23,
   "metadata": {},
   "outputs": [
    {
     "data": {
      "image/png": "[encoded data removed]",
      "text/plain": [
       "<Figure size 432x288 with 1 Axes>"
      ]
     },
     "metadata": {
      "needs_background": "light"
     },
     "output_type": "display_data"
    }
   ],
   "source": [
    "\n",
    "%matplotlib inline\n",
    "import matplotlib.pyplot as plt\n",
    "plt.scatter(gs.predict(X_train),gs.predict(X_train)-y_train, c=\"b\", label=\"training data\")\n",
    "plt.scatter(gs.predict(X_test),gs.predict(X_test)-y_test, c=\"g\", label=\"hold out data\")\n",
    "plt.xlabel(\"Predicted Values\")\n",
    "plt.ylabel(\"Residuals\")\n",
    "plt.legend(loc=\"upper left\")\n",
    "plt.hlines(y=0, xmin=-10, xmax=50, color=\"r\")\n",
    "plt.xlim([-10,50])\n",
    "plt.show()"
   ]
  },
  {
   "cell_type": "code",
   "execution_count": 24,
   "metadata": {},
   "outputs": [
    {
     "name": "stdout",
     "output_type": "stream",
     "text": [
      "MAE train:  2.0651627443973144\n",
      "MSE train:  7.295283069326774\n",
      "RMSE train:  2.700978168983743\n",
      "r2:  0.9576019351372177\n",
      "MAE test:  2.579578999809092\n",
      "MSE test:  14.962626866818098\n",
      "RMSE test:  3.868155486380828\n",
      "r2:  0.8939768835729615\n"
     ]
    }
   ],
   "source": [
    "from sklearn import metrics\n",
    "\n",
    "print(\"MAE train: \", metrics.mean_absolute_error(y_train, gs.predict(X_train))) \n",
    "print(\"MSE train: \",metrics.mean_squared_error(y_train, gs.predict(X_train)))\n",
    "print(\"RMSE train: \",np.sqrt(metrics.mean_squared_error(y_train, gs.predict(X_train))))\n",
    "print(\"r2: \",np.sqrt(metrics.r2_score(y_train, gs.predict(X_train))))\n",
    "\n",
    "print(\"MAE test: \", metrics.mean_absolute_error(y_test, gs.predict(X_test))) \n",
    "print(\"MSE test: \",metrics.mean_squared_error(y_test, gs.predict(X_test)))\n",
    "print(\"RMSE test: \",np.sqrt(metrics.mean_squared_error(y_test, gs.predict(X_test))))\n",
    "print(\"r2: \",np.sqrt(metrics.r2_score(y_test, gs.predict(X_test))))"
   ]
  },
  {
   "cell_type": "code",
   "execution_count": null,
   "metadata": {},
   "outputs": [],
   "source": []
  },
  {
   "cell_type": "code",
   "execution_count": null,
   "metadata": {},
   "outputs": [],
   "source": []
  },
  {
   "cell_type": "code",
   "execution_count": null,
   "metadata": {},
   "outputs": [],
   "source": []
  }
 ],
 "metadata": {
  "kernelspec": {
   "display_name": "Python 3",
   "language": "python",
   "name": "python3"
  },
  "language_info": {
   "codemirror_mode": {
    "name": "ipython",
    "version": 3
   },
   "file_extension": ".py",
   "mimetype": "text/x-python",
   "name": "python",
   "nbconvert_exporter": "python",
   "pygments_lexer": "ipython3",
   "version": "3.7.6"
  }
 },
 "nbformat": 4,
 "nbformat_minor": 2
}
