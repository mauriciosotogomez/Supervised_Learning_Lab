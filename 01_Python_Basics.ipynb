{
 "cells": [
  {
   "cell_type": "markdown",
   "metadata": {},
   "source": [
    "# Python (very) basics"
   ]
  },
  {
   "cell_type": "markdown",
   "metadata": {},
   "source": [
    "## Datatypes"
   ]
  },
  {
   "cell_type": "markdown",
   "metadata": {},
   "source": [
    "- Numbers\n",
    "- Strings\n",
    "- Lists\n",
    "- Dictionaries\n",
    "- Tuples\n",
    "- Files\n",
    "- Sets\n",
    "- Other (booleans, types, None)\n",
    "- Program unit types (functions, modules, classes)"
   ]
  },
  {
   "cell_type": "markdown",
   "metadata": {},
   "source": [
    "## A simple Python script"
   ]
  },
  {
   "cell_type": "code",
   "execution_count": null,
   "metadata": {},
   "outputs": [],
   "source": [
    "# Sum the squares of n numbers \n",
    "#if n = 5 then the result is 1+4+9+16+25 = 55\n",
    "\n",
    "sum_squares = 0 \n",
    "\n",
    "for i in range(5): \n",
    "    s = i**2\n",
    "    sum_squares = sum_squares + s\n",
    "    #  equal to sum_squares = sumsquares + i**2 \n",
    "\n",
    "print(sum_squares) # something went wrong...find the error!!!"
   ]
  },
  {
   "cell_type": "code",
   "execution_count": null,
   "metadata": {},
   "outputs": [],
   "source": [
    "for i in range(5):\n",
    "    print(i)"
   ]
  },
  {
   "cell_type": "markdown",
   "metadata": {},
   "source": [
    "![zeroindex](zero_index.png)"
   ]
  },
  {
   "cell_type": "code",
   "execution_count": null,
   "metadata": {},
   "outputs": [],
   "source": [
    "###SOLUTION###\n",
    "sum_squares = 0 \n",
    "\n",
    "for i in range(6):  \n",
    "    sum_squares+=i**2   # sum_squares=sum_squares+i**2 i+=1 a  more pythonic way of coding the same lines\n",
    "    \n",
    "print(sum_squares)"
   ]
  },
  {
   "cell_type": "markdown",
   "metadata": {},
   "source": [
    "## Dynamic Typing"
   ]
  },
  {
   "cell_type": "code",
   "execution_count": null,
   "metadata": {},
   "outputs": [],
   "source": [
    "i=3\n",
    "s=\"MIP\"\n",
    "f1=3.14\n",
    "f2=2.3e+6\n"
   ]
  },
  {
   "cell_type": "code",
   "execution_count": null,
   "metadata": {},
   "outputs": [],
   "source": [
    "print(type(i), type(s), type(f1), type(f2))"
   ]
  },
  {
   "cell_type": "markdown",
   "metadata": {},
   "source": [
    "## Python Strings"
   ]
  },
  {
   "cell_type": "code",
   "execution_count": null,
   "metadata": {},
   "outputs": [],
   "source": [
    "#We can create them simply by enclosing characters in quotes.\n",
    "#STRINGS ARE IMMUTABLE\n",
    "\n",
    "s = \"hello world\"\n",
    "\n",
    "#you can manipulate a string as you manipulate a list...try the following...\n",
    "\n",
    "#Slicing\n",
    "print(s[0:5])\n",
    "\n",
    "\n",
    "#TRY yourself! Extract the last 5 chars:\n",
    "\n",
    "#TRY yourself! Extract all chars except for the first and the last ones\n",
    "\n",
    "#take a char every two (and starting from the second char)\n",
    "#s1=s[1::2]\n",
    "print(s+s)\n",
    "\n",
    "#TRY yourself! what if you want to create a string containing the words \"machine learning\"\n",
    "\n",
    "#TRY yourself!print a string \n",
    "\n",
    "#TRY yourself!use the operator + \n",
    "\n",
    "#TRY yourself! duplicate a string by using *\n",
    "s2=print(s*3)\n",
    "\n",
    "#TRY IT! shows up all the BUILT-IN METHODS \n",
    "dir(s)\n",
    "\n",
    "#try the following methods:\n",
    "#1) strip remove spaces\n",
    "#2) split s.split(\" \")\n",
    "#3) join \"/\".join([\"12\",\"10\",\"1980\"])\n",
    "\n",
    "#Try to transform a string into a list \n",
    "#y = list(s)\n",
    "#y\n",
    "#use the function len() to find out the lenght of a string or a list\n",
    "#len(y)"
   ]
  },
  {
   "cell_type": "code",
   "execution_count": null,
   "metadata": {},
   "outputs": [],
   "source": [
    "# Formatted print\n",
    "'''\n",
    "d \tSigned integer decimal.\n",
    "i \tSigned integer decimal.\n",
    "e \tFloating point exponential format (lowercase).\n",
    "E \tFloating point exponential format (uppercase).\n",
    "f \tFloating point decimal format.\n",
    "F \tFloating point decimal format.\n",
    "g \tSame as \"e\" if exponent is greater than -4 or less than precision, \"f\" otherwise.\n",
    "c \tSingle character (accepts integer or single character string).\n",
    "r \tString (converts any python object using repr()).\n",
    "s \tString (converts any python object using str()).\n",
    "'''\n",
    "\n",
    "print('This is our lesson %d on %s' % (1, \"ML\"))\n",
    "\n",
    "print('Number %s can be approximated by %2.3f' % (\"pi\",3.141592653589793))\n"
   ]
  },
  {
   "cell_type": "markdown",
   "metadata": {},
   "source": [
    "## Python Lists"
   ]
  },
  {
   "cell_type": "code",
   "execution_count": null,
   "metadata": {},
   "outputs": [],
   "source": [
    "'''\n",
    "A list is a collection of values and it can contain any data type\n",
    "STRINGS ARE IMMUTABLE\n",
    "'''\n",
    "\n",
    "# How to build a list and reference it with a variable \n",
    "mylist = [2,5,1,9,\"learning\",0,\"machine\"] \n",
    "\n",
    "number = 2.4 #a list can contain any data type\n",
    "\n",
    "# How to build a list of lists\n",
    "alistoflists = [[1,2],\n",
    "                [True,False],\n",
    "                [\"hello\", number]]"
   ]
  },
  {
   "cell_type": "code",
   "execution_count": null,
   "metadata": {},
   "outputs": [],
   "source": [
    "#print a list\n",
    "print(\"mylist is: \", mylist)\n",
    "print(alistoflists)"
   ]
  },
  {
   "cell_type": "code",
   "execution_count": null,
   "metadata": {},
   "outputs": [],
   "source": [
    "#check list type\n",
    "type(mylist)"
   ]
  },
  {
   "cell_type": "code",
   "execution_count": null,
   "metadata": {},
   "outputs": [],
   "source": [
    "'''\n",
    "Subsetting lists: indexing and slicing\n",
    "'''\n",
    "#  ***LIST INDEXING***\n",
    "# select an element - zero-based indexed\n",
    "mylist = [2,5,1,9,\"learning\",0,\"machine\"] \n",
    "mylist[2]\n",
    "\n",
    "# Try it! what if out of range\n",
    "print(mylist[0])\n",
    "\n"
   ]
  },
  {
   "cell_type": "code",
   "execution_count": null,
   "metadata": {},
   "outputs": [],
   "source": [
    "mylist[-1] \n",
    "\n",
    "# you can go backwards\n",
    "# mylist[-3] # return the exact same result that mylist[4]"
   ]
  },
  {
   "cell_type": "markdown",
   "metadata": {},
   "source": [
    "![index](list_index.png)"
   ]
  },
  {
   "cell_type": "code",
   "execution_count": null,
   "metadata": {},
   "outputs": [],
   "source": [
    "# ***LIST SLICING***\n",
    "mylist = [2,5,1,9,\"learning\",0,\"machine\"]\n",
    "#syntax [start:end] \n",
    "#start is included (the index before the colon) and end is excluded\n",
    "print(mylist[2:4])\n",
    "\n",
    "#with this in mind...can you guess what the following return?\n",
    "#mylist[1:2] \n",
    "print(mylist[:2]) #what if you leave out the start index\n",
    "print(mylist[3:]) #or end index?\n",
    "\n",
    "#subsetting lists of lists: to subset lists of lists, you can use the same technique as before\n",
    "alistoflists[0][1]  \n",
    "\n",
    "mylist[:]"
   ]
  },
  {
   "cell_type": "code",
   "execution_count": null,
   "metadata": {},
   "outputs": [],
   "source": [
    "mylist = [2,5,1,9,\"learning\",0,\"machine\"]\n",
    "print(mylist)"
   ]
  },
  {
   "cell_type": "code",
   "execution_count": null,
   "metadata": {},
   "outputs": [],
   "source": [
    "#***LIST MANIPULATION*** --> change-add-remove elements\n",
    "#change list elements with slicing \n",
    "mylist = [2,5,1,9,\"learning\",0,\"machine\"]\n",
    "mylist[1] = \"hello\"\n",
    "#mylist\n",
    "\n",
    "#change multiple elements\n",
    "mylist[0:2] = [5,2]\n",
    "#mylist\n",
    "\n",
    "#TRY IT! plus operator - paste together two lists\n",
    "mylist*3\n",
    "\n",
    "del(mylist[2])\n",
    "#mylist\n",
    "\n",
    "#TRY IT! shows up all the BUILT-IN METHODS \n",
    "#dir(mylist) \n"
   ]
  },
  {
   "cell_type": "code",
   "execution_count": null,
   "metadata": {},
   "outputs": [],
   "source": [
    "# ***DEFINE LIST BY COMPREHENSION***\n",
    "listofnumbers = [1,2,3,4]\n",
    "l2 = [2*x for x in listofnumbers]\n",
    "#[x*2 for x in listofnumbers if x%2==0]\n",
    "l2\n"
   ]
  },
  {
   "cell_type": "code",
   "execution_count": null,
   "metadata": {},
   "outputs": [],
   "source": [
    "#sort a list\n",
    "#mylist.sort()\n",
    "#listofnumbers\n",
    "listofnumbers = [1,2,3,4]\n",
    "listofnumbers.reverse()\n",
    "print(listofnumbers)"
   ]
  },
  {
   "cell_type": "code",
   "execution_count": null,
   "metadata": {},
   "outputs": [],
   "source": [
    "# ***COPYING A LIST***\n",
    "# Create list areas\n",
    "areas = [11.25, 18.0, 20.0, 10.75, 9.50] \n",
    "# areas contains the reference to the list \n",
    "\n",
    "# Create areas_copy\n",
    "areas_copy = areas #is not a copy is an alias\n",
    "# you are copying the reference to the list but not the list itself\n",
    "\n",
    "# Change areas_copy\n",
    "areas_copy[0] = 5.0 #it changes the areas too!\n",
    "#check out areas now!\n",
    "#both areas_copy and areas points to the same list in memory"
   ]
  },
  {
   "cell_type": "code",
   "execution_count": null,
   "metadata": {},
   "outputs": [],
   "source": []
  },
  {
   "cell_type": "code",
   "execution_count": null,
   "metadata": {},
   "outputs": [],
   "source": [
    "areas"
   ]
  },
  {
   "cell_type": "code",
   "execution_count": null,
   "metadata": {},
   "outputs": [],
   "source": [
    "#Three ways to properly copying a list a and assign it to b\n",
    "# 1 # b = list(a) Copying using list() function #The list() function is used to create a list object from any iterable.\n",
    "# 2 # b = a[:] copy by slicing... creates a new object id(a) and id(b) returns the address of a python object in the memory.\n",
    "# 3 # only python 3... use \n",
    "b = list(areas) \n",
    "b = areas.copy()\n",
    "\n",
    "# Print areas\n",
    "print(areas)"
   ]
  },
  {
   "cell_type": "markdown",
   "metadata": {},
   "source": [
    "### Loop on a List"
   ]
  },
  {
   "cell_type": "code",
   "execution_count": null,
   "metadata": {},
   "outputs": [],
   "source": [
    "for x in areas : \n",
    "    print(x)\n"
   ]
  },
  {
   "cell_type": "markdown",
   "metadata": {},
   "source": [
    "# Python Dictionaries"
   ]
  },
  {
   "cell_type": "code",
   "execution_count": 1,
   "metadata": {},
   "outputs": [
    {
     "data": {
      "text/plain": [
       "{'AI': 'Artificial Intelligence', 'ML': 'Machine Learning'}"
      ]
     },
     "execution_count": 1,
     "metadata": {},
     "output_type": "execute_result"
    }
   ],
   "source": [
    "#How to create a dictionary\n",
    "abbreviations = {}\n",
    "abbreviations[\"AI\"] = \"Artificial Intelligence\"\n",
    "abbreviations[\"ML\"] = \"Machine Learning\"\n",
    "abbreviations"
   ]
  },
  {
   "cell_type": "code",
   "execution_count": 2,
   "metadata": {},
   "outputs": [
    {
     "name": "stdout",
     "output_type": "stream",
     "text": [
      "{'AI': 'Artificial Intelligence', 'ML': 'Machine Learning'}\n"
     ]
    }
   ],
   "source": [
    "print(abbreviations)"
   ]
  },
  {
   "cell_type": "code",
   "execution_count": 3,
   "metadata": {},
   "outputs": [
    {
     "data": {
      "text/plain": [
       "dict_keys(['AI', 'ML'])"
      ]
     },
     "execution_count": 3,
     "metadata": {},
     "output_type": "execute_result"
    }
   ],
   "source": [
    "abbreviations.keys() #print out the keys"
   ]
  },
  {
   "cell_type": "code",
   "execution_count": 5,
   "metadata": {},
   "outputs": [
    {
     "data": {
      "text/plain": [
       "True"
      ]
     },
     "execution_count": 5,
     "metadata": {},
     "output_type": "execute_result"
    }
   ],
   "source": [
    "\"ML\" in abbreviations #check if a key is in my dictionary"
   ]
  },
  {
   "cell_type": "code",
   "execution_count": 6,
   "metadata": {},
   "outputs": [
    {
     "name": "stdout",
     "output_type": "stream",
     "text": [
      "AI stands for Artificial Intelligence \n",
      "\n",
      "ML stands for Machine Learning \n",
      "\n"
     ]
    }
   ],
   "source": [
    "#loop into a dictionary and print all the key-value pairs\n",
    "for a,b in abbreviations.items():\n",
    "    print(\"%s stands for %s \\n\" % (a,b)) \n"
   ]
  },
  {
   "cell_type": "code",
   "execution_count": 9,
   "metadata": {},
   "outputs": [],
   "source": [
    "#TRY IT!\n",
    "#del abbreviations[\"AI\"] \n",
    "\n",
    "abbreviations.clear()"
   ]
  },
  {
   "cell_type": "code",
   "execution_count": 10,
   "metadata": {},
   "outputs": [
    {
     "data": {
      "text/plain": [
       "{}"
      ]
     },
     "execution_count": 10,
     "metadata": {},
     "output_type": "execute_result"
    }
   ],
   "source": [
    "abbreviations"
   ]
  },
  {
   "cell_type": "markdown",
   "metadata": {},
   "source": [
    "## Tuples"
   ]
  },
  {
   "cell_type": "markdown",
   "metadata": {},
   "source": [
    "- Ordered collections of arbitrary objects\n",
    "- Immutable"
   ]
  },
  {
   "cell_type": "code",
   "execution_count": 16,
   "metadata": {},
   "outputs": [
    {
     "data": {
      "text/plain": [
       "3"
      ]
     },
     "execution_count": 16,
     "metadata": {},
     "output_type": "execute_result"
    }
   ],
   "source": [
    "T = (1,2,3,4)\n",
    "T + (5,6)\n",
    "T[0]\n",
    "T.index(4)\n",
    "#T.count(4)\n",
    "#T[0] = 2"
   ]
  },
  {
   "cell_type": "markdown",
   "metadata": {},
   "source": [
    "## Sets"
   ]
  },
  {
   "cell_type": "markdown",
   "metadata": {},
   "source": [
    "Unordered collections of unique and immutable\n",
    "objects"
   ]
  },
  {
   "cell_type": "code",
   "execution_count": 20,
   "metadata": {},
   "outputs": [
    {
     "name": "stdout",
     "output_type": "stream",
     "text": [
      "{0, 1, 64, 4, 36, 9, 16, 49, 81, 25}\n"
     ]
    }
   ],
   "source": [
    "a_set = set(range(10))\n",
    "a_set\n",
    "b={x**2 for x in a_set}\n",
    "\n",
    "print(b)\n",
    "#{x for x in a_set if x % 2 == 0}\n",
    "#{2**x for x in range(10)}\n",
    "#a_set"
   ]
  },
  {
   "cell_type": "markdown",
   "metadata": {},
   "source": [
    "## Dates and time"
   ]
  },
  {
   "cell_type": "code",
   "execution_count": 22,
   "metadata": {},
   "outputs": [],
   "source": [
    "from datetime import date, time, datetime"
   ]
  },
  {
   "cell_type": "code",
   "execution_count": 23,
   "metadata": {},
   "outputs": [
    {
     "name": "stdout",
     "output_type": "stream",
     "text": [
      "2020-10-01\n",
      "11:33:20\n",
      "2020-09-17 11:00:00\n"
     ]
    }
   ],
   "source": [
    "print(date(year=2020, month=10, day=1))# print(date(2020,9,17))\n",
    "print(time(hour=11, minute=33, second=20))\n",
    "print(datetime(year=2020, month=9, day=17, hour=11, minute=0, second=0))\n"
   ]
  },
  {
   "cell_type": "code",
   "execution_count": 24,
   "metadata": {},
   "outputs": [
    {
     "name": "stdout",
     "output_type": "stream",
     "text": [
      "2020-10-01\n"
     ]
    }
   ],
   "source": [
    "t=date.today()\n",
    "print(t)"
   ]
  },
  {
   "cell_type": "code",
   "execution_count": 25,
   "metadata": {},
   "outputs": [
    {
     "name": "stdout",
     "output_type": "stream",
     "text": [
      "Day : 1\n",
      "Month : 10\n",
      "Year : 2020\n"
     ]
    }
   ],
   "source": [
    "print('Day :',t.day)\n",
    "# month\n",
    "print('Month :',t.month)\n",
    "# year\n",
    "print('Year :',t.year)"
   ]
  },
  {
   "cell_type": "code",
   "execution_count": 26,
   "metadata": {},
   "outputs": [
    {
     "name": "stdout",
     "output_type": "stream",
     "text": [
      "2020-10-01 11:35:11.290128\n"
     ]
    }
   ],
   "source": [
    "now=datetime.now()\n",
    "print(now)\n"
   ]
  },
  {
   "cell_type": "code",
   "execution_count": 27,
   "metadata": {},
   "outputs": [
    {
     "name": "stdout",
     "output_type": "stream",
     "text": [
      "3\n",
      "4\n"
     ]
    }
   ],
   "source": [
    "print(now.weekday()) # from monday\n",
    "print(now.isoweekday()) # from sunday"
   ]
  },
  {
   "cell_type": "code",
   "execution_count": 28,
   "metadata": {
    "scrolled": true
   },
   "outputs": [
    {
     "name": "stdout",
     "output_type": "stream",
     "text": [
      "91 days, 12:19:59\n"
     ]
    }
   ],
   "source": [
    "date1 = datetime(2020,10,1,11,40,0)\n",
    "date2 = datetime(2020,12,31,23,59,59)\n",
    "difference = date2-date1\n",
    "print(difference)\n"
   ]
  },
  {
   "cell_type": "code",
   "execution_count": 29,
   "metadata": {},
   "outputs": [
    {
     "name": "stdout",
     "output_type": "stream",
     "text": [
      "seconds : 7906799.0\n"
     ]
    }
   ],
   "source": [
    "from datetime import timedelta\n",
    "# duration in hours\n",
    "print('seconds :',difference/timedelta(seconds=1))#days, hours,seconds"
   ]
  },
  {
   "cell_type": "markdown",
   "metadata": {},
   "source": [
    "## (simple) Python Function"
   ]
  },
  {
   "cell_type": "code",
   "execution_count": 30,
   "metadata": {},
   "outputs": [],
   "source": [
    "#how to define a simple python function\n",
    "def my_function():\n",
    "    print(\"Hello from a function\") \n",
    "    \n",
    "\n"
   ]
  },
  {
   "cell_type": "code",
   "execution_count": 31,
   "metadata": {},
   "outputs": [
    {
     "name": "stdout",
     "output_type": "stream",
     "text": [
      "Hello from a function\n"
     ]
    }
   ],
   "source": [
    "my_function()"
   ]
  },
  {
   "cell_type": "code",
   "execution_count": 32,
   "metadata": {},
   "outputs": [
    {
     "data": {
      "text/plain": [
       "36"
      ]
     },
     "execution_count": 32,
     "metadata": {},
     "output_type": "execute_result"
    }
   ],
   "source": [
    "#how to define a simple python function\n",
    "def square(n):\n",
    "    return n**2\n",
    "\n",
    "square(6)"
   ]
  },
  {
   "cell_type": "code",
   "execution_count": 33,
   "metadata": {},
   "outputs": [
    {
     "data": {
      "text/plain": [
       "(1, 6)"
      ]
     },
     "execution_count": 33,
     "metadata": {},
     "output_type": "execute_result"
    }
   ],
   "source": [
    "#Write a function returning the min and the max values in the list\n",
    "def minmax(data):\n",
    "    \n",
    "    min_value = data[0] #assuming not empty \n",
    "    max_value = data[0] #assuming not empty\n",
    "    \n",
    "    for i in data:\n",
    "        if i < min_value:\n",
    "            min_value=i\n",
    "        elif i > max_value:\n",
    "            max_value=i\n",
    "            \n",
    "    return min_value,max_value\n",
    "\n",
    "data = [2,3,1,6]\n",
    "minmax(data)"
   ]
  },
  {
   "cell_type": "markdown",
   "metadata": {},
   "source": [
    "## Control Flow constructs in Python"
   ]
  },
  {
   "cell_type": "code",
   "execution_count": 35,
   "metadata": {},
   "outputs": [
    {
     "data": {
      "text/plain": [
       "True"
      ]
     },
     "execution_count": 35,
     "metadata": {},
     "output_type": "execute_result"
    }
   ],
   "source": [
    "#IF  It is used to decide whether a certain statement or block of statements will be executed or not \n",
    "#That means that: if a certain condition is true then a block of statement is executed otherwise not.\n",
    "\n",
    "#How to use the IF statement into a function\n",
    "def is_multiple(n,m):\n",
    "    if m!=0 and n%m==0: #the remainder after division \n",
    "        return True\n",
    "    else:\n",
    "        return False\n",
    "    \n",
    "is_multiple(8,2) "
   ]
  },
  {
   "cell_type": "code",
   "execution_count": 36,
   "metadata": {},
   "outputs": [
    {
     "data": {
      "text/plain": [
       "False"
      ]
     },
     "execution_count": 36,
     "metadata": {},
     "output_type": "execute_result"
    }
   ],
   "source": [
    "#This is the same function but written in a more Pythonic way :)\n",
    "def is_multiple(n,m):\n",
    "    return m!=0 and n%m==0\n",
    "    \n",
    "is_multiple(5,2) "
   ]
  },
  {
   "cell_type": "code",
   "execution_count": 41,
   "metadata": {},
   "outputs": [
    {
     "name": "stdout",
     "output_type": "stream",
     "text": [
      "55\n"
     ]
    }
   ],
   "source": [
    "#FOR: A for loop is used for iterating over a sequence\n",
    "\n",
    "#example of the use of a for loop to calculate the sum of the squares of the first n numbers\n",
    "sum_squares = 0\n",
    "n = 5\n",
    "\n",
    "for i in range(n+1):  \n",
    "    sum_squares+=i**2 \n",
    "        \n",
    "print(sum_squares)\n",
    "\n",
    "#range(5)"
   ]
  },
  {
   "cell_type": "code",
   "execution_count": null,
   "metadata": {},
   "outputs": [],
   "source": [
    "#WHILE A while loop statement in Python repeatedly executes a target statement as long as a given condition is true.\n",
    "\n",
    "#example of a function using a while loop\n",
    "def is_even(k):\n",
    "    \n",
    "    while k>0:\n",
    "        k-=2\n",
    "        \n",
    "    return k==0\n",
    "    \n"
   ]
  },
  {
   "cell_type": "code",
   "execution_count": null,
   "metadata": {},
   "outputs": [],
   "source": [
    "#How to import a Python module into your script\n",
    "\n",
    "#you can import the entire library\n",
    "import math\n",
    "math.factorial(5) #1*2*3*4*5\n",
    "\n",
    "#or import just the function you need\n",
    "from math import factorial\n",
    "factorial(5) #1*2*3*4*5\n",
    "    "
   ]
  },
  {
   "cell_type": "code",
   "execution_count": 42,
   "metadata": {},
   "outputs": [
    {
     "data": {
      "text/plain": [
       "3628800"
      ]
     },
     "execution_count": 42,
     "metadata": {},
     "output_type": "execute_result"
    }
   ],
   "source": [
    "# or just made it by recursion\n",
    "def fact(n):\n",
    "    if n==1 :\n",
    "        return 1\n",
    "    else :\n",
    "        return n*fact(n-1)\n",
    "    \n",
    "fact(10)"
   ]
  },
  {
   "cell_type": "markdown",
   "metadata": {},
   "source": [
    "## Try by yourself!\n",
    "\n",
    "Write a function that \n",
    "- given two integer numbers (a,b) compute the greatest common divisor between them.\n",
    "- given a list of numbers compute the second largest number in the list."
   ]
  },
  {
   "cell_type": "code",
   "execution_count": null,
   "metadata": {},
   "outputs": [],
   "source": []
  },
  {
   "cell_type": "code",
   "execution_count": null,
   "metadata": {},
   "outputs": [],
   "source": []
  }
 ],
 "metadata": {
  "kernelspec": {
   "display_name": "Python 3",
   "language": "python",
   "name": "python3"
  },
  "language_info": {
   "codemirror_mode": {
    "name": "ipython",
    "version": 3
   },
   "file_extension": ".py",
   "mimetype": "text/x-python",
   "name": "python",
   "nbconvert_exporter": "python",
   "pygments_lexer": "ipython3",
   "version": "3.7.6"
  }
 },
 "nbformat": 4,
 "nbformat_minor": 2
}
