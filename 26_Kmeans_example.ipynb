{
 "cells": [
  {
   "cell_type": "code",
   "execution_count": 68,
   "metadata": {},
   "outputs": [],
   "source": [
    "import pandas as pd\n",
    "import numpy as np\n",
    "\n",
    "X = pd.read_csv(\"random_dataset.csv\",index_col=0)"
   ]
  },
  {
   "cell_type": "code",
   "execution_count": 69,
   "metadata": {},
   "outputs": [
    {
     "data": {
      "text/html": [
       "<div>\n",
       "<style scoped>\n",
       "    .dataframe tbody tr th:only-of-type {\n",
       "        vertical-align: middle;\n",
       "    }\n",
       "\n",
       "    .dataframe tbody tr th {\n",
       "        vertical-align: top;\n",
       "    }\n",
       "\n",
       "    .dataframe thead th {\n",
       "        text-align: right;\n",
       "    }\n",
       "</style>\n",
       "<table border=\"1\" class=\"dataframe\">\n",
       "  <thead>\n",
       "    <tr style=\"text-align: right;\">\n",
       "      <th></th>\n",
       "      <th>0</th>\n",
       "      <th>1</th>\n",
       "      <th>2</th>\n",
       "      <th>3</th>\n",
       "      <th>4</th>\n",
       "      <th>5</th>\n",
       "      <th>6</th>\n",
       "      <th>7</th>\n",
       "      <th>8</th>\n",
       "      <th>9</th>\n",
       "      <th>...</th>\n",
       "      <th>54</th>\n",
       "      <th>55</th>\n",
       "      <th>56</th>\n",
       "      <th>57</th>\n",
       "      <th>58</th>\n",
       "      <th>59</th>\n",
       "      <th>60</th>\n",
       "      <th>61</th>\n",
       "      <th>62</th>\n",
       "      <th>63</th>\n",
       "    </tr>\n",
       "  </thead>\n",
       "  <tbody>\n",
       "    <tr>\n",
       "      <th>count</th>\n",
       "      <td>1797.0</td>\n",
       "      <td>1797.000000</td>\n",
       "      <td>1797.000000</td>\n",
       "      <td>1797.000000</td>\n",
       "      <td>1797.000000</td>\n",
       "      <td>1797.000000</td>\n",
       "      <td>1797.000000</td>\n",
       "      <td>1797.000000</td>\n",
       "      <td>1797.000000</td>\n",
       "      <td>1797.000000</td>\n",
       "      <td>...</td>\n",
       "      <td>1797.000000</td>\n",
       "      <td>1797.000000</td>\n",
       "      <td>1797.000000</td>\n",
       "      <td>1797.000000</td>\n",
       "      <td>1797.000000</td>\n",
       "      <td>1797.000000</td>\n",
       "      <td>1797.000000</td>\n",
       "      <td>1797.000000</td>\n",
       "      <td>1797.000000</td>\n",
       "      <td>1797.000000</td>\n",
       "    </tr>\n",
       "    <tr>\n",
       "      <th>mean</th>\n",
       "      <td>0.0</td>\n",
       "      <td>0.303840</td>\n",
       "      <td>5.204786</td>\n",
       "      <td>11.835838</td>\n",
       "      <td>11.848080</td>\n",
       "      <td>5.781859</td>\n",
       "      <td>1.362270</td>\n",
       "      <td>0.129661</td>\n",
       "      <td>0.005565</td>\n",
       "      <td>1.993879</td>\n",
       "      <td>...</td>\n",
       "      <td>3.725097</td>\n",
       "      <td>0.206455</td>\n",
       "      <td>0.000556</td>\n",
       "      <td>0.279354</td>\n",
       "      <td>5.557596</td>\n",
       "      <td>12.089037</td>\n",
       "      <td>11.809126</td>\n",
       "      <td>6.764051</td>\n",
       "      <td>2.067891</td>\n",
       "      <td>0.364496</td>\n",
       "    </tr>\n",
       "    <tr>\n",
       "      <th>std</th>\n",
       "      <td>0.0</td>\n",
       "      <td>0.907192</td>\n",
       "      <td>4.754826</td>\n",
       "      <td>4.248842</td>\n",
       "      <td>4.287388</td>\n",
       "      <td>5.666418</td>\n",
       "      <td>3.325775</td>\n",
       "      <td>1.037383</td>\n",
       "      <td>0.094222</td>\n",
       "      <td>3.196160</td>\n",
       "      <td>...</td>\n",
       "      <td>4.919406</td>\n",
       "      <td>0.984401</td>\n",
       "      <td>0.023590</td>\n",
       "      <td>0.934302</td>\n",
       "      <td>5.103019</td>\n",
       "      <td>4.374694</td>\n",
       "      <td>4.933947</td>\n",
       "      <td>5.900623</td>\n",
       "      <td>4.090548</td>\n",
       "      <td>1.860122</td>\n",
       "    </tr>\n",
       "    <tr>\n",
       "      <th>min</th>\n",
       "      <td>0.0</td>\n",
       "      <td>0.000000</td>\n",
       "      <td>0.000000</td>\n",
       "      <td>0.000000</td>\n",
       "      <td>0.000000</td>\n",
       "      <td>0.000000</td>\n",
       "      <td>0.000000</td>\n",
       "      <td>0.000000</td>\n",
       "      <td>0.000000</td>\n",
       "      <td>0.000000</td>\n",
       "      <td>...</td>\n",
       "      <td>0.000000</td>\n",
       "      <td>0.000000</td>\n",
       "      <td>0.000000</td>\n",
       "      <td>0.000000</td>\n",
       "      <td>0.000000</td>\n",
       "      <td>0.000000</td>\n",
       "      <td>0.000000</td>\n",
       "      <td>0.000000</td>\n",
       "      <td>0.000000</td>\n",
       "      <td>0.000000</td>\n",
       "    </tr>\n",
       "    <tr>\n",
       "      <th>25%</th>\n",
       "      <td>0.0</td>\n",
       "      <td>0.000000</td>\n",
       "      <td>1.000000</td>\n",
       "      <td>10.000000</td>\n",
       "      <td>10.000000</td>\n",
       "      <td>0.000000</td>\n",
       "      <td>0.000000</td>\n",
       "      <td>0.000000</td>\n",
       "      <td>0.000000</td>\n",
       "      <td>0.000000</td>\n",
       "      <td>...</td>\n",
       "      <td>0.000000</td>\n",
       "      <td>0.000000</td>\n",
       "      <td>0.000000</td>\n",
       "      <td>0.000000</td>\n",
       "      <td>1.000000</td>\n",
       "      <td>11.000000</td>\n",
       "      <td>10.000000</td>\n",
       "      <td>0.000000</td>\n",
       "      <td>0.000000</td>\n",
       "      <td>0.000000</td>\n",
       "    </tr>\n",
       "    <tr>\n",
       "      <th>50%</th>\n",
       "      <td>0.0</td>\n",
       "      <td>0.000000</td>\n",
       "      <td>4.000000</td>\n",
       "      <td>13.000000</td>\n",
       "      <td>13.000000</td>\n",
       "      <td>4.000000</td>\n",
       "      <td>0.000000</td>\n",
       "      <td>0.000000</td>\n",
       "      <td>0.000000</td>\n",
       "      <td>0.000000</td>\n",
       "      <td>...</td>\n",
       "      <td>1.000000</td>\n",
       "      <td>0.000000</td>\n",
       "      <td>0.000000</td>\n",
       "      <td>0.000000</td>\n",
       "      <td>4.000000</td>\n",
       "      <td>13.000000</td>\n",
       "      <td>14.000000</td>\n",
       "      <td>6.000000</td>\n",
       "      <td>0.000000</td>\n",
       "      <td>0.000000</td>\n",
       "    </tr>\n",
       "    <tr>\n",
       "      <th>75%</th>\n",
       "      <td>0.0</td>\n",
       "      <td>0.000000</td>\n",
       "      <td>9.000000</td>\n",
       "      <td>15.000000</td>\n",
       "      <td>15.000000</td>\n",
       "      <td>11.000000</td>\n",
       "      <td>0.000000</td>\n",
       "      <td>0.000000</td>\n",
       "      <td>0.000000</td>\n",
       "      <td>3.000000</td>\n",
       "      <td>...</td>\n",
       "      <td>7.000000</td>\n",
       "      <td>0.000000</td>\n",
       "      <td>0.000000</td>\n",
       "      <td>0.000000</td>\n",
       "      <td>10.000000</td>\n",
       "      <td>16.000000</td>\n",
       "      <td>16.000000</td>\n",
       "      <td>12.000000</td>\n",
       "      <td>2.000000</td>\n",
       "      <td>0.000000</td>\n",
       "    </tr>\n",
       "    <tr>\n",
       "      <th>max</th>\n",
       "      <td>0.0</td>\n",
       "      <td>8.000000</td>\n",
       "      <td>16.000000</td>\n",
       "      <td>16.000000</td>\n",
       "      <td>16.000000</td>\n",
       "      <td>16.000000</td>\n",
       "      <td>16.000000</td>\n",
       "      <td>15.000000</td>\n",
       "      <td>2.000000</td>\n",
       "      <td>16.000000</td>\n",
       "      <td>...</td>\n",
       "      <td>16.000000</td>\n",
       "      <td>13.000000</td>\n",
       "      <td>1.000000</td>\n",
       "      <td>9.000000</td>\n",
       "      <td>16.000000</td>\n",
       "      <td>16.000000</td>\n",
       "      <td>16.000000</td>\n",
       "      <td>16.000000</td>\n",
       "      <td>16.000000</td>\n",
       "      <td>16.000000</td>\n",
       "    </tr>\n",
       "  </tbody>\n",
       "</table>\n",
       "<p>8 rows × 64 columns</p>\n",
       "</div>"
      ],
      "text/plain": [
       "            0            1            2            3            4  \\\n",
       "count  1797.0  1797.000000  1797.000000  1797.000000  1797.000000   \n",
       "mean      0.0     0.303840     5.204786    11.835838    11.848080   \n",
       "std       0.0     0.907192     4.754826     4.248842     4.287388   \n",
       "min       0.0     0.000000     0.000000     0.000000     0.000000   \n",
       "25%       0.0     0.000000     1.000000    10.000000    10.000000   \n",
       "50%       0.0     0.000000     4.000000    13.000000    13.000000   \n",
       "75%       0.0     0.000000     9.000000    15.000000    15.000000   \n",
       "max       0.0     8.000000    16.000000    16.000000    16.000000   \n",
       "\n",
       "                 5            6            7            8            9  ...  \\\n",
       "count  1797.000000  1797.000000  1797.000000  1797.000000  1797.000000  ...   \n",
       "mean      5.781859     1.362270     0.129661     0.005565     1.993879  ...   \n",
       "std       5.666418     3.325775     1.037383     0.094222     3.196160  ...   \n",
       "min       0.000000     0.000000     0.000000     0.000000     0.000000  ...   \n",
       "25%       0.000000     0.000000     0.000000     0.000000     0.000000  ...   \n",
       "50%       4.000000     0.000000     0.000000     0.000000     0.000000  ...   \n",
       "75%      11.000000     0.000000     0.000000     0.000000     3.000000  ...   \n",
       "max      16.000000    16.000000    15.000000     2.000000    16.000000  ...   \n",
       "\n",
       "                54           55           56           57           58  \\\n",
       "count  1797.000000  1797.000000  1797.000000  1797.000000  1797.000000   \n",
       "mean      3.725097     0.206455     0.000556     0.279354     5.557596   \n",
       "std       4.919406     0.984401     0.023590     0.934302     5.103019   \n",
       "min       0.000000     0.000000     0.000000     0.000000     0.000000   \n",
       "25%       0.000000     0.000000     0.000000     0.000000     1.000000   \n",
       "50%       1.000000     0.000000     0.000000     0.000000     4.000000   \n",
       "75%       7.000000     0.000000     0.000000     0.000000    10.000000   \n",
       "max      16.000000    13.000000     1.000000     9.000000    16.000000   \n",
       "\n",
       "                59           60           61           62           63  \n",
       "count  1797.000000  1797.000000  1797.000000  1797.000000  1797.000000  \n",
       "mean     12.089037    11.809126     6.764051     2.067891     0.364496  \n",
       "std       4.374694     4.933947     5.900623     4.090548     1.860122  \n",
       "min       0.000000     0.000000     0.000000     0.000000     0.000000  \n",
       "25%      11.000000    10.000000     0.000000     0.000000     0.000000  \n",
       "50%      13.000000    14.000000     6.000000     0.000000     0.000000  \n",
       "75%      16.000000    16.000000    12.000000     2.000000     0.000000  \n",
       "max      16.000000    16.000000    16.000000    16.000000    16.000000  \n",
       "\n",
       "[8 rows x 64 columns]"
      ]
     },
     "execution_count": 69,
     "metadata": {},
     "output_type": "execute_result"
    }
   ],
   "source": [
    "X.describe()"
   ]
  },
  {
   "cell_type": "code",
   "execution_count": 70,
   "metadata": {},
   "outputs": [
    {
     "data": {
      "text/plain": [
       "(1797, 64)"
      ]
     },
     "execution_count": 70,
     "metadata": {},
     "output_type": "execute_result"
    }
   ],
   "source": [
    "X.shape"
   ]
  },
  {
   "cell_type": "code",
   "execution_count": 73,
   "metadata": {},
   "outputs": [
    {
     "data": {
      "image/png": "[encoded data removed]",
      "text/plain": [
       "<Figure size 432x288 with 1 Axes>"
      ]
     },
     "metadata": {
      "needs_background": "light"
     },
     "output_type": "display_data"
    }
   ],
   "source": [
    "from sklearn.cluster import KMeans\n",
    "%matplotlib inline\n",
    "import matplotlib.pyplot as plt\n",
    "\n",
    "\n",
    "distorsions = [] #empty list\n",
    "\n",
    "for i in range(1,25):\n",
    "    km = KMeans(n_clusters=i, init ='random',n_init=10,max_iter=300,random_state=0)\n",
    "    km.fit(X)\n",
    "    distorsions.append(km.inertia_)\n",
    "    \n",
    "plt.plot(range(1,25), distorsions, marker='o')\n",
    "plt.xlabel('Number of Clusters')\n",
    "plt.ylabel('Distortion')\n",
    "plt.show()"
   ]
  },
  {
   "cell_type": "code",
   "execution_count": 74,
   "metadata": {
    "scrolled": false
   },
   "outputs": [
    {
     "data": {
      "image/png": "[encoded data removed]",
      "text/plain": [
       "<Figure size 432x288 with 1 Axes>"
      ]
     },
     "metadata": {
      "needs_background": "light"
     },
     "output_type": "display_data"
    },
    {
     "data": {
      "image/png": "[encoded data removed]",
      "text/plain": [
       "<Figure size 432x288 with 1 Axes>"
      ]
     },
     "metadata": {
      "needs_background": "light"
     },
     "output_type": "display_data"
    },
    {
     "data": {
      "image/png": "[encoded data removed]",
      "text/plain": [
       "<Figure size 432x288 with 1 Axes>"
      ]
     },
     "metadata": {
      "needs_background": "light"
     },
     "output_type": "display_data"
    },
    {
     "data": {
      "image/png": "[encoded data removed]",
      "text/plain": [
       "<Figure size 432x288 with 1 Axes>"
      ]
     },
     "metadata": {
      "needs_background": "light"
     },
     "output_type": "display_data"
    },
    {
     "data": {
      "image/png": "[encoded data removed]",
      "text/plain": [
       "<Figure size 432x288 with 1 Axes>"
      ]
     },
     "metadata": {
      "needs_background": "light"
     },
     "output_type": "display_data"
    },
    {
     "data": {
      "image/png": "[encoded data removed]",
      "text/plain": [
       "<Figure size 432x288 with 1 Axes>"
      ]
     },
     "metadata": {
      "needs_background": "light"
     },
     "output_type": "display_data"
    },
    {
     "data": {
      "image/png": "[encoded data removed]",
      "text/plain": [
       "<Figure size 432x288 with 1 Axes>"
      ]
     },
     "metadata": {
      "needs_background": "light"
     },
     "output_type": "display_data"
    },
    {
     "data": {
      "image/png": "[encoded data removed]",
      "text/plain": [
       "<Figure size 432x288 with 1 Axes>"
      ]
     },
     "metadata": {
      "needs_background": "light"
     },
     "output_type": "display_data"
    },
    {
     "data": {
      "image/png": "[encoded data removed]",
      "text/plain": [
       "<Figure size 432x288 with 1 Axes>"
      ]
     },
     "metadata": {
      "needs_background": "light"
     },
     "output_type": "display_data"
    },
    {
     "data": {
      "image/png": "[encoded data removed]",
      "text/plain": [
       "<Figure size 432x288 with 1 Axes>"
      ]
     },
     "metadata": {
      "needs_background": "light"
     },
     "output_type": "display_data"
    },
    {
     "data": {
      "image/png": "[encoded data removed]",
      "text/plain": [
       "<Figure size 432x288 with 1 Axes>"
      ]
     },
     "metadata": {
      "needs_background": "light"
     },
     "output_type": "display_data"
    }
   ],
   "source": [
    "import numpy as np\n",
    "import matplotlib.cm as cm\n",
    "from sklearn.metrics import silhouette_samples, silhouette_score\n",
    "from sklearn.cluster import KMeans\n",
    "\n",
    "for j in range(2,13):\n",
    "    km = KMeans(n_clusters=j, \n",
    "                init='random',  #init=’k-means++’ \n",
    "                n_init=10, \n",
    "                max_iter=300, \n",
    "                tol=1e-04, \n",
    "                random_state=0) #init=’k-means++’ see notes below\n",
    "\n",
    "    km.fit(X) #Compute k-means clustering.\n",
    "    y_km = km.predict(X) \n",
    "    cluster_labels = np.unique(y_km)\n",
    "\n",
    "\n",
    "    silhouette_vals = silhouette_samples(X, y_km, metric='euclidean')\n",
    "\n",
    "    y_ax_lower, y_ax_upper=0,0\n",
    "    plt.figure(j)\n",
    "    \n",
    "    for i in cluster_labels: #for each cluster do:\n",
    "        c_silhouette_vals = silhouette_vals[y_km==i]\n",
    "        c_silhouette_vals.sort()\n",
    "        y_ax_upper += len(c_silhouette_vals)\n",
    "        plt.barh(range(y_ax_lower, y_ax_upper), c_silhouette_vals, height=1) #Make a horizontal bar plot.\n",
    "        #The bars are positioned at y with the given alignment. Their dimensions are given by width and height. \n",
    "        y_ax_lower += len(c_silhouette_vals)\n",
    "    "
   ]
  },
  {
   "cell_type": "code",
   "execution_count": 87,
   "metadata": {},
   "outputs": [
    {
     "data": {
      "text/plain": [
       "(array([180., 165., 183., 151.,   0., 208., 230., 408.,  91., 181.]),\n",
       " array([0. , 0.8, 1.6, 2.4, 3.2, 4. , 4.8, 5.6, 6.4, 7.2, 8. ]),\n",
       " <a list of 10 Patch objects>)"
      ]
     },
     "execution_count": 87,
     "metadata": {},
     "output_type": "execute_result"
    },
    {
     "data": {
      "image/png": "[encoded data removed]",
      "text/plain": [
       "<Figure size 432x288 with 1 Axes>"
      ]
     },
     "metadata": {
      "needs_background": "light"
     },
     "output_type": "display_data"
    }
   ],
   "source": [
    "km = KMeans(n_clusters=9, \n",
    "            init='random',  #init=’k-means++’ \n",
    "            n_init=9, \n",
    "            max_iter=300, \n",
    "            tol=1e-04, \n",
    "            random_state=0) #init=’k-means++’ see notes below\n",
    "\n",
    "km.fit(X) #Compute k-means clustering.\n",
    "y_km = km.predict(X) \n",
    "\n",
    "plt.hist(y_km)"
   ]
  },
  {
   "cell_type": "code",
   "execution_count": 88,
   "metadata": {},
   "outputs": [
    {
     "data": {
      "text/plain": [
       "array([[ 0.00000000e+00,  2.22222222e-02,  4.21111111e+00,\n",
       "         1.31277778e+01,  1.12833333e+01,  2.95000000e+00,\n",
       "         3.33333333e-02, -2.77555756e-16, -2.51534904e-17,\n",
       "         8.83333333e-01,  1.26388889e+01,  1.33722222e+01,\n",
       "         1.13777778e+01,  1.13777778e+01,  9.61111111e-01,\n",
       "         3.60822483e-16, -1.25767452e-17,  3.75555556e+00,\n",
       "         1.42111111e+01,  5.23333333e+00,  2.09444444e+00,\n",
       "         1.21388889e+01,  3.53333333e+00,  5.55111512e-17,\n",
       "        -2.81892565e-18,  5.29444444e+00,  1.26444444e+01,\n",
       "         2.02222222e+00,  2.61111111e-01,  9.11666667e+00,\n",
       "         6.44444444e+00, -5.63785130e-18,  0.00000000e+00,\n",
       "         5.85555556e+00,  1.15111111e+01,  9.50000000e-01,\n",
       "         1.22222222e-01,  8.82777778e+00,  7.11111111e+00,\n",
       "         0.00000000e+00, -2.25514052e-17,  3.49444444e+00,\n",
       "         1.32388889e+01,  1.72777778e+00,  1.50000000e+00,\n",
       "         1.13611111e+01,  5.83333333e+00, -2.08166817e-17,\n",
       "        -2.42861287e-17,  8.00000000e-01,  1.30555556e+01,\n",
       "         9.98888889e+00,  1.03333333e+01,  1.33111111e+01,\n",
       "         2.46666667e+00,  2.22222222e-02, -1.40946282e-18,\n",
       "         5.55555556e-03,  4.17222222e+00,  1.35722222e+01,\n",
       "         1.33555556e+01,  5.49444444e+00,  3.16666667e-01,\n",
       "         1.66666667e-02],\n",
       "       [ 0.00000000e+00, -9.99200722e-16,  2.90909091e-01,\n",
       "         7.11515152e+00,  1.19818182e+01,  1.94545455e+00,\n",
       "         1.51515152e-01,  5.45454545e-02, -2.25514052e-17,\n",
       "         1.21212121e-02,  3.24848485e+00,  1.38000000e+01,\n",
       "         8.50909091e+00,  1.50303030e+00,  9.27272727e-01,\n",
       "         2.78787879e-01, -1.12757026e-17,  6.30303030e-01,\n",
       "         1.06787879e+01,  1.16121212e+01,  4.32727273e+00,\n",
       "         5.20000000e+00,  3.86666667e+00,  3.27272727e-01,\n",
       "         6.06060606e-03,  4.74545455e+00,  1.47575758e+01,\n",
       "         5.89090909e+00,  6.83636364e+00,  1.07636364e+01,\n",
       "         6.22424242e+00,  1.81818182e-02,  0.00000000e+00,\n",
       "         8.92121212e+00,  1.48181818e+01,  9.35757576e+00,\n",
       "         1.27939394e+01,  1.43878788e+01,  5.47272727e+00,\n",
       "         0.00000000e+00,  9.69696970e-02,  6.50303030e+00,\n",
       "         1.16606061e+01,  1.23212121e+01,  1.48606061e+01,\n",
       "         1.08000000e+01,  1.57575758e+00, -4.51028104e-17,\n",
       "         6.06060606e-02,  1.12121212e+00,  3.00000000e+00,\n",
       "         7.72727273e+00,  1.41393939e+01,  4.15757576e+00,\n",
       "         1.81818182e-02, -4.71844785e-16, -1.40946282e-18,\n",
       "         2.42424242e-02,  3.51515152e-01,  7.91515152e+00,\n",
       "         1.23818182e+01,  1.78181818e+00, -5.77315973e-15,\n",
       "        -6.66133815e-16],\n",
       "       [ 0.00000000e+00, -1.22124533e-15,  1.20218579e+00,\n",
       "         1.12513661e+01,  9.56830601e+00,  1.49726776e+00,\n",
       "         2.73224044e-02, -3.05311332e-16, -2.51534904e-17,\n",
       "         6.01092896e-02,  7.18579235e+00,  1.45683060e+01,\n",
       "         6.18579235e+00,  8.46994536e-01,  2.73224044e-02,\n",
       "         3.74700271e-16, -1.25767452e-17,  7.70491803e-01,\n",
       "         1.24699454e+01,  9.46994536e+00,  9.28961749e-01,\n",
       "         1.09289617e-01,  0.00000000e+00,  4.16333634e-17,\n",
       "        -3.03576608e-18,  2.33333333e+00,  1.36284153e+01,\n",
       "         8.09289617e+00,  3.89071038e+00,  1.93442623e+00,\n",
       "         1.03825137e-01, -6.07153217e-18,  0.00000000e+00,\n",
       "         3.52459016e+00,  1.46612022e+01,  1.29125683e+01,\n",
       "         1.22622951e+01,  1.03169399e+01,  2.73224044e+00,\n",
       "         0.00000000e+00, -2.42861287e-17,  1.85792350e+00,\n",
       "         1.44371585e+01,  1.05956284e+01,  5.55191257e+00,\n",
       "         1.01967213e+01,  9.14754098e+00,  2.29508197e-01,\n",
       "        -2.42861287e-17,  1.74863388e-01,  1.02349727e+01,\n",
       "         1.25683060e+01,  5.39344262e+00,  1.13224044e+01,\n",
       "         1.08907104e+01,  6.22950820e-01, -1.51788304e-18,\n",
       "        -6.10622664e-16,  1.48633880e+00,  1.07650273e+01,\n",
       "         1.51038251e+01,  1.31475410e+01,  4.61748634e+00,\n",
       "         1.69398907e-01],\n",
       "       [ 0.00000000e+00,  1.09271523e+00,  9.93377483e+00,\n",
       "         1.33509934e+01,  1.41390728e+01,  1.25099338e+01,\n",
       "         4.31788079e+00,  3.97350993e-02,  6.62251656e-03,\n",
       "         4.53642384e+00,  1.49271523e+01,  1.25562914e+01,\n",
       "         8.64238411e+00,  6.98675497e+00,  2.44370861e+00,\n",
       "         3.31125828e-02,  1.32450331e-02,  6.09271523e+00,\n",
       "         1.45298013e+01,  5.88741722e+00,  1.94701987e+00,\n",
       "         1.01324503e+00,  1.98675497e-01,  1.45716772e-16,\n",
       "         6.62251656e-03,  5.29139073e+00,  1.43576159e+01,\n",
       "         1.23576159e+01,  7.89403974e+00,  2.32450331e+00,\n",
       "         1.58940397e-01, -5.20417043e-18,  0.00000000e+00,\n",
       "         1.96026490e+00,  8.17218543e+00,  1.00927152e+01,\n",
       "         1.02516556e+01,  5.60927152e+00,  6.68874172e-01,\n",
       "         0.00000000e+00, -2.08166817e-17,  3.04635762e-01,\n",
       "         1.45695364e+00,  4.81456954e+00,  9.74172185e+00,\n",
       "         7.08609272e+00,  8.60927152e-01, -7.28583860e-17,\n",
       "        -1.99493200e-17,  7.94701987e-01,  5.02649007e+00,\n",
       "         9.38410596e+00,  1.20794702e+01,  5.37748344e+00,\n",
       "         4.96688742e-01, -4.16333634e-16, -1.30104261e-18,\n",
       "         1.03973510e+00,  1.08013245e+01,  1.45364238e+01,\n",
       "         7.89403974e+00,  1.13245033e+00,  1.98675497e-02,\n",
       "        -6.10622664e-16],\n",
       "       [ 0.00000000e+00,  1.68269231e-01,  4.90384615e+00,\n",
       "         1.28798077e+01,  1.40384615e+01,  1.09086538e+01,\n",
       "         4.94230769e+00,  9.32692308e-01, -2.86229374e-17,\n",
       "         1.12019231e+00,  1.06394231e+01,  1.15000000e+01,\n",
       "         1.03798077e+01,  1.25625000e+01,  5.57692308e+00,\n",
       "         5.33653846e-01, -1.43114687e-17,  1.16826923e+00,\n",
       "         5.48557692e+00,  2.29326923e+00,  6.74519231e+00,\n",
       "         1.15625000e+01,  3.47596154e+00,  1.10576923e-01,\n",
       "        -3.25260652e-18,  1.01923077e+00,  5.06250000e+00,\n",
       "         6.43750000e+00,  1.21634615e+01,  1.21394231e+01,\n",
       "         4.77403846e+00,  4.80769231e-03,  0.00000000e+00,\n",
       "         1.48076923e+00,  8.63942308e+00,  1.29951923e+01,\n",
       "         1.46923077e+01,  1.07451923e+01,  3.92788462e+00,\n",
       "         0.00000000e+00, -2.60208521e-17,  1.10576923e+00,\n",
       "         5.12980769e+00,  1.14182692e+01,  1.10673077e+01,\n",
       "         3.79326923e+00,  5.67307692e-01,  1.73472348e-17,\n",
       "        -2.68882139e-17,  1.00961538e-01,  2.98076923e+00,\n",
       "         1.22692308e+01,  6.42788462e+00,  5.04807692e-01,\n",
       "         2.40384615e-02, -6.10622664e-16, -1.62630326e-18,\n",
       "         1.39423077e-01,  6.12500000e+00,  1.19663462e+01,\n",
       "         2.72115385e+00,  3.12500000e-01,  3.36538462e-02,\n",
       "        -7.21644966e-16],\n",
       "       [ 0.00000000e+00,  1.08695652e-01,  4.00869565e+00,\n",
       "         1.19043478e+01,  1.23478261e+01,  5.37391304e+00,\n",
       "         4.34782609e-01, -3.33066907e-16,  8.69565217e-03,\n",
       "         8.78260870e-01,  8.40000000e+00,  1.35260870e+01,\n",
       "         1.25000000e+01,  1.00043478e+01,  1.60000000e+00,\n",
       "         4.44089210e-16, -1.56125113e-17,  1.28260870e+00,\n",
       "         8.46521739e+00,  1.16347826e+01,  1.21130435e+01,\n",
       "         9.56956522e+00,  1.07826087e+00, -1.11022302e-16,\n",
       "        -2.60208521e-18,  9.73913043e-01,  7.33043478e+00,\n",
       "         1.39565217e+01,  1.41826087e+01,  5.03043478e+00,\n",
       "         2.04347826e-01, -5.20417043e-18,  0.00000000e+00,\n",
       "         7.47826087e-01,  7.93478261e+00,  1.47652174e+01,\n",
       "         1.29347826e+01,  2.17826087e+00,  1.73913043e-02,\n",
       "         0.00000000e+00, -2.08166817e-17,  1.21304348e+00,\n",
       "         1.03956522e+01,  1.19956522e+01,  1.20173913e+01,\n",
       "         4.23478261e+00,  2.39130435e-01,  4.16333634e-17,\n",
       "         1.30434783e-02,  8.56521739e-01,  9.56521739e+00,\n",
       "         1.15043478e+01,  1.19130435e+01,  5.74347826e+00,\n",
       "         6.91304348e-01,  4.34782609e-03,  4.34782609e-03,\n",
       "         1.08695652e-01,  4.22173913e+00,  1.20782609e+01,\n",
       "         1.26391304e+01,  4.89130435e+00,  8.21739130e-01,\n",
       "         8.69565217e-03],\n",
       "       [ 0.00000000e+00,  3.67647059e-01,  7.48039216e+00,\n",
       "         1.33946078e+01,  1.27965686e+01,  6.25490196e+00,\n",
       "         6.32352941e-01,  4.90196078e-03,  7.35294118e-03,\n",
       "         3.28186275e+00,  1.34411765e+01,  9.04166667e+00,\n",
       "         1.02647059e+01,  1.11470588e+01,  1.52696078e+00,\n",
       "         7.35294118e-03,  2.45098039e-03,  3.26225490e+00,\n",
       "         8.94362745e+00,  4.11764706e+00,  9.08578431e+00,\n",
       "         1.07156863e+01,  1.43137255e+00, -3.53883589e-16,\n",
       "         8.45677695e-18,  1.32598039e+00,  6.39460784e+00,\n",
       "         1.04534314e+01,  1.35245098e+01,  9.90196078e+00,\n",
       "         1.61274510e+00,  1.69135539e-17,  0.00000000e+00,\n",
       "         1.86274510e-01,  1.99509804e+00,  5.27941176e+00,\n",
       "         8.64460784e+00,  1.18529412e+01,  3.56617647e+00,\n",
       "         0.00000000e+00,  6.76542156e-17,  3.23529412e-01,\n",
       "         1.87990196e+00,  1.23284314e+00,  2.57352941e+00,\n",
       "         1.15563725e+01,  6.47794118e+00,  1.22549020e-02,\n",
       "         3.55618313e-17,  8.50490196e-01,  7.81862745e+00,\n",
       "         5.93382353e+00,  6.30637255e+00,  1.28578431e+01,\n",
       "         6.06617647e+00,  1.32352941e-01,  4.22838847e-18,\n",
       "         2.94117647e-01,  7.75735294e+00,  1.40955882e+01,\n",
       "         1.43750000e+01,  9.54411765e+00,  2.09558824e+00,\n",
       "         2.10784314e-01],\n",
       "       [ 0.00000000e+00,  2.77555756e-16,  3.29670330e-02,\n",
       "         1.76923077e+00,  1.10549451e+01,  1.24725275e+01,\n",
       "         4.10989011e+00,  2.41758242e-01,  1.73472348e-18,\n",
       "         5.49450549e-02,  1.95604396e+00,  8.89010989e+00,\n",
       "         1.38241758e+01,  1.24175824e+01,  5.09890110e+00,\n",
       "         3.18681319e-01,  8.67361738e-19,  1.60439560e+00,\n",
       "         8.82417582e+00,  1.26593407e+01,  1.21648352e+01,\n",
       "         1.29010989e+01,  3.82417582e+00,  1.42857143e-01,\n",
       "        -1.30104261e-18,  3.61538462e+00,  1.21538462e+01,\n",
       "         1.18791209e+01,  1.30109890e+01,  1.35054945e+01,\n",
       "         2.48351648e+00, -2.60208521e-18,  0.00000000e+00,\n",
       "         1.90109890e+00,  6.80219780e+00,  7.25274725e+00,\n",
       "         1.17252747e+01,  1.25384615e+01,  1.82417582e+00,\n",
       "         0.00000000e+00, -1.04083409e-17,  8.02197802e-01,\n",
       "         1.95604396e+00,  3.76923077e+00,  1.16923077e+01,\n",
       "         1.19010989e+01,  1.21978022e+00, -1.73472348e-17,\n",
       "        -5.20417043e-18,  6.59340659e-02,  3.18681319e-01,\n",
       "         2.98901099e+00,  1.24285714e+01,  1.17362637e+01,\n",
       "         1.69230769e+00,  5.55111512e-17, -6.50521303e-19,\n",
       "         5.55111512e-16,  5.32907052e-15,  1.85714286e+00,\n",
       "         1.13406593e+01,  1.07802198e+01,  1.72527473e+00,\n",
       "        -3.33066907e-16],\n",
       "       [ 0.00000000e+00,  9.22651934e-01,  1.01104972e+01,\n",
       "         1.44419890e+01,  7.79005525e+00,  1.01104972e+00,\n",
       "        -1.33226763e-15, -3.05311332e-16,  2.20994475e-02,\n",
       "         5.23204420e+00,  1.36464088e+01,  1.25966851e+01,\n",
       "         1.16187845e+01,  3.28176796e+00,  1.65745856e-02,\n",
       "         3.74700271e-16,  1.10497238e-02,  4.52486188e+00,\n",
       "         8.06629834e+00,  6.08287293e+00,  1.21381215e+01,\n",
       "         3.64640884e+00,  3.86740331e-02,  4.85722573e-17,\n",
       "        -3.03576608e-18,  9.39226519e-01,  2.81767956e+00,\n",
       "         7.03867403e+00,  1.25193370e+01,  2.74585635e+00,\n",
       "         6.07734807e-02, -6.07153217e-18,  0.00000000e+00,\n",
       "         4.41988950e-02,  1.59668508e+00,  9.87292818e+00,\n",
       "         1.08397790e+01,  1.66850829e+00,  1.10497238e-02,\n",
       "         0.00000000e+00, -2.42861287e-17,  2.43093923e-01,\n",
       "         4.38674033e+00,  1.10441989e+01,  7.72375691e+00,\n",
       "         2.63535912e+00,  9.39226519e-01,  1.10497238e-02,\n",
       "        -2.42861287e-17,  1.18232044e+00,  1.09060773e+01,\n",
       "         1.35966851e+01,  1.18011050e+01,  1.12320442e+01,\n",
       "         7.65745856e+00,  1.09392265e+00, -1.51788304e-18,\n",
       "         9.17127072e-01,  1.03038674e+01,  1.44917127e+01,\n",
       "         1.35248619e+01,  1.23204420e+01,  8.85635359e+00,\n",
       "         2.94475138e+00]])"
      ]
     },
     "execution_count": 88,
     "metadata": {},
     "output_type": "execute_result"
    }
   ],
   "source": [
    "km.cluster_centers_"
   ]
  },
  {
   "cell_type": "code",
   "execution_count": 89,
   "metadata": {},
   "outputs": [
    {
     "name": "stdout",
     "output_type": "stream",
     "text": [
      ".. _digits_dataset:\n",
      "\n",
      "Optical recognition of handwritten digits dataset\n",
      "--------------------------------------------------\n",
      "\n",
      "**Data Set Characteristics:**\n",
      "\n",
      "    :Number of Instances: 5620\n",
      "    :Number of Attributes: 64\n",
      "    :Attribute Information: 8x8 image of integer pixels in the range 0..16.\n",
      "    :Missing Attribute Values: None\n",
      "    :Creator: E. Alpaydin (alpaydin '@' boun.edu.tr)\n",
      "    :Date: July; 1998\n",
      "\n",
      "This is a copy of the test set of the UCI ML hand-written digits datasets\n",
      "https://archive.ics.uci.edu/ml/datasets/Optical+Recognition+of+Handwritten+Digits\n",
      "\n",
      "The data set contains images of hand-written digits: 10 classes where\n",
      "each class refers to a digit.\n",
      "\n",
      "Preprocessing programs made available by NIST were used to extract\n",
      "normalized bitmaps of handwritten digits from a preprinted form. From a\n",
      "total of 43 people, 30 contributed to the training set and different 13\n",
      "to the test set. 32x32 bitmaps are divided into nonoverlapping blocks of\n",
      "4x4 and the number of on pixels are counted in each block. This generates\n",
      "an input matrix of 8x8 where each element is an integer in the range\n",
      "0..16. This reduces dimensionality and gives invariance to small\n",
      "distortions.\n",
      "\n",
      "For info on NIST preprocessing routines, see M. D. Garris, J. L. Blue, G.\n",
      "T. Candela, D. L. Dimmick, J. Geist, P. J. Grother, S. A. Janet, and C.\n",
      "L. Wilson, NIST Form-Based Handprint Recognition System, NISTIR 5469,\n",
      "1994.\n",
      "\n",
      ".. topic:: References\n",
      "\n",
      "  - C. Kaynak (1995) Methods of Combining Multiple Classifiers and Their\n",
      "    Applications to Handwritten Digit Recognition, MSc Thesis, Institute of\n",
      "    Graduate Studies in Science and Engineering, Bogazici University.\n",
      "  - E. Alpaydin, C. Kaynak (1998) Cascading Classifiers, Kybernetika.\n",
      "  - Ken Tang and Ponnuthurai N. Suganthan and Xi Yao and A. Kai Qin.\n",
      "    Linear dimensionalityreduction using relevance weighted LDA. School of\n",
      "    Electrical and Electronic Engineering Nanyang Technological University.\n",
      "    2005.\n",
      "  - Claudio Gentile. A New Approximate Maximal Margin Classification\n",
      "    Algorithm. NIPS. 2000.\n"
     ]
    }
   ],
   "source": [
    "from sklearn.datasets import load_digits\n",
    "digits = load_digits()\n",
    "print(digits.DESCR)"
   ]
  },
  {
   "cell_type": "code",
   "execution_count": null,
   "metadata": {},
   "outputs": [],
   "source": []
  },
  {
   "cell_type": "code",
   "execution_count": 90,
   "metadata": {
    "scrolled": false
   },
   "outputs": [
    {
     "data": {
      "image/png": "[encoded data removed]",
      "text/plain": [
       "<Figure size 144x144 with 1 Axes>"
      ]
     },
     "metadata": {
      "needs_background": "light"
     },
     "output_type": "display_data"
    },
    {
     "name": "stdout",
     "output_type": "stream",
     "text": [
      "8\n"
     ]
    },
    {
     "data": {
      "image/png": "[encoded data removed]",
      "text/plain": [
       "<Figure size 144x144 with 1 Axes>"
      ]
     },
     "metadata": {
      "needs_background": "light"
     },
     "output_type": "display_data"
    },
    {
     "name": "stdout",
     "output_type": "stream",
     "text": [
      "0\n"
     ]
    },
    {
     "data": {
      "image/png": "[encoded data removed]",
      "text/plain": [
       "<Figure size 144x144 with 1 Axes>"
      ]
     },
     "metadata": {
      "needs_background": "light"
     },
     "output_type": "display_data"
    },
    {
     "name": "stdout",
     "output_type": "stream",
     "text": [
      "8\n"
     ]
    },
    {
     "data": {
      "image/png": "[encoded data removed]",
      "text/plain": [
       "<Figure size 144x144 with 1 Axes>"
      ]
     },
     "metadata": {
      "needs_background": "light"
     },
     "output_type": "display_data"
    },
    {
     "name": "stdout",
     "output_type": "stream",
     "text": [
      "6\n"
     ]
    },
    {
     "data": {
      "image/png": "[encoded data removed]",
      "text/plain": [
       "<Figure size 144x144 with 1 Axes>"
      ]
     },
     "metadata": {
      "needs_background": "light"
     },
     "output_type": "display_data"
    },
    {
     "name": "stdout",
     "output_type": "stream",
     "text": [
      "0\n"
     ]
    },
    {
     "data": {
      "image/png": "[encoded data removed]",
      "text/plain": [
       "<Figure size 144x144 with 1 Axes>"
      ]
     },
     "metadata": {
      "needs_background": "light"
     },
     "output_type": "display_data"
    },
    {
     "name": "stdout",
     "output_type": "stream",
     "text": [
      "5\n"
     ]
    },
    {
     "data": {
      "image/png": "[encoded data removed]",
      "text/plain": [
       "<Figure size 144x144 with 1 Axes>"
      ]
     },
     "metadata": {
      "needs_background": "light"
     },
     "output_type": "display_data"
    },
    {
     "name": "stdout",
     "output_type": "stream",
     "text": [
      "1\n"
     ]
    },
    {
     "data": {
      "image/png": "[encoded data removed]",
      "text/plain": [
       "<Figure size 144x144 with 1 Axes>"
      ]
     },
     "metadata": {
      "needs_background": "light"
     },
     "output_type": "display_data"
    },
    {
     "name": "stdout",
     "output_type": "stream",
     "text": [
      "9\n"
     ]
    },
    {
     "data": {
      "image/png": "[encoded data removed]",
      "text/plain": [
       "<Figure size 144x144 with 1 Axes>"
      ]
     },
     "metadata": {
      "needs_background": "light"
     },
     "output_type": "display_data"
    },
    {
     "name": "stdout",
     "output_type": "stream",
     "text": [
      "9\n"
     ]
    },
    {
     "data": {
      "image/png": "[encoded data removed]",
      "text/plain": [
       "<Figure size 144x144 with 1 Axes>"
      ]
     },
     "metadata": {
      "needs_background": "light"
     },
     "output_type": "display_data"
    },
    {
     "name": "stdout",
     "output_type": "stream",
     "text": [
      "9\n"
     ]
    }
   ],
   "source": [
    "%matplotlib inline\n",
    "import matplotlib.pyplot as plt\n",
    "from random import randint\n",
    "\n",
    "for j in range(10):\n",
    "    i=randint(0,len(digits.data))\n",
    "    plt.figure(1, figsize=(2, 2))\n",
    "    plt.imshow(digits.images[i], cmap=plt.cm.gray_r, interpolation='nearest')\n",
    "    plt.show()\n",
    "    print(digits.target[i])"
   ]
  },
  {
   "cell_type": "code",
   "execution_count": 93,
   "metadata": {},
   "outputs": [
    {
     "data": {
      "image/png": "[encoded data removed]",
      "text/plain": [
       "<Figure size 576x216 with 10 Axes>"
      ]
     },
     "metadata": {},
     "output_type": "display_data"
    }
   ],
   "source": [
    "n=10\n",
    "\n",
    "km = KMeans(n_clusters=n, \n",
    "            init='random',  #init=’k-means++’ \n",
    "            n_init=9, \n",
    "            max_iter=300, \n",
    "            tol=1e-04, \n",
    "            random_state=0) #init=’k-means++’ see notes below\n",
    "\n",
    "km.fit(X) #Compute k-means clustering.\n",
    "y_km = km.predict(X) \n",
    "\n",
    "\n",
    "# Plot the centers\n",
    "fig, ax = plt.subplots(1, n, figsize=(8, 3))\n",
    "centers = km.cluster_centers_.reshape(n, 8, 8)\n",
    "for axi, center in zip(ax.flat, centers):\n",
    "    axi.set(xticks=[], yticks=[])\n",
    "    axi.imshow(center, interpolation='nearest', cmap=plt.cm.binary)"
   ]
  },
  {
   "cell_type": "code",
   "execution_count": 94,
   "metadata": {},
   "outputs": [
    {
     "data": {
      "text/plain": [
       "array([8, 2, 2, ..., 2, 7, 7], dtype=int32)"
      ]
     },
     "execution_count": 94,
     "metadata": {},
     "output_type": "execute_result"
    }
   ],
   "source": [
    "y_km"
   ]
  },
  {
   "cell_type": "code",
   "execution_count": 95,
   "metadata": {},
   "outputs": [
    {
     "name": "stdout",
     "output_type": "stream",
     "text": [
      "0 - 9\n"
     ]
    }
   ],
   "source": [
    "print(y_km.min(),\"-\",y_km.max())"
   ]
  },
  {
   "cell_type": "code",
   "execution_count": 96,
   "metadata": {},
   "outputs": [
    {
     "data": {
      "text/plain": [
       "array([0, 8, 8, ..., 8, 9, 9], dtype=int32)"
      ]
     },
     "execution_count": 96,
     "metadata": {},
     "output_type": "execute_result"
    }
   ],
   "source": [
    "d = {0: 2, 1: 1, 2: 8, 3: 7, 4: 5, 5: 6, 6: 4, 7: 9, 8: 0, 9: 3}\n",
    "\n",
    "y_2 = y_km.copy()\n",
    "for i in range(len(y_km)):\n",
    "    y_2[i]=d[y_km[i]]\n",
    "y_2"
   ]
  },
  {
   "cell_type": "code",
   "execution_count": 97,
   "metadata": {},
   "outputs": [
    {
     "data": {
      "text/plain": [
       "array([[177,   0,   0,   0,   1,   0,   0,   0,   0,   0],\n",
       "       [  0,  55,  24,   1,   0,   1,   2,   0,  99,   0],\n",
       "       [  1,   2, 148,  13,   0,   0,   0,   3,   8,   2],\n",
       "       [  0,   0,   1, 158,   0,   1,   0,   7,   8,   8],\n",
       "       [  0,   7,   0,   0, 163,   0,   0,   7,   4,   0],\n",
       "       [  0,   0,   0,   2,   2, 130,   1,   0,   0,  47],\n",
       "       [  1,   1,   0,   0,   0,   0, 177,   0,   2,   0],\n",
       "       [  0,   2,   0,   0,   0,   5,   0, 170,   2,   0],\n",
       "       [  0,   6,   3,   4,   0,   6,   2,   2, 103,  48],\n",
       "       [  0,  20,   0,   7,   0,   6,   0,   7,   2, 138]])"
      ]
     },
     "execution_count": 97,
     "metadata": {},
     "output_type": "execute_result"
    }
   ],
   "source": [
    "from sklearn import metrics\n",
    "metrics.confusion_matrix(digits.target,y_2)\n"
   ]
  },
  {
   "cell_type": "code",
   "execution_count": null,
   "metadata": {},
   "outputs": [],
   "source": []
  }
 ],
 "metadata": {
  "kernelspec": {
   "display_name": "Python 3",
   "language": "python",
   "name": "python3"
  },
  "language_info": {
   "codemirror_mode": {
    "name": "ipython",
    "version": 3
   },
   "file_extension": ".py",
   "mimetype": "text/x-python",
   "name": "python",
   "nbconvert_exporter": "python",
   "pygments_lexer": "ipython3",
   "version": "3.7.6"
  }
 },
 "nbformat": 4,
 "nbformat_minor": 4
}
