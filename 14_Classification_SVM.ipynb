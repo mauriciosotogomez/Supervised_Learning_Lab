{
 "cells": [
  {
   "cell_type": "markdown",
   "metadata": {},
   "source": [
    "# Classification: SVM\n"
   ]
  },
  {
   "cell_type": "code",
   "execution_count": 2,
   "metadata": {},
   "outputs": [],
   "source": [
    "import pandas as pd\n",
    "data = pd.read_csv('telemarketing_train_preprocess.csv')"
   ]
  },
  {
   "cell_type": "code",
   "execution_count": 3,
   "metadata": {},
   "outputs": [
    {
     "data": {
      "text/html": [
       "<div>\n",
       "<style scoped>\n",
       "    .dataframe tbody tr th:only-of-type {\n",
       "        vertical-align: middle;\n",
       "    }\n",
       "\n",
       "    .dataframe tbody tr th {\n",
       "        vertical-align: top;\n",
       "    }\n",
       "\n",
       "    .dataframe thead th {\n",
       "        text-align: right;\n",
       "    }\n",
       "</style>\n",
       "<table border=\"1\" class=\"dataframe\">\n",
       "  <thead>\n",
       "    <tr style=\"text-align: right;\">\n",
       "      <th></th>\n",
       "      <th>age</th>\n",
       "      <th>duration</th>\n",
       "      <th>campaign</th>\n",
       "      <th>pdays</th>\n",
       "      <th>previous</th>\n",
       "      <th>emp.var.rate</th>\n",
       "      <th>cons.price.idx</th>\n",
       "      <th>cons.conf.idx</th>\n",
       "      <th>euribor3m</th>\n",
       "      <th>nr.employed</th>\n",
       "      <th>...</th>\n",
       "      <th>month_sep</th>\n",
       "      <th>day_of_week_fri</th>\n",
       "      <th>day_of_week_mon</th>\n",
       "      <th>day_of_week_thu</th>\n",
       "      <th>day_of_week_tue</th>\n",
       "      <th>day_of_week_wed</th>\n",
       "      <th>poutcome_failure</th>\n",
       "      <th>poutcome_nonexistent</th>\n",
       "      <th>poutcome_success</th>\n",
       "      <th>target</th>\n",
       "    </tr>\n",
       "  </thead>\n",
       "  <tbody>\n",
       "    <tr>\n",
       "      <th>0</th>\n",
       "      <td>1.444850</td>\n",
       "      <td>-0.746982</td>\n",
       "      <td>-0.571300</td>\n",
       "      <td>-3.969061</td>\n",
       "      <td>1.366417</td>\n",
       "      <td>-1.706389</td>\n",
       "      <td>-2.254135</td>\n",
       "      <td>1.860592</td>\n",
       "      <td>-1.400757</td>\n",
       "      <td>-1.031304</td>\n",
       "      <td>...</td>\n",
       "      <td>0</td>\n",
       "      <td>0</td>\n",
       "      <td>0</td>\n",
       "      <td>0</td>\n",
       "      <td>0</td>\n",
       "      <td>1</td>\n",
       "      <td>0</td>\n",
       "      <td>0</td>\n",
       "      <td>1</td>\n",
       "      <td>1</td>\n",
       "    </tr>\n",
       "    <tr>\n",
       "      <th>1</th>\n",
       "      <td>1.082169</td>\n",
       "      <td>0.100012</td>\n",
       "      <td>-0.571300</td>\n",
       "      <td>0.252494</td>\n",
       "      <td>-0.378985</td>\n",
       "      <td>-1.706389</td>\n",
       "      <td>-0.979221</td>\n",
       "      <td>-0.075950</td>\n",
       "      <td>-1.187102</td>\n",
       "      <td>-1.031304</td>\n",
       "      <td>...</td>\n",
       "      <td>0</td>\n",
       "      <td>0</td>\n",
       "      <td>1</td>\n",
       "      <td>0</td>\n",
       "      <td>0</td>\n",
       "      <td>0</td>\n",
       "      <td>0</td>\n",
       "      <td>1</td>\n",
       "      <td>0</td>\n",
       "      <td>1</td>\n",
       "    </tr>\n",
       "    <tr>\n",
       "      <th>2</th>\n",
       "      <td>0.447476</td>\n",
       "      <td>-0.363501</td>\n",
       "      <td>0.974844</td>\n",
       "      <td>0.252494</td>\n",
       "      <td>-0.378985</td>\n",
       "      <td>0.910934</td>\n",
       "      <td>-0.174453</td>\n",
       "      <td>0.892321</td>\n",
       "      <td>0.854483</td>\n",
       "      <td>0.901546</td>\n",
       "      <td>...</td>\n",
       "      <td>0</td>\n",
       "      <td>0</td>\n",
       "      <td>0</td>\n",
       "      <td>0</td>\n",
       "      <td>0</td>\n",
       "      <td>1</td>\n",
       "      <td>0</td>\n",
       "      <td>1</td>\n",
       "      <td>0</td>\n",
       "      <td>0</td>\n",
       "    </tr>\n",
       "    <tr>\n",
       "      <th>3</th>\n",
       "      <td>-0.731238</td>\n",
       "      <td>-0.200104</td>\n",
       "      <td>-0.184764</td>\n",
       "      <td>0.252494</td>\n",
       "      <td>-0.378985</td>\n",
       "      <td>0.728330</td>\n",
       "      <td>0.745760</td>\n",
       "      <td>0.830517</td>\n",
       "      <td>0.795410</td>\n",
       "      <td>0.429467</td>\n",
       "      <td>...</td>\n",
       "      <td>0</td>\n",
       "      <td>0</td>\n",
       "      <td>0</td>\n",
       "      <td>0</td>\n",
       "      <td>1</td>\n",
       "      <td>0</td>\n",
       "      <td>0</td>\n",
       "      <td>1</td>\n",
       "      <td>0</td>\n",
       "      <td>0</td>\n",
       "    </tr>\n",
       "    <tr>\n",
       "      <th>4</th>\n",
       "      <td>-0.731238</td>\n",
       "      <td>2.884420</td>\n",
       "      <td>-0.184764</td>\n",
       "      <td>0.252494</td>\n",
       "      <td>-0.378985</td>\n",
       "      <td>-0.002086</td>\n",
       "      <td>-0.582693</td>\n",
       "      <td>-0.323168</td>\n",
       "      <td>0.333873</td>\n",
       "      <td>0.490545</td>\n",
       "      <td>...</td>\n",
       "      <td>0</td>\n",
       "      <td>1</td>\n",
       "      <td>0</td>\n",
       "      <td>0</td>\n",
       "      <td>0</td>\n",
       "      <td>0</td>\n",
       "      <td>0</td>\n",
       "      <td>1</td>\n",
       "      <td>0</td>\n",
       "      <td>0</td>\n",
       "    </tr>\n",
       "  </tbody>\n",
       "</table>\n",
       "<p>5 rows × 52 columns</p>\n",
       "</div>"
      ],
      "text/plain": [
       "        age  duration  campaign     pdays  previous  emp.var.rate  \\\n",
       "0  1.444850 -0.746982 -0.571300 -3.969061  1.366417     -1.706389   \n",
       "1  1.082169  0.100012 -0.571300  0.252494 -0.378985     -1.706389   \n",
       "2  0.447476 -0.363501  0.974844  0.252494 -0.378985      0.910934   \n",
       "3 -0.731238 -0.200104 -0.184764  0.252494 -0.378985      0.728330   \n",
       "4 -0.731238  2.884420 -0.184764  0.252494 -0.378985     -0.002086   \n",
       "\n",
       "   cons.price.idx  cons.conf.idx  euribor3m  nr.employed  ...  month_sep  \\\n",
       "0       -2.254135       1.860592  -1.400757    -1.031304  ...          0   \n",
       "1       -0.979221      -0.075950  -1.187102    -1.031304  ...          0   \n",
       "2       -0.174453       0.892321   0.854483     0.901546  ...          0   \n",
       "3        0.745760       0.830517   0.795410     0.429467  ...          0   \n",
       "4       -0.582693      -0.323168   0.333873     0.490545  ...          0   \n",
       "\n",
       "   day_of_week_fri  day_of_week_mon  day_of_week_thu  day_of_week_tue  \\\n",
       "0                0                0                0                0   \n",
       "1                0                1                0                0   \n",
       "2                0                0                0                0   \n",
       "3                0                0                0                1   \n",
       "4                1                0                0                0   \n",
       "\n",
       "   day_of_week_wed  poutcome_failure  poutcome_nonexistent  poutcome_success  \\\n",
       "0                1                 0                     0                 1   \n",
       "1                0                 0                     1                 0   \n",
       "2                1                 0                     1                 0   \n",
       "3                0                 0                     1                 0   \n",
       "4                0                 0                     1                 0   \n",
       "\n",
       "   target  \n",
       "0       1  \n",
       "1       1  \n",
       "2       0  \n",
       "3       0  \n",
       "4       0  \n",
       "\n",
       "[5 rows x 52 columns]"
      ]
     },
     "execution_count": 3,
     "metadata": {},
     "output_type": "execute_result"
    }
   ],
   "source": [
    "data.head()"
   ]
  },
  {
   "cell_type": "code",
   "execution_count": 4,
   "metadata": {},
   "outputs": [
    {
     "name": "stdout",
     "output_type": "stream",
     "text": [
      "target\n",
      "0    11552\n",
      "1     3448\n",
      "dtype: int64\n"
     ]
    },
    {
     "data": {
      "image/png": "[encoded data removed]",
      "text/plain": [
       "<Figure size 432x288 with 1 Axes>"
      ]
     },
     "metadata": {},
     "output_type": "display_data"
    }
   ],
   "source": [
    "#Print class freq. through pandas \n",
    "print(data.groupby('target').size())\n",
    "\n",
    "#some imports to plot \n",
    "import matplotlib.pyplot as plt\n",
    "import seaborn as sns\n",
    "%matplotlib inline\n",
    "plt.style.use('ggplot')\n",
    "\n",
    "#Visualize Class Counts\n",
    "sns.countplot(y=data.target ,data=data)\n",
    "plt.xlabel(\"count of each class\")\n",
    "plt.ylabel(\"classes\")\n",
    "plt.show()"
   ]
  },
  {
   "cell_type": "code",
   "execution_count": 5,
   "metadata": {},
   "outputs": [
    {
     "name": "stdout",
     "output_type": "stream",
     "text": [
      "<class 'pandas.core.frame.DataFrame'>\n",
      "RangeIndex: 15000 entries, 0 to 14999\n",
      "Data columns (total 52 columns):\n",
      " #   Column                         Non-Null Count  Dtype  \n",
      "---  ------                         --------------  -----  \n",
      " 0   age                            15000 non-null  float64\n",
      " 1   duration                       15000 non-null  float64\n",
      " 2   campaign                       15000 non-null  float64\n",
      " 3   pdays                          15000 non-null  float64\n",
      " 4   previous                       15000 non-null  float64\n",
      " 5   emp.var.rate                   15000 non-null  float64\n",
      " 6   cons.price.idx                 15000 non-null  float64\n",
      " 7   cons.conf.idx                  15000 non-null  float64\n",
      " 8   euribor3m                      15000 non-null  float64\n",
      " 9   nr.employed                    15000 non-null  float64\n",
      " 10  marital_divorced               15000 non-null  int64  \n",
      " 11  marital_married                15000 non-null  int64  \n",
      " 12  marital_single                 15000 non-null  int64  \n",
      " 13  marital_unknown                15000 non-null  int64  \n",
      " 14  education_basic.4y             15000 non-null  int64  \n",
      " 15  education_basic.6y             15000 non-null  int64  \n",
      " 16  education_basic.9y             15000 non-null  int64  \n",
      " 17  education_high.school          15000 non-null  int64  \n",
      " 18  education_illiterate           15000 non-null  int64  \n",
      " 19  education_professional.course  15000 non-null  int64  \n",
      " 20  education_university.degree    15000 non-null  int64  \n",
      " 21  education_unknown              15000 non-null  int64  \n",
      " 22  default_no                     15000 non-null  int64  \n",
      " 23  default_unknown                15000 non-null  int64  \n",
      " 24  default_yes                    15000 non-null  int64  \n",
      " 25  housing_no                     15000 non-null  int64  \n",
      " 26  housing_unknown                15000 non-null  int64  \n",
      " 27  housing_yes                    15000 non-null  int64  \n",
      " 28  loan_no                        15000 non-null  int64  \n",
      " 29  loan_unknown                   15000 non-null  int64  \n",
      " 30  loan_yes                       15000 non-null  int64  \n",
      " 31  contact_cellular               15000 non-null  int64  \n",
      " 32  contact_telephone              15000 non-null  int64  \n",
      " 33  month_apr                      15000 non-null  int64  \n",
      " 34  month_aug                      15000 non-null  int64  \n",
      " 35  month_dec                      15000 non-null  int64  \n",
      " 36  month_jul                      15000 non-null  int64  \n",
      " 37  month_jun                      15000 non-null  int64  \n",
      " 38  month_mar                      15000 non-null  int64  \n",
      " 39  month_may                      15000 non-null  int64  \n",
      " 40  month_nov                      15000 non-null  int64  \n",
      " 41  month_oct                      15000 non-null  int64  \n",
      " 42  month_sep                      15000 non-null  int64  \n",
      " 43  day_of_week_fri                15000 non-null  int64  \n",
      " 44  day_of_week_mon                15000 non-null  int64  \n",
      " 45  day_of_week_thu                15000 non-null  int64  \n",
      " 46  day_of_week_tue                15000 non-null  int64  \n",
      " 47  day_of_week_wed                15000 non-null  int64  \n",
      " 48  poutcome_failure               15000 non-null  int64  \n",
      " 49  poutcome_nonexistent           15000 non-null  int64  \n",
      " 50  poutcome_success               15000 non-null  int64  \n",
      " 51  target                         15000 non-null  int64  \n",
      "dtypes: float64(10), int64(42)\n",
      "memory usage: 6.0 MB\n"
     ]
    }
   ],
   "source": [
    "#gives information about the data types,columns, null value counts, memory usage etc\n",
    "data.info(verbose=True)"
   ]
  },
  {
   "cell_type": "code",
   "execution_count": 6,
   "metadata": {},
   "outputs": [
    {
     "data": {
      "text/html": [
       "<div>\n",
       "<style scoped>\n",
       "    .dataframe tbody tr th:only-of-type {\n",
       "        vertical-align: middle;\n",
       "    }\n",
       "\n",
       "    .dataframe tbody tr th {\n",
       "        vertical-align: top;\n",
       "    }\n",
       "\n",
       "    .dataframe thead th {\n",
       "        text-align: right;\n",
       "    }\n",
       "</style>\n",
       "<table border=\"1\" class=\"dataframe\">\n",
       "  <thead>\n",
       "    <tr style=\"text-align: right;\">\n",
       "      <th></th>\n",
       "      <th>age</th>\n",
       "      <th>duration</th>\n",
       "      <th>campaign</th>\n",
       "      <th>pdays</th>\n",
       "      <th>previous</th>\n",
       "      <th>emp.var.rate</th>\n",
       "      <th>cons.price.idx</th>\n",
       "      <th>cons.conf.idx</th>\n",
       "      <th>euribor3m</th>\n",
       "      <th>nr.employed</th>\n",
       "      <th>...</th>\n",
       "      <th>month_sep</th>\n",
       "      <th>day_of_week_fri</th>\n",
       "      <th>day_of_week_mon</th>\n",
       "      <th>day_of_week_thu</th>\n",
       "      <th>day_of_week_tue</th>\n",
       "      <th>day_of_week_wed</th>\n",
       "      <th>poutcome_failure</th>\n",
       "      <th>poutcome_nonexistent</th>\n",
       "      <th>poutcome_success</th>\n",
       "      <th>target</th>\n",
       "    </tr>\n",
       "  </thead>\n",
       "  <tbody>\n",
       "    <tr>\n",
       "      <th>count</th>\n",
       "      <td>1.500000e+04</td>\n",
       "      <td>1.500000e+04</td>\n",
       "      <td>1.500000e+04</td>\n",
       "      <td>1.500000e+04</td>\n",
       "      <td>1.500000e+04</td>\n",
       "      <td>1.500000e+04</td>\n",
       "      <td>1.500000e+04</td>\n",
       "      <td>1.500000e+04</td>\n",
       "      <td>1.500000e+04</td>\n",
       "      <td>1.500000e+04</td>\n",
       "      <td>...</td>\n",
       "      <td>15000.000000</td>\n",
       "      <td>15000.000000</td>\n",
       "      <td>15000.000000</td>\n",
       "      <td>15000.000000</td>\n",
       "      <td>15000.000000</td>\n",
       "      <td>15000.000000</td>\n",
       "      <td>15000.000000</td>\n",
       "      <td>15000.000000</td>\n",
       "      <td>15000.000000</td>\n",
       "      <td>15000.000000</td>\n",
       "    </tr>\n",
       "    <tr>\n",
       "      <th>mean</th>\n",
       "      <td>2.237766e-16</td>\n",
       "      <td>5.155506e-17</td>\n",
       "      <td>-1.194137e-16</td>\n",
       "      <td>1.510525e-15</td>\n",
       "      <td>3.569663e-16</td>\n",
       "      <td>-5.268378e-16</td>\n",
       "      <td>2.312233e-14</td>\n",
       "      <td>-2.741011e-16</td>\n",
       "      <td>-4.016047e-17</td>\n",
       "      <td>-1.417787e-14</td>\n",
       "      <td>...</td>\n",
       "      <td>0.019600</td>\n",
       "      <td>0.184000</td>\n",
       "      <td>0.203467</td>\n",
       "      <td>0.218533</td>\n",
       "      <td>0.198333</td>\n",
       "      <td>0.195667</td>\n",
       "      <td>0.106733</td>\n",
       "      <td>0.838400</td>\n",
       "      <td>0.054867</td>\n",
       "      <td>0.229867</td>\n",
       "    </tr>\n",
       "    <tr>\n",
       "      <th>std</th>\n",
       "      <td>1.000033e+00</td>\n",
       "      <td>1.000033e+00</td>\n",
       "      <td>1.000033e+00</td>\n",
       "      <td>1.000033e+00</td>\n",
       "      <td>1.000033e+00</td>\n",
       "      <td>1.000033e+00</td>\n",
       "      <td>1.000033e+00</td>\n",
       "      <td>1.000033e+00</td>\n",
       "      <td>1.000033e+00</td>\n",
       "      <td>1.000033e+00</td>\n",
       "      <td>...</td>\n",
       "      <td>0.138626</td>\n",
       "      <td>0.387497</td>\n",
       "      <td>0.402590</td>\n",
       "      <td>0.413265</td>\n",
       "      <td>0.398758</td>\n",
       "      <td>0.396726</td>\n",
       "      <td>0.308784</td>\n",
       "      <td>0.368096</td>\n",
       "      <td>0.227727</td>\n",
       "      <td>0.420761</td>\n",
       "    </tr>\n",
       "    <tr>\n",
       "      <th>min</th>\n",
       "      <td>-2.091293e+00</td>\n",
       "      <td>-9.570631e-01</td>\n",
       "      <td>-5.713005e-01</td>\n",
       "      <td>-3.986032e+00</td>\n",
       "      <td>-3.789850e-01</td>\n",
       "      <td>-2.010729e+00</td>\n",
       "      <td>-2.254135e+00</td>\n",
       "      <td>-2.136100e+00</td>\n",
       "      <td>-1.536016e+00</td>\n",
       "      <td>-2.464081e+00</td>\n",
       "      <td>...</td>\n",
       "      <td>0.000000</td>\n",
       "      <td>0.000000</td>\n",
       "      <td>0.000000</td>\n",
       "      <td>0.000000</td>\n",
       "      <td>0.000000</td>\n",
       "      <td>0.000000</td>\n",
       "      <td>0.000000</td>\n",
       "      <td>0.000000</td>\n",
       "      <td>0.000000</td>\n",
       "      <td>0.000000</td>\n",
       "    </tr>\n",
       "    <tr>\n",
       "      <th>25%</th>\n",
       "      <td>-7.312382e-01</td>\n",
       "      <td>-6.169318e-01</td>\n",
       "      <td>-5.713005e-01</td>\n",
       "      <td>2.524942e-01</td>\n",
       "      <td>-3.789850e-01</td>\n",
       "      <td>-1.036841e+00</td>\n",
       "      <td>-7.918325e-01</td>\n",
       "      <td>-4.673781e-01</td>\n",
       "      <td>-1.168884e+00</td>\n",
       "      <td>-7.399131e-01</td>\n",
       "      <td>...</td>\n",
       "      <td>0.000000</td>\n",
       "      <td>0.000000</td>\n",
       "      <td>0.000000</td>\n",
       "      <td>0.000000</td>\n",
       "      <td>0.000000</td>\n",
       "      <td>0.000000</td>\n",
       "      <td>0.000000</td>\n",
       "      <td>1.000000</td>\n",
       "      <td>0.000000</td>\n",
       "      <td>0.000000</td>\n",
       "    </tr>\n",
       "    <tr>\n",
       "      <th>50%</th>\n",
       "      <td>-1.872161e-01</td>\n",
       "      <td>-3.268198e-01</td>\n",
       "      <td>-1.847643e-01</td>\n",
       "      <td>2.524942e-01</td>\n",
       "      <td>-3.789850e-01</td>\n",
       "      <td>7.283300e-01</td>\n",
       "      <td>-1.744530e-01</td>\n",
       "      <td>-2.819646e-01</td>\n",
       "      <td>7.948584e-01</td>\n",
       "      <td>4.294675e-01</td>\n",
       "      <td>...</td>\n",
       "      <td>0.000000</td>\n",
       "      <td>0.000000</td>\n",
       "      <td>0.000000</td>\n",
       "      <td>0.000000</td>\n",
       "      <td>0.000000</td>\n",
       "      <td>0.000000</td>\n",
       "      <td>0.000000</td>\n",
       "      <td>1.000000</td>\n",
       "      <td>0.000000</td>\n",
       "      <td>0.000000</td>\n",
       "    </tr>\n",
       "    <tr>\n",
       "      <th>75%</th>\n",
       "      <td>6.288169e-01</td>\n",
       "      <td>2.500697e-01</td>\n",
       "      <td>2.017719e-01</td>\n",
       "      <td>2.524942e-01</td>\n",
       "      <td>-3.789850e-01</td>\n",
       "      <td>9.109339e-01</td>\n",
       "      <td>7.457603e-01</td>\n",
       "      <td>8.305167e-01</td>\n",
       "      <td>8.528266e-01</td>\n",
       "      <td>9.015460e-01</td>\n",
       "      <td>...</td>\n",
       "      <td>0.000000</td>\n",
       "      <td>0.000000</td>\n",
       "      <td>0.000000</td>\n",
       "      <td>0.000000</td>\n",
       "      <td>0.000000</td>\n",
       "      <td>0.000000</td>\n",
       "      <td>0.000000</td>\n",
       "      <td>1.000000</td>\n",
       "      <td>0.000000</td>\n",
       "      <td>0.000000</td>\n",
       "    </tr>\n",
       "    <tr>\n",
       "      <th>max</th>\n",
       "      <td>5.253004e+00</td>\n",
       "      <td>1.540926e+01</td>\n",
       "      <td>1.566322e+01</td>\n",
       "      <td>2.524942e-01</td>\n",
       "      <td>1.009343e+01</td>\n",
       "      <td>9.109339e-01</td>\n",
       "      <td>2.039078e+00</td>\n",
       "      <td>2.787660e+00</td>\n",
       "      <td>8.992012e-01</td>\n",
       "      <td>9.015460e-01</td>\n",
       "      <td>...</td>\n",
       "      <td>1.000000</td>\n",
       "      <td>1.000000</td>\n",
       "      <td>1.000000</td>\n",
       "      <td>1.000000</td>\n",
       "      <td>1.000000</td>\n",
       "      <td>1.000000</td>\n",
       "      <td>1.000000</td>\n",
       "      <td>1.000000</td>\n",
       "      <td>1.000000</td>\n",
       "      <td>1.000000</td>\n",
       "    </tr>\n",
       "  </tbody>\n",
       "</table>\n",
       "<p>8 rows × 52 columns</p>\n",
       "</div>"
      ],
      "text/plain": [
       "                age      duration      campaign         pdays      previous  \\\n",
       "count  1.500000e+04  1.500000e+04  1.500000e+04  1.500000e+04  1.500000e+04   \n",
       "mean   2.237766e-16  5.155506e-17 -1.194137e-16  1.510525e-15  3.569663e-16   \n",
       "std    1.000033e+00  1.000033e+00  1.000033e+00  1.000033e+00  1.000033e+00   \n",
       "min   -2.091293e+00 -9.570631e-01 -5.713005e-01 -3.986032e+00 -3.789850e-01   \n",
       "25%   -7.312382e-01 -6.169318e-01 -5.713005e-01  2.524942e-01 -3.789850e-01   \n",
       "50%   -1.872161e-01 -3.268198e-01 -1.847643e-01  2.524942e-01 -3.789850e-01   \n",
       "75%    6.288169e-01  2.500697e-01  2.017719e-01  2.524942e-01 -3.789850e-01   \n",
       "max    5.253004e+00  1.540926e+01  1.566322e+01  2.524942e-01  1.009343e+01   \n",
       "\n",
       "       emp.var.rate  cons.price.idx  cons.conf.idx     euribor3m  \\\n",
       "count  1.500000e+04    1.500000e+04   1.500000e+04  1.500000e+04   \n",
       "mean  -5.268378e-16    2.312233e-14  -2.741011e-16 -4.016047e-17   \n",
       "std    1.000033e+00    1.000033e+00   1.000033e+00  1.000033e+00   \n",
       "min   -2.010729e+00   -2.254135e+00  -2.136100e+00 -1.536016e+00   \n",
       "25%   -1.036841e+00   -7.918325e-01  -4.673781e-01 -1.168884e+00   \n",
       "50%    7.283300e-01   -1.744530e-01  -2.819646e-01  7.948584e-01   \n",
       "75%    9.109339e-01    7.457603e-01   8.305167e-01  8.528266e-01   \n",
       "max    9.109339e-01    2.039078e+00   2.787660e+00  8.992012e-01   \n",
       "\n",
       "        nr.employed  ...     month_sep  day_of_week_fri  day_of_week_mon  \\\n",
       "count  1.500000e+04  ...  15000.000000     15000.000000     15000.000000   \n",
       "mean  -1.417787e-14  ...      0.019600         0.184000         0.203467   \n",
       "std    1.000033e+00  ...      0.138626         0.387497         0.402590   \n",
       "min   -2.464081e+00  ...      0.000000         0.000000         0.000000   \n",
       "25%   -7.399131e-01  ...      0.000000         0.000000         0.000000   \n",
       "50%    4.294675e-01  ...      0.000000         0.000000         0.000000   \n",
       "75%    9.015460e-01  ...      0.000000         0.000000         0.000000   \n",
       "max    9.015460e-01  ...      1.000000         1.000000         1.000000   \n",
       "\n",
       "       day_of_week_thu  day_of_week_tue  day_of_week_wed  poutcome_failure  \\\n",
       "count     15000.000000     15000.000000     15000.000000      15000.000000   \n",
       "mean          0.218533         0.198333         0.195667          0.106733   \n",
       "std           0.413265         0.398758         0.396726          0.308784   \n",
       "min           0.000000         0.000000         0.000000          0.000000   \n",
       "25%           0.000000         0.000000         0.000000          0.000000   \n",
       "50%           0.000000         0.000000         0.000000          0.000000   \n",
       "75%           0.000000         0.000000         0.000000          0.000000   \n",
       "max           1.000000         1.000000         1.000000          1.000000   \n",
       "\n",
       "       poutcome_nonexistent  poutcome_success        target  \n",
       "count          15000.000000      15000.000000  15000.000000  \n",
       "mean               0.838400          0.054867      0.229867  \n",
       "std                0.368096          0.227727      0.420761  \n",
       "min                0.000000          0.000000      0.000000  \n",
       "25%                1.000000          0.000000      0.000000  \n",
       "50%                1.000000          0.000000      0.000000  \n",
       "75%                1.000000          0.000000      0.000000  \n",
       "max                1.000000          1.000000      1.000000  \n",
       "\n",
       "[8 rows x 52 columns]"
      ]
     },
     "execution_count": 6,
     "metadata": {},
     "output_type": "execute_result"
    }
   ],
   "source": [
    "#basic statistic details about the data\n",
    "data.describe(include=\"all\")"
   ]
  },
  {
   "cell_type": "code",
   "execution_count": 7,
   "metadata": {},
   "outputs": [],
   "source": [
    "#Separate X and y (explanatory variables and target variable)\n",
    "X = data.iloc[:,0:-1]\n",
    "column_names = list(X) \n",
    "y = data.iloc[:,-1] \n",
    "\n",
    "#X.head()\n",
    "#y.head()"
   ]
  },
  {
   "cell_type": "code",
   "execution_count": 8,
   "metadata": {},
   "outputs": [
    {
     "name": "stdout",
     "output_type": "stream",
     "text": [
      "(10500, 51)\n"
     ]
    }
   ],
   "source": [
    "from sklearn.model_selection import train_test_split\n",
    "\n",
    "#SPLIT DATA INTO TRAIN AND TEST SET\n",
    "X_train, X_test, y_train, y_test = train_test_split(X, y,  #X_scaled\n",
    "                                                    test_size =0.30, #by default is 75%-25%\n",
    "                                                    #shuffle is set True by default,\n",
    "                                                    stratify=y,\n",
    "                                                    random_state= 123) #fix random seed for replicability\n",
    "\n",
    "print(X_train.shape)"
   ]
  },
  {
   "cell_type": "markdown",
   "metadata": {},
   "source": [
    "## SVM"
   ]
  },
  {
   "cell_type": "markdown",
   "metadata": {},
   "source": [
    "![SVM](SVM.png)\n",
    "\n",
    "We aim to resolve the following optimization problem:\n",
    "\n",
    "\\begin{align}\\begin{aligned}\\min_ {w, b, d} \\frac{1}{2} ||w||^2 + C \\sum_{i=1}^{m} d_i\\\\\\begin{split}\\textrm {subject to } & y_i (w^T \\phi (x_i) - b) \\geq 1 - d_i,\\\\\n",
    "& d_i \\geq 0\\end{split}\\end{aligned}\\end{align}\n",
    "\n",
    "where $\\phi$ is the kernel map that can be chosen as \n",
    " - linear: $\\langle x, x'\\rangle$\n",
    " - polynomial: $(\\gamma \\langle x, x'\\rangle + r)^d$ where $\\gamma,\\, d ,\\, r$ are specified by keyword gamma, degree and coef0 respectively.\n",
    " - radial basis function rbf: $\\exp(-\\gamma \\|x-x'\\|^2)$\n",
    " - neural networks (sigmoid): $\\tanh(\\gamma \\langle x,x'\\rangle + r)$"
   ]
  },
  {
   "cell_type": "code",
   "execution_count": 9,
   "metadata": {},
   "outputs": [],
   "source": [
    "from sklearn.svm import SVC\n",
    "\n",
    "model = SVC(kernel='linear',C=1, class_weight=\"balanced\")\n",
    "\n",
    "\n",
    "# C : Penalty parameter C of the error term.\n",
    "# kernel : kernel type. It must be one of ‘linear’, ‘poly’, ‘rbf’, ‘sigmoid’, ‘precomputed’ or a callable. If none is given, ‘rbf’ will be used. If a callable is given it is used to pre-compute the kernel matrix from data matrices; that matrix should be an array of shape (n_samples, n_samples).\n",
    "# degree : Degree of the polynomial kernel function (‘poly’)\n",
    "# gamma : Kernel coefficient for ‘rbf’, ‘poly’ and ‘sigmoid’.\n",
    "# coef0 : Independent term in kernel function.\n",
    "# tol : Tolerance for stopping criterion.\n",
    "# class_weight : Set the parameter C of class i to class_weight[i]*C for SVC."
   ]
  },
  {
   "cell_type": "code",
   "execution_count": 10,
   "metadata": {},
   "outputs": [
    {
     "data": {
      "text/plain": [
       "array([0, 0, 0, ..., 0, 1, 1])"
      ]
     },
     "execution_count": 10,
     "metadata": {},
     "output_type": "execute_result"
    }
   ],
   "source": [
    "model.fit(X_train, y_train)\n",
    "model.predict(X_test)"
   ]
  },
  {
   "cell_type": "code",
   "execution_count": 11,
   "metadata": {},
   "outputs": [],
   "source": [
    "#DEFINE YOUR CLASSIFIER and THE PARAMETERS GRID\n",
    "from sklearn.svm import SVC\n",
    "\n",
    "classifier = SVC()\n",
    "parameters = {\"kernel\":['linear'], \"C\":[0.1,100],\"gamma\":[1]}"
   ]
  },
  {
   "cell_type": "code",
   "execution_count": 12,
   "metadata": {},
   "outputs": [],
   "source": [
    "#DEFINE YOUR GRIDSEARCH \n",
    "'''\n",
    "GS perfoms an exhaustive search over specified parameter values for an estimator.\n",
    "GS uses a Stratified K-Folds cross-validator\n",
    "(The folds are made by preserving the percentage of samples for each class.)\n",
    "If refit=True the model is retrained on the whole training set with the best found params\n",
    "'''\n",
    "from sklearn.model_selection import GridSearchCV\n",
    "gs = GridSearchCV(classifier, parameters, cv=3, scoring = 'accuracy', verbose=50, n_jobs=-1, refit=True)"
   ]
  },
  {
   "cell_type": "code",
   "execution_count": 13,
   "metadata": {},
   "outputs": [
    {
     "name": "stdout",
     "output_type": "stream",
     "text": [
      "Fitting 3 folds for each of 2 candidates, totalling 6 fits\n",
      "[Parallel(n_jobs=-1)]: Using backend LokyBackend with 8 concurrent workers.\n",
      "[Parallel(n_jobs=-1)]: Done   1 tasks      | elapsed:    2.7s\n",
      "[Parallel(n_jobs=-1)]: Done   2 out of   6 | elapsed:    2.7s remaining:    5.4s\n",
      "[Parallel(n_jobs=-1)]: Done   3 out of   6 | elapsed:    3.3s remaining:    3.3s\n",
      "[Parallel(n_jobs=-1)]: Done   4 out of   6 | elapsed:   28.7s remaining:   14.4s\n",
      "[Parallel(n_jobs=-1)]: Done   6 out of   6 | elapsed:   31.5s remaining:    0.0s\n",
      "[Parallel(n_jobs=-1)]: Done   6 out of   6 | elapsed:   31.5s finished\n"
     ]
    }
   ],
   "source": [
    "#TRAIN YOUR CLASSIFIER\n",
    "gs = gs.fit(X_train, y_train)"
   ]
  },
  {
   "cell_type": "code",
   "execution_count": 14,
   "metadata": {},
   "outputs": [
    {
     "name": "stdout",
     "output_type": "stream",
     "text": [
      "***GRIDSEARCH RESULTS***\n",
      "Best score: 0.873905 using {'C': 0.1, 'gamma': 1, 'kernel': 'linear'}\n",
      "0.873905 (0.004234) with: {'C': 0.1, 'gamma': 1, 'kernel': 'linear'}\n",
      "0.872571 (0.002333) with: {'C': 100, 'gamma': 1, 'kernel': 'linear'}\n"
     ]
    }
   ],
   "source": [
    "#summarize the results of your GRIDSEARCH\n",
    "print('***GRIDSEARCH RESULTS***')\n",
    "\n",
    "print(\"Best score: %f using %s\" % (gs.best_score_, gs.best_params_))\n",
    "means = gs.cv_results_['mean_test_score']\n",
    "stds = gs.cv_results_['std_test_score']\n",
    "params = gs.cv_results_['params']\n",
    "\n",
    "for mean, stdev, param in zip(means, stds, params):\n",
    "    print(\"%f (%f) with: %r\" % (mean, stdev, param))"
   ]
  },
  {
   "cell_type": "code",
   "execution_count": 15,
   "metadata": {},
   "outputs": [],
   "source": [
    "#TEST ON YOUR TEST SET \n",
    "best_model = gs.best_estimator_\n",
    "y_pred = best_model.predict(X_test)"
   ]
  },
  {
   "cell_type": "code",
   "execution_count": 16,
   "metadata": {},
   "outputs": [],
   "source": [
    "#This is your prediction on the TEST SET\n",
    "#y_pred"
   ]
  },
  {
   "cell_type": "code",
   "execution_count": 17,
   "metadata": {},
   "outputs": [
    {
     "name": "stdout",
     "output_type": "stream",
     "text": [
      "***RESULTS ON TEST SET***\n",
      "f1_score:  0.696149843912591\n"
     ]
    }
   ],
   "source": [
    "#EVALUATE YOUR PREDICTION (on the y_test that you left aside)\n",
    "from sklearn.metrics import f1_score\n",
    "print('***RESULTS ON TEST SET***')\n",
    "print(\"f1_score: \", f1_score(y_test, y_pred))"
   ]
  },
  {
   "cell_type": "code",
   "execution_count": 18,
   "metadata": {},
   "outputs": [
    {
     "name": "stdout",
     "output_type": "stream",
     "text": [
      "              precision    recall  f1-score   support\n",
      "\n",
      "           0       0.90      0.94      0.92      3466\n",
      "           1       0.75      0.65      0.70      1034\n",
      "\n",
      "    accuracy                           0.87      4500\n",
      "   macro avg       0.83      0.79      0.81      4500\n",
      "weighted avg       0.87      0.87      0.87      4500\n",
      "\n"
     ]
    }
   ],
   "source": [
    "#PRINT SOME FURTHER METRICS\n",
    "from sklearn.metrics import classification_report\n",
    "print(classification_report(y_test, y_pred))"
   ]
  },
  {
   "cell_type": "code",
   "execution_count": 19,
   "metadata": {},
   "outputs": [
    {
     "name": "stdout",
     "output_type": "stream",
     "text": [
      "[[3247  219]\n",
      " [ 365  669]]\n"
     ]
    }
   ],
   "source": [
    "#CONFUSION MATRIX\n",
    "from sklearn.metrics import confusion_matrix\n",
    "print(confusion_matrix(y_test, y_pred))"
   ]
  },
  {
   "cell_type": "code",
   "execution_count": 20,
   "metadata": {},
   "outputs": [
    {
     "data": {
      "image/png": "[encoded data removed]",
      "text/plain": [
       "<Figure size 432x288 with 2 Axes>"
      ]
     },
     "metadata": {},
     "output_type": "display_data"
    }
   ],
   "source": [
    "# Plot confusion matrix\n",
    "sns.heatmap(confusion_matrix(y_test, y_pred), annot=True, fmt='d', cmap=\"Blues\"); #annot=True to annotate cells fmt: format\n"
   ]
  },
  {
   "cell_type": "code",
   "execution_count": 21,
   "metadata": {},
   "outputs": [
    {
     "data": {
      "image/png": "[encoded data removed]",
      "text/plain": [
       "<Figure size 432x288 with 1 Axes>"
      ]
     },
     "metadata": {},
     "output_type": "display_data"
    },
    {
     "name": "stdout",
     "output_type": "stream",
     "text": [
      "AUC: 0.93\n"
     ]
    }
   ],
   "source": [
    "from sklearn import metrics\n",
    "\n",
    "model = SVC(C=0.1, gamma=0.0001, kernel='linear',probability=True)\n",
    "\n",
    "model.fit(X_train, y_train)\n",
    "y_pred = model.predict(X_test)\n",
    "\n",
    "y_probs = model.predict_proba(X_test) #predict_proba gives the probabilities for the target (0 and 1 in your case) \n",
    "\n",
    "fpr, tpr, thresholds=metrics.roc_curve(y_test,  y_probs[:,1])\n",
    "\n",
    "import matplotlib.pyplot as plt\n",
    "plt.plot(fpr, tpr, label='ROC')\n",
    "plt.plot([0, 1], [0, 1], color='darkblue', linestyle='--')\n",
    "plt.xlabel('False Positive Rate')\n",
    "plt.ylabel('True Positive Rate')\n",
    "plt.title('Receiver Operating Characteristic (ROC) Curve')\n",
    "plt.legend()\n",
    "plt.show()\n",
    "\n",
    "auc = metrics.roc_auc_score(y_test, y_probs[:,1])\n",
    "print('AUC: %.2f' % auc)"
   ]
  },
  {
   "cell_type": "code",
   "execution_count": null,
   "metadata": {},
   "outputs": [],
   "source": []
  },
  {
   "cell_type": "code",
   "execution_count": null,
   "metadata": {},
   "outputs": [],
   "source": []
  }
 ],
 "metadata": {
  "kernelspec": {
   "display_name": "Python 3",
   "language": "python",
   "name": "python3"
  },
  "language_info": {
   "codemirror_mode": {
    "name": "ipython",
    "version": 3
   },
   "file_extension": ".py",
   "mimetype": "text/x-python",
   "name": "python",
   "nbconvert_exporter": "python",
   "pygments_lexer": "ipython3",
   "version": "3.7.6"
  }
 },
 "nbformat": 4,
 "nbformat_minor": 2
}
