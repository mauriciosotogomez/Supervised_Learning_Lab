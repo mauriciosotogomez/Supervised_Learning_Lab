{
 "cells": [
  {
   "cell_type": "markdown",
   "metadata": {},
   "source": [
    "# Multi-layer Perceptron Regression\n",
    "\n",
    "Class MLPRegressor implements a multi-layer perceptron (MLP) that trains using backpropagation with no activation function in the output layer, which can also be seen as using the identity function as activation function. Therefore, it uses the square error as the loss function, and the output is a set of continuous values."
   ]
  },
  {
   "cell_type": "code",
   "execution_count": 1,
   "metadata": {
    "scrolled": false
   },
   "outputs": [
    {
     "name": "stdout",
     "output_type": "stream",
     "text": [
      "Fitting 3 folds for each of 4 candidates, totalling 12 fits\n",
      "[CV] alpha=0.1, batch_size=20, hidden_layer_sizes=(10, 5), learning_rate=constant, max_iter=1000, solver=sgd \n"
     ]
    },
    {
     "name": "stderr",
     "output_type": "stream",
     "text": [
      "[Parallel(n_jobs=1)]: Using backend SequentialBackend with 1 concurrent workers.\n"
     ]
    },
    {
     "name": "stdout",
     "output_type": "stream",
     "text": [
      "[CV]  alpha=0.1, batch_size=20, hidden_layer_sizes=(10, 5), learning_rate=constant, max_iter=1000, solver=sgd, score=0.783, total=   0.5s\n",
      "[CV] alpha=0.1, batch_size=20, hidden_layer_sizes=(10, 5), learning_rate=constant, max_iter=1000, solver=sgd \n"
     ]
    },
    {
     "name": "stderr",
     "output_type": "stream",
     "text": [
      "[Parallel(n_jobs=1)]: Done   1 out of   1 | elapsed:    0.5s remaining:    0.0s\n"
     ]
    },
    {
     "name": "stdout",
     "output_type": "stream",
     "text": [
      "[CV]  alpha=0.1, batch_size=20, hidden_layer_sizes=(10, 5), learning_rate=constant, max_iter=1000, solver=sgd, score=0.847, total=   0.6s\n",
      "[CV] alpha=0.1, batch_size=20, hidden_layer_sizes=(10, 5), learning_rate=constant, max_iter=1000, solver=sgd \n"
     ]
    },
    {
     "name": "stderr",
     "output_type": "stream",
     "text": [
      "[Parallel(n_jobs=1)]: Done   2 out of   2 | elapsed:    1.0s remaining:    0.0s\n"
     ]
    },
    {
     "name": "stdout",
     "output_type": "stream",
     "text": [
      "[CV]  alpha=0.1, batch_size=20, hidden_layer_sizes=(10, 5), learning_rate=constant, max_iter=1000, solver=sgd, score=0.848, total=   0.7s\n",
      "[CV] alpha=0.1, batch_size=20, hidden_layer_sizes=(20, 10, 5), learning_rate=constant, max_iter=1000, solver=sgd \n"
     ]
    },
    {
     "name": "stderr",
     "output_type": "stream",
     "text": [
      "[Parallel(n_jobs=1)]: Done   3 out of   3 | elapsed:    1.8s remaining:    0.0s\n"
     ]
    },
    {
     "name": "stdout",
     "output_type": "stream",
     "text": [
      "[CV]  alpha=0.1, batch_size=20, hidden_layer_sizes=(20, 10, 5), learning_rate=constant, max_iter=1000, solver=sgd, score=0.815, total=   1.0s\n",
      "[CV] alpha=0.1, batch_size=20, hidden_layer_sizes=(20, 10, 5), learning_rate=constant, max_iter=1000, solver=sgd \n"
     ]
    },
    {
     "name": "stderr",
     "output_type": "stream",
     "text": [
      "[Parallel(n_jobs=1)]: Done   4 out of   4 | elapsed:    2.8s remaining:    0.0s\n"
     ]
    },
    {
     "name": "stdout",
     "output_type": "stream",
     "text": [
      "[CV]  alpha=0.1, batch_size=20, hidden_layer_sizes=(20, 10, 5), learning_rate=constant, max_iter=1000, solver=sgd, score=0.810, total=   1.1s\n",
      "[CV] alpha=0.1, batch_size=20, hidden_layer_sizes=(20, 10, 5), learning_rate=constant, max_iter=1000, solver=sgd \n"
     ]
    },
    {
     "name": "stderr",
     "output_type": "stream",
     "text": [
      "[Parallel(n_jobs=1)]: Done   5 out of   5 | elapsed:    3.9s remaining:    0.0s\n"
     ]
    },
    {
     "name": "stdout",
     "output_type": "stream",
     "text": [
      "[CV]  alpha=0.1, batch_size=20, hidden_layer_sizes=(20, 10, 5), learning_rate=constant, max_iter=1000, solver=sgd, score=0.838, total=   1.0s\n",
      "[CV] alpha=0.01, batch_size=20, hidden_layer_sizes=(10, 5), learning_rate=constant, max_iter=1000, solver=sgd \n"
     ]
    },
    {
     "name": "stderr",
     "output_type": "stream",
     "text": [
      "[Parallel(n_jobs=1)]: Done   6 out of   6 | elapsed:    4.9s remaining:    0.0s\n"
     ]
    },
    {
     "name": "stdout",
     "output_type": "stream",
     "text": [
      "[CV]  alpha=0.01, batch_size=20, hidden_layer_sizes=(10, 5), learning_rate=constant, max_iter=1000, solver=sgd, score=0.781, total=   0.4s\n",
      "[CV] alpha=0.01, batch_size=20, hidden_layer_sizes=(10, 5), learning_rate=constant, max_iter=1000, solver=sgd \n"
     ]
    },
    {
     "name": "stderr",
     "output_type": "stream",
     "text": [
      "[Parallel(n_jobs=1)]: Done   7 out of   7 | elapsed:    5.3s remaining:    0.0s\n"
     ]
    },
    {
     "name": "stdout",
     "output_type": "stream",
     "text": [
      "[CV]  alpha=0.01, batch_size=20, hidden_layer_sizes=(10, 5), learning_rate=constant, max_iter=1000, solver=sgd, score=0.874, total=   0.8s\n",
      "[CV] alpha=0.01, batch_size=20, hidden_layer_sizes=(10, 5), learning_rate=constant, max_iter=1000, solver=sgd \n"
     ]
    },
    {
     "name": "stderr",
     "output_type": "stream",
     "text": [
      "[Parallel(n_jobs=1)]: Done   8 out of   8 | elapsed:    6.1s remaining:    0.0s\n"
     ]
    },
    {
     "name": "stdout",
     "output_type": "stream",
     "text": [
      "[CV]  alpha=0.01, batch_size=20, hidden_layer_sizes=(10, 5), learning_rate=constant, max_iter=1000, solver=sgd, score=0.827, total=   0.6s\n",
      "[CV] alpha=0.01, batch_size=20, hidden_layer_sizes=(20, 10, 5), learning_rate=constant, max_iter=1000, solver=sgd \n"
     ]
    },
    {
     "name": "stderr",
     "output_type": "stream",
     "text": [
      "[Parallel(n_jobs=1)]: Done   9 out of   9 | elapsed:    6.7s remaining:    0.0s\n"
     ]
    },
    {
     "name": "stdout",
     "output_type": "stream",
     "text": [
      "[CV]  alpha=0.01, batch_size=20, hidden_layer_sizes=(20, 10, 5), learning_rate=constant, max_iter=1000, solver=sgd, score=0.834, total=   1.2s\n",
      "[CV] alpha=0.01, batch_size=20, hidden_layer_sizes=(20, 10, 5), learning_rate=constant, max_iter=1000, solver=sgd \n",
      "[CV]  alpha=0.01, batch_size=20, hidden_layer_sizes=(20, 10, 5), learning_rate=constant, max_iter=1000, solver=sgd, score=0.808, total=   0.7s\n",
      "[CV] alpha=0.01, batch_size=20, hidden_layer_sizes=(20, 10, 5), learning_rate=constant, max_iter=1000, solver=sgd \n",
      "[CV]  alpha=0.01, batch_size=20, hidden_layer_sizes=(20, 10, 5), learning_rate=constant, max_iter=1000, solver=sgd, score=0.835, total=   1.0s\n"
     ]
    },
    {
     "name": "stderr",
     "output_type": "stream",
     "text": [
      "[Parallel(n_jobs=1)]: Done  12 out of  12 | elapsed:    9.6s finished\n"
     ]
    },
    {
     "name": "stdout",
     "output_type": "stream",
     "text": [
      "***GRIDSEARCH RESULTS***\n",
      "Best score: 0.827271 using {'alpha': 0.01, 'batch_size': 20, 'hidden_layer_sizes': (10, 5), 'learning_rate': 'constant', 'max_iter': 1000, 'solver': 'sgd'}\n",
      "0.825714 (0.030512) with: {'alpha': 0.1, 'batch_size': 20, 'hidden_layer_sizes': (10, 5), 'learning_rate': 'constant', 'max_iter': 1000, 'solver': 'sgd'}\n",
      "0.820606 (0.012183) with: {'alpha': 0.1, 'batch_size': 20, 'hidden_layer_sizes': (20, 10, 5), 'learning_rate': 'constant', 'max_iter': 1000, 'solver': 'sgd'}\n",
      "0.827271 (0.037871) with: {'alpha': 0.01, 'batch_size': 20, 'hidden_layer_sizes': (10, 5), 'learning_rate': 'constant', 'max_iter': 1000, 'solver': 'sgd'}\n",
      "0.825898 (0.012530) with: {'alpha': 0.01, 'batch_size': 20, 'hidden_layer_sizes': (20, 10, 5), 'learning_rate': 'constant', 'max_iter': 1000, 'solver': 'sgd'}\n"
     ]
    },
    {
     "data": {
      "text/plain": [
       "0.8269113226216246"
      ]
     },
     "execution_count": 1,
     "metadata": {},
     "output_type": "execute_result"
    }
   ],
   "source": [
    "#Boston Housing Dataset: Load the boston dataset.\n",
    "from sklearn.datasets import load_boston\n",
    "boston = load_boston()\n",
    "\n",
    "#Creating feature and target arrays\n",
    "X, y = boston.data, boston.target\n",
    "columns = boston.feature_names\n",
    "\n",
    "from sklearn.preprocessing import StandardScaler\n",
    "scaler = StandardScaler(copy=False).fit(X)\n",
    "scaler.transform(X)\n",
    "\n",
    "'''\n",
    "Multi-layer Perceptron is sensitive to feature scaling, so it is highly recommended to scale your data. \n",
    "For example, scale each attribute on the input vector X to [0, 1] or [-1, +1], \n",
    "or standardize it to have mean 0 and variance 1. Note that you must apply the same scaling \n",
    "to the test set for meaningful results. You can use StandardScaler for standardization.\n",
    "'''\n",
    "\n",
    "from sklearn.model_selection import train_test_split\n",
    "\n",
    "X_train, X_test, y_train, y_test = train_test_split(X,y,\n",
    "                                                    test_size=0.3,\n",
    "                                                    random_state=42)\n",
    "\n",
    "#DEFINE YOUR REGRESSOR and THE PARAMETERS GRID\n",
    "from sklearn.neural_network import MLPRegressor\n",
    "import numpy as np\n",
    "\n",
    "regressor = MLPRegressor(random_state=0)\n",
    "parameters = {'hidden_layer_sizes': [(10, 5), (20,10,5)],\n",
    "              'solver' : ['sgd'],\n",
    "              'batch_size': [20],\n",
    "              'learning_rate' : ['constant'],\n",
    "              'alpha':10.0 ** -np.arange(1, 3),\n",
    "              'max_iter':[1000]}\n",
    "\n",
    "#DEFINE YOUR GRIDSEARCH \n",
    "from sklearn.model_selection import GridSearchCV\n",
    "gs = GridSearchCV(regressor, parameters, cv=3, verbose = 10) #with no params it reduces to a CV\n",
    "\n",
    "gs = gs.fit(X_train,y_train)\n",
    "\n",
    "#summarize the results of your GRIDSEARCH\n",
    "print('***GRIDSEARCH RESULTS***')\n",
    "print(\"Best score: %f using %s\" % (gs.best_score_, gs.best_params_))\n",
    "means = gs.cv_results_['mean_test_score']\n",
    "stds = gs.cv_results_['std_test_score']\n",
    "params = gs.cv_results_['params']\n",
    "for mean, stdev, param in zip(means, stds, params):\n",
    "    print(\"%f (%f) with: %r\" % (mean, stdev, param))\n",
    "\n",
    "#Returns the coefficient of determination R^2 of the prediction.\n",
    "#Explained variance score: 1 is perfect prediction\n",
    "gs.score(X_test, y_test)"
   ]
  },
  {
   "cell_type": "code",
   "execution_count": 2,
   "metadata": {},
   "outputs": [
    {
     "data": {
      "image/png": "[encoded data removed]",
      "text/plain": [
       "<Figure size 432x288 with 1 Axes>"
      ]
     },
     "metadata": {
      "needs_background": "light"
     },
     "output_type": "display_data"
    }
   ],
   "source": [
    "%matplotlib inline\n",
    "import matplotlib.pyplot as plt\n",
    "plt.scatter(gs.predict(X_train),gs.predict(X_train)-y_train, c=\"b\", label=\"training data\")\n",
    "plt.scatter(gs.predict(X_test),gs.predict(X_test)-y_test, c=\"g\", label=\"test data\")\n",
    "plt.xlabel(\"Predicted Values\")\n",
    "plt.ylabel(\"Residuals\")\n",
    "plt.legend(loc=\"upper left\")\n",
    "plt.hlines(y=0, xmin=-10, xmax=50, color=\"r\")\n",
    "plt.xlim([-10,50])\n",
    "plt.show()"
   ]
  },
  {
   "cell_type": "code",
   "execution_count": 3,
   "metadata": {},
   "outputs": [
    {
     "name": "stdout",
     "output_type": "stream",
     "text": [
      "MAE train:  1.5642503690041567\n",
      "MSE train:  4.151075783672852\n",
      "RMSE train:  2.0374189023548523\n",
      "r2:  0.9761009962354855\n",
      "MAE test:  2.435449368359512\n",
      "MSE test:  12.897373159210598\n",
      "RMSE test:  3.591291294118398\n",
      "r2:  0.9093466460165917\n"
     ]
    }
   ],
   "source": [
    "from sklearn import metrics\n",
    "\n",
    "print(\"MAE train: \", metrics.mean_absolute_error(y_train, gs.predict(X_train))) \n",
    "print(\"MSE train: \",metrics.mean_squared_error(y_train, gs.predict(X_train)))\n",
    "print(\"RMSE train: \",np.sqrt(metrics.mean_squared_error(y_train, gs.predict(X_train))))\n",
    "print(\"r2: \",np.sqrt(metrics.r2_score(y_train, gs.predict(X_train))))\n",
    "\n",
    "print(\"MAE test: \", metrics.mean_absolute_error(y_test, gs.predict(X_test))) \n",
    "print(\"MSE test: \",metrics.mean_squared_error(y_test, gs.predict(X_test)))\n",
    "print(\"RMSE test: \",np.sqrt(metrics.mean_squared_error(y_test, gs.predict(X_test))))\n",
    "print(\"r2: \",np.sqrt(metrics.r2_score(y_test, gs.predict(X_test))))"
   ]
  },
  {
   "cell_type": "code",
   "execution_count": 7,
   "metadata": {},
   "outputs": [],
   "source": [
    "import numpy as np\n",
    "from sklearn.model_selection import train_test_split\n",
    "from sklearn.neural_network import MLPRegressor\n",
    "from sklearn.preprocessing import StandardScaler\n",
    "from sklearn import metrics\n",
    "\n",
    "scaler = StandardScaler(copy=False).fit(X)\n",
    "scaler.transform(X)\n",
    "\n",
    "X_train, X_test, y_train, y_test = train_test_split(X,y)\n",
    "\n",
    "regressor = MLPRegressor(hidden_layer_sizes= (15,5), \n",
    "                         alpha= 0.01,\n",
    "                         max_iter = 5000)\n",
    "\n",
    "regressor.fit(X_train,y_train)\n",
    "y_train_pred=regressor.predict(X_train)\n",
    "y_pred=regressor.predict(X_test)\n"
   ]
  },
  {
   "cell_type": "code",
   "execution_count": 8,
   "metadata": {},
   "outputs": [
    {
     "name": "stdout",
     "output_type": "stream",
     "text": [
      "MAE train:  1.5317278094129982\n",
      "MSE train:  4.052327786221732\n",
      "RMSE train:  2.0130394398078075\n",
      "r2:  0.9753138538198755\n",
      "MAE test:  2.323556610115393\n",
      "MSE test:  12.762716306817106\n",
      "RMSE test:  3.5724944096271316\n",
      "r2:  0.9242897956933346\n"
     ]
    }
   ],
   "source": [
    "from sklearn import metrics\n",
    "\n",
    "print(\"MAE train: \", metrics.mean_absolute_error(y_train, y_train_pred)) \n",
    "print(\"MSE train: \",metrics.mean_squared_error(y_train, y_train_pred))\n",
    "print(\"RMSE train: \",np.sqrt(metrics.mean_squared_error(y_train, y_train_pred)))\n",
    "print(\"r2: \",np.sqrt(metrics.r2_score(y_train, y_train_pred)))\n",
    "\n",
    "print(\"MAE test: \", metrics.mean_absolute_error(y_test,y_pred)) \n",
    "print(\"MSE test: \",metrics.mean_squared_error(y_test, y_pred))\n",
    "print(\"RMSE test: \",np.sqrt(metrics.mean_squared_error(y_test, y_pred)))\n",
    "print(\"r2: \",np.sqrt(metrics.r2_score(y_test, y_pred)))"
   ]
  },
  {
   "cell_type": "code",
   "execution_count": null,
   "metadata": {},
   "outputs": [],
   "source": []
  },
  {
   "cell_type": "code",
   "execution_count": null,
   "metadata": {},
   "outputs": [],
   "source": []
  },
  {
   "cell_type": "code",
   "execution_count": null,
   "metadata": {},
   "outputs": [],
   "source": []
  }
 ],
 "metadata": {
  "kernelspec": {
   "display_name": "Python 3",
   "language": "python",
   "name": "python3"
  },
  "language_info": {
   "codemirror_mode": {
    "name": "ipython",
    "version": 3
   },
   "file_extension": ".py",
   "mimetype": "text/x-python",
   "name": "python",
   "nbconvert_exporter": "python",
   "pygments_lexer": "ipython3",
   "version": "3.7.6"
  }
 },
 "nbformat": 4,
 "nbformat_minor": 2
}
