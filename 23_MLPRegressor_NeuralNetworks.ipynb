{
 "cells": [
  {
   "cell_type": "markdown",
   "metadata": {},
   "source": [
    "# Multi-layer Perceptron Regression\n",
    "\n",
    "Class MLPRegressor implements a multi-layer perceptron (MLP) that trains using backpropagation with no activation function in the output layer, which can also be seen as using the identity function as activation function. Therefore, it uses the square error as the loss function, and the output is a set of continuous values."
   ]
  },
  {
   "cell_type": "code",
   "execution_count": 14,
   "metadata": {
    "scrolled": false
   },
   "outputs": [
    {
     "name": "stdout",
     "output_type": "stream",
     "text": [
      "Fitting 3 folds for each of 2 candidates, totalling 6 fits\n",
      "[CV] alpha=0.1, batch_size=128, hidden_layer_sizes=(10, 5), learning_rate=constant, max_iter=50, solver=sgd \n",
      "[CV]  alpha=0.1, batch_size=128, hidden_layer_sizes=(10, 5), learning_rate=constant, max_iter=50, solver=sgd, score=0.722, total=   0.0s\n",
      "[CV] alpha=0.1, batch_size=128, hidden_layer_sizes=(10, 5), learning_rate=constant, max_iter=50, solver=sgd \n",
      "[CV]  alpha=0.1, batch_size=128, hidden_layer_sizes=(10, 5), learning_rate=constant, max_iter=50, solver=sgd, score=0.870, total=   0.0s\n",
      "[CV] alpha=0.1, batch_size=128, hidden_layer_sizes=(10, 5), learning_rate=constant, max_iter=50, solver=sgd \n",
      "[CV]  alpha=0.1, batch_size=128, hidden_layer_sizes=(10, 5), learning_rate=constant, max_iter=50, solver=sgd, score=0.791, total=   0.0s\n",
      "[CV] alpha=0.01, batch_size=128, hidden_layer_sizes=(10, 5), learning_rate=constant, max_iter=50, solver=sgd \n",
      "[CV]  alpha=0.01, batch_size=128, hidden_layer_sizes=(10, 5), learning_rate=constant, max_iter=50, solver=sgd, score=0.722, total=   0.0s\n",
      "[CV] alpha=0.01, batch_size=128, hidden_layer_sizes=(10, 5), learning_rate=constant, max_iter=50, solver=sgd \n",
      "[CV]  alpha=0.01, batch_size=128, hidden_layer_sizes=(10, 5), learning_rate=constant, max_iter=50, solver=sgd, score=0.870, total=   0.0s\n",
      "[CV] alpha=0.01, batch_size=128, hidden_layer_sizes=(10, 5), learning_rate=constant, max_iter=50, solver=sgd \n"
     ]
    },
    {
     "name": "stderr",
     "output_type": "stream",
     "text": [
      "[Parallel(n_jobs=1)]: Using backend SequentialBackend with 1 concurrent workers.\n",
      "/home/mausoto/anaconda3/lib/python3.7/site-packages/sklearn/neural_network/_multilayer_perceptron.py:571: ConvergenceWarning: Stochastic Optimizer: Maximum iterations (50) reached and the optimization hasn't converged yet.\n",
      "  % self.max_iter, ConvergenceWarning)\n",
      "[Parallel(n_jobs=1)]: Done   1 out of   1 | elapsed:    0.0s remaining:    0.0s\n",
      "/home/mausoto/anaconda3/lib/python3.7/site-packages/sklearn/neural_network/_multilayer_perceptron.py:571: ConvergenceWarning: Stochastic Optimizer: Maximum iterations (50) reached and the optimization hasn't converged yet.\n",
      "  % self.max_iter, ConvergenceWarning)\n",
      "[Parallel(n_jobs=1)]: Done   2 out of   2 | elapsed:    0.1s remaining:    0.0s\n",
      "/home/mausoto/anaconda3/lib/python3.7/site-packages/sklearn/neural_network/_multilayer_perceptron.py:571: ConvergenceWarning: Stochastic Optimizer: Maximum iterations (50) reached and the optimization hasn't converged yet.\n",
      "  % self.max_iter, ConvergenceWarning)\n",
      "[Parallel(n_jobs=1)]: Done   3 out of   3 | elapsed:    0.1s remaining:    0.0s\n",
      "/home/mausoto/anaconda3/lib/python3.7/site-packages/sklearn/neural_network/_multilayer_perceptron.py:571: ConvergenceWarning: Stochastic Optimizer: Maximum iterations (50) reached and the optimization hasn't converged yet.\n",
      "  % self.max_iter, ConvergenceWarning)\n",
      "[Parallel(n_jobs=1)]: Done   4 out of   4 | elapsed:    0.1s remaining:    0.0s\n",
      "/home/mausoto/anaconda3/lib/python3.7/site-packages/sklearn/neural_network/_multilayer_perceptron.py:571: ConvergenceWarning: Stochastic Optimizer: Maximum iterations (50) reached and the optimization hasn't converged yet.\n",
      "  % self.max_iter, ConvergenceWarning)\n",
      "[Parallel(n_jobs=1)]: Done   5 out of   5 | elapsed:    0.2s remaining:    0.0s\n"
     ]
    },
    {
     "name": "stdout",
     "output_type": "stream",
     "text": [
      "[CV]  alpha=0.01, batch_size=128, hidden_layer_sizes=(10, 5), learning_rate=constant, max_iter=50, solver=sgd, score=0.791, total=   0.0s\n",
      "***GRIDSEARCH RESULTS***\n",
      "Best score: 0.794387 using {'alpha': 0.01, 'batch_size': 128, 'hidden_layer_sizes': (10, 5), 'learning_rate': 'constant', 'max_iter': 50, 'solver': 'sgd'}\n",
      "0.794321 (0.060487) with: {'alpha': 0.1, 'batch_size': 128, 'hidden_layer_sizes': (10, 5), 'learning_rate': 'constant', 'max_iter': 50, 'solver': 'sgd'}\n",
      "0.794387 (0.060479) with: {'alpha': 0.01, 'batch_size': 128, 'hidden_layer_sizes': (10, 5), 'learning_rate': 'constant', 'max_iter': 50, 'solver': 'sgd'}\n"
     ]
    },
    {
     "name": "stderr",
     "output_type": "stream",
     "text": [
      "/home/mausoto/anaconda3/lib/python3.7/site-packages/sklearn/neural_network/_multilayer_perceptron.py:571: ConvergenceWarning: Stochastic Optimizer: Maximum iterations (50) reached and the optimization hasn't converged yet.\n",
      "  % self.max_iter, ConvergenceWarning)\n",
      "[Parallel(n_jobs=1)]: Done   6 out of   6 | elapsed:    0.2s remaining:    0.0s\n",
      "[Parallel(n_jobs=1)]: Done   6 out of   6 | elapsed:    0.2s finished\n",
      "/home/mausoto/anaconda3/lib/python3.7/site-packages/sklearn/neural_network/_multilayer_perceptron.py:571: ConvergenceWarning: Stochastic Optimizer: Maximum iterations (50) reached and the optimization hasn't converged yet.\n",
      "  % self.max_iter, ConvergenceWarning)\n"
     ]
    },
    {
     "data": {
      "text/plain": [
       "0.8192614694854665"
      ]
     },
     "execution_count": 14,
     "metadata": {},
     "output_type": "execute_result"
    }
   ],
   "source": [
    "#Boston Housing Dataset: Load the boston dataset.\n",
    "from sklearn.datasets import load_boston\n",
    "boston = load_boston()\n",
    "\n",
    "#Creating feature and target arrays\n",
    "X, y = boston.data, boston.target\n",
    "columns = boston.feature_names\n",
    "\n",
    "from sklearn.preprocessing import StandardScaler\n",
    "scaler = StandardScaler(copy=False).fit(X)\n",
    "scaler.transform(X)\n",
    "\n",
    "'''\n",
    "Multi-layer Perceptron is sensitive to feature scaling, so it is highly recommended to scale your data. \n",
    "For example, scale each attribute on the input vector X to [0, 1] or [-1, +1], \n",
    "or standardize it to have mean 0 and variance 1. Note that you must apply the same scaling \n",
    "to the test set for meaningful results. You can use StandardScaler for standardization.\n",
    "'''\n",
    "\n",
    "from sklearn.model_selection import train_test_split\n",
    "\n",
    "X_train, X_test, y_train, y_test = train_test_split(X,y,\n",
    "                                                    test_size=0.3,\n",
    "                                                    random_state=42)\n",
    "\n",
    "#DEFINE YOUR REGRESSOR and THE PARAMETERS GRID\n",
    "from sklearn.neural_network import MLPRegressor\n",
    "import numpy as np\n",
    "\n",
    "regressor = MLPRegressor(random_state=0)\n",
    "parameters = {'hidden_layer_sizes': [(10, 5)],\n",
    "              'solver' : ['sgd'],\n",
    "              'batch_size': [128],\n",
    "              'learning_rate' : ['constant'],\n",
    "              'alpha':10.0 ** -np.arange(1, 3),\n",
    "              'max_iter':[50]}\n",
    "\n",
    "#DEFINE YOUR GRIDSEARCH \n",
    "from sklearn.model_selection import GridSearchCV\n",
    "gs = GridSearchCV(regressor, parameters, cv=3, verbose = 10) #with no params it reduces to a CV\n",
    "\n",
    "gs = gs.fit(X_train,y_train)\n",
    "\n",
    "#summarize the results of your GRIDSEARCH\n",
    "print('***GRIDSEARCH RESULTS***')\n",
    "print(\"Best score: %f using %s\" % (gs.best_score_, gs.best_params_))\n",
    "means = gs.cv_results_['mean_test_score']\n",
    "stds = gs.cv_results_['std_test_score']\n",
    "params = gs.cv_results_['params']\n",
    "for mean, stdev, param in zip(means, stds, params):\n",
    "    print(\"%f (%f) with: %r\" % (mean, stdev, param))\n",
    "\n",
    "#Returns the coefficient of determination R^2 of the prediction.\n",
    "#Explained variance score: 1 is perfect prediction\n",
    "gs.score(X_test, y_test)"
   ]
  },
  {
   "cell_type": "code",
   "execution_count": 15,
   "metadata": {},
   "outputs": [
    {
     "data": {
      "image/png": "[encoded data removed]",
      "text/plain": [
       "<Figure size 432x288 with 1 Axes>"
      ]
     },
     "metadata": {
      "needs_background": "light"
     },
     "output_type": "display_data"
    }
   ],
   "source": [
    "%matplotlib inline\n",
    "import matplotlib.pyplot as plt\n",
    "plt.scatter(gs.predict(X_train),gs.predict(X_train)-y_train, c=\"b\", label=\"training data\")\n",
    "plt.scatter(gs.predict(X_test),gs.predict(X_test)-y_test, c=\"g\", label=\"test data\")\n",
    "plt.xlabel(\"Predicted Values\")\n",
    "plt.ylabel(\"Residuals\")\n",
    "plt.legend(loc=\"upper left\")\n",
    "plt.hlines(y=0, xmin=-10, xmax=50, color=\"r\")\n",
    "plt.xlim([-10,50])\n",
    "plt.show()"
   ]
  },
  {
   "cell_type": "code",
   "execution_count": 16,
   "metadata": {},
   "outputs": [
    {
     "name": "stdout",
     "output_type": "stream",
     "text": [
      "MAE train:  2.3379826989706527\n",
      "MSE train:  10.534712609965396\n",
      "RMSE train:  3.245722201600962\n",
      "r2:  0.938161197570336\n",
      "MAE test:  2.502929969199434\n",
      "MSE test:  13.467387397025286\n",
      "RMSE test:  3.6697939175143452\n",
      "r2:  0.9051306366958676\n"
     ]
    }
   ],
   "source": [
    "from sklearn import metrics\n",
    "\n",
    "print(\"MAE train: \", metrics.mean_absolute_error(y_train, gs.predict(X_train))) \n",
    "print(\"MSE train: \",metrics.mean_squared_error(y_train, gs.predict(X_train)))\n",
    "print(\"RMSE train: \",np.sqrt(metrics.mean_squared_error(y_train, gs.predict(X_train))))\n",
    "print(\"r2: \",np.sqrt(metrics.r2_score(y_train, gs.predict(X_train))))\n",
    "\n",
    "print(\"MAE test: \", metrics.mean_absolute_error(y_test, gs.predict(X_test))) \n",
    "print(\"MSE test: \",metrics.mean_squared_error(y_test, gs.predict(X_test)))\n",
    "print(\"RMSE test: \",np.sqrt(metrics.mean_squared_error(y_test, gs.predict(X_test))))\n",
    "print(\"r2: \",np.sqrt(metrics.r2_score(y_test, gs.predict(X_test))))"
   ]
  },
  {
   "cell_type": "code",
   "execution_count": null,
   "metadata": {},
   "outputs": [],
   "source": []
  },
  {
   "cell_type": "code",
   "execution_count": null,
   "metadata": {},
   "outputs": [],
   "source": []
  },
  {
   "cell_type": "code",
   "execution_count": null,
   "metadata": {},
   "outputs": [],
   "source": []
  },
  {
   "cell_type": "code",
   "execution_count": null,
   "metadata": {},
   "outputs": [],
   "source": []
  },
  {
   "cell_type": "code",
   "execution_count": null,
   "metadata": {},
   "outputs": [],
   "source": []
  }
 ],
 "metadata": {
  "kernelspec": {
   "display_name": "Python 3",
   "language": "python",
   "name": "python3"
  },
  "language_info": {
   "codemirror_mode": {
    "name": "ipython",
    "version": 3
   },
   "file_extension": ".py",
   "mimetype": "text/x-python",
   "name": "python",
   "nbconvert_exporter": "python",
   "pygments_lexer": "ipython3",
   "version": "3.7.6"
  }
 },
 "nbformat": 4,
 "nbformat_minor": 2
}
