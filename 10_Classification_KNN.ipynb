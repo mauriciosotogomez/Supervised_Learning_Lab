{
 "cells": [
  {
   "cell_type": "markdown",
   "metadata": {},
   "source": [
    "# Cassification: k-Nearest Neighbors"
   ]
  },
  {
   "cell_type": "markdown",
   "metadata": {},
   "source": [
    "## Data import"
   ]
  },
  {
   "cell_type": "code",
   "execution_count": 1,
   "metadata": {},
   "outputs": [],
   "source": [
    "import pandas as pd\n",
    "df = pd.read_csv('telemarketing_train_preprocess.csv')"
   ]
  },
  {
   "cell_type": "code",
   "execution_count": 2,
   "metadata": {},
   "outputs": [
    {
     "data": {
      "text/html": [
       "<div>\n",
       "<style scoped>\n",
       "    .dataframe tbody tr th:only-of-type {\n",
       "        vertical-align: middle;\n",
       "    }\n",
       "\n",
       "    .dataframe tbody tr th {\n",
       "        vertical-align: top;\n",
       "    }\n",
       "\n",
       "    .dataframe thead th {\n",
       "        text-align: right;\n",
       "    }\n",
       "</style>\n",
       "<table border=\"1\" class=\"dataframe\">\n",
       "  <thead>\n",
       "    <tr style=\"text-align: right;\">\n",
       "      <th></th>\n",
       "      <th>age</th>\n",
       "      <th>duration</th>\n",
       "      <th>campaign</th>\n",
       "      <th>pdays</th>\n",
       "      <th>previous</th>\n",
       "      <th>emp.var.rate</th>\n",
       "      <th>cons.price.idx</th>\n",
       "      <th>cons.conf.idx</th>\n",
       "      <th>euribor3m</th>\n",
       "      <th>nr.employed</th>\n",
       "      <th>...</th>\n",
       "      <th>month_sep</th>\n",
       "      <th>day_of_week_fri</th>\n",
       "      <th>day_of_week_mon</th>\n",
       "      <th>day_of_week_thu</th>\n",
       "      <th>day_of_week_tue</th>\n",
       "      <th>day_of_week_wed</th>\n",
       "      <th>poutcome_failure</th>\n",
       "      <th>poutcome_nonexistent</th>\n",
       "      <th>poutcome_success</th>\n",
       "      <th>target</th>\n",
       "    </tr>\n",
       "  </thead>\n",
       "  <tbody>\n",
       "    <tr>\n",
       "      <th>0</th>\n",
       "      <td>1.444850</td>\n",
       "      <td>-0.746982</td>\n",
       "      <td>-0.571300</td>\n",
       "      <td>-3.969061</td>\n",
       "      <td>1.366417</td>\n",
       "      <td>-1.706389</td>\n",
       "      <td>-2.254135</td>\n",
       "      <td>1.860592</td>\n",
       "      <td>-1.400757</td>\n",
       "      <td>-1.031304</td>\n",
       "      <td>...</td>\n",
       "      <td>0</td>\n",
       "      <td>0</td>\n",
       "      <td>0</td>\n",
       "      <td>0</td>\n",
       "      <td>0</td>\n",
       "      <td>1</td>\n",
       "      <td>0</td>\n",
       "      <td>0</td>\n",
       "      <td>1</td>\n",
       "      <td>1</td>\n",
       "    </tr>\n",
       "    <tr>\n",
       "      <th>1</th>\n",
       "      <td>1.082169</td>\n",
       "      <td>0.100012</td>\n",
       "      <td>-0.571300</td>\n",
       "      <td>0.252494</td>\n",
       "      <td>-0.378985</td>\n",
       "      <td>-1.706389</td>\n",
       "      <td>-0.979221</td>\n",
       "      <td>-0.075950</td>\n",
       "      <td>-1.187102</td>\n",
       "      <td>-1.031304</td>\n",
       "      <td>...</td>\n",
       "      <td>0</td>\n",
       "      <td>0</td>\n",
       "      <td>1</td>\n",
       "      <td>0</td>\n",
       "      <td>0</td>\n",
       "      <td>0</td>\n",
       "      <td>0</td>\n",
       "      <td>1</td>\n",
       "      <td>0</td>\n",
       "      <td>1</td>\n",
       "    </tr>\n",
       "    <tr>\n",
       "      <th>2</th>\n",
       "      <td>0.447476</td>\n",
       "      <td>-0.363501</td>\n",
       "      <td>0.974844</td>\n",
       "      <td>0.252494</td>\n",
       "      <td>-0.378985</td>\n",
       "      <td>0.910934</td>\n",
       "      <td>-0.174453</td>\n",
       "      <td>0.892321</td>\n",
       "      <td>0.854483</td>\n",
       "      <td>0.901546</td>\n",
       "      <td>...</td>\n",
       "      <td>0</td>\n",
       "      <td>0</td>\n",
       "      <td>0</td>\n",
       "      <td>0</td>\n",
       "      <td>0</td>\n",
       "      <td>1</td>\n",
       "      <td>0</td>\n",
       "      <td>1</td>\n",
       "      <td>0</td>\n",
       "      <td>0</td>\n",
       "    </tr>\n",
       "    <tr>\n",
       "      <th>3</th>\n",
       "      <td>-0.731238</td>\n",
       "      <td>-0.200104</td>\n",
       "      <td>-0.184764</td>\n",
       "      <td>0.252494</td>\n",
       "      <td>-0.378985</td>\n",
       "      <td>0.728330</td>\n",
       "      <td>0.745760</td>\n",
       "      <td>0.830517</td>\n",
       "      <td>0.795410</td>\n",
       "      <td>0.429467</td>\n",
       "      <td>...</td>\n",
       "      <td>0</td>\n",
       "      <td>0</td>\n",
       "      <td>0</td>\n",
       "      <td>0</td>\n",
       "      <td>1</td>\n",
       "      <td>0</td>\n",
       "      <td>0</td>\n",
       "      <td>1</td>\n",
       "      <td>0</td>\n",
       "      <td>0</td>\n",
       "    </tr>\n",
       "    <tr>\n",
       "      <th>4</th>\n",
       "      <td>-0.731238</td>\n",
       "      <td>2.884420</td>\n",
       "      <td>-0.184764</td>\n",
       "      <td>0.252494</td>\n",
       "      <td>-0.378985</td>\n",
       "      <td>-0.002086</td>\n",
       "      <td>-0.582693</td>\n",
       "      <td>-0.323168</td>\n",
       "      <td>0.333873</td>\n",
       "      <td>0.490545</td>\n",
       "      <td>...</td>\n",
       "      <td>0</td>\n",
       "      <td>1</td>\n",
       "      <td>0</td>\n",
       "      <td>0</td>\n",
       "      <td>0</td>\n",
       "      <td>0</td>\n",
       "      <td>0</td>\n",
       "      <td>1</td>\n",
       "      <td>0</td>\n",
       "      <td>0</td>\n",
       "    </tr>\n",
       "  </tbody>\n",
       "</table>\n",
       "<p>5 rows × 52 columns</p>\n",
       "</div>"
      ],
      "text/plain": [
       "        age  duration  campaign     pdays  previous  emp.var.rate  \\\n",
       "0  1.444850 -0.746982 -0.571300 -3.969061  1.366417     -1.706389   \n",
       "1  1.082169  0.100012 -0.571300  0.252494 -0.378985     -1.706389   \n",
       "2  0.447476 -0.363501  0.974844  0.252494 -0.378985      0.910934   \n",
       "3 -0.731238 -0.200104 -0.184764  0.252494 -0.378985      0.728330   \n",
       "4 -0.731238  2.884420 -0.184764  0.252494 -0.378985     -0.002086   \n",
       "\n",
       "   cons.price.idx  cons.conf.idx  euribor3m  nr.employed  ...  month_sep  \\\n",
       "0       -2.254135       1.860592  -1.400757    -1.031304  ...          0   \n",
       "1       -0.979221      -0.075950  -1.187102    -1.031304  ...          0   \n",
       "2       -0.174453       0.892321   0.854483     0.901546  ...          0   \n",
       "3        0.745760       0.830517   0.795410     0.429467  ...          0   \n",
       "4       -0.582693      -0.323168   0.333873     0.490545  ...          0   \n",
       "\n",
       "   day_of_week_fri  day_of_week_mon  day_of_week_thu  day_of_week_tue  \\\n",
       "0                0                0                0                0   \n",
       "1                0                1                0                0   \n",
       "2                0                0                0                0   \n",
       "3                0                0                0                1   \n",
       "4                1                0                0                0   \n",
       "\n",
       "   day_of_week_wed  poutcome_failure  poutcome_nonexistent  poutcome_success  \\\n",
       "0                1                 0                     0                 1   \n",
       "1                0                 0                     1                 0   \n",
       "2                1                 0                     1                 0   \n",
       "3                0                 0                     1                 0   \n",
       "4                0                 0                     1                 0   \n",
       "\n",
       "   target  \n",
       "0       1  \n",
       "1       1  \n",
       "2       0  \n",
       "3       0  \n",
       "4       0  \n",
       "\n",
       "[5 rows x 52 columns]"
      ]
     },
     "execution_count": 2,
     "metadata": {},
     "output_type": "execute_result"
    }
   ],
   "source": [
    "df.head()"
   ]
  },
  {
   "cell_type": "markdown",
   "metadata": {},
   "source": [
    "## Exploratory Data Analysis"
   ]
  },
  {
   "cell_type": "code",
   "execution_count": 3,
   "metadata": {},
   "outputs": [
    {
     "name": "stdout",
     "output_type": "stream",
     "text": [
      "<class 'pandas.core.frame.DataFrame'>\n",
      "RangeIndex: 15000 entries, 0 to 14999\n",
      "Data columns (total 52 columns):\n",
      " #   Column                         Non-Null Count  Dtype  \n",
      "---  ------                         --------------  -----  \n",
      " 0   age                            15000 non-null  float64\n",
      " 1   duration                       15000 non-null  float64\n",
      " 2   campaign                       15000 non-null  float64\n",
      " 3   pdays                          15000 non-null  float64\n",
      " 4   previous                       15000 non-null  float64\n",
      " 5   emp.var.rate                   15000 non-null  float64\n",
      " 6   cons.price.idx                 15000 non-null  float64\n",
      " 7   cons.conf.idx                  15000 non-null  float64\n",
      " 8   euribor3m                      15000 non-null  float64\n",
      " 9   nr.employed                    15000 non-null  float64\n",
      " 10  marital_divorced               15000 non-null  int64  \n",
      " 11  marital_married                15000 non-null  int64  \n",
      " 12  marital_single                 15000 non-null  int64  \n",
      " 13  marital_unknown                15000 non-null  int64  \n",
      " 14  education_basic.4y             15000 non-null  int64  \n",
      " 15  education_basic.6y             15000 non-null  int64  \n",
      " 16  education_basic.9y             15000 non-null  int64  \n",
      " 17  education_high.school          15000 non-null  int64  \n",
      " 18  education_illiterate           15000 non-null  int64  \n",
      " 19  education_professional.course  15000 non-null  int64  \n",
      " 20  education_university.degree    15000 non-null  int64  \n",
      " 21  education_unknown              15000 non-null  int64  \n",
      " 22  default_no                     15000 non-null  int64  \n",
      " 23  default_unknown                15000 non-null  int64  \n",
      " 24  default_yes                    15000 non-null  int64  \n",
      " 25  housing_no                     15000 non-null  int64  \n",
      " 26  housing_unknown                15000 non-null  int64  \n",
      " 27  housing_yes                    15000 non-null  int64  \n",
      " 28  loan_no                        15000 non-null  int64  \n",
      " 29  loan_unknown                   15000 non-null  int64  \n",
      " 30  loan_yes                       15000 non-null  int64  \n",
      " 31  contact_cellular               15000 non-null  int64  \n",
      " 32  contact_telephone              15000 non-null  int64  \n",
      " 33  month_apr                      15000 non-null  int64  \n",
      " 34  month_aug                      15000 non-null  int64  \n",
      " 35  month_dec                      15000 non-null  int64  \n",
      " 36  month_jul                      15000 non-null  int64  \n",
      " 37  month_jun                      15000 non-null  int64  \n",
      " 38  month_mar                      15000 non-null  int64  \n",
      " 39  month_may                      15000 non-null  int64  \n",
      " 40  month_nov                      15000 non-null  int64  \n",
      " 41  month_oct                      15000 non-null  int64  \n",
      " 42  month_sep                      15000 non-null  int64  \n",
      " 43  day_of_week_fri                15000 non-null  int64  \n",
      " 44  day_of_week_mon                15000 non-null  int64  \n",
      " 45  day_of_week_thu                15000 non-null  int64  \n",
      " 46  day_of_week_tue                15000 non-null  int64  \n",
      " 47  day_of_week_wed                15000 non-null  int64  \n",
      " 48  poutcome_failure               15000 non-null  int64  \n",
      " 49  poutcome_nonexistent           15000 non-null  int64  \n",
      " 50  poutcome_success               15000 non-null  int64  \n",
      " 51  target                         15000 non-null  int64  \n",
      "dtypes: float64(10), int64(42)\n",
      "memory usage: 6.0 MB\n"
     ]
    }
   ],
   "source": [
    "#gives information about the data types,columns, null value counts, memory usage etc\n",
    "df.info(verbose=True)"
   ]
  },
  {
   "cell_type": "code",
   "execution_count": 4,
   "metadata": {},
   "outputs": [
    {
     "data": {
      "image/png": "[encoded data removed]",
      "text/plain": [
       "<Figure size 432x288 with 1 Axes>"
      ]
     },
     "metadata": {
      "needs_background": "light"
     },
     "output_type": "display_data"
    },
    {
     "data": {
      "image/png": "[encoded data removed]",
      "text/plain": [
       "<Figure size 432x288 with 1 Axes>"
      ]
     },
     "metadata": {
      "needs_background": "light"
     },
     "output_type": "display_data"
    },
    {
     "data": {
      "image/png": "[encoded data removed]",
      "text/plain": [
       "<Figure size 432x288 with 1 Axes>"
      ]
     },
     "metadata": {
      "needs_background": "light"
     },
     "output_type": "display_data"
    },
    {
     "data": {
      "image/png": "[encoded data removed]",
      "text/plain": [
       "<Figure size 432x288 with 1 Axes>"
      ]
     },
     "metadata": {
      "needs_background": "light"
     },
     "output_type": "display_data"
    },
    {
     "data": {
      "image/png": "[encoded data removed]",
      "text/plain": [
       "<Figure size 432x288 with 1 Axes>"
      ]
     },
     "metadata": {
      "needs_background": "light"
     },
     "output_type": "display_data"
    },
    {
     "data": {
      "image/png": "[encoded data removed]",
      "text/plain": [
       "<Figure size 432x288 with 1 Axes>"
      ]
     },
     "metadata": {
      "needs_background": "light"
     },
     "output_type": "display_data"
    },
    {
     "data": {
      "image/png": "[encoded data removed]",
      "text/plain": [
       "<Figure size 432x288 with 1 Axes>"
      ]
     },
     "metadata": {
      "needs_background": "light"
     },
     "output_type": "display_data"
    },
    {
     "data": {
      "image/png": "[encoded data removed]",
      "text/plain": [
       "<Figure size 432x288 with 1 Axes>"
      ]
     },
     "metadata": {
      "needs_background": "light"
     },
     "output_type": "display_data"
    },
    {
     "data": {
      "image/png": "[encoded data removed]",
      "text/plain": [
       "<Figure size 432x288 with 1 Axes>"
      ]
     },
     "metadata": {
      "needs_background": "light"
     },
     "output_type": "display_data"
    },
    {
     "data": {
      "image/png": "[encoded data removed]",
      "text/plain": [
       "<Figure size 432x288 with 1 Axes>"
      ]
     },
     "metadata": {
      "needs_background": "light"
     },
     "output_type": "display_data"
    },
    {
     "data": {
      "image/png": "[encoded data removed]",
      "text/plain": [
       "<Figure size 432x288 with 1 Axes>"
      ]
     },
     "metadata": {
      "needs_background": "light"
     },
     "output_type": "display_data"
    },
    {
     "data": {
      "image/png": "[encoded data removed]",
      "text/plain": [
       "<Figure size 432x288 with 1 Axes>"
      ]
     },
     "metadata": {
      "needs_background": "light"
     },
     "output_type": "display_data"
    },
    {
     "data": {
      "image/png": "[encoded data removed]",
      "text/plain": [
       "<Figure size 432x288 with 1 Axes>"
      ]
     },
     "metadata": {
      "needs_background": "light"
     },
     "output_type": "display_data"
    },
    {
     "data": {
      "image/png": "[encoded data removed]",
      "text/plain": [
       "<Figure size 432x288 with 1 Axes>"
      ]
     },
     "metadata": {
      "needs_background": "light"
     },
     "output_type": "display_data"
    },
    {
     "data": {
      "image/png": "[encoded data removed]",
      "text/plain": [
       "<Figure size 432x288 with 1 Axes>"
      ]
     },
     "metadata": {
      "needs_background": "light"
     },
     "output_type": "display_data"
    },
    {
     "data": {
      "image/png": "[encoded data removed]",
      "text/plain": [
       "<Figure size 432x288 with 1 Axes>"
      ]
     },
     "metadata": {
      "needs_background": "light"
     },
     "output_type": "display_data"
    },
    {
     "data": {
      "image/png": "[encoded data removed]",
      "text/plain": [
       "<Figure size 432x288 with 1 Axes>"
      ]
     },
     "metadata": {
      "needs_background": "light"
     },
     "output_type": "display_data"
    },
    {
     "data": {
      "image/png": "[encoded data removed]",
      "text/plain": [
       "<Figure size 432x288 with 1 Axes>"
      ]
     },
     "metadata": {
      "needs_background": "light"
     },
     "output_type": "display_data"
    },
    {
     "data": {
      "image/png": "[encoded data removed]",
      "text/plain": [
       "<Figure size 432x288 with 1 Axes>"
      ]
     },
     "metadata": {
      "needs_background": "light"
     },
     "output_type": "display_data"
    },
    {
     "data": {
      "image/png": "[encoded data removed]",
      "text/plain": [
       "<Figure size 432x288 with 1 Axes>"
      ]
     },
     "metadata": {
      "needs_background": "light"
     },
     "output_type": "display_data"
    },
    {
     "data": {
      "image/png": "[encoded data removed]",
      "text/plain": [
       "<Figure size 432x288 with 1 Axes>"
      ]
     },
     "metadata": {
      "needs_background": "light"
     },
     "output_type": "display_data"
    },
    {
     "data": {
      "image/png": "[encoded data removed]",
      "text/plain": [
       "<Figure size 432x288 with 1 Axes>"
      ]
     },
     "metadata": {
      "needs_background": "light"
     },
     "output_type": "display_data"
    },
    {
     "data": {
      "image/png": "[encoded data removed]",
      "text/plain": [
       "<Figure size 432x288 with 1 Axes>"
      ]
     },
     "metadata": {
      "needs_background": "light"
     },
     "output_type": "display_data"
    },
    {
     "data": {
      "image/png": "[encoded data removed]",
      "text/plain": [
       "<Figure size 432x288 with 1 Axes>"
      ]
     },
     "metadata": {
      "needs_background": "light"
     },
     "output_type": "display_data"
    },
    {
     "data": {
      "image/png": "[encoded data removed]",
      "text/plain": [
       "<Figure size 432x288 with 1 Axes>"
      ]
     },
     "metadata": {
      "needs_background": "light"
     },
     "output_type": "display_data"
    },
    {
     "data": {
      "image/png": "[encoded data removed]",
      "text/plain": [
       "<Figure size 432x288 with 1 Axes>"
      ]
     },
     "metadata": {
      "needs_background": "light"
     },
     "output_type": "display_data"
    },
    {
     "data": {
      "image/png": "[encoded data removed]",
      "text/plain": [
       "<Figure size 432x288 with 1 Axes>"
      ]
     },
     "metadata": {
      "needs_background": "light"
     },
     "output_type": "display_data"
    },
    {
     "data": {
      "image/png": "[encoded data removed]",
      "text/plain": [
       "<Figure size 432x288 with 1 Axes>"
      ]
     },
     "metadata": {
      "needs_background": "light"
     },
     "output_type": "display_data"
    },
    {
     "data": {
      "image/png": "[encoded data removed]",
      "text/plain": [
       "<Figure size 432x288 with 1 Axes>"
      ]
     },
     "metadata": {
      "needs_background": "light"
     },
     "output_type": "display_data"
    },
    {
     "data": {
      "image/png": "[encoded data removed]",
      "text/plain": [
       "<Figure size 432x288 with 1 Axes>"
      ]
     },
     "metadata": {
      "needs_background": "light"
     },
     "output_type": "display_data"
    },
    {
     "data": {
      "image/png": "[encoded data removed]",
      "text/plain": [
       "<Figure size 432x288 with 1 Axes>"
      ]
     },
     "metadata": {
      "needs_background": "light"
     },
     "output_type": "display_data"
    },
    {
     "data": {
      "image/png": "[encoded data removed]",
      "text/plain": [
       "<Figure size 432x288 with 1 Axes>"
      ]
     },
     "metadata": {
      "needs_background": "light"
     },
     "output_type": "display_data"
    },
    {
     "data": {
      "image/png": "[encoded data removed]",
      "text/plain": [
       "<Figure size 432x288 with 1 Axes>"
      ]
     },
     "metadata": {
      "needs_background": "light"
     },
     "output_type": "display_data"
    },
    {
     "data": {
      "image/png": "[encoded data removed]",
      "text/plain": [
       "<Figure size 432x288 with 1 Axes>"
      ]
     },
     "metadata": {
      "needs_background": "light"
     },
     "output_type": "display_data"
    },
    {
     "data": {
      "image/png": "[encoded data removed]",
      "text/plain": [
       "<Figure size 432x288 with 1 Axes>"
      ]
     },
     "metadata": {
      "needs_background": "light"
     },
     "output_type": "display_data"
    },
    {
     "data": {
      "image/png": "[encoded data removed]",
      "text/plain": [
       "<Figure size 432x288 with 1 Axes>"
      ]
     },
     "metadata": {
      "needs_background": "light"
     },
     "output_type": "display_data"
    },
    {
     "data": {
      "image/png": "[encoded data removed]",
      "text/plain": [
       "<Figure size 432x288 with 1 Axes>"
      ]
     },
     "metadata": {
      "needs_background": "light"
     },
     "output_type": "display_data"
    },
    {
     "data": {
      "image/png": "[encoded data removed]",
      "text/plain": [
       "<Figure size 432x288 with 1 Axes>"
      ]
     },
     "metadata": {
      "needs_background": "light"
     },
     "output_type": "display_data"
    },
    {
     "data": {
      "image/png": "[encoded data removed]",
      "text/plain": [
       "<Figure size 432x288 with 1 Axes>"
      ]
     },
     "metadata": {
      "needs_background": "light"
     },
     "output_type": "display_data"
    },
    {
     "data": {
      "image/png": "[encoded data removed]",
      "text/plain": [
       "<Figure size 432x288 with 1 Axes>"
      ]
     },
     "metadata": {
      "needs_background": "light"
     },
     "output_type": "display_data"
    },
    {
     "data": {
      "image/png": "[encoded data removed]",
      "text/plain": [
       "<Figure size 432x288 with 1 Axes>"
      ]
     },
     "metadata": {
      "needs_background": "light"
     },
     "output_type": "display_data"
    },
    {
     "data": {
      "image/png": "[encoded data removed]",
      "text/plain": [
       "<Figure size 432x288 with 1 Axes>"
      ]
     },
     "metadata": {
      "needs_background": "light"
     },
     "output_type": "display_data"
    },
    {
     "data": {
      "image/png": "[encoded data removed]",
      "text/plain": [
       "<Figure size 432x288 with 1 Axes>"
      ]
     },
     "metadata": {
      "needs_background": "light"
     },
     "output_type": "display_data"
    },
    {
     "data": {
      "image/png": "[encoded data removed]",
      "text/plain": [
       "<Figure size 432x288 with 1 Axes>"
      ]
     },
     "metadata": {
      "needs_background": "light"
     },
     "output_type": "display_data"
    },
    {
     "data": {
      "image/png": "[encoded data removed]",
      "text/plain": [
       "<Figure size 432x288 with 1 Axes>"
      ]
     },
     "metadata": {
      "needs_background": "light"
     },
     "output_type": "display_data"
    },
    {
     "data": {
      "image/png": "[encoded data removed]",
      "text/plain": [
       "<Figure size 432x288 with 1 Axes>"
      ]
     },
     "metadata": {
      "needs_background": "light"
     },
     "output_type": "display_data"
    },
    {
     "data": {
      "image/png": "[encoded data removed]",
      "text/plain": [
       "<Figure size 432x288 with 1 Axes>"
      ]
     },
     "metadata": {
      "needs_background": "light"
     },
     "output_type": "display_data"
    },
    {
     "data": {
      "image/png": "[encoded data removed]",
      "text/plain": [
       "<Figure size 432x288 with 1 Axes>"
      ]
     },
     "metadata": {
      "needs_background": "light"
     },
     "output_type": "display_data"
    },
    {
     "data": {
      "image/png": "[encoded data removed]",
      "text/plain": [
       "<Figure size 432x288 with 1 Axes>"
      ]
     },
     "metadata": {
      "needs_background": "light"
     },
     "output_type": "display_data"
    },
    {
     "data": {
      "image/png": "[encoded data removed]",
      "text/plain": [
       "<Figure size 432x288 with 1 Axes>"
      ]
     },
     "metadata": {
      "needs_background": "light"
     },
     "output_type": "display_data"
    },
    {
     "data": {
      "image/png": "[encoded data removed]",
      "text/plain": [
       "<Figure size 432x288 with 1 Axes>"
      ]
     },
     "metadata": {
      "needs_background": "light"
     },
     "output_type": "display_data"
    },
    {
     "data": {
      "image/png": "[encoded data removed]",
      "text/plain": [
       "<Figure size 432x288 with 1 Axes>"
      ]
     },
     "metadata": {
      "needs_background": "light"
     },
     "output_type": "display_data"
    }
   ],
   "source": [
    "%matplotlib inline\n",
    "import seaborn as sns\n",
    "import matplotlib.pyplot as plt\n",
    "\n",
    "X=df\n",
    "\n",
    "X0 = X[X['target']==0]\n",
    "X1 = X[X['target']==1]\n",
    "\n",
    "\n",
    "fig = plt.figure()\n",
    "for i in X.columns :\n",
    "    plt.hist([X0[i],X1[i]],density=True)\n",
    "    plt.title(i)\n",
    "    plt.show()\n"
   ]
  },
  {
   "cell_type": "code",
   "execution_count": 6,
   "metadata": {},
   "outputs": [
    {
     "name": "stdout",
     "output_type": "stream",
     "text": [
      "target\n",
      "0    11552\n",
      "1     3448\n",
      "dtype: int64\n"
     ]
    },
    {
     "data": {
      "text/plain": [
       "<matplotlib.axes._subplots.AxesSubplot at 0x7f04d1cd8110>"
      ]
     },
     "execution_count": 6,
     "metadata": {},
     "output_type": "execute_result"
    },
    {
     "data": {
      "image/png": "[encoded data removed]",
      "text/plain": [
       "<Figure size 432x288 with 1 Axes>"
      ]
     },
     "metadata": {
      "needs_background": "light"
     },
     "output_type": "display_data"
    }
   ],
   "source": [
    "#Print class freq. through pandas: we group the data by the column target and we count the number of rows \n",
    "target_dist=df.groupby('target').size()\n",
    "print(target_dist)\n",
    "\n",
    "#some imports to plot \n",
    "import matplotlib.pyplot as plt\n",
    "import seaborn as sns\n",
    "%matplotlib inline\n",
    "\n",
    "#Visualize Class Counts\n",
    "target_dist.plot.bar(x='',y='',title='Distribution of target')"
   ]
  },
  {
   "cell_type": "markdown",
   "metadata": {},
   "source": [
    "## Data Preparation "
   ]
  },
  {
   "cell_type": "markdown",
   "metadata": {},
   "source": [
    "### Separate Train/Test sets"
   ]
  },
  {
   "cell_type": "code",
   "execution_count": 7,
   "metadata": {},
   "outputs": [
    {
     "data": {
      "text/html": [
       "<div>\n",
       "<style scoped>\n",
       "    .dataframe tbody tr th:only-of-type {\n",
       "        vertical-align: middle;\n",
       "    }\n",
       "\n",
       "    .dataframe tbody tr th {\n",
       "        vertical-align: top;\n",
       "    }\n",
       "\n",
       "    .dataframe thead th {\n",
       "        text-align: right;\n",
       "    }\n",
       "</style>\n",
       "<table border=\"1\" class=\"dataframe\">\n",
       "  <thead>\n",
       "    <tr style=\"text-align: right;\">\n",
       "      <th></th>\n",
       "      <th>age</th>\n",
       "      <th>duration</th>\n",
       "      <th>campaign</th>\n",
       "      <th>pdays</th>\n",
       "      <th>previous</th>\n",
       "      <th>emp.var.rate</th>\n",
       "      <th>cons.price.idx</th>\n",
       "      <th>cons.conf.idx</th>\n",
       "      <th>euribor3m</th>\n",
       "      <th>nr.employed</th>\n",
       "      <th>...</th>\n",
       "      <th>month_sep</th>\n",
       "      <th>day_of_week_fri</th>\n",
       "      <th>day_of_week_mon</th>\n",
       "      <th>day_of_week_thu</th>\n",
       "      <th>day_of_week_tue</th>\n",
       "      <th>day_of_week_wed</th>\n",
       "      <th>poutcome_failure</th>\n",
       "      <th>poutcome_nonexistent</th>\n",
       "      <th>poutcome_success</th>\n",
       "      <th>target</th>\n",
       "    </tr>\n",
       "  </thead>\n",
       "  <tbody>\n",
       "    <tr>\n",
       "      <th>0</th>\n",
       "      <td>1.444850</td>\n",
       "      <td>-0.746982</td>\n",
       "      <td>-0.571300</td>\n",
       "      <td>-3.969061</td>\n",
       "      <td>1.366417</td>\n",
       "      <td>-1.706389</td>\n",
       "      <td>-2.254135</td>\n",
       "      <td>1.860592</td>\n",
       "      <td>-1.400757</td>\n",
       "      <td>-1.031304</td>\n",
       "      <td>...</td>\n",
       "      <td>0</td>\n",
       "      <td>0</td>\n",
       "      <td>0</td>\n",
       "      <td>0</td>\n",
       "      <td>0</td>\n",
       "      <td>1</td>\n",
       "      <td>0</td>\n",
       "      <td>0</td>\n",
       "      <td>1</td>\n",
       "      <td>1</td>\n",
       "    </tr>\n",
       "    <tr>\n",
       "      <th>1</th>\n",
       "      <td>1.082169</td>\n",
       "      <td>0.100012</td>\n",
       "      <td>-0.571300</td>\n",
       "      <td>0.252494</td>\n",
       "      <td>-0.378985</td>\n",
       "      <td>-1.706389</td>\n",
       "      <td>-0.979221</td>\n",
       "      <td>-0.075950</td>\n",
       "      <td>-1.187102</td>\n",
       "      <td>-1.031304</td>\n",
       "      <td>...</td>\n",
       "      <td>0</td>\n",
       "      <td>0</td>\n",
       "      <td>1</td>\n",
       "      <td>0</td>\n",
       "      <td>0</td>\n",
       "      <td>0</td>\n",
       "      <td>0</td>\n",
       "      <td>1</td>\n",
       "      <td>0</td>\n",
       "      <td>1</td>\n",
       "    </tr>\n",
       "    <tr>\n",
       "      <th>2</th>\n",
       "      <td>0.447476</td>\n",
       "      <td>-0.363501</td>\n",
       "      <td>0.974844</td>\n",
       "      <td>0.252494</td>\n",
       "      <td>-0.378985</td>\n",
       "      <td>0.910934</td>\n",
       "      <td>-0.174453</td>\n",
       "      <td>0.892321</td>\n",
       "      <td>0.854483</td>\n",
       "      <td>0.901546</td>\n",
       "      <td>...</td>\n",
       "      <td>0</td>\n",
       "      <td>0</td>\n",
       "      <td>0</td>\n",
       "      <td>0</td>\n",
       "      <td>0</td>\n",
       "      <td>1</td>\n",
       "      <td>0</td>\n",
       "      <td>1</td>\n",
       "      <td>0</td>\n",
       "      <td>0</td>\n",
       "    </tr>\n",
       "    <tr>\n",
       "      <th>3</th>\n",
       "      <td>-0.731238</td>\n",
       "      <td>-0.200104</td>\n",
       "      <td>-0.184764</td>\n",
       "      <td>0.252494</td>\n",
       "      <td>-0.378985</td>\n",
       "      <td>0.728330</td>\n",
       "      <td>0.745760</td>\n",
       "      <td>0.830517</td>\n",
       "      <td>0.795410</td>\n",
       "      <td>0.429467</td>\n",
       "      <td>...</td>\n",
       "      <td>0</td>\n",
       "      <td>0</td>\n",
       "      <td>0</td>\n",
       "      <td>0</td>\n",
       "      <td>1</td>\n",
       "      <td>0</td>\n",
       "      <td>0</td>\n",
       "      <td>1</td>\n",
       "      <td>0</td>\n",
       "      <td>0</td>\n",
       "    </tr>\n",
       "    <tr>\n",
       "      <th>4</th>\n",
       "      <td>-0.731238</td>\n",
       "      <td>2.884420</td>\n",
       "      <td>-0.184764</td>\n",
       "      <td>0.252494</td>\n",
       "      <td>-0.378985</td>\n",
       "      <td>-0.002086</td>\n",
       "      <td>-0.582693</td>\n",
       "      <td>-0.323168</td>\n",
       "      <td>0.333873</td>\n",
       "      <td>0.490545</td>\n",
       "      <td>...</td>\n",
       "      <td>0</td>\n",
       "      <td>1</td>\n",
       "      <td>0</td>\n",
       "      <td>0</td>\n",
       "      <td>0</td>\n",
       "      <td>0</td>\n",
       "      <td>0</td>\n",
       "      <td>1</td>\n",
       "      <td>0</td>\n",
       "      <td>0</td>\n",
       "    </tr>\n",
       "    <tr>\n",
       "      <th>...</th>\n",
       "      <td>...</td>\n",
       "      <td>...</td>\n",
       "      <td>...</td>\n",
       "      <td>...</td>\n",
       "      <td>...</td>\n",
       "      <td>...</td>\n",
       "      <td>...</td>\n",
       "      <td>...</td>\n",
       "      <td>...</td>\n",
       "      <td>...</td>\n",
       "      <td>...</td>\n",
       "      <td>...</td>\n",
       "      <td>...</td>\n",
       "      <td>...</td>\n",
       "      <td>...</td>\n",
       "      <td>...</td>\n",
       "      <td>...</td>\n",
       "      <td>...</td>\n",
       "      <td>...</td>\n",
       "      <td>...</td>\n",
       "      <td>...</td>\n",
       "    </tr>\n",
       "    <tr>\n",
       "      <th>14995</th>\n",
       "      <td>0.991498</td>\n",
       "      <td>-0.146750</td>\n",
       "      <td>-0.571300</td>\n",
       "      <td>0.252494</td>\n",
       "      <td>-0.378985</td>\n",
       "      <td>0.728330</td>\n",
       "      <td>0.745760</td>\n",
       "      <td>0.830517</td>\n",
       "      <td>0.794858</td>\n",
       "      <td>0.429467</td>\n",
       "      <td>...</td>\n",
       "      <td>0</td>\n",
       "      <td>0</td>\n",
       "      <td>0</td>\n",
       "      <td>0</td>\n",
       "      <td>1</td>\n",
       "      <td>0</td>\n",
       "      <td>0</td>\n",
       "      <td>1</td>\n",
       "      <td>0</td>\n",
       "      <td>0</td>\n",
       "    </tr>\n",
       "    <tr>\n",
       "      <th>14996</th>\n",
       "      <td>1.172839</td>\n",
       "      <td>-0.440197</td>\n",
       "      <td>6.772887</td>\n",
       "      <td>0.252494</td>\n",
       "      <td>-0.378985</td>\n",
       "      <td>0.910934</td>\n",
       "      <td>0.618604</td>\n",
       "      <td>-0.467378</td>\n",
       "      <td>0.852827</td>\n",
       "      <td>0.901546</td>\n",
       "      <td>...</td>\n",
       "      <td>0</td>\n",
       "      <td>0</td>\n",
       "      <td>0</td>\n",
       "      <td>0</td>\n",
       "      <td>1</td>\n",
       "      <td>0</td>\n",
       "      <td>0</td>\n",
       "      <td>1</td>\n",
       "      <td>0</td>\n",
       "      <td>0</td>\n",
       "    </tr>\n",
       "    <tr>\n",
       "      <th>14997</th>\n",
       "      <td>0.084795</td>\n",
       "      <td>-0.446866</td>\n",
       "      <td>0.974844</td>\n",
       "      <td>0.252494</td>\n",
       "      <td>1.366417</td>\n",
       "      <td>-1.036841</td>\n",
       "      <td>-1.096339</td>\n",
       "      <td>-1.188431</td>\n",
       "      <td>-1.195936</td>\n",
       "      <td>-0.739913</td>\n",
       "      <td>...</td>\n",
       "      <td>0</td>\n",
       "      <td>1</td>\n",
       "      <td>0</td>\n",
       "      <td>0</td>\n",
       "      <td>0</td>\n",
       "      <td>0</td>\n",
       "      <td>1</td>\n",
       "      <td>0</td>\n",
       "      <td>0</td>\n",
       "      <td>0</td>\n",
       "    </tr>\n",
       "    <tr>\n",
       "      <th>14998</th>\n",
       "      <td>-0.549897</td>\n",
       "      <td>-0.716970</td>\n",
       "      <td>0.201772</td>\n",
       "      <td>0.252494</td>\n",
       "      <td>-0.378985</td>\n",
       "      <td>0.910934</td>\n",
       "      <td>-0.174453</td>\n",
       "      <td>0.892321</td>\n",
       "      <td>0.854483</td>\n",
       "      <td>0.901546</td>\n",
       "      <td>...</td>\n",
       "      <td>0</td>\n",
       "      <td>1</td>\n",
       "      <td>0</td>\n",
       "      <td>0</td>\n",
       "      <td>0</td>\n",
       "      <td>0</td>\n",
       "      <td>0</td>\n",
       "      <td>1</td>\n",
       "      <td>0</td>\n",
       "      <td>0</td>\n",
       "    </tr>\n",
       "    <tr>\n",
       "      <th>14999</th>\n",
       "      <td>0.991498</td>\n",
       "      <td>-0.460205</td>\n",
       "      <td>-0.184764</td>\n",
       "      <td>0.252494</td>\n",
       "      <td>-0.378985</td>\n",
       "      <td>-1.706389</td>\n",
       "      <td>-0.979221</td>\n",
       "      <td>-0.075950</td>\n",
       "      <td>-1.185998</td>\n",
       "      <td>-1.031304</td>\n",
       "      <td>...</td>\n",
       "      <td>0</td>\n",
       "      <td>1</td>\n",
       "      <td>0</td>\n",
       "      <td>0</td>\n",
       "      <td>0</td>\n",
       "      <td>0</td>\n",
       "      <td>0</td>\n",
       "      <td>1</td>\n",
       "      <td>0</td>\n",
       "      <td>1</td>\n",
       "    </tr>\n",
       "  </tbody>\n",
       "</table>\n",
       "<p>15000 rows × 52 columns</p>\n",
       "</div>"
      ],
      "text/plain": [
       "            age  duration  campaign     pdays  previous  emp.var.rate  \\\n",
       "0      1.444850 -0.746982 -0.571300 -3.969061  1.366417     -1.706389   \n",
       "1      1.082169  0.100012 -0.571300  0.252494 -0.378985     -1.706389   \n",
       "2      0.447476 -0.363501  0.974844  0.252494 -0.378985      0.910934   \n",
       "3     -0.731238 -0.200104 -0.184764  0.252494 -0.378985      0.728330   \n",
       "4     -0.731238  2.884420 -0.184764  0.252494 -0.378985     -0.002086   \n",
       "...         ...       ...       ...       ...       ...           ...   \n",
       "14995  0.991498 -0.146750 -0.571300  0.252494 -0.378985      0.728330   \n",
       "14996  1.172839 -0.440197  6.772887  0.252494 -0.378985      0.910934   \n",
       "14997  0.084795 -0.446866  0.974844  0.252494  1.366417     -1.036841   \n",
       "14998 -0.549897 -0.716970  0.201772  0.252494 -0.378985      0.910934   \n",
       "14999  0.991498 -0.460205 -0.184764  0.252494 -0.378985     -1.706389   \n",
       "\n",
       "       cons.price.idx  cons.conf.idx  euribor3m  nr.employed  ...  month_sep  \\\n",
       "0           -2.254135       1.860592  -1.400757    -1.031304  ...          0   \n",
       "1           -0.979221      -0.075950  -1.187102    -1.031304  ...          0   \n",
       "2           -0.174453       0.892321   0.854483     0.901546  ...          0   \n",
       "3            0.745760       0.830517   0.795410     0.429467  ...          0   \n",
       "4           -0.582693      -0.323168   0.333873     0.490545  ...          0   \n",
       "...               ...            ...        ...          ...  ...        ...   \n",
       "14995        0.745760       0.830517   0.794858     0.429467  ...          0   \n",
       "14996        0.618604      -0.467378   0.852827     0.901546  ...          0   \n",
       "14997       -1.096339      -1.188431  -1.195936    -0.739913  ...          0   \n",
       "14998       -0.174453       0.892321   0.854483     0.901546  ...          0   \n",
       "14999       -0.979221      -0.075950  -1.185998    -1.031304  ...          0   \n",
       "\n",
       "       day_of_week_fri  day_of_week_mon  day_of_week_thu  day_of_week_tue  \\\n",
       "0                    0                0                0                0   \n",
       "1                    0                1                0                0   \n",
       "2                    0                0                0                0   \n",
       "3                    0                0                0                1   \n",
       "4                    1                0                0                0   \n",
       "...                ...              ...              ...              ...   \n",
       "14995                0                0                0                1   \n",
       "14996                0                0                0                1   \n",
       "14997                1                0                0                0   \n",
       "14998                1                0                0                0   \n",
       "14999                1                0                0                0   \n",
       "\n",
       "       day_of_week_wed  poutcome_failure  poutcome_nonexistent  \\\n",
       "0                    1                 0                     0   \n",
       "1                    0                 0                     1   \n",
       "2                    1                 0                     1   \n",
       "3                    0                 0                     1   \n",
       "4                    0                 0                     1   \n",
       "...                ...               ...                   ...   \n",
       "14995                0                 0                     1   \n",
       "14996                0                 0                     1   \n",
       "14997                0                 1                     0   \n",
       "14998                0                 0                     1   \n",
       "14999                0                 0                     1   \n",
       "\n",
       "       poutcome_success  target  \n",
       "0                     1       1  \n",
       "1                     0       1  \n",
       "2                     0       0  \n",
       "3                     0       0  \n",
       "4                     0       0  \n",
       "...                 ...     ...  \n",
       "14995                 0       0  \n",
       "14996                 0       0  \n",
       "14997                 0       0  \n",
       "14998                 0       0  \n",
       "14999                 0       1  \n",
       "\n",
       "[15000 rows x 52 columns]"
      ]
     },
     "execution_count": 7,
     "metadata": {},
     "output_type": "execute_result"
    }
   ],
   "source": [
    "df"
   ]
  },
  {
   "cell_type": "code",
   "execution_count": 10,
   "metadata": {},
   "outputs": [
    {
     "data": {
      "text/plain": [
       "0    1\n",
       "1    1\n",
       "2    0\n",
       "3    0\n",
       "4    0\n",
       "Name: target, dtype: int64"
      ]
     },
     "execution_count": 10,
     "metadata": {},
     "output_type": "execute_result"
    }
   ],
   "source": [
    "#Separate X and y (explanatory variables and target variable)\n",
    "X = df.iloc[:,0:-1]\n",
    "y = df.iloc[:,-1] #[-1]]\n",
    "\n",
    "#X.head()\n",
    "y.head()"
   ]
  },
  {
   "cell_type": "code",
   "execution_count": null,
   "metadata": {},
   "outputs": [],
   "source": [
    "from sklearn.model_selection import train_test_split\n",
    "\n",
    "#SPLIT DATA INTO TRAIN AND TEST SET\n",
    "X_train, X_test, y_train, y_test = train_test_split(X, y, \n",
    "                                                    test_size =0.30, #by default is 75%-25%\n",
    "                                                    #shuffle is set True by default,\n",
    "                                                    #stratify=y,\n",
    "                                                    random_state= 123) #fix random seed for replicability\n",
    "\n",
    "print(X_train.shape,X_test.shape)\n",
    "Jupyter Notebook\n",
    "10_Classification_KNN Last Checkpoint: 05/28/2020 (autosaved) Current Kernel Logo \n",
    "\n",
    "Python 3\n",
    "\n",
    "    File\n",
    "    Edit\n",
    "    View\n",
    "    Insert\n",
    "    Cell\n",
    "    Kernel\n",
    "    Widgets\n",
    "    Help\n",
    "\n",
    "Cassification: k-Nearest Neighbors\n",
    "Data import\n",
    "\n",
    "import pandas as pd\n",
    "\n",
    "df = pd.read_csv('telemarketing_train_preprocess.csv')\n",
    "\n",
    "df.head()\n",
    "\n",
    "\tage \tduration \tcampaign \tpdays \tprevious \temp.var.rate \tcons.price.idx \tcons.conf.idx \teuribor3m \tnr.employed \t... \tmonth_sep \tday_of_week_fri \tday_of_week_mon \tday_of_week_thu \tday_of_week_tue \tday_of_week_wed \tpoutcome_failure \tpoutcome_nonexistent \tpoutcome_success \ttarget\n",
    "0 \t1.444850 \t-0.746982 \t-0.571300 \t-3.969061 \t1.366417 \t-1.706389 \t-2.254135 \t1.860592 \t-1.400757 \t-1.031304 \t... \t0 \t0 \t0 \t0 \t0 \t1 \t0 \t0 \t1 \t1\n",
    "1 \t1.082169 \t0.100012 \t-0.571300 \t0.252494 \t-0.378985 \t-1.706389 \t-0.979221 \t-0.075950 \t-1.187102 \t-1.031304 \t... \t0 \t0 \t1 \t0 \t0 \t0 \t0 \t1 \t0 \t1\n",
    "2 \t0.447476 \t-0.363501 \t0.974844 \t0.252494 \t-0.378985 \t0.910934 \t-0.174453 \t0.892321 \t0.854483 \t0.901546 \t... \t0 \t0 \t0 \t0 \t0 \t1 \t0 \t1 \t0 \t0\n",
    "3 \t-0.731238 \t-0.200104 \t-0.184764 \t0.252494 \t-0.378985 \t0.728330 \t0.745760 \t0.830517 \t0.795410 \t0.429467 \t... \t0 \t0 \t0 \t0 \t1 \t0 \t0 \t1 \t0 \t0\n",
    "4 \t-0.731238 \t2.884420 \t-0.184764 \t0.252494 \t-0.378985 \t-0.002086 \t-0.582693 \t-0.323168 \t0.333873 \t0.490545 \t... \t0 \t1 \t0 \t0 \t0 \t0 \t0 \t1 \t0 \t0\n",
    "\n",
    "5 rows × 52 columns\n",
    "Exploratory Data Analysis\n",
    "\n",
    "#gives information about the data types,columns, null value counts, memory usage etc\n",
    "\n",
    "df.info(verbose=True)\n",
    "\n",
    "<class 'pandas.core.frame.DataFrame'>\n",
    "RangeIndex: 15000 entries, 0 to 14999\n",
    "Data columns (total 52 columns):\n",
    " #   Column                         Non-Null Count  Dtype  \n",
    "---  ------                         --------------  -----  \n",
    " 0   age                            15000 non-null  float64\n",
    " 1   duration                       15000 non-null  float64\n",
    " 2   campaign                       15000 non-null  float64\n",
    " 3   pdays                          15000 non-null  float64\n",
    " 4   previous                       15000 non-null  float64\n",
    " 5   emp.var.rate                   15000 non-null  float64\n",
    " 6   cons.price.idx                 15000 non-null  float64\n",
    " 7   cons.conf.idx                  15000 non-null  float64\n",
    " 8   euribor3m                      15000 non-null  float64\n",
    " 9   nr.employed                    15000 non-null  float64\n",
    " 10  marital_divorced               15000 non-null  int64  \n",
    " 11  marital_married                15000 non-null  int64  \n",
    " 12  marital_single                 15000 non-null  int64  \n",
    " 13  marital_unknown                15000 non-null  int64  \n",
    " 14  education_basic.4y             15000 non-null  int64  \n",
    " 15  education_basic.6y             15000 non-null  int64  \n",
    " 16  education_basic.9y             15000 non-null  int64  \n",
    " 17  education_high.school          15000 non-null  int64  \n",
    " 18  education_illiterate           15000 non-null  int64  \n",
    " 19  education_professional.course  15000 non-null  int64  \n",
    " 20  education_university.degree    15000 non-null  int64  \n",
    " 21  education_unknown              15000 non-null  int64  \n",
    " 22  default_no                     15000 non-null  int64  \n",
    " 23  default_unknown                15000 non-null  int64  \n",
    " 24  default_yes                    15000 non-null  int64  \n",
    " 25  housing_no                     15000 non-null  int64  \n",
    " 26  housing_unknown                15000 non-null  int64  \n",
    " 27  housing_yes                    15000 non-null  int64  \n",
    " 28  loan_no                        15000 non-null  int64  \n",
    " 29  loan_unknown                   15000 non-null  int64  \n",
    " 30  loan_yes                       15000 non-null  int64  \n",
    " 31  contact_cellular               15000 non-null  int64  \n",
    " 32  contact_telephone              15000 non-null  int64  \n",
    " 33  month_apr                      15000 non-null  int64  \n",
    " 34  month_aug                      15000 non-null  int64  \n",
    " 35  month_dec                      15000 non-null  int64  \n",
    " 36  month_jul                      15000 non-null  int64  \n",
    " 37  month_jun                      15000 non-null  int64  \n",
    " 38  month_mar                      15000 non-null  int64  \n",
    " 39  month_may                      15000 non-null  int64  \n",
    " 40  month_nov                      15000 non-null  int64  \n",
    " 41  month_oct                      15000 non-null  int64  \n",
    " 42  month_sep                      15000 non-null  int64  \n",
    " 43  day_of_week_fri                15000 non-null  int64  \n",
    " 44  day_of_week_mon                15000 non-null  int64  \n",
    " 45  day_of_week_thu                15000 non-null  int64  \n",
    " 46  day_of_week_tue                15000 non-null  int64  \n",
    " 47  day_of_week_wed                15000 non-null  int64  \n",
    " 48  poutcome_failure               15000 non-null  int64  \n",
    " 49  poutcome_nonexistent           15000 non-null  int64  \n",
    " 50  poutcome_success               15000 non-null  int64  \n",
    " 51  target                         15000 non-null  int64  \n",
    "dtypes: float64(10), int64(42)\n",
    "memory usage: 6.0 MB\n",
    "\n",
    "%matplotlib inline\n",
    "\n",
    "import seaborn as sns\n",
    "\n",
    "import matplotlib.pyplot as plt\n",
    "\n",
    "​\n",
    "\n",
    "X=df\n",
    "\n",
    "​\n",
    "\n",
    "X0 = X[X['target']==0]\n",
    "\n",
    "X1 = X[X['target']==1]\n",
    "\n",
    "​\n",
    "\n",
    "​\n",
    "\n",
    "fig = plt.figure()\n",
    "\n",
    "for i in X.columns :\n",
    "\n",
    "    plt.hist([X0[i],X1[i]],density=True)\n",
    "\n",
    "    plt.title(i)\n",
    "\n",
    "    plt.show()\n",
    "\n",
    "​\n",
    "\n",
    "#Print class freq. through pandas: we group the data by the column target and we count the number of rows \n",
    "\n",
    "target_dist=df.groupby('target').size()\n",
    "\n",
    "print(target_dist)\n",
    "\n",
    "​\n",
    "\n",
    "#some imports to plot \n",
    "\n",
    "import matplotlib.pyplot as plt\n",
    "\n",
    "import seaborn as sns\n",
    "\n",
    "%matplotlib inline\n",
    "\n",
    "​\n",
    "\n",
    "#Visualize Class Counts\n",
    "\n",
    "target_dist.plot.bar(x='',y='',title='Distribution of target')\n",
    "\n",
    "target\n",
    "0    11552\n",
    "1     3448\n",
    "dtype: int64\n",
    "\n",
    "<matplotlib.axes._subplots.AxesSubplot at 0x7f04d1cd8110>\n",
    "\n",
    "Data Preparation\n",
    "Separate Train/Test sets\n",
    "\n",
    "df\n",
    "\n",
    "\tage \tduration \tcampaign \tpdays \tprevious \temp.var.rate \tcons.price.idx \tcons.conf.idx \teuribor3m \tnr.employed \t... \tmonth_sep \tday_of_week_fri \tday_of_week_mon \tday_of_week_thu \tday_of_week_tue \tday_of_week_wed \tpoutcome_failure \tpoutcome_nonexistent \tpoutcome_success \ttarget\n",
    "0 \t1.444850 \t-0.746982 \t-0.571300 \t-3.969061 \t1.366417 \t-1.706389 \t-2.254135 \t1.860592 \t-1.400757 \t-1.031304 \t... \t0 \t0 \t0 \t0 \t0 \t1 \t0 \t0 \t1 \t1\n",
    "1 \t1.082169 \t0.100012 \t-0.571300 \t0.252494 \t-0.378985 \t-1.706389 \t-0.979221 \t-0.075950 \t-1.187102 \t-1.031304 \t... \t0 \t0 \t1 \t0 \t0 \t0 \t0 \t1 \t0 \t1\n",
    "2 \t0.447476 \t-0.363501 \t0.974844 \t0.252494 \t-0.378985 \t0.910934 \t-0.174453 \t0.892321 \t0.854483 \t0.901546 \t... \t0 \t0 \t0 \t0 \t0 \t1 \t0 \t1 \t0 \t0\n",
    "3 \t-0.731238 \t-0.200104 \t-0.184764 \t0.252494 \t-0.378985 \t0.728330 \t0.745760 \t0.830517 \t0.795410 \t0.429467 \t... \t0 \t0 \t0 \t0 \t1 \t0 \t0 \t1 \t0 \t0\n",
    "4 \t-0.731238 \t2.884420 \t-0.184764 \t0.252494 \t-0.378985 \t-0.002086 \t-0.582693 \t-0.323168 \t0.333873 \t0.490545 \t... \t0 \t1 \t0 \t0 \t0 \t0 \t0 \t1 \t0 \t0\n",
    "... \t... \t... \t... \t... \t... \t... \t... \t... \t... \t... \t... \t... \t... \t... \t... \t... \t... \t... \t... \t... \t...\n",
    "14995 \t0.991498 \t-0.146750 \t-0.571300 \t0.252494 \t-0.378985 \t0.728330 \t0.745760 \t0.830517 \t0.794858 \t0.429467 \t... \t0 \t0 \t0 \t0 \t1 \t0 \t0 \t1 \t0 \t0\n",
    "14996 \t1.172839 \t-0.440197 \t6.772887 \t0.252494 \t-0.378985 \t0.910934 \t0.618604 \t-0.467378 \t0.852827 \t0.901546 \t... \t0 \t0 \t0 \t0 \t1 \t0 \t0 \t1 \t0 \t0\n",
    "14997 \t0.084795 \t-0.446866 \t0.974844 \t0.252494 \t1.366417 \t-1.036841 \t-1.096339 \t-1.188431 \t-1.195936 \t-0.739913 \t... \t0 \t1 \t0 \t0 \t0 \t0 \t1 \t0 \t0 \t0\n",
    "14998 \t-0.549897 \t-0.716970 \t0.201772 \t0.252494 \t-0.378985 \t0.910934 \t-0.174453 \t0.892321 \t0.854483 \t0.901546 \t... \t0 \t1 \t0 \t0 \t0 \t0 \t0 \t1 \t0 \t0\n",
    "14999 \t0.991498 \t-0.460205 \t-0.184764 \t0.252494 \t-0.378985 \t-1.706389 \t-0.979221 \t-0.075950 \t-1.185998 \t-1.031304 \t... \t0 \t1 \t0 \t0 \t0 \t0 \t0 \t1 \t0 \t1\n",
    "\n",
    "15000 rows × 52 columns\n",
    "\n",
    "#Separate X and y (explanatory variables and target variable)\n",
    "\n",
    "X = df.iloc[:,0:-1]\n",
    "\n",
    "y = df.iloc[:,-1] #[-1]]\n",
    "\n",
    "​\n",
    "\n",
    "#X.head()\n",
    "\n",
    "y.head()\n",
    "\n",
    "0    1\n",
    "1    1\n",
    "2    0\n",
    "3    0\n",
    "4    0\n",
    "Name: target, dtype: int64\n",
    "\n",
    "from sklearn.model_selection import train_test_split\n",
    "\n",
    "​\n",
    "\n",
    "#SPLIT DATA INTO TRAIN AND TEST SET\n",
    "\n",
    "X_train, X_test, y_train, y_test = train_test_split(X, y, \n",
    "\n",
    "                                                    test_size =0.30, #by default is 75%-25%\n",
    "\n",
    "                                                    #shuffle is set True by default,\n",
    "\n",
    "                                                    stratify=y,\n",
    "\n",
    "                                                    random_state= 123) #fix random seed for replicability\n",
    "\n",
    "​\n",
    "\n",
    "print(X_train.shape,X_test.shape)"
   ]
  },
  {
   "cell_type": "code",
   "execution_count": null,
   "metadata": {},
   "outputs": [],
   "source": [
    "y_train_dist=y_train.groupby(y_train.iloc[:]).size()/y_train.size\n",
    "y_test_dist=y_test.groupby(y_test.iloc[:]).size()/y_test.size\n",
    "\n",
    "train_test_dist = pd.DataFrame({'train': y_train_dist, 'test': y_test_dist})\n",
    "ax = train_test_dist.plot.bar(rot=0) # rotation of the labels"
   ]
  },
  {
   "cell_type": "code",
   "execution_count": null,
   "metadata": {},
   "outputs": [],
   "source": [
    "import matplotlib.pyplot as plt\n",
    "\n",
    "x = X_train.iloc[:,0]\n",
    "y = X_train.iloc[:,1]\n",
    "\n",
    "plt.scatter(x, y,alpha=0.2,c=y_train )\n",
    "plt.show()"
   ]
  },
  {
   "cell_type": "markdown",
   "metadata": {},
   "source": [
    "# A first model: K-Nearest Neighbor\n",
    "\n",
    "The K-Nearest Neighbor classification model simply assign to new observation the most common value among its k-nearest neighbors\n",
    "\n",
    "![KNN](KnnClassification.svg)"
   ]
  },
  {
   "cell_type": "code",
   "execution_count": null,
   "metadata": {},
   "outputs": [],
   "source": [
    "#DEFINE YOUR CLASSIFIER and THE PARAMETERS GRID\n",
    "from sklearn.neighbors import KNeighborsClassifier\n",
    "import numpy as np\n",
    "\n",
    "#Create KNN Classifier\n",
    "knn3 = KNeighborsClassifier(n_neighbors=3)\n",
    "\n",
    "#Train the model using the training sets\n",
    "knn3.fit(X_train, y_train)\n",
    "\n",
    "#Predict the response for test dataset\n",
    "y_pred = knn3.predict(X_test)\n"
   ]
  },
  {
   "cell_type": "code",
   "execution_count": null,
   "metadata": {},
   "outputs": [],
   "source": [
    "y_pred"
   ]
  },
  {
   "cell_type": "code",
   "execution_count": null,
   "metadata": {},
   "outputs": [],
   "source": [
    "from sklearn.metrics import confusion_matrix\n",
    "print(confusion_matrix(y_test, y_pred))"
   ]
  },
  {
   "cell_type": "code",
   "execution_count": null,
   "metadata": {},
   "outputs": [],
   "source": [
    "#EVALUATE OUR PREDICTION\n",
    "from sklearn import metrics\n",
    "\n",
    "print('***RESULTS ON TEST SET***')\n",
    "print(\"F1_score: \",metrics.f1_score(y_test, y_pred))\n",
    "print(\"Accuracy\",metrics.accuracy_score(y_test, y_pred))\n",
    "print(\"Recall\",metrics.recall_score(y_test, y_pred))\n"
   ]
  },
  {
   "cell_type": "markdown",
   "metadata": {},
   "source": [
    "## Searching the best parameters"
   ]
  },
  {
   "cell_type": "markdown",
   "metadata": {},
   "source": [
    "#### DEFINE YOUR GRIDSEARCH \n",
    "\n",
    "GS perfoms an exhaustive search over specified parameter values for an estimator.\n",
    "GS uses a Stratified K-Folds cross-validator\n",
    "(The folds are made by preserving the percentage of samples for each class.)\n",
    "\n",
    "Some Parameters:\n",
    "\n",
    "- estimator : estimator object.\n",
    "- param_grid : dict or list of dictionaries\n",
    "- scoring : scoring parameter\n",
    "- n_jobs : Number of jobs to run in parallel. -1 means using all processors\n",
    "- cv : cross-validation generator (default 3-fold cross validation)\n",
    "- verbose : Controls the verbosity: the higher, the more messages.\n",
    "\n"
   ]
  },
  {
   "cell_type": "code",
   "execution_count": null,
   "metadata": {},
   "outputs": [],
   "source": [
    "#Create KNN Classifier\n",
    "classifier = KNeighborsClassifier()\n",
    "parameters = {'n_neighbors':np.arange(1,60,5)}\n",
    "\n",
    "from sklearn.model_selection import GridSearchCV\n",
    "gs = GridSearchCV(classifier, parameters, cv=3, scoring = 'f1', verbose=50, n_jobs=-1)"
   ]
  },
  {
   "cell_type": "code",
   "execution_count": null,
   "metadata": {},
   "outputs": [],
   "source": [
    "#TRAIN YOUR CLASSIFIER\n",
    "gs = gs.fit(X_train, y_train)"
   ]
  },
  {
   "cell_type": "code",
   "execution_count": null,
   "metadata": {},
   "outputs": [],
   "source": [
    "#summarize the results of your GRIDSEARCH\n",
    "print(\"Best score: %f using %s\" % (gs.best_score_, gs.best_params_))\n",
    "means = gs.cv_results_['mean_test_score']\n",
    "stds = gs.cv_results_['std_test_score']\n",
    "params = gs.cv_results_['params']\n",
    "for mean, stdev, param in zip(means, stds, params):\n",
    "    print(\"Mean %f Std (%f) with: %r\" % (mean, stdev, param))"
   ]
  },
  {
   "cell_type": "code",
   "execution_count": null,
   "metadata": {},
   "outputs": [],
   "source": [
    "import matplotlib.pyplot as plt\n",
    "\n",
    "plt.plot (means, color='blue', alpha=1.00)\n",
    "plt.show()"
   ]
  },
  {
   "cell_type": "code",
   "execution_count": null,
   "metadata": {},
   "outputs": [],
   "source": [
    "#TEST ON YOUR TEST SET \n",
    "best_model = gs.best_estimator_\n",
    "y_pred = best_model.predict(X_test)"
   ]
  },
  {
   "cell_type": "code",
   "execution_count": null,
   "metadata": {},
   "outputs": [],
   "source": [
    "#This is your prediction on the TEST SET\n",
    "y_pred"
   ]
  },
  {
   "cell_type": "code",
   "execution_count": null,
   "metadata": {},
   "outputs": [],
   "source": [
    "#EVALUATE YOUR PREDICTION (on the y_test that you left aside)\n",
    "from sklearn import metrics \n",
    "print('***RESULTS ON TEST SET***')\n",
    "print(\"precision: \", metrics.precision_score(y_test, y_pred)) # tp / (tp + fp)\n",
    "print(\"recall: \", metrics.recall_score(y_test, y_pred)) # tp / (tp + fn)\n",
    "print(\"f1_score: \", metrics.f1_score(y_test, y_pred)) #F1 = 2 * (precision * recall) / (precision + recall)\n",
    "print(\"accuracy: \", metrics.accuracy_score(y_test, y_pred)) # (tp+tn)/m\n"
   ]
  },
  {
   "cell_type": "code",
   "execution_count": null,
   "metadata": {},
   "outputs": [],
   "source": [
    "#PRINT SOME FURTHER METRICS\n",
    "from sklearn.metrics import classification_report\n",
    "print(classification_report(y_test, y_pred))"
   ]
  },
  {
   "cell_type": "code",
   "execution_count": null,
   "metadata": {},
   "outputs": [],
   "source": [
    "from sklearn.metrics import confusion_matrix\n",
    "print(confusion_matrix(y_test, y_pred))"
   ]
  },
  {
   "cell_type": "code",
   "execution_count": null,
   "metadata": {},
   "outputs": [],
   "source": [
    "# Plot normalized confusion matrix\n",
    "sns.heatmap(confusion_matrix(y_test, y_pred), annot=True, fmt='d', cmap=\"Reds\"); #annot=True to annotate cells fmt: format\n"
   ]
  },
  {
   "cell_type": "markdown",
   "metadata": {},
   "source": [
    "### ROC Curve"
   ]
  },
  {
   "cell_type": "code",
   "execution_count": null,
   "metadata": {},
   "outputs": [],
   "source": [
    "model = KNeighborsClassifier(n_neighbors=11)\n",
    "model.fit(X_train, y_train)\n",
    "y_pred = model.predict(X_test)\n",
    "\n",
    "y_probs = model.predict_proba(X_test) #predict_proba gives the probabilities for the target (0 and 1 in your case) \n",
    "\n",
    "fpr, tpr, thresholds=metrics.roc_curve(y_test,  y_probs[:,1])\n",
    "\n",
    "import matplotlib.pyplot as plt\n",
    "plt.plot(fpr, tpr, label='ROC')\n",
    "plt.plot([0, 1], [0, 1], color='darkblue', linestyle='--')\n",
    "plt.xlabel('False Positive Rate')\n",
    "plt.ylabel('True Positive Rate')\n",
    "plt.title('Receiver Operating Characteristic (ROC) Curve')\n",
    "plt.legend()\n",
    "plt.show()\n",
    "\n",
    "auc = metrics.roc_auc_score(y_test, y_probs[:,1])\n",
    "print('AUC: %.2f' % auc)"
   ]
  },
  {
   "cell_type": "markdown",
   "metadata": {},
   "source": [
    "## Apply PCA"
   ]
  },
  {
   "cell_type": "code",
   "execution_count": null,
   "metadata": {},
   "outputs": [],
   "source": [
    "#PCA fit\n",
    "from sklearn.decomposition import PCA\n",
    "pca = PCA()\n",
    "pca.fit(X)\n",
    "df_pca = pd.DataFrame(pca.transform(scaled_X))"
   ]
  },
  {
   "cell_type": "code",
   "execution_count": null,
   "metadata": {},
   "outputs": [],
   "source": [
    "explained_variance=pd.DataFrame(pca.explained_variance_ratio_)\n",
    "%matplotlib inline\n",
    "import seaborn as sns\n",
    "ax = sns.barplot( data=explained_variance.transpose())"
   ]
  },
  {
   "cell_type": "code",
   "execution_count": null,
   "metadata": {},
   "outputs": [],
   "source": [
    "pd.DataFrame(pca.components_,columns=X.columns)"
   ]
  },
  {
   "cell_type": "code",
   "execution_count": null,
   "metadata": {},
   "outputs": [],
   "source": [
    "X_pca = pd.DataFrame(data = pca.transform(X))\n",
    "\n",
    "X_train_pca = pd.DataFrame(data = pca.transform(X_train))\n",
    "\n",
    "X_test_pca = pd.DataFrame(data = pca.transform(X_test))\n"
   ]
  },
  {
   "cell_type": "code",
   "execution_count": null,
   "metadata": {},
   "outputs": [],
   "source": [
    "import matplotlib.pyplot as plt\n",
    "\n",
    "x = X_train_pca.iloc[:,0]\n",
    "y = X_train_pca.iloc[:,1]\n",
    "\n",
    "plt.scatter(x, y,alpha=0.2,c=y_train )\n",
    "plt.show()"
   ]
  },
  {
   "cell_type": "code",
   "execution_count": null,
   "metadata": {},
   "outputs": [],
   "source": [
    "import matplotlib.pyplot as plt\n",
    "\n",
    "x = X_test_pca.iloc[:,0]\n",
    "y = X_test_pca.iloc[:,1]\n",
    "\n",
    "plt.scatter(x, y,alpha=0.2,c=y_test )\n",
    "plt.show()"
   ]
  },
  {
   "cell_type": "code",
   "execution_count": null,
   "metadata": {},
   "outputs": [],
   "source": [
    "#DEFINE  PARAMETERS GRID\n",
    "from sklearn.neighbors import KNeighborsClassifier\n",
    "import numpy as np\n",
    "classifier = KNeighborsClassifier()\n",
    "parameters = {'n_neighbors':np.arange(1,40,5)}\n",
    "from sklearn.model_selection import GridSearchCV\n",
    "gs = GridSearchCV(classifier, parameters, cv=3, scoring = 'f1', verbose=50, n_jobs=-1)\n",
    "# We use just the two first PC\n",
    "gs = gs.fit(X_train_pca.iloc[:,:2], y_train) \n",
    "\n",
    "#Prediction\n",
    "print(\"Best score: %f using %s\" % (gs.best_score_, gs.best_params_))\n",
    "best_model = gs.best_estimator_\n",
    "y_pred = best_model.predict(X_test_pca.iloc[:,:2])\n",
    "\n",
    "print(\"f1_score: \", metrics.f1_score(y_test, y_pred))\n",
    "print(\"accuracy: \", metrics.accuracy_score(y_test, y_pred))\n",
    "\n",
    "from sklearn.metrics import confusion_matrix\n",
    "\n",
    "print(confusion_matrix(y_test, y_pred))\n",
    "\n",
    "sns.heatmap(confusion_matrix(y_test, y_pred), annot=True, fmt='d', cmap=\"Blues\"); #annot=True to annotate cells fmt: format\n"
   ]
  },
  {
   "cell_type": "code",
   "execution_count": null,
   "metadata": {},
   "outputs": [],
   "source": [
    "#Using the two first PC\n",
    "X_train_pca_2=X_train_pca.iloc[:,:2]\n",
    "X_test_pca_2=X_test_pca.iloc[:,:2]\n",
    "\n",
    "model = KNeighborsClassifier(n_neighbors=11)\n",
    "model.fit(X_train_pca_2, y_train)\n",
    "y_pred = model.predict(X_test_pca_2)\n",
    "\n",
    "y_probs = model.predict_proba(X_test_pca_2) #predict_proba gives the probabilities for the target (0 and 1 in your case) \n",
    "\n",
    "fpr, tpr, thresholds=metrics.roc_curve(y_test,  y_probs[:,1])\n",
    "\n",
    "import matplotlib.pyplot as plt\n",
    "plt.plot(fpr, tpr, label='ROC')\n",
    "plt.plot([0, 1], [0, 1], color='darkblue', linestyle='--')\n",
    "plt.xlabel('False Positive Rate')\n",
    "plt.ylabel('True Positive Rate')\n",
    "plt.title('Receiver Operating Characteristic (ROC) Curve')\n",
    "plt.legend()\n",
    "plt.show()\n",
    "\n",
    "auc = metrics.roc_auc_score(y_test, y_probs[:,1])\n",
    "print('AUC: %.2f' % auc)"
   ]
  },
  {
   "cell_type": "code",
   "execution_count": null,
   "metadata": {},
   "outputs": [],
   "source": [
    "# and with all PC\n",
    "\n",
    "model = KNeighborsClassifier(n_neighbors=11)\n",
    "model.fit(X_train_pca, y_train)\n",
    "y_pred = model.predict(X_test_pca)\n",
    "\n",
    "y_probs = model.predict_proba(X_test_pca) #predict_proba gives the probabilities for the target (0 and 1 in your case) \n",
    "\n",
    "fpr, tpr, thresholds=metrics.roc_curve(y_test,  y_probs[:,1])\n",
    "\n",
    "import matplotlib.pyplot as plt\n",
    "plt.plot(fpr, tpr, label='ROC')\n",
    "plt.plot([0, 1], [0, 1], color='darkblue', linestyle='--')\n",
    "plt.xlabel('False Positive Rate')\n",
    "plt.ylabel('True Positive Rate')\n",
    "plt.title('Receiver Operating Characteristic (ROC) Curve')\n",
    "plt.legend()\n",
    "plt.show()\n",
    "\n",
    "auc = metrics.roc_auc_score(y_test, y_probs[:,1])\n",
    "print('AUC: %.2f' % auc)"
   ]
  },
  {
   "cell_type": "code",
   "execution_count": null,
   "metadata": {},
   "outputs": [],
   "source": []
  }
 ],
 "metadata": {
  "kernelspec": {
   "display_name": "Python 3",
   "language": "python",
   "name": "python3"
  },
  "language_info": {
   "codemirror_mode": {
    "name": "ipython",
    "version": 3
   },
   "file_extension": ".py",
   "mimetype": "text/x-python",
   "name": "python",
   "nbconvert_exporter": "python",
   "pygments_lexer": "ipython3",
   "version": "3.7.6"
  }
 },
 "nbformat": 4,
 "nbformat_minor": 2
}
