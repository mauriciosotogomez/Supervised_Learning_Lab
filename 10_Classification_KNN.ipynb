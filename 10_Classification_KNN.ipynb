{
 "cells": [
  {
   "cell_type": "markdown",
   "metadata": {},
   "source": [
    "# Cassification: k-Nearest Neighbors"
   ]
  },
  {
   "cell_type": "markdown",
   "metadata": {},
   "source": [
    "## Data import"
   ]
  },
  {
   "cell_type": "code",
   "execution_count": 1,
   "metadata": {},
   "outputs": [],
   "source": [
    "import pandas as pd\n",
    "df = pd.read_csv('telemarketing_train_preprocess.csv')"
   ]
  },
  {
   "cell_type": "code",
   "execution_count": 29,
   "metadata": {},
   "outputs": [
    {
     "ename": "TypeError",
     "evalue": "'tuple' object is not callable",
     "output_type": "error",
     "traceback": [
      "\u001b[0;31m---------------------------------------------------------------------------\u001b[0m",
      "\u001b[0;31mTypeError\u001b[0m                                 Traceback (most recent call last)",
      "\u001b[0;32m<ipython-input-29-0e566b70f572>\u001b[0m in \u001b[0;36m<module>\u001b[0;34m\u001b[0m\n\u001b[0;32m----> 1\u001b[0;31m \u001b[0mdf\u001b[0m\u001b[0;34m.\u001b[0m\u001b[0mshape\u001b[0m\u001b[0;34m(\u001b[0m\u001b[0;34m)\u001b[0m\u001b[0;34m\u001b[0m\u001b[0;34m\u001b[0m\u001b[0m\n\u001b[0m",
      "\u001b[0;31mTypeError\u001b[0m: 'tuple' object is not callable"
     ]
    }
   ],
   "source": [
    "df.shape()"
   ]
  },
  {
   "cell_type": "markdown",
   "metadata": {},
   "source": [
    "## Exploratory Data Analysis"
   ]
  },
  {
   "cell_type": "code",
   "execution_count": 3,
   "metadata": {},
   "outputs": [
    {
     "name": "stdout",
     "output_type": "stream",
     "text": [
      "<class 'pandas.core.frame.DataFrame'>\n",
      "RangeIndex: 15000 entries, 0 to 14999\n",
      "Data columns (total 52 columns):\n",
      " #   Column                         Non-Null Count  Dtype  \n",
      "---  ------                         --------------  -----  \n",
      " 0   age                            15000 non-null  float64\n",
      " 1   duration                       15000 non-null  float64\n",
      " 2   campaign                       15000 non-null  float64\n",
      " 3   pdays                          15000 non-null  float64\n",
      " 4   previous                       15000 non-null  float64\n",
      " 5   emp.var.rate                   15000 non-null  float64\n",
      " 6   cons.price.idx                 15000 non-null  float64\n",
      " 7   cons.conf.idx                  15000 non-null  float64\n",
      " 8   euribor3m                      15000 non-null  float64\n",
      " 9   nr.employed                    15000 non-null  float64\n",
      " 10  marital_divorced               15000 non-null  int64  \n",
      " 11  marital_married                15000 non-null  int64  \n",
      " 12  marital_single                 15000 non-null  int64  \n",
      " 13  marital_unknown                15000 non-null  int64  \n",
      " 14  education_basic.4y             15000 non-null  int64  \n",
      " 15  education_basic.6y             15000 non-null  int64  \n",
      " 16  education_basic.9y             15000 non-null  int64  \n",
      " 17  education_high.school          15000 non-null  int64  \n",
      " 18  education_illiterate           15000 non-null  int64  \n",
      " 19  education_professional.course  15000 non-null  int64  \n",
      " 20  education_university.degree    15000 non-null  int64  \n",
      " 21  education_unknown              15000 non-null  int64  \n",
      " 22  default_no                     15000 non-null  int64  \n",
      " 23  default_unknown                15000 non-null  int64  \n",
      " 24  default_yes                    15000 non-null  int64  \n",
      " 25  housing_no                     15000 non-null  int64  \n",
      " 26  housing_unknown                15000 non-null  int64  \n",
      " 27  housing_yes                    15000 non-null  int64  \n",
      " 28  loan_no                        15000 non-null  int64  \n",
      " 29  loan_unknown                   15000 non-null  int64  \n",
      " 30  loan_yes                       15000 non-null  int64  \n",
      " 31  contact_cellular               15000 non-null  int64  \n",
      " 32  contact_telephone              15000 non-null  int64  \n",
      " 33  month_apr                      15000 non-null  int64  \n",
      " 34  month_aug                      15000 non-null  int64  \n",
      " 35  month_dec                      15000 non-null  int64  \n",
      " 36  month_jul                      15000 non-null  int64  \n",
      " 37  month_jun                      15000 non-null  int64  \n",
      " 38  month_mar                      15000 non-null  int64  \n",
      " 39  month_may                      15000 non-null  int64  \n",
      " 40  month_nov                      15000 non-null  int64  \n",
      " 41  month_oct                      15000 non-null  int64  \n",
      " 42  month_sep                      15000 non-null  int64  \n",
      " 43  day_of_week_fri                15000 non-null  int64  \n",
      " 44  day_of_week_mon                15000 non-null  int64  \n",
      " 45  day_of_week_thu                15000 non-null  int64  \n",
      " 46  day_of_week_tue                15000 non-null  int64  \n",
      " 47  day_of_week_wed                15000 non-null  int64  \n",
      " 48  poutcome_failure               15000 non-null  int64  \n",
      " 49  poutcome_nonexistent           15000 non-null  int64  \n",
      " 50  poutcome_success               15000 non-null  int64  \n",
      " 51  target                         15000 non-null  int64  \n",
      "dtypes: float64(10), int64(42)\n",
      "memory usage: 6.0 MB\n"
     ]
    }
   ],
   "source": [
    "#gives information about the data types,columns, null value counts, memory usage etc\n",
    "df.info(verbose=True)"
   ]
  },
  {
   "cell_type": "code",
   "execution_count": 7,
   "metadata": {},
   "outputs": [
    {
     "data": {
      "image/png": "[encoded data removed]",
      "text/plain": [
       "<Figure size 432x288 with 1 Axes>"
      ]
     },
     "metadata": {
      "needs_background": "light"
     },
     "output_type": "display_data"
    },
    {
     "data": {
      "image/png": "[encoded data removed]",
      "text/plain": [
       "<Figure size 432x288 with 1 Axes>"
      ]
     },
     "metadata": {
      "needs_background": "light"
     },
     "output_type": "display_data"
    },
    {
     "data": {
      "image/png": "[encoded data removed]",
      "text/plain": [
       "<Figure size 432x288 with 1 Axes>"
      ]
     },
     "metadata": {
      "needs_background": "light"
     },
     "output_type": "display_data"
    },
    {
     "data": {
      "image/png": "[encoded data removed]",
      "text/plain": [
       "<Figure size 432x288 with 1 Axes>"
      ]
     },
     "metadata": {
      "needs_background": "light"
     },
     "output_type": "display_data"
    },
    {
     "data": {
      "image/png": "[encoded data removed]",
      "text/plain": [
       "<Figure size 432x288 with 1 Axes>"
      ]
     },
     "metadata": {
      "needs_background": "light"
     },
     "output_type": "display_data"
    },
    {
     "data": {
      "image/png": "[encoded data removed]",
      "text/plain": [
       "<Figure size 432x288 with 1 Axes>"
      ]
     },
     "metadata": {
      "needs_background": "light"
     },
     "output_type": "display_data"
    },
    {
     "data": {
      "image/png": "[encoded data removed]",
      "text/plain": [
       "<Figure size 432x288 with 1 Axes>"
      ]
     },
     "metadata": {
      "needs_background": "light"
     },
     "output_type": "display_data"
    },
    {
     "data": {
      "image/png": "[encoded data removed]",
      "text/plain": [
       "<Figure size 432x288 with 1 Axes>"
      ]
     },
     "metadata": {
      "needs_background": "light"
     },
     "output_type": "display_data"
    },
    {
     "data": {
      "image/png": "[encoded data removed]",
      "text/plain": [
       "<Figure size 432x288 with 1 Axes>"
      ]
     },
     "metadata": {
      "needs_background": "light"
     },
     "output_type": "display_data"
    },
    {
     "data": {
      "image/png": "[encoded data removed]",
      "text/plain": [
       "<Figure size 432x288 with 1 Axes>"
      ]
     },
     "metadata": {
      "needs_background": "light"
     },
     "output_type": "display_data"
    },
    {
     "data": {
      "image/png": "[encoded data removed]",
      "text/plain": [
       "<Figure size 432x288 with 1 Axes>"
      ]
     },
     "metadata": {
      "needs_background": "light"
     },
     "output_type": "display_data"
    },
    {
     "data": {
      "image/png": "[encoded data removed]",
      "text/plain": [
       "<Figure size 432x288 with 1 Axes>"
      ]
     },
     "metadata": {
      "needs_background": "light"
     },
     "output_type": "display_data"
    },
    {
     "data": {
      "image/png": "[encoded data removed]",
      "text/plain": [
       "<Figure size 432x288 with 1 Axes>"
      ]
     },
     "metadata": {
      "needs_background": "light"
     },
     "output_type": "display_data"
    },
    {
     "data": {
      "image/png": "[encoded data removed]",
      "text/plain": [
       "<Figure size 432x288 with 1 Axes>"
      ]
     },
     "metadata": {
      "needs_background": "light"
     },
     "output_type": "display_data"
    },
    {
     "data": {
      "image/png": "[encoded data removed]",
      "text/plain": [
       "<Figure size 432x288 with 1 Axes>"
      ]
     },
     "metadata": {
      "needs_background": "light"
     },
     "output_type": "display_data"
    },
    {
     "data": {
      "image/png": "[encoded data removed]",
      "text/plain": [
       "<Figure size 432x288 with 1 Axes>"
      ]
     },
     "metadata": {
      "needs_background": "light"
     },
     "output_type": "display_data"
    },
    {
     "data": {
      "image/png": "[encoded data removed]",
      "text/plain": [
       "<Figure size 432x288 with 1 Axes>"
      ]
     },
     "metadata": {
      "needs_background": "light"
     },
     "output_type": "display_data"
    },
    {
     "data": {
      "image/png": "[encoded data removed]",
      "text/plain": [
       "<Figure size 432x288 with 1 Axes>"
      ]
     },
     "metadata": {
      "needs_background": "light"
     },
     "output_type": "display_data"
    },
    {
     "data": {
      "image/png": "[encoded data removed]",
      "text/plain": [
       "<Figure size 432x288 with 1 Axes>"
      ]
     },
     "metadata": {
      "needs_background": "light"
     },
     "output_type": "display_data"
    },
    {
     "data": {
      "image/png": "[encoded data removed]",
      "text/plain": [
       "<Figure size 432x288 with 1 Axes>"
      ]
     },
     "metadata": {
      "needs_background": "light"
     },
     "output_type": "display_data"
    },
    {
     "data": {
      "image/png": "[encoded data removed]",
      "text/plain": [
       "<Figure size 432x288 with 1 Axes>"
      ]
     },
     "metadata": {
      "needs_background": "light"
     },
     "output_type": "display_data"
    },
    {
     "data": {
      "image/png": "[encoded data removed]",
      "text/plain": [
       "<Figure size 432x288 with 1 Axes>"
      ]
     },
     "metadata": {
      "needs_background": "light"
     },
     "output_type": "display_data"
    },
    {
     "data": {
      "image/png": "[encoded data removed]",
      "text/plain": [
       "<Figure size 432x288 with 1 Axes>"
      ]
     },
     "metadata": {
      "needs_background": "light"
     },
     "output_type": "display_data"
    },
    {
     "data": {
      "image/png": "[encoded data removed]",
      "text/plain": [
       "<Figure size 432x288 with 1 Axes>"
      ]
     },
     "metadata": {
      "needs_background": "light"
     },
     "output_type": "display_data"
    },
    {
     "data": {
      "image/png": "[encoded data removed]",
      "text/plain": [
       "<Figure size 432x288 with 1 Axes>"
      ]
     },
     "metadata": {
      "needs_background": "light"
     },
     "output_type": "display_data"
    },
    {
     "data": {
      "image/png": "[encoded data removed]",
      "text/plain": [
       "<Figure size 432x288 with 1 Axes>"
      ]
     },
     "metadata": {
      "needs_background": "light"
     },
     "output_type": "display_data"
    },
    {
     "data": {
      "image/png": "[encoded data removed]",
      "text/plain": [
       "<Figure size 432x288 with 1 Axes>"
      ]
     },
     "metadata": {
      "needs_background": "light"
     },
     "output_type": "display_data"
    },
    {
     "data": {
      "image/png": "[encoded data removed]",
      "text/plain": [
       "<Figure size 432x288 with 1 Axes>"
      ]
     },
     "metadata": {
      "needs_background": "light"
     },
     "output_type": "display_data"
    },
    {
     "data": {
      "image/png": "[encoded data removed]",
      "text/plain": [
       "<Figure size 432x288 with 1 Axes>"
      ]
     },
     "metadata": {
      "needs_background": "light"
     },
     "output_type": "display_data"
    },
    {
     "data": {
      "image/png": "[encoded data removed]",
      "text/plain": [
       "<Figure size 432x288 with 1 Axes>"
      ]
     },
     "metadata": {
      "needs_background": "light"
     },
     "output_type": "display_data"
    },
    {
     "data": {
      "image/png": "[encoded data removed]",
      "text/plain": [
       "<Figure size 432x288 with 1 Axes>"
      ]
     },
     "metadata": {
      "needs_background": "light"
     },
     "output_type": "display_data"
    },
    {
     "data": {
      "image/png": "[encoded data removed]",
      "text/plain": [
       "<Figure size 432x288 with 1 Axes>"
      ]
     },
     "metadata": {
      "needs_background": "light"
     },
     "output_type": "display_data"
    },
    {
     "data": {
      "image/png": "[encoded data removed]",
      "text/plain": [
       "<Figure size 432x288 with 1 Axes>"
      ]
     },
     "metadata": {
      "needs_background": "light"
     },
     "output_type": "display_data"
    },
    {
     "data": {
      "image/png": "[encoded data removed]",
      "text/plain": [
       "<Figure size 432x288 with 1 Axes>"
      ]
     },
     "metadata": {
      "needs_background": "light"
     },
     "output_type": "display_data"
    },
    {
     "data": {
      "image/png": "[encoded data removed]",
      "text/plain": [
       "<Figure size 432x288 with 1 Axes>"
      ]
     },
     "metadata": {
      "needs_background": "light"
     },
     "output_type": "display_data"
    },
    {
     "data": {
      "image/png": "[encoded data removed]",
      "text/plain": [
       "<Figure size 432x288 with 1 Axes>"
      ]
     },
     "metadata": {
      "needs_background": "light"
     },
     "output_type": "display_data"
    },
    {
     "data": {
      "image/png": "[encoded data removed]",
      "text/plain": [
       "<Figure size 432x288 with 1 Axes>"
      ]
     },
     "metadata": {
      "needs_background": "light"
     },
     "output_type": "display_data"
    },
    {
     "data": {
      "image/png": "[encoded data removed]",
      "text/plain": [
       "<Figure size 432x288 with 1 Axes>"
      ]
     },
     "metadata": {
      "needs_background": "light"
     },
     "output_type": "display_data"
    },
    {
     "data": {
      "image/png": "[encoded data removed]",
      "text/plain": [
       "<Figure size 432x288 with 1 Axes>"
      ]
     },
     "metadata": {
      "needs_background": "light"
     },
     "output_type": "display_data"
    },
    {
     "data": {
      "image/png": "[encoded data removed]",
      "text/plain": [
       "<Figure size 432x288 with 1 Axes>"
      ]
     },
     "metadata": {
      "needs_background": "light"
     },
     "output_type": "display_data"
    },
    {
     "data": {
      "image/png": "[encoded data removed]",
      "text/plain": [
       "<Figure size 432x288 with 1 Axes>"
      ]
     },
     "metadata": {
      "needs_background": "light"
     },
     "output_type": "display_data"
    },
    {
     "data": {
      "image/png": "[encoded data removed]",
      "text/plain": [
       "<Figure size 432x288 with 1 Axes>"
      ]
     },
     "metadata": {
      "needs_background": "light"
     },
     "output_type": "display_data"
    },
    {
     "data": {
      "image/png": "[encoded data removed]",
      "text/plain": [
       "<Figure size 432x288 with 1 Axes>"
      ]
     },
     "metadata": {
      "needs_background": "light"
     },
     "output_type": "display_data"
    },
    {
     "data": {
      "image/png": "[encoded data removed]",
      "text/plain": [
       "<Figure size 432x288 with 1 Axes>"
      ]
     },
     "metadata": {
      "needs_background": "light"
     },
     "output_type": "display_data"
    },
    {
     "data": {
      "image/png": "[encoded data removed]",
      "text/plain": [
       "<Figure size 432x288 with 1 Axes>"
      ]
     },
     "metadata": {
      "needs_background": "light"
     },
     "output_type": "display_data"
    },
    {
     "data": {
      "image/png": "[encoded data removed]",
      "text/plain": [
       "<Figure size 432x288 with 1 Axes>"
      ]
     },
     "metadata": {
      "needs_background": "light"
     },
     "output_type": "display_data"
    },
    {
     "data": {
      "image/png": "[encoded data removed]",
      "text/plain": [
       "<Figure size 432x288 with 1 Axes>"
      ]
     },
     "metadata": {
      "needs_background": "light"
     },
     "output_type": "display_data"
    },
    {
     "data": {
      "image/png": "[encoded data removed]",
      "text/plain": [
       "<Figure size 432x288 with 1 Axes>"
      ]
     },
     "metadata": {
      "needs_background": "light"
     },
     "output_type": "display_data"
    },
    {
     "data": {
      "image/png": "[encoded data removed]",
      "text/plain": [
       "<Figure size 432x288 with 1 Axes>"
      ]
     },
     "metadata": {
      "needs_background": "light"
     },
     "output_type": "display_data"
    },
    {
     "data": {
      "image/png": "[encoded data removed]",
      "text/plain": [
       "<Figure size 432x288 with 1 Axes>"
      ]
     },
     "metadata": {
      "needs_background": "light"
     },
     "output_type": "display_data"
    },
    {
     "data": {
      "image/png": "[encoded data removed]",
      "text/plain": [
       "<Figure size 432x288 with 1 Axes>"
      ]
     },
     "metadata": {
      "needs_background": "light"
     },
     "output_type": "display_data"
    },
    {
     "data": {
      "image/png": "[encoded data removed]",
      "text/plain": [
       "<Figure size 432x288 with 1 Axes>"
      ]
     },
     "metadata": {
      "needs_background": "light"
     },
     "output_type": "display_data"
    }
   ],
   "source": [
    "%matplotlib inline\n",
    "import seaborn as sns\n",
    "import matplotlib.pyplot as plt\n",
    "\n",
    "X=df\n",
    "\n",
    "X0 = X[X['target']==0]\n",
    "X1 = X[X['target']==1]\n",
    "\n",
    "\n",
    "fig = plt.figure()\n",
    "for i in X.columns :\n",
    "    plt.hist([X0[i],X1[i]],density=True)\n",
    "    plt.title(i)\n",
    "    plt.show()\n"
   ]
  },
  {
   "cell_type": "code",
   "execution_count": 8,
   "metadata": {},
   "outputs": [
    {
     "name": "stdout",
     "output_type": "stream",
     "text": [
      "target\n",
      "0    11552\n",
      "1     3448\n",
      "dtype: int64\n"
     ]
    },
    {
     "data": {
      "text/plain": [
       "<matplotlib.axes._subplots.AxesSubplot at 0x7f6f61969750>"
      ]
     },
     "execution_count": 8,
     "metadata": {},
     "output_type": "execute_result"
    },
    {
     "data": {
      "image/png": "[encoded data removed]",
      "text/plain": [
       "<Figure size 432x288 with 1 Axes>"
      ]
     },
     "metadata": {
      "needs_background": "light"
     },
     "output_type": "display_data"
    }
   ],
   "source": [
    "#Print class freq. through pandas: we group the data by the column target and we count the number of rows \n",
    "target_dist=df.groupby('target').size()\n",
    "print(target_dist)\n",
    "\n",
    "#some imports to plot \n",
    "import matplotlib.pyplot as plt\n",
    "import seaborn as sns\n",
    "%matplotlib inline\n",
    "\n",
    "#Visualize Class Counts\n",
    "target_dist.plot.bar(x='',y='',title='Distribution of target')"
   ]
  },
  {
   "cell_type": "markdown",
   "metadata": {},
   "source": [
    "## Data Preparation "
   ]
  },
  {
   "cell_type": "markdown",
   "metadata": {},
   "source": [
    "### Separate Train/Test sets"
   ]
  },
  {
   "cell_type": "code",
   "execution_count": 9,
   "metadata": {},
   "outputs": [
    {
     "data": {
      "text/html": [
       "<div>\n",
       "<style scoped>\n",
       "    .dataframe tbody tr th:only-of-type {\n",
       "        vertical-align: middle;\n",
       "    }\n",
       "\n",
       "    .dataframe tbody tr th {\n",
       "        vertical-align: top;\n",
       "    }\n",
       "\n",
       "    .dataframe thead th {\n",
       "        text-align: right;\n",
       "    }\n",
       "</style>\n",
       "<table border=\"1\" class=\"dataframe\">\n",
       "  <thead>\n",
       "    <tr style=\"text-align: right;\">\n",
       "      <th></th>\n",
       "      <th>age</th>\n",
       "      <th>duration</th>\n",
       "      <th>campaign</th>\n",
       "      <th>pdays</th>\n",
       "      <th>previous</th>\n",
       "      <th>emp.var.rate</th>\n",
       "      <th>cons.price.idx</th>\n",
       "      <th>cons.conf.idx</th>\n",
       "      <th>euribor3m</th>\n",
       "      <th>nr.employed</th>\n",
       "      <th>...</th>\n",
       "      <th>month_sep</th>\n",
       "      <th>day_of_week_fri</th>\n",
       "      <th>day_of_week_mon</th>\n",
       "      <th>day_of_week_thu</th>\n",
       "      <th>day_of_week_tue</th>\n",
       "      <th>day_of_week_wed</th>\n",
       "      <th>poutcome_failure</th>\n",
       "      <th>poutcome_nonexistent</th>\n",
       "      <th>poutcome_success</th>\n",
       "      <th>target</th>\n",
       "    </tr>\n",
       "  </thead>\n",
       "  <tbody>\n",
       "    <tr>\n",
       "      <th>0</th>\n",
       "      <td>1.444850</td>\n",
       "      <td>-0.746982</td>\n",
       "      <td>-0.571300</td>\n",
       "      <td>-3.969061</td>\n",
       "      <td>1.366417</td>\n",
       "      <td>-1.706389</td>\n",
       "      <td>-2.254135</td>\n",
       "      <td>1.860592</td>\n",
       "      <td>-1.400757</td>\n",
       "      <td>-1.031304</td>\n",
       "      <td>...</td>\n",
       "      <td>0</td>\n",
       "      <td>0</td>\n",
       "      <td>0</td>\n",
       "      <td>0</td>\n",
       "      <td>0</td>\n",
       "      <td>1</td>\n",
       "      <td>0</td>\n",
       "      <td>0</td>\n",
       "      <td>1</td>\n",
       "      <td>1</td>\n",
       "    </tr>\n",
       "    <tr>\n",
       "      <th>1</th>\n",
       "      <td>1.082169</td>\n",
       "      <td>0.100012</td>\n",
       "      <td>-0.571300</td>\n",
       "      <td>0.252494</td>\n",
       "      <td>-0.378985</td>\n",
       "      <td>-1.706389</td>\n",
       "      <td>-0.979221</td>\n",
       "      <td>-0.075950</td>\n",
       "      <td>-1.187102</td>\n",
       "      <td>-1.031304</td>\n",
       "      <td>...</td>\n",
       "      <td>0</td>\n",
       "      <td>0</td>\n",
       "      <td>1</td>\n",
       "      <td>0</td>\n",
       "      <td>0</td>\n",
       "      <td>0</td>\n",
       "      <td>0</td>\n",
       "      <td>1</td>\n",
       "      <td>0</td>\n",
       "      <td>1</td>\n",
       "    </tr>\n",
       "    <tr>\n",
       "      <th>2</th>\n",
       "      <td>0.447476</td>\n",
       "      <td>-0.363501</td>\n",
       "      <td>0.974844</td>\n",
       "      <td>0.252494</td>\n",
       "      <td>-0.378985</td>\n",
       "      <td>0.910934</td>\n",
       "      <td>-0.174453</td>\n",
       "      <td>0.892321</td>\n",
       "      <td>0.854483</td>\n",
       "      <td>0.901546</td>\n",
       "      <td>...</td>\n",
       "      <td>0</td>\n",
       "      <td>0</td>\n",
       "      <td>0</td>\n",
       "      <td>0</td>\n",
       "      <td>0</td>\n",
       "      <td>1</td>\n",
       "      <td>0</td>\n",
       "      <td>1</td>\n",
       "      <td>0</td>\n",
       "      <td>0</td>\n",
       "    </tr>\n",
       "    <tr>\n",
       "      <th>3</th>\n",
       "      <td>-0.731238</td>\n",
       "      <td>-0.200104</td>\n",
       "      <td>-0.184764</td>\n",
       "      <td>0.252494</td>\n",
       "      <td>-0.378985</td>\n",
       "      <td>0.728330</td>\n",
       "      <td>0.745760</td>\n",
       "      <td>0.830517</td>\n",
       "      <td>0.795410</td>\n",
       "      <td>0.429467</td>\n",
       "      <td>...</td>\n",
       "      <td>0</td>\n",
       "      <td>0</td>\n",
       "      <td>0</td>\n",
       "      <td>0</td>\n",
       "      <td>1</td>\n",
       "      <td>0</td>\n",
       "      <td>0</td>\n",
       "      <td>1</td>\n",
       "      <td>0</td>\n",
       "      <td>0</td>\n",
       "    </tr>\n",
       "    <tr>\n",
       "      <th>4</th>\n",
       "      <td>-0.731238</td>\n",
       "      <td>2.884420</td>\n",
       "      <td>-0.184764</td>\n",
       "      <td>0.252494</td>\n",
       "      <td>-0.378985</td>\n",
       "      <td>-0.002086</td>\n",
       "      <td>-0.582693</td>\n",
       "      <td>-0.323168</td>\n",
       "      <td>0.333873</td>\n",
       "      <td>0.490545</td>\n",
       "      <td>...</td>\n",
       "      <td>0</td>\n",
       "      <td>1</td>\n",
       "      <td>0</td>\n",
       "      <td>0</td>\n",
       "      <td>0</td>\n",
       "      <td>0</td>\n",
       "      <td>0</td>\n",
       "      <td>1</td>\n",
       "      <td>0</td>\n",
       "      <td>0</td>\n",
       "    </tr>\n",
       "    <tr>\n",
       "      <th>...</th>\n",
       "      <td>...</td>\n",
       "      <td>...</td>\n",
       "      <td>...</td>\n",
       "      <td>...</td>\n",
       "      <td>...</td>\n",
       "      <td>...</td>\n",
       "      <td>...</td>\n",
       "      <td>...</td>\n",
       "      <td>...</td>\n",
       "      <td>...</td>\n",
       "      <td>...</td>\n",
       "      <td>...</td>\n",
       "      <td>...</td>\n",
       "      <td>...</td>\n",
       "      <td>...</td>\n",
       "      <td>...</td>\n",
       "      <td>...</td>\n",
       "      <td>...</td>\n",
       "      <td>...</td>\n",
       "      <td>...</td>\n",
       "      <td>...</td>\n",
       "    </tr>\n",
       "    <tr>\n",
       "      <th>14995</th>\n",
       "      <td>0.991498</td>\n",
       "      <td>-0.146750</td>\n",
       "      <td>-0.571300</td>\n",
       "      <td>0.252494</td>\n",
       "      <td>-0.378985</td>\n",
       "      <td>0.728330</td>\n",
       "      <td>0.745760</td>\n",
       "      <td>0.830517</td>\n",
       "      <td>0.794858</td>\n",
       "      <td>0.429467</td>\n",
       "      <td>...</td>\n",
       "      <td>0</td>\n",
       "      <td>0</td>\n",
       "      <td>0</td>\n",
       "      <td>0</td>\n",
       "      <td>1</td>\n",
       "      <td>0</td>\n",
       "      <td>0</td>\n",
       "      <td>1</td>\n",
       "      <td>0</td>\n",
       "      <td>0</td>\n",
       "    </tr>\n",
       "    <tr>\n",
       "      <th>14996</th>\n",
       "      <td>1.172839</td>\n",
       "      <td>-0.440197</td>\n",
       "      <td>6.772887</td>\n",
       "      <td>0.252494</td>\n",
       "      <td>-0.378985</td>\n",
       "      <td>0.910934</td>\n",
       "      <td>0.618604</td>\n",
       "      <td>-0.467378</td>\n",
       "      <td>0.852827</td>\n",
       "      <td>0.901546</td>\n",
       "      <td>...</td>\n",
       "      <td>0</td>\n",
       "      <td>0</td>\n",
       "      <td>0</td>\n",
       "      <td>0</td>\n",
       "      <td>1</td>\n",
       "      <td>0</td>\n",
       "      <td>0</td>\n",
       "      <td>1</td>\n",
       "      <td>0</td>\n",
       "      <td>0</td>\n",
       "    </tr>\n",
       "    <tr>\n",
       "      <th>14997</th>\n",
       "      <td>0.084795</td>\n",
       "      <td>-0.446866</td>\n",
       "      <td>0.974844</td>\n",
       "      <td>0.252494</td>\n",
       "      <td>1.366417</td>\n",
       "      <td>-1.036841</td>\n",
       "      <td>-1.096339</td>\n",
       "      <td>-1.188431</td>\n",
       "      <td>-1.195936</td>\n",
       "      <td>-0.739913</td>\n",
       "      <td>...</td>\n",
       "      <td>0</td>\n",
       "      <td>1</td>\n",
       "      <td>0</td>\n",
       "      <td>0</td>\n",
       "      <td>0</td>\n",
       "      <td>0</td>\n",
       "      <td>1</td>\n",
       "      <td>0</td>\n",
       "      <td>0</td>\n",
       "      <td>0</td>\n",
       "    </tr>\n",
       "    <tr>\n",
       "      <th>14998</th>\n",
       "      <td>-0.549897</td>\n",
       "      <td>-0.716970</td>\n",
       "      <td>0.201772</td>\n",
       "      <td>0.252494</td>\n",
       "      <td>-0.378985</td>\n",
       "      <td>0.910934</td>\n",
       "      <td>-0.174453</td>\n",
       "      <td>0.892321</td>\n",
       "      <td>0.854483</td>\n",
       "      <td>0.901546</td>\n",
       "      <td>...</td>\n",
       "      <td>0</td>\n",
       "      <td>1</td>\n",
       "      <td>0</td>\n",
       "      <td>0</td>\n",
       "      <td>0</td>\n",
       "      <td>0</td>\n",
       "      <td>0</td>\n",
       "      <td>1</td>\n",
       "      <td>0</td>\n",
       "      <td>0</td>\n",
       "    </tr>\n",
       "    <tr>\n",
       "      <th>14999</th>\n",
       "      <td>0.991498</td>\n",
       "      <td>-0.460205</td>\n",
       "      <td>-0.184764</td>\n",
       "      <td>0.252494</td>\n",
       "      <td>-0.378985</td>\n",
       "      <td>-1.706389</td>\n",
       "      <td>-0.979221</td>\n",
       "      <td>-0.075950</td>\n",
       "      <td>-1.185998</td>\n",
       "      <td>-1.031304</td>\n",
       "      <td>...</td>\n",
       "      <td>0</td>\n",
       "      <td>1</td>\n",
       "      <td>0</td>\n",
       "      <td>0</td>\n",
       "      <td>0</td>\n",
       "      <td>0</td>\n",
       "      <td>0</td>\n",
       "      <td>1</td>\n",
       "      <td>0</td>\n",
       "      <td>1</td>\n",
       "    </tr>\n",
       "  </tbody>\n",
       "</table>\n",
       "<p>15000 rows × 52 columns</p>\n",
       "</div>"
      ],
      "text/plain": [
       "            age  duration  campaign     pdays  previous  emp.var.rate  \\\n",
       "0      1.444850 -0.746982 -0.571300 -3.969061  1.366417     -1.706389   \n",
       "1      1.082169  0.100012 -0.571300  0.252494 -0.378985     -1.706389   \n",
       "2      0.447476 -0.363501  0.974844  0.252494 -0.378985      0.910934   \n",
       "3     -0.731238 -0.200104 -0.184764  0.252494 -0.378985      0.728330   \n",
       "4     -0.731238  2.884420 -0.184764  0.252494 -0.378985     -0.002086   \n",
       "...         ...       ...       ...       ...       ...           ...   \n",
       "14995  0.991498 -0.146750 -0.571300  0.252494 -0.378985      0.728330   \n",
       "14996  1.172839 -0.440197  6.772887  0.252494 -0.378985      0.910934   \n",
       "14997  0.084795 -0.446866  0.974844  0.252494  1.366417     -1.036841   \n",
       "14998 -0.549897 -0.716970  0.201772  0.252494 -0.378985      0.910934   \n",
       "14999  0.991498 -0.460205 -0.184764  0.252494 -0.378985     -1.706389   \n",
       "\n",
       "       cons.price.idx  cons.conf.idx  euribor3m  nr.employed  ...  month_sep  \\\n",
       "0           -2.254135       1.860592  -1.400757    -1.031304  ...          0   \n",
       "1           -0.979221      -0.075950  -1.187102    -1.031304  ...          0   \n",
       "2           -0.174453       0.892321   0.854483     0.901546  ...          0   \n",
       "3            0.745760       0.830517   0.795410     0.429467  ...          0   \n",
       "4           -0.582693      -0.323168   0.333873     0.490545  ...          0   \n",
       "...               ...            ...        ...          ...  ...        ...   \n",
       "14995        0.745760       0.830517   0.794858     0.429467  ...          0   \n",
       "14996        0.618604      -0.467378   0.852827     0.901546  ...          0   \n",
       "14997       -1.096339      -1.188431  -1.195936    -0.739913  ...          0   \n",
       "14998       -0.174453       0.892321   0.854483     0.901546  ...          0   \n",
       "14999       -0.979221      -0.075950  -1.185998    -1.031304  ...          0   \n",
       "\n",
       "       day_of_week_fri  day_of_week_mon  day_of_week_thu  day_of_week_tue  \\\n",
       "0                    0                0                0                0   \n",
       "1                    0                1                0                0   \n",
       "2                    0                0                0                0   \n",
       "3                    0                0                0                1   \n",
       "4                    1                0                0                0   \n",
       "...                ...              ...              ...              ...   \n",
       "14995                0                0                0                1   \n",
       "14996                0                0                0                1   \n",
       "14997                1                0                0                0   \n",
       "14998                1                0                0                0   \n",
       "14999                1                0                0                0   \n",
       "\n",
       "       day_of_week_wed  poutcome_failure  poutcome_nonexistent  \\\n",
       "0                    1                 0                     0   \n",
       "1                    0                 0                     1   \n",
       "2                    1                 0                     1   \n",
       "3                    0                 0                     1   \n",
       "4                    0                 0                     1   \n",
       "...                ...               ...                   ...   \n",
       "14995                0                 0                     1   \n",
       "14996                0                 0                     1   \n",
       "14997                0                 1                     0   \n",
       "14998                0                 0                     1   \n",
       "14999                0                 0                     1   \n",
       "\n",
       "       poutcome_success  target  \n",
       "0                     1       1  \n",
       "1                     0       1  \n",
       "2                     0       0  \n",
       "3                     0       0  \n",
       "4                     0       0  \n",
       "...                 ...     ...  \n",
       "14995                 0       0  \n",
       "14996                 0       0  \n",
       "14997                 0       0  \n",
       "14998                 0       0  \n",
       "14999                 0       1  \n",
       "\n",
       "[15000 rows x 52 columns]"
      ]
     },
     "execution_count": 9,
     "metadata": {},
     "output_type": "execute_result"
    }
   ],
   "source": [
    "df"
   ]
  },
  {
   "cell_type": "code",
   "execution_count": 10,
   "metadata": {},
   "outputs": [
    {
     "data": {
      "text/plain": [
       "0    1\n",
       "1    1\n",
       "2    0\n",
       "3    0\n",
       "4    0\n",
       "Name: target, dtype: int64"
      ]
     },
     "execution_count": 10,
     "metadata": {},
     "output_type": "execute_result"
    }
   ],
   "source": [
    "#Separate X and y (explanatory variables and target variable)\n",
    "X = df.iloc[:,0:-1]\n",
    "y = df.iloc[:,-1] #[-1]]\n",
    "\n",
    "#X.head()\n",
    "y.head()"
   ]
  },
  {
   "cell_type": "code",
   "execution_count": 16,
   "metadata": {},
   "outputs": [
    {
     "name": "stdout",
     "output_type": "stream",
     "text": [
      "(10500, 51) (4500, 51)\n"
     ]
    }
   ],
   "source": [
    "from sklearn.model_selection import train_test_split\n",
    "\n",
    "#SPLIT DATA INTO TRAIN AND TEST SET\n",
    "X_train, X_test, y_train, y_test = train_test_split(X, y, \n",
    "                                                    test_size =0.30, #by default is 75%-25%\n",
    "                                                    #shuffle is set True by default,\n",
    "                                                    stratify=y,\n",
    "                                                    random_state= 234) #fix random seed for replicability\n",
    "\n",
    "print(X_train.shape,X_test.shape)"
   ]
  },
  {
   "cell_type": "code",
   "execution_count": 17,
   "metadata": {},
   "outputs": [
    {
     "data": {
      "image/png": "[encoded data removed]",
      "text/plain": [
       "<Figure size 432x288 with 1 Axes>"
      ]
     },
     "metadata": {
      "needs_background": "light"
     },
     "output_type": "display_data"
    }
   ],
   "source": [
    "y_train_dist=y_train.groupby(y_train.iloc[:]).size()/y_train.size\n",
    "y_test_dist=y_test.groupby(y_test.iloc[:]).size()/y_test.size\n",
    "\n",
    "train_test_dist = pd.DataFrame({'train': y_train_dist, 'test': y_test_dist})\n",
    "ax = train_test_dist.plot.bar(rot=0) # rotation of the labels"
   ]
  },
  {
   "cell_type": "code",
   "execution_count": 18,
   "metadata": {},
   "outputs": [
    {
     "data": {
      "image/png": "[encoded data removed]",
      "text/plain": [
       "<Figure size 432x288 with 1 Axes>"
      ]
     },
     "metadata": {
      "needs_background": "light"
     },
     "output_type": "display_data"
    }
   ],
   "source": [
    "import matplotlib.pyplot as plt\n",
    "\n",
    "x = X_train.iloc[:,0]\n",
    "y = X_train.iloc[:,1]\n",
    "\n",
    "plt.scatter(x, y,alpha=0.2,c=y_train )\n",
    "plt.show()"
   ]
  },
  {
   "cell_type": "markdown",
   "metadata": {},
   "source": [
    "# A first model: K-Nearest Neighbor\n",
    "\n",
    "The K-Nearest Neighbor classification model simply assign to new observation the most common value among its k-nearest neighbors\n",
    "\n",
    "![KNN](KnnClassification.svg)"
   ]
  },
  {
   "cell_type": "code",
   "execution_count": 20,
   "metadata": {},
   "outputs": [],
   "source": [
    "#DEFINE YOUR CLASSIFIER and THE PARAMETERS GRID\n",
    "from sklearn.neighbors import KNeighborsClassifier\n",
    "import numpy as np\n",
    "\n",
    "#Create KNN Classifier\n",
    "knn3 = KNeighborsClassifier(n_neighbors=3)\n",
    "\n",
    "#Train the model using the training sets\n",
    "knn3.fit(X_train, y_train)\n",
    "\n",
    "#Predict the response for test dataset\n",
    "y_pred = knn3.predict(X_test)\n"
   ]
  },
  {
   "cell_type": "code",
   "execution_count": 21,
   "metadata": {},
   "outputs": [
    {
     "data": {
      "text/plain": [
       "array([0, 0, 0, ..., 0, 0, 0])"
      ]
     },
     "execution_count": 21,
     "metadata": {},
     "output_type": "execute_result"
    }
   ],
   "source": [
    "y_pred"
   ]
  },
  {
   "cell_type": "code",
   "execution_count": 22,
   "metadata": {},
   "outputs": [
    {
     "name": "stdout",
     "output_type": "stream",
     "text": [
      "[[3162  304]\n",
      " [ 374  660]]\n"
     ]
    }
   ],
   "source": [
    "from sklearn.metrics import confusion_matrix\n",
    "print(confusion_matrix(y_test, y_pred))"
   ]
  },
  {
   "cell_type": "code",
   "execution_count": 23,
   "metadata": {},
   "outputs": [
    {
     "name": "stdout",
     "output_type": "stream",
     "text": [
      "***RESULTS ON TEST SET***\n",
      "F1_score:  0.6606606606606608\n",
      "Accuracy 0.8493333333333334\n",
      "Recall 0.6382978723404256\n"
     ]
    }
   ],
   "source": [
    "#EVALUATE OUR PREDICTION\n",
    "from sklearn import metrics\n",
    "\n",
    "print('***RESULTS ON TEST SET***')\n",
    "print(\"F1_score: \",metrics.f1_score(y_test, y_pred))\n",
    "print(\"Accuracy\",metrics.accuracy_score(y_test, y_pred))\n",
    "print(\"Recall\",metrics.recall_score(y_test, y_pred))\n"
   ]
  },
  {
   "cell_type": "markdown",
   "metadata": {},
   "source": [
    "## Searching the best parameters"
   ]
  },
  {
   "cell_type": "markdown",
   "metadata": {},
   "source": [
    "#### DEFINE YOUR GRIDSEARCH \n",
    "\n",
    "GS perfoms an exhaustive search over specified parameter values for an estimator.\n",
    "GS uses a Stratified K-Folds cross-validator\n",
    "(The folds are made by preserving the percentage of samples for each class.)\n",
    "\n",
    "Some Parameters:\n",
    "\n",
    "- estimator : estimator object.\n",
    "- param_grid : dict or list of dictionaries\n",
    "- scoring : scoring parameter\n",
    "- n_jobs : Number of jobs to run in parallel. -1 means using all processors\n",
    "- cv : cross-validation generator (default 3-fold cross validation)\n",
    "- verbose : Controls the verbosity: the higher, the more messages.\n",
    "\n"
   ]
  },
  {
   "cell_type": "code",
   "execution_count": 26,
   "metadata": {},
   "outputs": [],
   "source": [
    "#Create KNN Classifier\n",
    "classifier = KNeighborsClassifier()\n",
    "parameters = {'n_neighbors':np.arange(1,30)}\n",
    "\n",
    "from sklearn.model_selection import GridSearchCV\n",
    "gs = GridSearchCV(classifier, parameters, cv=3, scoring = 'f1', verbose=50, n_jobs=-1)"
   ]
  },
  {
   "cell_type": "code",
   "execution_count": 28,
   "metadata": {},
   "outputs": [
    {
     "name": "stdout",
     "output_type": "stream",
     "text": [
      "Fitting 3 folds for each of 29 candidates, totalling 87 fits\n",
      "[Parallel(n_jobs=-1)]: Using backend LokyBackend with 8 concurrent workers.\n",
      "[Parallel(n_jobs=-1)]: Done   1 tasks      | elapsed:    7.2s\n",
      "[Parallel(n_jobs=-1)]: Done   2 tasks      | elapsed:    7.2s\n",
      "[Parallel(n_jobs=-1)]: Done   3 tasks      | elapsed:    7.4s\n",
      "[Parallel(n_jobs=-1)]: Done   4 tasks      | elapsed:    8.9s\n",
      "[Parallel(n_jobs=-1)]: Done   5 tasks      | elapsed:    9.4s\n",
      "[Parallel(n_jobs=-1)]: Done   6 tasks      | elapsed:    9.7s\n",
      "[Parallel(n_jobs=-1)]: Done   7 tasks      | elapsed:    9.7s\n",
      "[Parallel(n_jobs=-1)]: Done   8 tasks      | elapsed:   10.2s\n",
      "[Parallel(n_jobs=-1)]: Done   9 tasks      | elapsed:   14.9s\n",
      "[Parallel(n_jobs=-1)]: Done  10 tasks      | elapsed:   15.5s\n",
      "[Parallel(n_jobs=-1)]: Done  11 tasks      | elapsed:   16.1s\n",
      "[Parallel(n_jobs=-1)]: Done  12 tasks      | elapsed:   17.5s\n",
      "[Parallel(n_jobs=-1)]: Done  13 tasks      | elapsed:   17.6s\n",
      "[Parallel(n_jobs=-1)]: Done  14 tasks      | elapsed:   17.8s\n",
      "[Parallel(n_jobs=-1)]: Done  15 tasks      | elapsed:   18.1s\n",
      "[Parallel(n_jobs=-1)]: Done  16 tasks      | elapsed:   18.9s\n",
      "[Parallel(n_jobs=-1)]: Done  17 tasks      | elapsed:   23.0s\n",
      "[Parallel(n_jobs=-1)]: Done  18 tasks      | elapsed:   24.5s\n",
      "[Parallel(n_jobs=-1)]: Done  19 tasks      | elapsed:   24.6s\n",
      "[Parallel(n_jobs=-1)]: Done  20 tasks      | elapsed:   25.8s\n",
      "[Parallel(n_jobs=-1)]: Done  21 tasks      | elapsed:   26.6s\n",
      "[Parallel(n_jobs=-1)]: Done  22 tasks      | elapsed:   26.8s\n",
      "[Parallel(n_jobs=-1)]: Done  23 tasks      | elapsed:   26.8s\n",
      "[Parallel(n_jobs=-1)]: Done  24 tasks      | elapsed:   27.8s\n",
      "[Parallel(n_jobs=-1)]: Done  25 tasks      | elapsed:   31.3s\n",
      "[Parallel(n_jobs=-1)]: Done  26 tasks      | elapsed:   33.9s\n",
      "[Parallel(n_jobs=-1)]: Done  27 tasks      | elapsed:   34.0s\n",
      "[Parallel(n_jobs=-1)]: Done  28 tasks      | elapsed:   34.7s\n",
      "[Parallel(n_jobs=-1)]: Done  29 tasks      | elapsed:   35.2s\n",
      "[Parallel(n_jobs=-1)]: Done  30 tasks      | elapsed:   36.3s\n",
      "[Parallel(n_jobs=-1)]: Done  31 tasks      | elapsed:   36.4s\n",
      "[Parallel(n_jobs=-1)]: Done  32 tasks      | elapsed:   36.7s\n",
      "[Parallel(n_jobs=-1)]: Done  33 tasks      | elapsed:   39.9s\n",
      "[Parallel(n_jobs=-1)]: Done  34 tasks      | elapsed:   43.1s\n",
      "[Parallel(n_jobs=-1)]: Done  35 tasks      | elapsed:   43.2s\n",
      "[Parallel(n_jobs=-1)]: Done  36 tasks      | elapsed:   44.1s\n",
      "[Parallel(n_jobs=-1)]: Done  37 tasks      | elapsed:   45.8s\n",
      "[Parallel(n_jobs=-1)]: Done  38 tasks      | elapsed:   46.2s\n",
      "[Parallel(n_jobs=-1)]: Done  39 tasks      | elapsed:   46.3s\n",
      "[Parallel(n_jobs=-1)]: Done  40 tasks      | elapsed:   46.7s\n",
      "[Parallel(n_jobs=-1)]: Done  41 tasks      | elapsed:   50.9s\n",
      "[Parallel(n_jobs=-1)]: Done  42 tasks      | elapsed:   52.7s\n",
      "[Parallel(n_jobs=-1)]: Done  43 tasks      | elapsed:   54.1s\n",
      "[Parallel(n_jobs=-1)]: Done  44 tasks      | elapsed:   54.4s\n",
      "[Parallel(n_jobs=-1)]: Done  45 tasks      | elapsed:   56.8s\n",
      "[Parallel(n_jobs=-1)]: Done  46 tasks      | elapsed:   58.0s\n",
      "[Parallel(n_jobs=-1)]: Done  47 tasks      | elapsed:   58.0s\n",
      "[Parallel(n_jobs=-1)]: Done  48 tasks      | elapsed:   58.1s\n",
      "[Parallel(n_jobs=-1)]: Done  49 tasks      | elapsed:  1.0min\n",
      "[Parallel(n_jobs=-1)]: Done  50 tasks      | elapsed:  1.1min\n",
      "[Parallel(n_jobs=-1)]: Done  51 tasks      | elapsed:  1.1min\n",
      "[Parallel(n_jobs=-1)]: Done  52 tasks      | elapsed:  1.1min\n",
      "[Parallel(n_jobs=-1)]: Done  53 tasks      | elapsed:  1.1min\n",
      "[Parallel(n_jobs=-1)]: Done  54 tasks      | elapsed:  1.1min\n",
      "[Parallel(n_jobs=-1)]: Done  55 tasks      | elapsed:  1.2min\n",
      "[Parallel(n_jobs=-1)]: Done  56 tasks      | elapsed:  1.2min\n",
      "[Parallel(n_jobs=-1)]: Done  57 tasks      | elapsed:  1.2min\n",
      "[Parallel(n_jobs=-1)]: Done  58 tasks      | elapsed:  1.3min\n",
      "[Parallel(n_jobs=-1)]: Done  59 tasks      | elapsed:  1.3min\n",
      "[Parallel(n_jobs=-1)]: Done  60 tasks      | elapsed:  1.3min\n",
      "[Parallel(n_jobs=-1)]: Done  61 tasks      | elapsed:  1.3min\n",
      "[Parallel(n_jobs=-1)]: Done  62 tasks      | elapsed:  1.3min\n",
      "[Parallel(n_jobs=-1)]: Done  63 tasks      | elapsed:  1.4min\n",
      "[Parallel(n_jobs=-1)]: Done  64 tasks      | elapsed:  1.4min\n",
      "[Parallel(n_jobs=-1)]: Done  65 tasks      | elapsed:  1.4min\n",
      "[Parallel(n_jobs=-1)]: Done  66 tasks      | elapsed:  1.5min\n",
      "[Parallel(n_jobs=-1)]: Done  67 tasks      | elapsed:  1.5min\n",
      "[Parallel(n_jobs=-1)]: Done  68 tasks      | elapsed:  1.5min\n",
      "[Parallel(n_jobs=-1)]: Done  69 tasks      | elapsed:  1.5min\n",
      "[Parallel(n_jobs=-1)]: Done  70 tasks      | elapsed:  1.5min\n",
      "[Parallel(n_jobs=-1)]: Done  71 tasks      | elapsed:  1.5min\n",
      "[Parallel(n_jobs=-1)]: Done  72 tasks      | elapsed:  1.5min\n",
      "[Parallel(n_jobs=-1)]: Done  74 out of  87 | elapsed:  1.6min remaining:   17.2s\n",
      "[Parallel(n_jobs=-1)]: Done  76 out of  87 | elapsed:  1.7min remaining:   14.5s\n",
      "[Parallel(n_jobs=-1)]: Done  78 out of  87 | elapsed:  1.7min remaining:   11.8s\n",
      "[Parallel(n_jobs=-1)]: Done  80 out of  87 | elapsed:  1.7min remaining:    9.0s\n",
      "[Parallel(n_jobs=-1)]: Done  82 out of  87 | elapsed:  1.8min remaining:    6.5s\n",
      "[Parallel(n_jobs=-1)]: Done  84 out of  87 | elapsed:  1.8min remaining:    3.9s\n",
      "[Parallel(n_jobs=-1)]: Done  87 out of  87 | elapsed:  1.8min finished\n"
     ]
    }
   ],
   "source": [
    "#TRAIN YOUR CLASSIFIER\n",
    "gs = gs.fit(X_train, y_train)"
   ]
  },
  {
   "cell_type": "code",
   "execution_count": 30,
   "metadata": {},
   "outputs": [
    {
     "name": "stdout",
     "output_type": "stream",
     "text": [
      "Best score: 0.663825 using {'n_neighbors': 7}\n",
      "Mean 0.618684 Std (0.014296) with: {'n_neighbors': 1}\n",
      "Mean 0.527180 Std (0.011477) with: {'n_neighbors': 2}\n",
      "Mean 0.651922 Std (0.007347) with: {'n_neighbors': 3}\n",
      "Mean 0.591459 Std (0.009284) with: {'n_neighbors': 4}\n",
      "Mean 0.662603 Std (0.006339) with: {'n_neighbors': 5}\n",
      "Mean 0.612198 Std (0.009999) with: {'n_neighbors': 6}\n",
      "Mean 0.663825 Std (0.003478) with: {'n_neighbors': 7}\n",
      "Mean 0.626982 Std (0.013424) with: {'n_neighbors': 8}\n",
      "Mean 0.657936 Std (0.003060) with: {'n_neighbors': 9}\n",
      "Mean 0.624808 Std (0.008618) with: {'n_neighbors': 10}\n",
      "Mean 0.656185 Std (0.003175) with: {'n_neighbors': 11}\n",
      "Mean 0.630053 Std (0.003265) with: {'n_neighbors': 12}\n",
      "Mean 0.655950 Std (0.002606) with: {'n_neighbors': 13}\n",
      "Mean 0.630814 Std (0.003851) with: {'n_neighbors': 14}\n",
      "Mean 0.653213 Std (0.000650) with: {'n_neighbors': 15}\n",
      "Mean 0.637307 Std (0.006914) with: {'n_neighbors': 16}\n",
      "Mean 0.657668 Std (0.006131) with: {'n_neighbors': 17}\n",
      "Mean 0.639737 Std (0.003235) with: {'n_neighbors': 18}\n",
      "Mean 0.660340 Std (0.002628) with: {'n_neighbors': 19}\n",
      "Mean 0.645321 Std (0.004492) with: {'n_neighbors': 20}\n",
      "Mean 0.659640 Std (0.005665) with: {'n_neighbors': 21}\n",
      "Mean 0.645066 Std (0.004133) with: {'n_neighbors': 22}\n",
      "Mean 0.660267 Std (0.002401) with: {'n_neighbors': 23}\n",
      "Mean 0.644787 Std (0.008835) with: {'n_neighbors': 24}\n",
      "Mean 0.656692 Std (0.005654) with: {'n_neighbors': 25}\n",
      "Mean 0.640109 Std (0.005470) with: {'n_neighbors': 26}\n",
      "Mean 0.656725 Std (0.003182) with: {'n_neighbors': 27}\n",
      "Mean 0.639287 Std (0.007112) with: {'n_neighbors': 28}\n",
      "Mean 0.651113 Std (0.009319) with: {'n_neighbors': 29}\n"
     ]
    }
   ],
   "source": [
    "#summarize the results of your GRIDSEARCH\n",
    "print(\"Best score: %f using %s\" % (gs.best_score_, gs.best_params_))\n",
    "means = gs.cv_results_['mean_test_score']\n",
    "stds = gs.cv_results_['std_test_score']\n",
    "params = gs.cv_results_['params']\n",
    "for mean, stdev, param in zip(means, stds, params):\n",
    "    print(\"Mean %f Std (%f) with: %r\" % (mean, stdev, param))"
   ]
  },
  {
   "cell_type": "code",
   "execution_count": 31,
   "metadata": {},
   "outputs": [
    {
     "data": {
      "image/png": "[encoded data removed]",
      "text/plain": [
       "<Figure size 432x288 with 1 Axes>"
      ]
     },
     "metadata": {
      "needs_background": "light"
     },
     "output_type": "display_data"
    }
   ],
   "source": [
    "import matplotlib.pyplot as plt\n",
    "\n",
    "plt.plot (means, color='blue', alpha=1.00)\n",
    "plt.show()"
   ]
  },
  {
   "cell_type": "code",
   "execution_count": 32,
   "metadata": {},
   "outputs": [],
   "source": [
    "#TEST ON YOUR TEST SET \n",
    "best_model = gs.best_estimator_\n",
    "y_pred = best_model.predict(X_test)"
   ]
  },
  {
   "cell_type": "code",
   "execution_count": 34,
   "metadata": {},
   "outputs": [
    {
     "data": {
      "text/plain": [
       "array([0, 0, 0, ..., 0, 0, 0])"
      ]
     },
     "execution_count": 34,
     "metadata": {},
     "output_type": "execute_result"
    }
   ],
   "source": [
    "#This is your prediction on the TEST SET\n",
    "y_pred"
   ]
  },
  {
   "cell_type": "code",
   "execution_count": 36,
   "metadata": {},
   "outputs": [
    {
     "name": "stdout",
     "output_type": "stream",
     "text": [
      "***RESULTS ON TEST SET***\n",
      "precision:  0.7114967462039046\n",
      "recall:  0.6344294003868471\n",
      "f1_score:  0.6707566462167689\n",
      "accuracy:  0.8568888888888889\n"
     ]
    }
   ],
   "source": [
    "#EVALUATE YOUR PREDICTION (on the y_test that you left aside)\n",
    "from sklearn import metrics \n",
    "print('***RESULTS ON TEST SET***')\n",
    "print(\"precision: \", metrics.precision_score(y_test, y_pred)) # tp / (tp + fp)\n",
    "print(\"recall: \", metrics.recall_score(y_test, y_pred)) # tp / (tp + fn)\n",
    "print(\"f1_score: \", metrics.f1_score(y_test, y_pred)) #F1 = 2 * (precision * recall) / (precision + recall)\n",
    "print(\"accuracy: \", metrics.accuracy_score(y_test, y_pred)) # (tp+tn)/m\n"
   ]
  },
  {
   "cell_type": "code",
   "execution_count": 37,
   "metadata": {},
   "outputs": [
    {
     "name": "stdout",
     "output_type": "stream",
     "text": [
      "              precision    recall  f1-score   support\n",
      "\n",
      "           0       0.89      0.92      0.91      3466\n",
      "           1       0.71      0.63      0.67      1034\n",
      "\n",
      "    accuracy                           0.86      4500\n",
      "   macro avg       0.80      0.78      0.79      4500\n",
      "weighted avg       0.85      0.86      0.85      4500\n",
      "\n"
     ]
    }
   ],
   "source": [
    "#PRINT SOME FURTHER METRICS\n",
    "from sklearn.metrics import classification_report\n",
    "print(classification_report(y_test, y_pred))"
   ]
  },
  {
   "cell_type": "code",
   "execution_count": 38,
   "metadata": {},
   "outputs": [
    {
     "name": "stdout",
     "output_type": "stream",
     "text": [
      "[[3200  266]\n",
      " [ 378  656]]\n"
     ]
    }
   ],
   "source": [
    "from sklearn.metrics import confusion_matrix\n",
    "print(confusion_matrix(y_test, y_pred))"
   ]
  },
  {
   "cell_type": "code",
   "execution_count": 39,
   "metadata": {},
   "outputs": [
    {
     "data": {
      "image/png": "[encoded data removed]",
      "text/plain": [
       "<Figure size 432x288 with 2 Axes>"
      ]
     },
     "metadata": {
      "needs_background": "light"
     },
     "output_type": "display_data"
    }
   ],
   "source": [
    "# Plot normalized confusion matrix\n",
    "sns.heatmap(confusion_matrix(y_test, y_pred), annot=True, fmt='d', cmap=\"Reds\"); #annot=True to annotate cells fmt: format\n"
   ]
  },
  {
   "cell_type": "markdown",
   "metadata": {},
   "source": [
    "### ROC Curve"
   ]
  },
  {
   "cell_type": "code",
   "execution_count": 40,
   "metadata": {},
   "outputs": [
    {
     "data": {
      "image/png": "[encoded data removed]",
      "text/plain": [
       "<Figure size 432x288 with 1 Axes>"
      ]
     },
     "metadata": {
      "needs_background": "light"
     },
     "output_type": "display_data"
    },
    {
     "name": "stdout",
     "output_type": "stream",
     "text": [
      "AUC: 0.90\n"
     ]
    }
   ],
   "source": [
    "model = KNeighborsClassifier(n_neighbors=7)\n",
    "model.fit(X_train, y_train)\n",
    "y_pred = model.predict(X_test)\n",
    "\n",
    "y_probs = model.predict_proba(X_test) #predict_proba gives the probabilities for the target (0 and 1 in your case) \n",
    "\n",
    "fpr, tpr, thresholds=metrics.roc_curve(y_test,  y_probs[:,1])\n",
    "\n",
    "import matplotlib.pyplot as plt\n",
    "plt.plot(fpr, tpr, label='ROC')\n",
    "plt.plot([0, 1], [0, 1], color='darkblue', linestyle='--')\n",
    "plt.xlabel('False Positive Rate')\n",
    "plt.ylabel('True Positive Rate')\n",
    "plt.title('Receiver Operating Characteristic (ROC) Curve')\n",
    "plt.legend()\n",
    "plt.show()\n",
    "\n",
    "auc = metrics.roc_auc_score(y_test, y_probs[:,1])\n",
    "print('AUC: %.2f' % auc)"
   ]
  },
  {
   "cell_type": "markdown",
   "metadata": {},
   "source": [
    "## Apply PCA"
   ]
  },
  {
   "cell_type": "code",
   "execution_count": 43,
   "metadata": {},
   "outputs": [],
   "source": [
    "#PCA fit\n",
    "from sklearn.decomposition import PCA\n",
    "pca = PCA()\n",
    "pca.fit(X)\n",
    "df_pca = pd.DataFrame(pca.transform(X))"
   ]
  },
  {
   "cell_type": "code",
   "execution_count": 44,
   "metadata": {},
   "outputs": [
    {
     "data": {
      "image/png": "[encoded data removed]",
      "text/plain": [
       "<Figure size 432x288 with 1 Axes>"
      ]
     },
     "metadata": {
      "needs_background": "light"
     },
     "output_type": "display_data"
    }
   ],
   "source": [
    "explained_variance=pd.DataFrame(pca.explained_variance_ratio_)\n",
    "%matplotlib inline\n",
    "import seaborn as sns\n",
    "ax = sns.barplot( data=explained_variance.transpose())"
   ]
  },
  {
   "cell_type": "code",
   "execution_count": 45,
   "metadata": {},
   "outputs": [
    {
     "data": {
      "text/html": [
       "<div>\n",
       "<style scoped>\n",
       "    .dataframe tbody tr th:only-of-type {\n",
       "        vertical-align: middle;\n",
       "    }\n",
       "\n",
       "    .dataframe tbody tr th {\n",
       "        vertical-align: top;\n",
       "    }\n",
       "\n",
       "    .dataframe thead th {\n",
       "        text-align: right;\n",
       "    }\n",
       "</style>\n",
       "<table border=\"1\" class=\"dataframe\">\n",
       "  <thead>\n",
       "    <tr style=\"text-align: right;\">\n",
       "      <th></th>\n",
       "      <th>age</th>\n",
       "      <th>duration</th>\n",
       "      <th>campaign</th>\n",
       "      <th>pdays</th>\n",
       "      <th>previous</th>\n",
       "      <th>emp.var.rate</th>\n",
       "      <th>cons.price.idx</th>\n",
       "      <th>cons.conf.idx</th>\n",
       "      <th>euribor3m</th>\n",
       "      <th>nr.employed</th>\n",
       "      <th>...</th>\n",
       "      <th>month_oct</th>\n",
       "      <th>month_sep</th>\n",
       "      <th>day_of_week_fri</th>\n",
       "      <th>day_of_week_mon</th>\n",
       "      <th>day_of_week_thu</th>\n",
       "      <th>day_of_week_tue</th>\n",
       "      <th>day_of_week_wed</th>\n",
       "      <th>poutcome_failure</th>\n",
       "      <th>poutcome_nonexistent</th>\n",
       "      <th>poutcome_success</th>\n",
       "    </tr>\n",
       "  </thead>\n",
       "  <tbody>\n",
       "    <tr>\n",
       "      <th>0</th>\n",
       "      <td>2.221839e-02</td>\n",
       "      <td>2.779887e-02</td>\n",
       "      <td>-1.109841e-01</td>\n",
       "      <td>-2.562435e-01</td>\n",
       "      <td>3.115088e-01</td>\n",
       "      <td>-4.684547e-01</td>\n",
       "      <td>-3.375585e-01</td>\n",
       "      <td>-3.703172e-02</td>\n",
       "      <td>-4.723369e-01</td>\n",
       "      <td>-4.548605e-01</td>\n",
       "      <td>...</td>\n",
       "      <td>0.016462</td>\n",
       "      <td>0.015286</td>\n",
       "      <td>0.001450</td>\n",
       "      <td>-0.001735</td>\n",
       "      <td>0.004366</td>\n",
       "      <td>-0.000176</td>\n",
       "      <td>-0.003905</td>\n",
       "      <td>0.063524</td>\n",
       "      <td>-1.186220e-01</td>\n",
       "      <td>0.055098</td>\n",
       "    </tr>\n",
       "    <tr>\n",
       "      <th>1</th>\n",
       "      <td>2.558851e-01</td>\n",
       "      <td>4.607300e-03</td>\n",
       "      <td>2.347116e-02</td>\n",
       "      <td>-5.683475e-01</td>\n",
       "      <td>4.676517e-01</td>\n",
       "      <td>1.865393e-01</td>\n",
       "      <td>3.562173e-01</td>\n",
       "      <td>3.735219e-01</td>\n",
       "      <td>1.522774e-01</td>\n",
       "      <td>-1.765072e-02</td>\n",
       "      <td>...</td>\n",
       "      <td>0.012954</td>\n",
       "      <td>0.018510</td>\n",
       "      <td>-0.002989</td>\n",
       "      <td>-0.010012</td>\n",
       "      <td>-0.008731</td>\n",
       "      <td>0.011325</td>\n",
       "      <td>0.010407</td>\n",
       "      <td>0.005548</td>\n",
       "      <td>-1.270200e-01</td>\n",
       "      <td>0.121472</td>\n",
       "    </tr>\n",
       "    <tr>\n",
       "      <th>2</th>\n",
       "      <td>6.385432e-01</td>\n",
       "      <td>-1.187436e-01</td>\n",
       "      <td>-1.289207e-01</td>\n",
       "      <td>2.100928e-01</td>\n",
       "      <td>-2.518643e-01</td>\n",
       "      <td>-9.243449e-02</td>\n",
       "      <td>-3.025887e-01</td>\n",
       "      <td>5.161806e-01</td>\n",
       "      <td>3.337834e-03</td>\n",
       "      <td>-5.360634e-03</td>\n",
       "      <td>...</td>\n",
       "      <td>0.015006</td>\n",
       "      <td>0.008049</td>\n",
       "      <td>0.001307</td>\n",
       "      <td>-0.002259</td>\n",
       "      <td>-0.016404</td>\n",
       "      <td>0.018718</td>\n",
       "      <td>-0.001362</td>\n",
       "      <td>-0.029428</td>\n",
       "      <td>7.291279e-02</td>\n",
       "      <td>-0.043485</td>\n",
       "    </tr>\n",
       "    <tr>\n",
       "      <th>3</th>\n",
       "      <td>1.326928e-02</td>\n",
       "      <td>7.949192e-01</td>\n",
       "      <td>-5.973819e-01</td>\n",
       "      <td>9.739137e-03</td>\n",
       "      <td>-4.762054e-02</td>\n",
       "      <td>4.252542e-02</td>\n",
       "      <td>4.584849e-02</td>\n",
       "      <td>1.715814e-02</td>\n",
       "      <td>4.386853e-02</td>\n",
       "      <td>2.342937e-02</td>\n",
       "      <td>...</td>\n",
       "      <td>0.000933</td>\n",
       "      <td>0.001497</td>\n",
       "      <td>-0.009910</td>\n",
       "      <td>-0.017554</td>\n",
       "      <td>0.008505</td>\n",
       "      <td>0.007699</td>\n",
       "      <td>0.011259</td>\n",
       "      <td>-0.016411</td>\n",
       "      <td>1.828467e-02</td>\n",
       "      <td>-0.001874</td>\n",
       "    </tr>\n",
       "    <tr>\n",
       "      <th>4</th>\n",
       "      <td>5.932122e-01</td>\n",
       "      <td>2.712593e-01</td>\n",
       "      <td>3.642146e-01</td>\n",
       "      <td>4.396825e-02</td>\n",
       "      <td>4.680121e-02</td>\n",
       "      <td>-4.484022e-03</td>\n",
       "      <td>1.504391e-01</td>\n",
       "      <td>-5.611855e-01</td>\n",
       "      <td>-8.063755e-02</td>\n",
       "      <td>-2.494010e-02</td>\n",
       "      <td>...</td>\n",
       "      <td>-0.013977</td>\n",
       "      <td>-0.010234</td>\n",
       "      <td>-0.000669</td>\n",
       "      <td>0.019629</td>\n",
       "      <td>0.001687</td>\n",
       "      <td>-0.008563</td>\n",
       "      <td>-0.012084</td>\n",
       "      <td>0.026957</td>\n",
       "      <td>-1.657689e-02</td>\n",
       "      <td>-0.010380</td>\n",
       "    </tr>\n",
       "    <tr>\n",
       "      <th>5</th>\n",
       "      <td>-1.817615e-01</td>\n",
       "      <td>5.244267e-01</td>\n",
       "      <td>6.914676e-01</td>\n",
       "      <td>-1.177458e-02</td>\n",
       "      <td>-9.047166e-02</td>\n",
       "      <td>-5.624718e-02</td>\n",
       "      <td>-1.665025e-01</td>\n",
       "      <td>3.853072e-01</td>\n",
       "      <td>-1.294466e-02</td>\n",
       "      <td>-3.044275e-02</td>\n",
       "      <td>...</td>\n",
       "      <td>0.009694</td>\n",
       "      <td>0.009950</td>\n",
       "      <td>0.009572</td>\n",
       "      <td>-0.012801</td>\n",
       "      <td>0.001497</td>\n",
       "      <td>-0.000456</td>\n",
       "      <td>0.002188</td>\n",
       "      <td>-0.033426</td>\n",
       "      <td>2.995716e-02</td>\n",
       "      <td>0.003469</td>\n",
       "    </tr>\n",
       "    <tr>\n",
       "      <th>6</th>\n",
       "      <td>-3.207435e-02</td>\n",
       "      <td>2.094260e-03</td>\n",
       "      <td>1.380781e-02</td>\n",
       "      <td>1.777155e-01</td>\n",
       "      <td>-1.831071e-01</td>\n",
       "      <td>-1.543693e-01</td>\n",
       "      <td>4.062627e-01</td>\n",
       "      <td>1.119779e-01</td>\n",
       "      <td>-2.127655e-01</td>\n",
       "      <td>-3.879847e-01</td>\n",
       "      <td>...</td>\n",
       "      <td>0.020682</td>\n",
       "      <td>0.019432</td>\n",
       "      <td>0.035970</td>\n",
       "      <td>0.003779</td>\n",
       "      <td>-0.036796</td>\n",
       "      <td>-0.002031</td>\n",
       "      <td>-0.000922</td>\n",
       "      <td>-0.032116</td>\n",
       "      <td>6.959731e-02</td>\n",
       "      <td>-0.037481</td>\n",
       "    </tr>\n",
       "    <tr>\n",
       "      <th>7</th>\n",
       "      <td>-6.296138e-03</td>\n",
       "      <td>1.339680e-03</td>\n",
       "      <td>1.938281e-03</td>\n",
       "      <td>3.303190e-02</td>\n",
       "      <td>9.026785e-02</td>\n",
       "      <td>1.385479e-02</td>\n",
       "      <td>-1.163806e-01</td>\n",
       "      <td>-3.760689e-02</td>\n",
       "      <td>3.582252e-02</td>\n",
       "      <td>8.848695e-02</td>\n",
       "      <td>...</td>\n",
       "      <td>-0.003337</td>\n",
       "      <td>-0.007389</td>\n",
       "      <td>0.007752</td>\n",
       "      <td>-0.014416</td>\n",
       "      <td>-0.006341</td>\n",
       "      <td>0.014983</td>\n",
       "      <td>-0.001978</td>\n",
       "      <td>0.049524</td>\n",
       "      <td>-4.036251e-02</td>\n",
       "      <td>-0.009161</td>\n",
       "    </tr>\n",
       "    <tr>\n",
       "      <th>8</th>\n",
       "      <td>-5.198729e-02</td>\n",
       "      <td>5.132711e-02</td>\n",
       "      <td>2.274681e-02</td>\n",
       "      <td>5.705963e-01</td>\n",
       "      <td>6.074364e-01</td>\n",
       "      <td>4.030668e-02</td>\n",
       "      <td>-6.744415e-02</td>\n",
       "      <td>9.570340e-02</td>\n",
       "      <td>6.664391e-02</td>\n",
       "      <td>7.231260e-02</td>\n",
       "      <td>...</td>\n",
       "      <td>-0.005065</td>\n",
       "      <td>-0.009151</td>\n",
       "      <td>0.030452</td>\n",
       "      <td>-0.017639</td>\n",
       "      <td>-0.008012</td>\n",
       "      <td>-0.005393</td>\n",
       "      <td>0.000591</td>\n",
       "      <td>0.359353</td>\n",
       "      <td>-2.189424e-01</td>\n",
       "      <td>-0.140410</td>\n",
       "    </tr>\n",
       "    <tr>\n",
       "      <th>9</th>\n",
       "      <td>-2.443574e-01</td>\n",
       "      <td>1.222264e-02</td>\n",
       "      <td>1.665711e-02</td>\n",
       "      <td>-2.695628e-01</td>\n",
       "      <td>-5.501451e-02</td>\n",
       "      <td>-2.538636e-02</td>\n",
       "      <td>-2.887344e-01</td>\n",
       "      <td>-8.131933e-02</td>\n",
       "      <td>4.099047e-02</td>\n",
       "      <td>1.612407e-01</td>\n",
       "      <td>...</td>\n",
       "      <td>-0.024656</td>\n",
       "      <td>-0.025119</td>\n",
       "      <td>0.011191</td>\n",
       "      <td>-0.011186</td>\n",
       "      <td>-0.010261</td>\n",
       "      <td>0.000146</td>\n",
       "      <td>0.010110</td>\n",
       "      <td>-0.058514</td>\n",
       "      <td>-3.583744e-03</td>\n",
       "      <td>0.062098</td>\n",
       "    </tr>\n",
       "    <tr>\n",
       "      <th>10</th>\n",
       "      <td>1.509612e-01</td>\n",
       "      <td>7.566526e-03</td>\n",
       "      <td>2.830786e-03</td>\n",
       "      <td>-1.360291e-01</td>\n",
       "      <td>-9.978962e-04</td>\n",
       "      <td>1.696714e-03</td>\n",
       "      <td>-2.208274e-01</td>\n",
       "      <td>-5.697574e-02</td>\n",
       "      <td>4.841556e-02</td>\n",
       "      <td>1.394117e-01</td>\n",
       "      <td>...</td>\n",
       "      <td>-0.020272</td>\n",
       "      <td>-0.025363</td>\n",
       "      <td>0.036063</td>\n",
       "      <td>-0.012490</td>\n",
       "      <td>-0.045411</td>\n",
       "      <td>0.018058</td>\n",
       "      <td>0.003780</td>\n",
       "      <td>-0.016073</td>\n",
       "      <td>-1.491025e-02</td>\n",
       "      <td>0.030983</td>\n",
       "    </tr>\n",
       "    <tr>\n",
       "      <th>11</th>\n",
       "      <td>-1.343012e-01</td>\n",
       "      <td>-2.078624e-02</td>\n",
       "      <td>-9.214895e-03</td>\n",
       "      <td>1.262725e-01</td>\n",
       "      <td>-1.039071e-02</td>\n",
       "      <td>8.993515e-03</td>\n",
       "      <td>2.238027e-01</td>\n",
       "      <td>1.248304e-01</td>\n",
       "      <td>-9.853263e-02</td>\n",
       "      <td>-2.023253e-01</td>\n",
       "      <td>...</td>\n",
       "      <td>0.022131</td>\n",
       "      <td>0.033047</td>\n",
       "      <td>-0.037232</td>\n",
       "      <td>0.053889</td>\n",
       "      <td>0.051548</td>\n",
       "      <td>-0.016421</td>\n",
       "      <td>-0.051784</td>\n",
       "      <td>0.001654</td>\n",
       "      <td>2.811515e-02</td>\n",
       "      <td>-0.029770</td>\n",
       "    </tr>\n",
       "    <tr>\n",
       "      <th>12</th>\n",
       "      <td>5.734700e-02</td>\n",
       "      <td>1.555692e-02</td>\n",
       "      <td>-2.348846e-03</td>\n",
       "      <td>-6.241431e-02</td>\n",
       "      <td>3.090214e-02</td>\n",
       "      <td>-7.315416e-03</td>\n",
       "      <td>-1.392124e-01</td>\n",
       "      <td>-8.045550e-02</td>\n",
       "      <td>4.682920e-02</td>\n",
       "      <td>1.222471e-01</td>\n",
       "      <td>...</td>\n",
       "      <td>-0.019970</td>\n",
       "      <td>-0.019802</td>\n",
       "      <td>0.050440</td>\n",
       "      <td>0.005958</td>\n",
       "      <td>-0.033856</td>\n",
       "      <td>-0.021025</td>\n",
       "      <td>-0.001518</td>\n",
       "      <td>0.005938</td>\n",
       "      <td>-1.978022e-02</td>\n",
       "      <td>0.013842</td>\n",
       "    </tr>\n",
       "    <tr>\n",
       "      <th>13</th>\n",
       "      <td>8.682445e-03</td>\n",
       "      <td>-1.563831e-02</td>\n",
       "      <td>4.867540e-03</td>\n",
       "      <td>1.961729e-02</td>\n",
       "      <td>-2.552203e-02</td>\n",
       "      <td>1.137969e-02</td>\n",
       "      <td>4.401867e-02</td>\n",
       "      <td>9.100257e-02</td>\n",
       "      <td>2.268847e-03</td>\n",
       "      <td>-4.645741e-02</td>\n",
       "      <td>...</td>\n",
       "      <td>0.017067</td>\n",
       "      <td>0.011912</td>\n",
       "      <td>-0.028664</td>\n",
       "      <td>-0.010205</td>\n",
       "      <td>-0.020865</td>\n",
       "      <td>0.040770</td>\n",
       "      <td>0.018964</td>\n",
       "      <td>-0.000017</td>\n",
       "      <td>5.939213e-03</td>\n",
       "      <td>-0.005922</td>\n",
       "    </tr>\n",
       "    <tr>\n",
       "      <th>14</th>\n",
       "      <td>2.611712e-02</td>\n",
       "      <td>-1.147684e-02</td>\n",
       "      <td>4.024984e-03</td>\n",
       "      <td>-4.810141e-03</td>\n",
       "      <td>-1.769850e-03</td>\n",
       "      <td>6.069407e-03</td>\n",
       "      <td>-1.064989e-02</td>\n",
       "      <td>5.031381e-03</td>\n",
       "      <td>-3.379972e-03</td>\n",
       "      <td>5.372376e-03</td>\n",
       "      <td>...</td>\n",
       "      <td>-0.000146</td>\n",
       "      <td>-0.001696</td>\n",
       "      <td>-0.074686</td>\n",
       "      <td>-0.378736</td>\n",
       "      <td>0.862200</td>\n",
       "      <td>-0.216005</td>\n",
       "      <td>-0.192773</td>\n",
       "      <td>-0.005864</td>\n",
       "      <td>4.695575e-03</td>\n",
       "      <td>0.001168</td>\n",
       "    </tr>\n",
       "    <tr>\n",
       "      <th>15</th>\n",
       "      <td>5.530659e-03</td>\n",
       "      <td>1.998338e-02</td>\n",
       "      <td>-1.453186e-02</td>\n",
       "      <td>-2.686294e-02</td>\n",
       "      <td>1.211873e-02</td>\n",
       "      <td>-6.110700e-02</td>\n",
       "      <td>-6.401403e-02</td>\n",
       "      <td>3.010874e-03</td>\n",
       "      <td>1.034147e-02</td>\n",
       "      <td>9.856032e-02</td>\n",
       "      <td>...</td>\n",
       "      <td>-0.000402</td>\n",
       "      <td>-0.018134</td>\n",
       "      <td>0.044640</td>\n",
       "      <td>0.699251</td>\n",
       "      <td>0.107127</td>\n",
       "      <td>-0.468502</td>\n",
       "      <td>-0.382516</td>\n",
       "      <td>0.015230</td>\n",
       "      <td>-1.975377e-02</td>\n",
       "      <td>0.004524</td>\n",
       "    </tr>\n",
       "    <tr>\n",
       "      <th>16</th>\n",
       "      <td>1.628865e-02</td>\n",
       "      <td>-7.298055e-03</td>\n",
       "      <td>1.960623e-04</td>\n",
       "      <td>8.727866e-03</td>\n",
       "      <td>-6.105735e-03</td>\n",
       "      <td>2.854010e-02</td>\n",
       "      <td>1.972713e-02</td>\n",
       "      <td>1.436117e-02</td>\n",
       "      <td>-5.884625e-03</td>\n",
       "      <td>-3.692865e-02</td>\n",
       "      <td>...</td>\n",
       "      <td>0.004031</td>\n",
       "      <td>0.009216</td>\n",
       "      <td>-0.021546</td>\n",
       "      <td>0.000428</td>\n",
       "      <td>-0.012662</td>\n",
       "      <td>-0.682958</td>\n",
       "      <td>0.716738</td>\n",
       "      <td>-0.006005</td>\n",
       "      <td>6.953222e-03</td>\n",
       "      <td>-0.000948</td>\n",
       "    </tr>\n",
       "    <tr>\n",
       "      <th>17</th>\n",
       "      <td>-5.520149e-03</td>\n",
       "      <td>1.908786e-03</td>\n",
       "      <td>-9.752370e-03</td>\n",
       "      <td>-1.967713e-02</td>\n",
       "      <td>-1.271856e-02</td>\n",
       "      <td>-9.538045e-02</td>\n",
       "      <td>-2.936367e-02</td>\n",
       "      <td>-2.622211e-02</td>\n",
       "      <td>-3.129921e-03</td>\n",
       "      <td>9.481011e-02</td>\n",
       "      <td>...</td>\n",
       "      <td>0.005723</td>\n",
       "      <td>-0.002663</td>\n",
       "      <td>0.730637</td>\n",
       "      <td>-0.395247</td>\n",
       "      <td>-0.138380</td>\n",
       "      <td>-0.153063</td>\n",
       "      <td>-0.043947</td>\n",
       "      <td>0.010240</td>\n",
       "      <td>-1.395472e-02</td>\n",
       "      <td>0.003715</td>\n",
       "    </tr>\n",
       "    <tr>\n",
       "      <th>18</th>\n",
       "      <td>-6.006693e-03</td>\n",
       "      <td>8.523388e-03</td>\n",
       "      <td>9.878976e-03</td>\n",
       "      <td>-9.627580e-03</td>\n",
       "      <td>1.717461e-02</td>\n",
       "      <td>-1.807842e-01</td>\n",
       "      <td>-1.076147e-01</td>\n",
       "      <td>-4.185472e-02</td>\n",
       "      <td>1.223835e-02</td>\n",
       "      <td>1.712452e-01</td>\n",
       "      <td>...</td>\n",
       "      <td>0.005005</td>\n",
       "      <td>-0.016816</td>\n",
       "      <td>-0.495673</td>\n",
       "      <td>-0.061722</td>\n",
       "      <td>0.064483</td>\n",
       "      <td>0.190240</td>\n",
       "      <td>0.302671</td>\n",
       "      <td>0.031237</td>\n",
       "      <td>-3.304401e-02</td>\n",
       "      <td>0.001807</td>\n",
       "    </tr>\n",
       "    <tr>\n",
       "      <th>19</th>\n",
       "      <td>-1.436297e-02</td>\n",
       "      <td>7.464010e-03</td>\n",
       "      <td>-8.066322e-05</td>\n",
       "      <td>8.499314e-03</td>\n",
       "      <td>1.315325e-02</td>\n",
       "      <td>-5.822853e-02</td>\n",
       "      <td>-2.854943e-02</td>\n",
       "      <td>2.293578e-02</td>\n",
       "      <td>1.418751e-03</td>\n",
       "      <td>5.578842e-02</td>\n",
       "      <td>...</td>\n",
       "      <td>0.001346</td>\n",
       "      <td>0.000580</td>\n",
       "      <td>0.023472</td>\n",
       "      <td>0.031324</td>\n",
       "      <td>-0.096476</td>\n",
       "      <td>0.008084</td>\n",
       "      <td>0.033596</td>\n",
       "      <td>0.016434</td>\n",
       "      <td>-1.384276e-02</td>\n",
       "      <td>-0.002592</td>\n",
       "    </tr>\n",
       "    <tr>\n",
       "      <th>20</th>\n",
       "      <td>5.098176e-03</td>\n",
       "      <td>-1.536245e-03</td>\n",
       "      <td>-6.684404e-04</td>\n",
       "      <td>-9.270670e-04</td>\n",
       "      <td>3.404507e-04</td>\n",
       "      <td>-1.220634e-01</td>\n",
       "      <td>-4.710179e-02</td>\n",
       "      <td>8.551987e-02</td>\n",
       "      <td>5.818499e-02</td>\n",
       "      <td>4.540451e-02</td>\n",
       "      <td>...</td>\n",
       "      <td>0.025401</td>\n",
       "      <td>0.006060</td>\n",
       "      <td>0.024653</td>\n",
       "      <td>0.031041</td>\n",
       "      <td>0.027640</td>\n",
       "      <td>-0.026381</td>\n",
       "      <td>-0.056954</td>\n",
       "      <td>0.023579</td>\n",
       "      <td>-2.568885e-02</td>\n",
       "      <td>0.002110</td>\n",
       "    </tr>\n",
       "    <tr>\n",
       "      <th>21</th>\n",
       "      <td>-1.434761e-01</td>\n",
       "      <td>4.872500e-03</td>\n",
       "      <td>-5.418700e-03</td>\n",
       "      <td>3.448587e-03</td>\n",
       "      <td>-1.075599e-02</td>\n",
       "      <td>-3.369999e-02</td>\n",
       "      <td>1.573784e-02</td>\n",
       "      <td>3.438797e-02</td>\n",
       "      <td>-7.229998e-03</td>\n",
       "      <td>-1.995077e-02</td>\n",
       "      <td>...</td>\n",
       "      <td>0.004570</td>\n",
       "      <td>0.008244</td>\n",
       "      <td>-0.000521</td>\n",
       "      <td>0.004677</td>\n",
       "      <td>0.010322</td>\n",
       "      <td>-0.027930</td>\n",
       "      <td>0.013451</td>\n",
       "      <td>0.008646</td>\n",
       "      <td>-8.246600e-03</td>\n",
       "      <td>-0.000399</td>\n",
       "    </tr>\n",
       "    <tr>\n",
       "      <th>22</th>\n",
       "      <td>-1.900554e-02</td>\n",
       "      <td>-4.615610e-03</td>\n",
       "      <td>-2.171818e-03</td>\n",
       "      <td>-4.118955e-03</td>\n",
       "      <td>1.356053e-03</td>\n",
       "      <td>-1.426513e-01</td>\n",
       "      <td>-8.834152e-02</td>\n",
       "      <td>5.516392e-02</td>\n",
       "      <td>1.102850e-01</td>\n",
       "      <td>3.004360e-02</td>\n",
       "      <td>...</td>\n",
       "      <td>0.042361</td>\n",
       "      <td>0.016002</td>\n",
       "      <td>0.041954</td>\n",
       "      <td>-0.003193</td>\n",
       "      <td>-0.006178</td>\n",
       "      <td>-0.032269</td>\n",
       "      <td>-0.000314</td>\n",
       "      <td>0.038215</td>\n",
       "      <td>-3.827574e-02</td>\n",
       "      <td>0.000061</td>\n",
       "    </tr>\n",
       "    <tr>\n",
       "      <th>23</th>\n",
       "      <td>-8.218220e-02</td>\n",
       "      <td>2.357779e-04</td>\n",
       "      <td>-1.763746e-02</td>\n",
       "      <td>-4.574005e-03</td>\n",
       "      <td>2.492333e-02</td>\n",
       "      <td>3.151773e-03</td>\n",
       "      <td>-7.173025e-02</td>\n",
       "      <td>1.939971e-03</td>\n",
       "      <td>-7.817352e-02</td>\n",
       "      <td>1.014926e-01</td>\n",
       "      <td>...</td>\n",
       "      <td>-0.007637</td>\n",
       "      <td>-0.024365</td>\n",
       "      <td>0.017970</td>\n",
       "      <td>-0.010941</td>\n",
       "      <td>0.006507</td>\n",
       "      <td>-0.015159</td>\n",
       "      <td>0.001623</td>\n",
       "      <td>0.014717</td>\n",
       "      <td>-1.542041e-02</td>\n",
       "      <td>0.000704</td>\n",
       "    </tr>\n",
       "    <tr>\n",
       "      <th>24</th>\n",
       "      <td>-5.719510e-02</td>\n",
       "      <td>-3.037139e-04</td>\n",
       "      <td>2.710446e-02</td>\n",
       "      <td>3.141258e-03</td>\n",
       "      <td>-4.231985e-02</td>\n",
       "      <td>2.579514e-02</td>\n",
       "      <td>1.338278e-01</td>\n",
       "      <td>8.150417e-03</td>\n",
       "      <td>1.188648e-01</td>\n",
       "      <td>-1.523167e-01</td>\n",
       "      <td>...</td>\n",
       "      <td>0.004628</td>\n",
       "      <td>0.024654</td>\n",
       "      <td>0.004879</td>\n",
       "      <td>0.013688</td>\n",
       "      <td>0.013821</td>\n",
       "      <td>-0.011558</td>\n",
       "      <td>-0.020829</td>\n",
       "      <td>-0.030160</td>\n",
       "      <td>3.352749e-02</td>\n",
       "      <td>-0.003368</td>\n",
       "    </tr>\n",
       "    <tr>\n",
       "      <th>25</th>\n",
       "      <td>-3.022818e-02</td>\n",
       "      <td>-3.524495e-03</td>\n",
       "      <td>1.072807e-02</td>\n",
       "      <td>1.661771e-04</td>\n",
       "      <td>1.517206e-02</td>\n",
       "      <td>1.232178e-01</td>\n",
       "      <td>-3.542560e-02</td>\n",
       "      <td>-4.967903e-02</td>\n",
       "      <td>2.832957e-02</td>\n",
       "      <td>-1.399909e-01</td>\n",
       "      <td>...</td>\n",
       "      <td>0.011434</td>\n",
       "      <td>0.015056</td>\n",
       "      <td>-0.009118</td>\n",
       "      <td>0.010689</td>\n",
       "      <td>-0.051444</td>\n",
       "      <td>0.029345</td>\n",
       "      <td>0.020529</td>\n",
       "      <td>-0.031463</td>\n",
       "      <td>3.349729e-02</td>\n",
       "      <td>-0.002034</td>\n",
       "    </tr>\n",
       "    <tr>\n",
       "      <th>26</th>\n",
       "      <td>-2.080473e-04</td>\n",
       "      <td>6.423272e-04</td>\n",
       "      <td>-5.135299e-04</td>\n",
       "      <td>-7.052350e-03</td>\n",
       "      <td>-5.112362e-03</td>\n",
       "      <td>1.565163e-02</td>\n",
       "      <td>-1.222704e-02</td>\n",
       "      <td>-5.490717e-03</td>\n",
       "      <td>2.630442e-03</td>\n",
       "      <td>-1.225609e-02</td>\n",
       "      <td>...</td>\n",
       "      <td>0.003477</td>\n",
       "      <td>-0.003995</td>\n",
       "      <td>-0.004734</td>\n",
       "      <td>0.008102</td>\n",
       "      <td>-0.005682</td>\n",
       "      <td>-0.001267</td>\n",
       "      <td>0.003581</td>\n",
       "      <td>0.003236</td>\n",
       "      <td>-2.212391e-04</td>\n",
       "      <td>-0.003014</td>\n",
       "    </tr>\n",
       "    <tr>\n",
       "      <th>27</th>\n",
       "      <td>6.794573e-03</td>\n",
       "      <td>-4.831986e-03</td>\n",
       "      <td>2.992053e-04</td>\n",
       "      <td>8.319301e-03</td>\n",
       "      <td>2.044249e-02</td>\n",
       "      <td>1.750857e-02</td>\n",
       "      <td>7.221699e-03</td>\n",
       "      <td>3.079225e-03</td>\n",
       "      <td>5.496988e-03</td>\n",
       "      <td>-1.161465e-02</td>\n",
       "      <td>...</td>\n",
       "      <td>-0.013657</td>\n",
       "      <td>0.011733</td>\n",
       "      <td>-0.002779</td>\n",
       "      <td>0.013044</td>\n",
       "      <td>-0.005196</td>\n",
       "      <td>-0.005479</td>\n",
       "      <td>0.000409</td>\n",
       "      <td>-0.036390</td>\n",
       "      <td>3.646457e-02</td>\n",
       "      <td>-0.000074</td>\n",
       "    </tr>\n",
       "    <tr>\n",
       "      <th>28</th>\n",
       "      <td>-3.108143e-03</td>\n",
       "      <td>2.694421e-03</td>\n",
       "      <td>-6.723813e-03</td>\n",
       "      <td>1.336336e-01</td>\n",
       "      <td>3.850590e-01</td>\n",
       "      <td>-4.188722e-03</td>\n",
       "      <td>-9.362411e-02</td>\n",
       "      <td>-8.201328e-02</td>\n",
       "      <td>-1.762705e-02</td>\n",
       "      <td>-4.064946e-02</td>\n",
       "      <td>...</td>\n",
       "      <td>-0.004112</td>\n",
       "      <td>-0.005357</td>\n",
       "      <td>0.011875</td>\n",
       "      <td>0.004562</td>\n",
       "      <td>0.000058</td>\n",
       "      <td>-0.010370</td>\n",
       "      <td>-0.006126</td>\n",
       "      <td>-0.538371</td>\n",
       "      <td>5.843970e-01</td>\n",
       "      <td>-0.046026</td>\n",
       "    </tr>\n",
       "    <tr>\n",
       "      <th>29</th>\n",
       "      <td>-1.579961e-02</td>\n",
       "      <td>1.961254e-03</td>\n",
       "      <td>-1.798266e-03</td>\n",
       "      <td>-9.429510e-03</td>\n",
       "      <td>-2.407834e-02</td>\n",
       "      <td>-1.402131e-02</td>\n",
       "      <td>1.144540e-02</td>\n",
       "      <td>1.064702e-02</td>\n",
       "      <td>1.065152e-03</td>\n",
       "      <td>3.304879e-02</td>\n",
       "      <td>...</td>\n",
       "      <td>-0.048825</td>\n",
       "      <td>-0.002097</td>\n",
       "      <td>-0.012753</td>\n",
       "      <td>-0.002147</td>\n",
       "      <td>0.005720</td>\n",
       "      <td>0.000458</td>\n",
       "      <td>0.008722</td>\n",
       "      <td>0.025005</td>\n",
       "      <td>-2.841180e-02</td>\n",
       "      <td>0.003407</td>\n",
       "    </tr>\n",
       "    <tr>\n",
       "      <th>30</th>\n",
       "      <td>1.361000e-03</td>\n",
       "      <td>-4.003664e-03</td>\n",
       "      <td>7.809614e-03</td>\n",
       "      <td>5.435369e-02</td>\n",
       "      <td>1.986982e-01</td>\n",
       "      <td>-1.118156e-01</td>\n",
       "      <td>4.424805e-02</td>\n",
       "      <td>1.476619e-01</td>\n",
       "      <td>6.139952e-02</td>\n",
       "      <td>1.708311e-01</td>\n",
       "      <td>...</td>\n",
       "      <td>0.011481</td>\n",
       "      <td>0.009809</td>\n",
       "      <td>-0.006591</td>\n",
       "      <td>-0.004582</td>\n",
       "      <td>-0.008895</td>\n",
       "      <td>0.012327</td>\n",
       "      <td>0.007741</td>\n",
       "      <td>-0.263580</td>\n",
       "      <td>2.655264e-01</td>\n",
       "      <td>-0.001947</td>\n",
       "    </tr>\n",
       "    <tr>\n",
       "      <th>31</th>\n",
       "      <td>-2.723670e-03</td>\n",
       "      <td>2.171136e-03</td>\n",
       "      <td>2.833747e-03</td>\n",
       "      <td>-8.682840e-03</td>\n",
       "      <td>1.552655e-03</td>\n",
       "      <td>3.123698e-02</td>\n",
       "      <td>-7.411416e-02</td>\n",
       "      <td>-5.809602e-02</td>\n",
       "      <td>1.673667e-01</td>\n",
       "      <td>-7.769238e-02</td>\n",
       "      <td>...</td>\n",
       "      <td>0.825311</td>\n",
       "      <td>-0.073626</td>\n",
       "      <td>0.000872</td>\n",
       "      <td>-0.000297</td>\n",
       "      <td>0.003328</td>\n",
       "      <td>-0.001549</td>\n",
       "      <td>-0.002353</td>\n",
       "      <td>0.010738</td>\n",
       "      <td>-1.541151e-03</td>\n",
       "      <td>-0.009197</td>\n",
       "    </tr>\n",
       "    <tr>\n",
       "      <th>32</th>\n",
       "      <td>-8.100133e-04</td>\n",
       "      <td>1.148057e-03</td>\n",
       "      <td>-1.530825e-03</td>\n",
       "      <td>7.948453e-03</td>\n",
       "      <td>5.433859e-03</td>\n",
       "      <td>1.951292e-01</td>\n",
       "      <td>-1.229617e-01</td>\n",
       "      <td>2.346242e-03</td>\n",
       "      <td>4.469524e-03</td>\n",
       "      <td>-6.898831e-02</td>\n",
       "      <td>...</td>\n",
       "      <td>-0.372009</td>\n",
       "      <td>0.514992</td>\n",
       "      <td>0.002824</td>\n",
       "      <td>0.002256</td>\n",
       "      <td>0.005119</td>\n",
       "      <td>-0.007388</td>\n",
       "      <td>-0.002811</td>\n",
       "      <td>-0.003253</td>\n",
       "      <td>-1.480309e-02</td>\n",
       "      <td>0.018056</td>\n",
       "    </tr>\n",
       "    <tr>\n",
       "      <th>33</th>\n",
       "      <td>3.211074e-03</td>\n",
       "      <td>-1.060425e-03</td>\n",
       "      <td>9.507682e-05</td>\n",
       "      <td>1.968958e-03</td>\n",
       "      <td>-1.231140e-04</td>\n",
       "      <td>3.618172e-02</td>\n",
       "      <td>-8.014248e-02</td>\n",
       "      <td>-7.051451e-02</td>\n",
       "      <td>8.607814e-02</td>\n",
       "      <td>-6.264277e-02</td>\n",
       "      <td>...</td>\n",
       "      <td>0.167979</td>\n",
       "      <td>0.748806</td>\n",
       "      <td>-0.003246</td>\n",
       "      <td>0.006805</td>\n",
       "      <td>0.000140</td>\n",
       "      <td>0.004940</td>\n",
       "      <td>-0.008640</td>\n",
       "      <td>-0.006019</td>\n",
       "      <td>-1.036126e-02</td>\n",
       "      <td>0.016381</td>\n",
       "    </tr>\n",
       "    <tr>\n",
       "      <th>34</th>\n",
       "      <td>-3.027519e-03</td>\n",
       "      <td>-1.399804e-03</td>\n",
       "      <td>-7.648060e-04</td>\n",
       "      <td>6.628736e-02</td>\n",
       "      <td>4.623943e-03</td>\n",
       "      <td>2.352161e-02</td>\n",
       "      <td>-2.460804e-02</td>\n",
       "      <td>-2.447573e-02</td>\n",
       "      <td>6.989107e-02</td>\n",
       "      <td>-6.926064e-02</td>\n",
       "      <td>...</td>\n",
       "      <td>-0.100091</td>\n",
       "      <td>-0.127398</td>\n",
       "      <td>0.003828</td>\n",
       "      <td>-0.003694</td>\n",
       "      <td>-0.000068</td>\n",
       "      <td>0.002494</td>\n",
       "      <td>-0.002560</td>\n",
       "      <td>-0.092082</td>\n",
       "      <td>-9.541584e-02</td>\n",
       "      <td>0.187498</td>\n",
       "    </tr>\n",
       "    <tr>\n",
       "      <th>35</th>\n",
       "      <td>4.965393e-04</td>\n",
       "      <td>-1.147528e-03</td>\n",
       "      <td>-2.352505e-04</td>\n",
       "      <td>-2.607838e-01</td>\n",
       "      <td>-1.940300e-02</td>\n",
       "      <td>-3.625458e-02</td>\n",
       "      <td>-2.407036e-03</td>\n",
       "      <td>-1.061610e-02</td>\n",
       "      <td>6.962888e-02</td>\n",
       "      <td>-3.002032e-02</td>\n",
       "      <td>...</td>\n",
       "      <td>-0.053479</td>\n",
       "      <td>0.000363</td>\n",
       "      <td>-0.000061</td>\n",
       "      <td>-0.001736</td>\n",
       "      <td>0.000620</td>\n",
       "      <td>0.000495</td>\n",
       "      <td>0.000683</td>\n",
       "      <td>0.383600</td>\n",
       "      <td>3.768877e-01</td>\n",
       "      <td>-0.760488</td>\n",
       "    </tr>\n",
       "    <tr>\n",
       "      <th>36</th>\n",
       "      <td>-8.362112e-04</td>\n",
       "      <td>5.682883e-04</td>\n",
       "      <td>4.181766e-03</td>\n",
       "      <td>1.917791e-02</td>\n",
       "      <td>-1.271811e-03</td>\n",
       "      <td>-5.970735e-01</td>\n",
       "      <td>1.026447e-01</td>\n",
       "      <td>-8.498580e-02</td>\n",
       "      <td>6.937407e-01</td>\n",
       "      <td>-1.697776e-01</td>\n",
       "      <td>...</td>\n",
       "      <td>-0.156639</td>\n",
       "      <td>0.044765</td>\n",
       "      <td>0.000489</td>\n",
       "      <td>-0.001529</td>\n",
       "      <td>0.006554</td>\n",
       "      <td>-0.005204</td>\n",
       "      <td>-0.000311</td>\n",
       "      <td>-0.018678</td>\n",
       "      <td>-3.887958e-02</td>\n",
       "      <td>0.057558</td>\n",
       "    </tr>\n",
       "    <tr>\n",
       "      <th>37</th>\n",
       "      <td>4.612690e-04</td>\n",
       "      <td>-3.790615e-04</td>\n",
       "      <td>-8.786544e-04</td>\n",
       "      <td>-1.120525e-03</td>\n",
       "      <td>-5.435704e-05</td>\n",
       "      <td>8.493907e-03</td>\n",
       "      <td>-1.161603e-02</td>\n",
       "      <td>-4.410559e-03</td>\n",
       "      <td>2.254859e-02</td>\n",
       "      <td>-2.558953e-02</td>\n",
       "      <td>...</td>\n",
       "      <td>-0.009577</td>\n",
       "      <td>-0.004924</td>\n",
       "      <td>0.000988</td>\n",
       "      <td>-0.000134</td>\n",
       "      <td>-0.001556</td>\n",
       "      <td>0.000378</td>\n",
       "      <td>0.000324</td>\n",
       "      <td>0.002164</td>\n",
       "      <td>2.617130e-03</td>\n",
       "      <td>-0.004781</td>\n",
       "    </tr>\n",
       "    <tr>\n",
       "      <th>38</th>\n",
       "      <td>2.715467e-03</td>\n",
       "      <td>6.195352e-04</td>\n",
       "      <td>4.502781e-04</td>\n",
       "      <td>-4.606460e-05</td>\n",
       "      <td>2.079246e-03</td>\n",
       "      <td>4.377037e-01</td>\n",
       "      <td>-3.558785e-01</td>\n",
       "      <td>-5.831088e-02</td>\n",
       "      <td>3.318729e-01</td>\n",
       "      <td>-5.766120e-01</td>\n",
       "      <td>...</td>\n",
       "      <td>-0.075186</td>\n",
       "      <td>-0.208208</td>\n",
       "      <td>0.004412</td>\n",
       "      <td>-0.001688</td>\n",
       "      <td>0.003171</td>\n",
       "      <td>-0.003737</td>\n",
       "      <td>-0.002158</td>\n",
       "      <td>-0.000091</td>\n",
       "      <td>-2.238920e-03</td>\n",
       "      <td>0.002330</td>\n",
       "    </tr>\n",
       "    <tr>\n",
       "      <th>39</th>\n",
       "      <td>-3.784172e-04</td>\n",
       "      <td>-3.792069e-05</td>\n",
       "      <td>-7.595075e-06</td>\n",
       "      <td>1.723571e-04</td>\n",
       "      <td>2.689563e-04</td>\n",
       "      <td>3.190712e-03</td>\n",
       "      <td>-2.008315e-03</td>\n",
       "      <td>-4.111774e-04</td>\n",
       "      <td>2.043342e-03</td>\n",
       "      <td>-3.859216e-03</td>\n",
       "      <td>...</td>\n",
       "      <td>0.000124</td>\n",
       "      <td>-0.000727</td>\n",
       "      <td>0.000086</td>\n",
       "      <td>0.000132</td>\n",
       "      <td>-0.000103</td>\n",
       "      <td>-0.000198</td>\n",
       "      <td>0.000082</td>\n",
       "      <td>0.000366</td>\n",
       "      <td>2.018188e-04</td>\n",
       "      <td>-0.000568</td>\n",
       "    </tr>\n",
       "    <tr>\n",
       "      <th>40</th>\n",
       "      <td>-4.632519e-05</td>\n",
       "      <td>4.193784e-05</td>\n",
       "      <td>5.645005e-05</td>\n",
       "      <td>-8.667959e-06</td>\n",
       "      <td>2.014914e-06</td>\n",
       "      <td>-6.219161e-04</td>\n",
       "      <td>3.122104e-04</td>\n",
       "      <td>2.823144e-05</td>\n",
       "      <td>-1.362352e-05</td>\n",
       "      <td>3.755816e-04</td>\n",
       "      <td>...</td>\n",
       "      <td>-0.000017</td>\n",
       "      <td>0.000165</td>\n",
       "      <td>0.000065</td>\n",
       "      <td>0.000086</td>\n",
       "      <td>0.000098</td>\n",
       "      <td>-0.000327</td>\n",
       "      <td>0.000078</td>\n",
       "      <td>0.000008</td>\n",
       "      <td>-1.883508e-07</td>\n",
       "      <td>-0.000008</td>\n",
       "    </tr>\n",
       "    <tr>\n",
       "      <th>41</th>\n",
       "      <td>-4.035879e-17</td>\n",
       "      <td>-1.030282e-17</td>\n",
       "      <td>6.697793e-17</td>\n",
       "      <td>9.603978e-17</td>\n",
       "      <td>1.239135e-16</td>\n",
       "      <td>-1.274238e-16</td>\n",
       "      <td>3.038372e-17</td>\n",
       "      <td>-2.427883e-17</td>\n",
       "      <td>2.420942e-16</td>\n",
       "      <td>-9.023814e-17</td>\n",
       "      <td>...</td>\n",
       "      <td>0.023129</td>\n",
       "      <td>0.023129</td>\n",
       "      <td>0.255761</td>\n",
       "      <td>0.255761</td>\n",
       "      <td>0.255761</td>\n",
       "      <td>0.255761</td>\n",
       "      <td>0.255761</td>\n",
       "      <td>0.195723</td>\n",
       "      <td>1.957229e-01</td>\n",
       "      <td>0.195723</td>\n",
       "    </tr>\n",
       "    <tr>\n",
       "      <th>42</th>\n",
       "      <td>-0.000000e+00</td>\n",
       "      <td>-9.183023e-17</td>\n",
       "      <td>9.088660e-17</td>\n",
       "      <td>1.366914e-16</td>\n",
       "      <td>1.812056e-16</td>\n",
       "      <td>6.527397e-16</td>\n",
       "      <td>-1.033754e-16</td>\n",
       "      <td>-1.151101e-19</td>\n",
       "      <td>-7.669512e-16</td>\n",
       "      <td>1.637198e-16</td>\n",
       "      <td>...</td>\n",
       "      <td>0.031173</td>\n",
       "      <td>0.031173</td>\n",
       "      <td>-0.220859</td>\n",
       "      <td>-0.220859</td>\n",
       "      <td>-0.220859</td>\n",
       "      <td>-0.220859</td>\n",
       "      <td>-0.220859</td>\n",
       "      <td>0.013952</td>\n",
       "      <td>1.395172e-02</td>\n",
       "      <td>0.013952</td>\n",
       "    </tr>\n",
       "    <tr>\n",
       "      <th>43</th>\n",
       "      <td>-0.000000e+00</td>\n",
       "      <td>-1.468252e-17</td>\n",
       "      <td>1.888223e-17</td>\n",
       "      <td>8.222801e-17</td>\n",
       "      <td>6.311686e-17</td>\n",
       "      <td>-1.056471e-15</td>\n",
       "      <td>2.830182e-16</td>\n",
       "      <td>-7.910537e-17</td>\n",
       "      <td>1.067420e-15</td>\n",
       "      <td>-2.181333e-16</td>\n",
       "      <td>...</td>\n",
       "      <td>0.054542</td>\n",
       "      <td>0.054542</td>\n",
       "      <td>-0.226799</td>\n",
       "      <td>-0.226799</td>\n",
       "      <td>-0.226799</td>\n",
       "      <td>-0.226799</td>\n",
       "      <td>-0.226799</td>\n",
       "      <td>-0.156516</td>\n",
       "      <td>-1.565157e-01</td>\n",
       "      <td>-0.156516</td>\n",
       "    </tr>\n",
       "    <tr>\n",
       "      <th>44</th>\n",
       "      <td>0.000000e+00</td>\n",
       "      <td>4.386847e-17</td>\n",
       "      <td>-6.769856e-17</td>\n",
       "      <td>3.548123e-17</td>\n",
       "      <td>4.419307e-19</td>\n",
       "      <td>-5.640190e-16</td>\n",
       "      <td>1.883133e-16</td>\n",
       "      <td>-8.645521e-17</td>\n",
       "      <td>3.483418e-16</td>\n",
       "      <td>8.864315e-17</td>\n",
       "      <td>...</td>\n",
       "      <td>-0.029814</td>\n",
       "      <td>-0.029814</td>\n",
       "      <td>-0.082947</td>\n",
       "      <td>-0.082947</td>\n",
       "      <td>-0.082947</td>\n",
       "      <td>-0.082947</td>\n",
       "      <td>-0.082947</td>\n",
       "      <td>0.189009</td>\n",
       "      <td>1.890092e-01</td>\n",
       "      <td>0.189009</td>\n",
       "    </tr>\n",
       "    <tr>\n",
       "      <th>45</th>\n",
       "      <td>0.000000e+00</td>\n",
       "      <td>-6.101819e-17</td>\n",
       "      <td>5.328101e-17</td>\n",
       "      <td>-3.390213e-17</td>\n",
       "      <td>4.955970e-17</td>\n",
       "      <td>7.119927e-17</td>\n",
       "      <td>9.540354e-17</td>\n",
       "      <td>2.493426e-17</td>\n",
       "      <td>-4.199667e-16</td>\n",
       "      <td>2.494125e-16</td>\n",
       "      <td>...</td>\n",
       "      <td>0.006427</td>\n",
       "      <td>0.006427</td>\n",
       "      <td>0.005866</td>\n",
       "      <td>0.005866</td>\n",
       "      <td>0.005866</td>\n",
       "      <td>0.005866</td>\n",
       "      <td>0.005866</td>\n",
       "      <td>0.000464</td>\n",
       "      <td>4.635965e-04</td>\n",
       "      <td>0.000464</td>\n",
       "    </tr>\n",
       "    <tr>\n",
       "      <th>46</th>\n",
       "      <td>0.000000e+00</td>\n",
       "      <td>-1.922714e-18</td>\n",
       "      <td>6.817818e-17</td>\n",
       "      <td>1.804408e-16</td>\n",
       "      <td>1.712930e-16</td>\n",
       "      <td>3.370674e-16</td>\n",
       "      <td>-1.471790e-16</td>\n",
       "      <td>-1.386232e-17</td>\n",
       "      <td>-1.243631e-16</td>\n",
       "      <td>-1.886916e-16</td>\n",
       "      <td>...</td>\n",
       "      <td>-0.001714</td>\n",
       "      <td>-0.001714</td>\n",
       "      <td>0.153076</td>\n",
       "      <td>0.153076</td>\n",
       "      <td>0.153076</td>\n",
       "      <td>0.153076</td>\n",
       "      <td>0.153076</td>\n",
       "      <td>-0.412280</td>\n",
       "      <td>-4.122798e-01</td>\n",
       "      <td>-0.412280</td>\n",
       "    </tr>\n",
       "    <tr>\n",
       "      <th>47</th>\n",
       "      <td>0.000000e+00</td>\n",
       "      <td>1.995828e-17</td>\n",
       "      <td>9.200565e-17</td>\n",
       "      <td>1.913251e-16</td>\n",
       "      <td>1.822534e-16</td>\n",
       "      <td>1.670287e-16</td>\n",
       "      <td>-2.272838e-16</td>\n",
       "      <td>-9.918252e-17</td>\n",
       "      <td>6.623745e-16</td>\n",
       "      <td>-6.845776e-16</td>\n",
       "      <td>...</td>\n",
       "      <td>0.109223</td>\n",
       "      <td>0.109223</td>\n",
       "      <td>0.029913</td>\n",
       "      <td>0.029913</td>\n",
       "      <td>0.029913</td>\n",
       "      <td>0.029913</td>\n",
       "      <td>0.029913</td>\n",
       "      <td>0.074152</td>\n",
       "      <td>7.415152e-02</td>\n",
       "      <td>0.074152</td>\n",
       "    </tr>\n",
       "    <tr>\n",
       "      <th>48</th>\n",
       "      <td>-0.000000e+00</td>\n",
       "      <td>1.585953e-17</td>\n",
       "      <td>-3.629496e-17</td>\n",
       "      <td>-1.332129e-16</td>\n",
       "      <td>-1.008922e-16</td>\n",
       "      <td>-5.448631e-16</td>\n",
       "      <td>3.586101e-16</td>\n",
       "      <td>2.657758e-17</td>\n",
       "      <td>1.734832e-17</td>\n",
       "      <td>2.974086e-16</td>\n",
       "      <td>...</td>\n",
       "      <td>-0.137632</td>\n",
       "      <td>-0.137632</td>\n",
       "      <td>0.028900</td>\n",
       "      <td>0.028900</td>\n",
       "      <td>0.028900</td>\n",
       "      <td>0.028900</td>\n",
       "      <td>0.028900</td>\n",
       "      <td>-0.144160</td>\n",
       "      <td>-1.441596e-01</td>\n",
       "      <td>-0.144160</td>\n",
       "    </tr>\n",
       "    <tr>\n",
       "      <th>49</th>\n",
       "      <td>0.000000e+00</td>\n",
       "      <td>4.774367e-17</td>\n",
       "      <td>-7.720566e-17</td>\n",
       "      <td>-5.978388e-17</td>\n",
       "      <td>2.194707e-17</td>\n",
       "      <td>-4.994630e-16</td>\n",
       "      <td>5.810666e-16</td>\n",
       "      <td>1.773377e-16</td>\n",
       "      <td>-9.411819e-16</td>\n",
       "      <td>1.135956e-15</td>\n",
       "      <td>...</td>\n",
       "      <td>0.236855</td>\n",
       "      <td>0.236855</td>\n",
       "      <td>0.047443</td>\n",
       "      <td>0.047443</td>\n",
       "      <td>0.047443</td>\n",
       "      <td>0.047443</td>\n",
       "      <td>0.047443</td>\n",
       "      <td>-0.010026</td>\n",
       "      <td>-1.002565e-02</td>\n",
       "      <td>-0.010026</td>\n",
       "    </tr>\n",
       "    <tr>\n",
       "      <th>50</th>\n",
       "      <td>-0.000000e+00</td>\n",
       "      <td>-1.033404e-17</td>\n",
       "      <td>2.869595e-18</td>\n",
       "      <td>1.212977e-16</td>\n",
       "      <td>2.137474e-17</td>\n",
       "      <td>4.936348e-16</td>\n",
       "      <td>1.506067e-16</td>\n",
       "      <td>1.354097e-16</td>\n",
       "      <td>-9.882169e-16</td>\n",
       "      <td>4.705144e-16</td>\n",
       "      <td>...</td>\n",
       "      <td>-0.087251</td>\n",
       "      <td>-0.087251</td>\n",
       "      <td>-0.006471</td>\n",
       "      <td>-0.006471</td>\n",
       "      <td>-0.006471</td>\n",
       "      <td>-0.006471</td>\n",
       "      <td>-0.006471</td>\n",
       "      <td>0.195586</td>\n",
       "      <td>1.955858e-01</td>\n",
       "      <td>0.195586</td>\n",
       "    </tr>\n",
       "  </tbody>\n",
       "</table>\n",
       "<p>51 rows × 51 columns</p>\n",
       "</div>"
      ],
      "text/plain": [
       "             age      duration      campaign         pdays      previous  \\\n",
       "0   2.221839e-02  2.779887e-02 -1.109841e-01 -2.562435e-01  3.115088e-01   \n",
       "1   2.558851e-01  4.607300e-03  2.347116e-02 -5.683475e-01  4.676517e-01   \n",
       "2   6.385432e-01 -1.187436e-01 -1.289207e-01  2.100928e-01 -2.518643e-01   \n",
       "3   1.326928e-02  7.949192e-01 -5.973819e-01  9.739137e-03 -4.762054e-02   \n",
       "4   5.932122e-01  2.712593e-01  3.642146e-01  4.396825e-02  4.680121e-02   \n",
       "5  -1.817615e-01  5.244267e-01  6.914676e-01 -1.177458e-02 -9.047166e-02   \n",
       "6  -3.207435e-02  2.094260e-03  1.380781e-02  1.777155e-01 -1.831071e-01   \n",
       "7  -6.296138e-03  1.339680e-03  1.938281e-03  3.303190e-02  9.026785e-02   \n",
       "8  -5.198729e-02  5.132711e-02  2.274681e-02  5.705963e-01  6.074364e-01   \n",
       "9  -2.443574e-01  1.222264e-02  1.665711e-02 -2.695628e-01 -5.501451e-02   \n",
       "10  1.509612e-01  7.566526e-03  2.830786e-03 -1.360291e-01 -9.978962e-04   \n",
       "11 -1.343012e-01 -2.078624e-02 -9.214895e-03  1.262725e-01 -1.039071e-02   \n",
       "12  5.734700e-02  1.555692e-02 -2.348846e-03 -6.241431e-02  3.090214e-02   \n",
       "13  8.682445e-03 -1.563831e-02  4.867540e-03  1.961729e-02 -2.552203e-02   \n",
       "14  2.611712e-02 -1.147684e-02  4.024984e-03 -4.810141e-03 -1.769850e-03   \n",
       "15  5.530659e-03  1.998338e-02 -1.453186e-02 -2.686294e-02  1.211873e-02   \n",
       "16  1.628865e-02 -7.298055e-03  1.960623e-04  8.727866e-03 -6.105735e-03   \n",
       "17 -5.520149e-03  1.908786e-03 -9.752370e-03 -1.967713e-02 -1.271856e-02   \n",
       "18 -6.006693e-03  8.523388e-03  9.878976e-03 -9.627580e-03  1.717461e-02   \n",
       "19 -1.436297e-02  7.464010e-03 -8.066322e-05  8.499314e-03  1.315325e-02   \n",
       "20  5.098176e-03 -1.536245e-03 -6.684404e-04 -9.270670e-04  3.404507e-04   \n",
       "21 -1.434761e-01  4.872500e-03 -5.418700e-03  3.448587e-03 -1.075599e-02   \n",
       "22 -1.900554e-02 -4.615610e-03 -2.171818e-03 -4.118955e-03  1.356053e-03   \n",
       "23 -8.218220e-02  2.357779e-04 -1.763746e-02 -4.574005e-03  2.492333e-02   \n",
       "24 -5.719510e-02 -3.037139e-04  2.710446e-02  3.141258e-03 -4.231985e-02   \n",
       "25 -3.022818e-02 -3.524495e-03  1.072807e-02  1.661771e-04  1.517206e-02   \n",
       "26 -2.080473e-04  6.423272e-04 -5.135299e-04 -7.052350e-03 -5.112362e-03   \n",
       "27  6.794573e-03 -4.831986e-03  2.992053e-04  8.319301e-03  2.044249e-02   \n",
       "28 -3.108143e-03  2.694421e-03 -6.723813e-03  1.336336e-01  3.850590e-01   \n",
       "29 -1.579961e-02  1.961254e-03 -1.798266e-03 -9.429510e-03 -2.407834e-02   \n",
       "30  1.361000e-03 -4.003664e-03  7.809614e-03  5.435369e-02  1.986982e-01   \n",
       "31 -2.723670e-03  2.171136e-03  2.833747e-03 -8.682840e-03  1.552655e-03   \n",
       "32 -8.100133e-04  1.148057e-03 -1.530825e-03  7.948453e-03  5.433859e-03   \n",
       "33  3.211074e-03 -1.060425e-03  9.507682e-05  1.968958e-03 -1.231140e-04   \n",
       "34 -3.027519e-03 -1.399804e-03 -7.648060e-04  6.628736e-02  4.623943e-03   \n",
       "35  4.965393e-04 -1.147528e-03 -2.352505e-04 -2.607838e-01 -1.940300e-02   \n",
       "36 -8.362112e-04  5.682883e-04  4.181766e-03  1.917791e-02 -1.271811e-03   \n",
       "37  4.612690e-04 -3.790615e-04 -8.786544e-04 -1.120525e-03 -5.435704e-05   \n",
       "38  2.715467e-03  6.195352e-04  4.502781e-04 -4.606460e-05  2.079246e-03   \n",
       "39 -3.784172e-04 -3.792069e-05 -7.595075e-06  1.723571e-04  2.689563e-04   \n",
       "40 -4.632519e-05  4.193784e-05  5.645005e-05 -8.667959e-06  2.014914e-06   \n",
       "41 -4.035879e-17 -1.030282e-17  6.697793e-17  9.603978e-17  1.239135e-16   \n",
       "42 -0.000000e+00 -9.183023e-17  9.088660e-17  1.366914e-16  1.812056e-16   \n",
       "43 -0.000000e+00 -1.468252e-17  1.888223e-17  8.222801e-17  6.311686e-17   \n",
       "44  0.000000e+00  4.386847e-17 -6.769856e-17  3.548123e-17  4.419307e-19   \n",
       "45  0.000000e+00 -6.101819e-17  5.328101e-17 -3.390213e-17  4.955970e-17   \n",
       "46  0.000000e+00 -1.922714e-18  6.817818e-17  1.804408e-16  1.712930e-16   \n",
       "47  0.000000e+00  1.995828e-17  9.200565e-17  1.913251e-16  1.822534e-16   \n",
       "48 -0.000000e+00  1.585953e-17 -3.629496e-17 -1.332129e-16 -1.008922e-16   \n",
       "49  0.000000e+00  4.774367e-17 -7.720566e-17 -5.978388e-17  2.194707e-17   \n",
       "50 -0.000000e+00 -1.033404e-17  2.869595e-18  1.212977e-16  2.137474e-17   \n",
       "\n",
       "    emp.var.rate  cons.price.idx  cons.conf.idx     euribor3m   nr.employed  \\\n",
       "0  -4.684547e-01   -3.375585e-01  -3.703172e-02 -4.723369e-01 -4.548605e-01   \n",
       "1   1.865393e-01    3.562173e-01   3.735219e-01  1.522774e-01 -1.765072e-02   \n",
       "2  -9.243449e-02   -3.025887e-01   5.161806e-01  3.337834e-03 -5.360634e-03   \n",
       "3   4.252542e-02    4.584849e-02   1.715814e-02  4.386853e-02  2.342937e-02   \n",
       "4  -4.484022e-03    1.504391e-01  -5.611855e-01 -8.063755e-02 -2.494010e-02   \n",
       "5  -5.624718e-02   -1.665025e-01   3.853072e-01 -1.294466e-02 -3.044275e-02   \n",
       "6  -1.543693e-01    4.062627e-01   1.119779e-01 -2.127655e-01 -3.879847e-01   \n",
       "7   1.385479e-02   -1.163806e-01  -3.760689e-02  3.582252e-02  8.848695e-02   \n",
       "8   4.030668e-02   -6.744415e-02   9.570340e-02  6.664391e-02  7.231260e-02   \n",
       "9  -2.538636e-02   -2.887344e-01  -8.131933e-02  4.099047e-02  1.612407e-01   \n",
       "10  1.696714e-03   -2.208274e-01  -5.697574e-02  4.841556e-02  1.394117e-01   \n",
       "11  8.993515e-03    2.238027e-01   1.248304e-01 -9.853263e-02 -2.023253e-01   \n",
       "12 -7.315416e-03   -1.392124e-01  -8.045550e-02  4.682920e-02  1.222471e-01   \n",
       "13  1.137969e-02    4.401867e-02   9.100257e-02  2.268847e-03 -4.645741e-02   \n",
       "14  6.069407e-03   -1.064989e-02   5.031381e-03 -3.379972e-03  5.372376e-03   \n",
       "15 -6.110700e-02   -6.401403e-02   3.010874e-03  1.034147e-02  9.856032e-02   \n",
       "16  2.854010e-02    1.972713e-02   1.436117e-02 -5.884625e-03 -3.692865e-02   \n",
       "17 -9.538045e-02   -2.936367e-02  -2.622211e-02 -3.129921e-03  9.481011e-02   \n",
       "18 -1.807842e-01   -1.076147e-01  -4.185472e-02  1.223835e-02  1.712452e-01   \n",
       "19 -5.822853e-02   -2.854943e-02   2.293578e-02  1.418751e-03  5.578842e-02   \n",
       "20 -1.220634e-01   -4.710179e-02   8.551987e-02  5.818499e-02  4.540451e-02   \n",
       "21 -3.369999e-02    1.573784e-02   3.438797e-02 -7.229998e-03 -1.995077e-02   \n",
       "22 -1.426513e-01   -8.834152e-02   5.516392e-02  1.102850e-01  3.004360e-02   \n",
       "23  3.151773e-03   -7.173025e-02   1.939971e-03 -7.817352e-02  1.014926e-01   \n",
       "24  2.579514e-02    1.338278e-01   8.150417e-03  1.188648e-01 -1.523167e-01   \n",
       "25  1.232178e-01   -3.542560e-02  -4.967903e-02  2.832957e-02 -1.399909e-01   \n",
       "26  1.565163e-02   -1.222704e-02  -5.490717e-03  2.630442e-03 -1.225609e-02   \n",
       "27  1.750857e-02    7.221699e-03   3.079225e-03  5.496988e-03 -1.161465e-02   \n",
       "28 -4.188722e-03   -9.362411e-02  -8.201328e-02 -1.762705e-02 -4.064946e-02   \n",
       "29 -1.402131e-02    1.144540e-02   1.064702e-02  1.065152e-03  3.304879e-02   \n",
       "30 -1.118156e-01    4.424805e-02   1.476619e-01  6.139952e-02  1.708311e-01   \n",
       "31  3.123698e-02   -7.411416e-02  -5.809602e-02  1.673667e-01 -7.769238e-02   \n",
       "32  1.951292e-01   -1.229617e-01   2.346242e-03  4.469524e-03 -6.898831e-02   \n",
       "33  3.618172e-02   -8.014248e-02  -7.051451e-02  8.607814e-02 -6.264277e-02   \n",
       "34  2.352161e-02   -2.460804e-02  -2.447573e-02  6.989107e-02 -6.926064e-02   \n",
       "35 -3.625458e-02   -2.407036e-03  -1.061610e-02  6.962888e-02 -3.002032e-02   \n",
       "36 -5.970735e-01    1.026447e-01  -8.498580e-02  6.937407e-01 -1.697776e-01   \n",
       "37  8.493907e-03   -1.161603e-02  -4.410559e-03  2.254859e-02 -2.558953e-02   \n",
       "38  4.377037e-01   -3.558785e-01  -5.831088e-02  3.318729e-01 -5.766120e-01   \n",
       "39  3.190712e-03   -2.008315e-03  -4.111774e-04  2.043342e-03 -3.859216e-03   \n",
       "40 -6.219161e-04    3.122104e-04   2.823144e-05 -1.362352e-05  3.755816e-04   \n",
       "41 -1.274238e-16    3.038372e-17  -2.427883e-17  2.420942e-16 -9.023814e-17   \n",
       "42  6.527397e-16   -1.033754e-16  -1.151101e-19 -7.669512e-16  1.637198e-16   \n",
       "43 -1.056471e-15    2.830182e-16  -7.910537e-17  1.067420e-15 -2.181333e-16   \n",
       "44 -5.640190e-16    1.883133e-16  -8.645521e-17  3.483418e-16  8.864315e-17   \n",
       "45  7.119927e-17    9.540354e-17   2.493426e-17 -4.199667e-16  2.494125e-16   \n",
       "46  3.370674e-16   -1.471790e-16  -1.386232e-17 -1.243631e-16 -1.886916e-16   \n",
       "47  1.670287e-16   -2.272838e-16  -9.918252e-17  6.623745e-16 -6.845776e-16   \n",
       "48 -5.448631e-16    3.586101e-16   2.657758e-17  1.734832e-17  2.974086e-16   \n",
       "49 -4.994630e-16    5.810666e-16   1.773377e-16 -9.411819e-16  1.135956e-15   \n",
       "50  4.936348e-16    1.506067e-16   1.354097e-16 -9.882169e-16  4.705144e-16   \n",
       "\n",
       "    ...  month_oct  month_sep  day_of_week_fri  day_of_week_mon  \\\n",
       "0   ...   0.016462   0.015286         0.001450        -0.001735   \n",
       "1   ...   0.012954   0.018510        -0.002989        -0.010012   \n",
       "2   ...   0.015006   0.008049         0.001307        -0.002259   \n",
       "3   ...   0.000933   0.001497        -0.009910        -0.017554   \n",
       "4   ...  -0.013977  -0.010234        -0.000669         0.019629   \n",
       "5   ...   0.009694   0.009950         0.009572        -0.012801   \n",
       "6   ...   0.020682   0.019432         0.035970         0.003779   \n",
       "7   ...  -0.003337  -0.007389         0.007752        -0.014416   \n",
       "8   ...  -0.005065  -0.009151         0.030452        -0.017639   \n",
       "9   ...  -0.024656  -0.025119         0.011191        -0.011186   \n",
       "10  ...  -0.020272  -0.025363         0.036063        -0.012490   \n",
       "11  ...   0.022131   0.033047        -0.037232         0.053889   \n",
       "12  ...  -0.019970  -0.019802         0.050440         0.005958   \n",
       "13  ...   0.017067   0.011912        -0.028664        -0.010205   \n",
       "14  ...  -0.000146  -0.001696        -0.074686        -0.378736   \n",
       "15  ...  -0.000402  -0.018134         0.044640         0.699251   \n",
       "16  ...   0.004031   0.009216        -0.021546         0.000428   \n",
       "17  ...   0.005723  -0.002663         0.730637        -0.395247   \n",
       "18  ...   0.005005  -0.016816        -0.495673        -0.061722   \n",
       "19  ...   0.001346   0.000580         0.023472         0.031324   \n",
       "20  ...   0.025401   0.006060         0.024653         0.031041   \n",
       "21  ...   0.004570   0.008244        -0.000521         0.004677   \n",
       "22  ...   0.042361   0.016002         0.041954        -0.003193   \n",
       "23  ...  -0.007637  -0.024365         0.017970        -0.010941   \n",
       "24  ...   0.004628   0.024654         0.004879         0.013688   \n",
       "25  ...   0.011434   0.015056        -0.009118         0.010689   \n",
       "26  ...   0.003477  -0.003995        -0.004734         0.008102   \n",
       "27  ...  -0.013657   0.011733        -0.002779         0.013044   \n",
       "28  ...  -0.004112  -0.005357         0.011875         0.004562   \n",
       "29  ...  -0.048825  -0.002097        -0.012753        -0.002147   \n",
       "30  ...   0.011481   0.009809        -0.006591        -0.004582   \n",
       "31  ...   0.825311  -0.073626         0.000872        -0.000297   \n",
       "32  ...  -0.372009   0.514992         0.002824         0.002256   \n",
       "33  ...   0.167979   0.748806        -0.003246         0.006805   \n",
       "34  ...  -0.100091  -0.127398         0.003828        -0.003694   \n",
       "35  ...  -0.053479   0.000363        -0.000061        -0.001736   \n",
       "36  ...  -0.156639   0.044765         0.000489        -0.001529   \n",
       "37  ...  -0.009577  -0.004924         0.000988        -0.000134   \n",
       "38  ...  -0.075186  -0.208208         0.004412        -0.001688   \n",
       "39  ...   0.000124  -0.000727         0.000086         0.000132   \n",
       "40  ...  -0.000017   0.000165         0.000065         0.000086   \n",
       "41  ...   0.023129   0.023129         0.255761         0.255761   \n",
       "42  ...   0.031173   0.031173        -0.220859        -0.220859   \n",
       "43  ...   0.054542   0.054542        -0.226799        -0.226799   \n",
       "44  ...  -0.029814  -0.029814        -0.082947        -0.082947   \n",
       "45  ...   0.006427   0.006427         0.005866         0.005866   \n",
       "46  ...  -0.001714  -0.001714         0.153076         0.153076   \n",
       "47  ...   0.109223   0.109223         0.029913         0.029913   \n",
       "48  ...  -0.137632  -0.137632         0.028900         0.028900   \n",
       "49  ...   0.236855   0.236855         0.047443         0.047443   \n",
       "50  ...  -0.087251  -0.087251        -0.006471        -0.006471   \n",
       "\n",
       "    day_of_week_thu  day_of_week_tue  day_of_week_wed  poutcome_failure  \\\n",
       "0          0.004366        -0.000176        -0.003905          0.063524   \n",
       "1         -0.008731         0.011325         0.010407          0.005548   \n",
       "2         -0.016404         0.018718        -0.001362         -0.029428   \n",
       "3          0.008505         0.007699         0.011259         -0.016411   \n",
       "4          0.001687        -0.008563        -0.012084          0.026957   \n",
       "5          0.001497        -0.000456         0.002188         -0.033426   \n",
       "6         -0.036796        -0.002031        -0.000922         -0.032116   \n",
       "7         -0.006341         0.014983        -0.001978          0.049524   \n",
       "8         -0.008012        -0.005393         0.000591          0.359353   \n",
       "9         -0.010261         0.000146         0.010110         -0.058514   \n",
       "10        -0.045411         0.018058         0.003780         -0.016073   \n",
       "11         0.051548        -0.016421        -0.051784          0.001654   \n",
       "12        -0.033856        -0.021025        -0.001518          0.005938   \n",
       "13        -0.020865         0.040770         0.018964         -0.000017   \n",
       "14         0.862200        -0.216005        -0.192773         -0.005864   \n",
       "15         0.107127        -0.468502        -0.382516          0.015230   \n",
       "16        -0.012662        -0.682958         0.716738         -0.006005   \n",
       "17        -0.138380        -0.153063        -0.043947          0.010240   \n",
       "18         0.064483         0.190240         0.302671          0.031237   \n",
       "19        -0.096476         0.008084         0.033596          0.016434   \n",
       "20         0.027640        -0.026381        -0.056954          0.023579   \n",
       "21         0.010322        -0.027930         0.013451          0.008646   \n",
       "22        -0.006178        -0.032269        -0.000314          0.038215   \n",
       "23         0.006507        -0.015159         0.001623          0.014717   \n",
       "24         0.013821        -0.011558        -0.020829         -0.030160   \n",
       "25        -0.051444         0.029345         0.020529         -0.031463   \n",
       "26        -0.005682        -0.001267         0.003581          0.003236   \n",
       "27        -0.005196        -0.005479         0.000409         -0.036390   \n",
       "28         0.000058        -0.010370        -0.006126         -0.538371   \n",
       "29         0.005720         0.000458         0.008722          0.025005   \n",
       "30        -0.008895         0.012327         0.007741         -0.263580   \n",
       "31         0.003328        -0.001549        -0.002353          0.010738   \n",
       "32         0.005119        -0.007388        -0.002811         -0.003253   \n",
       "33         0.000140         0.004940        -0.008640         -0.006019   \n",
       "34        -0.000068         0.002494        -0.002560         -0.092082   \n",
       "35         0.000620         0.000495         0.000683          0.383600   \n",
       "36         0.006554        -0.005204        -0.000311         -0.018678   \n",
       "37        -0.001556         0.000378         0.000324          0.002164   \n",
       "38         0.003171        -0.003737        -0.002158         -0.000091   \n",
       "39        -0.000103        -0.000198         0.000082          0.000366   \n",
       "40         0.000098        -0.000327         0.000078          0.000008   \n",
       "41         0.255761         0.255761         0.255761          0.195723   \n",
       "42        -0.220859        -0.220859        -0.220859          0.013952   \n",
       "43        -0.226799        -0.226799        -0.226799         -0.156516   \n",
       "44        -0.082947        -0.082947        -0.082947          0.189009   \n",
       "45         0.005866         0.005866         0.005866          0.000464   \n",
       "46         0.153076         0.153076         0.153076         -0.412280   \n",
       "47         0.029913         0.029913         0.029913          0.074152   \n",
       "48         0.028900         0.028900         0.028900         -0.144160   \n",
       "49         0.047443         0.047443         0.047443         -0.010026   \n",
       "50        -0.006471        -0.006471        -0.006471          0.195586   \n",
       "\n",
       "    poutcome_nonexistent  poutcome_success  \n",
       "0          -1.186220e-01          0.055098  \n",
       "1          -1.270200e-01          0.121472  \n",
       "2           7.291279e-02         -0.043485  \n",
       "3           1.828467e-02         -0.001874  \n",
       "4          -1.657689e-02         -0.010380  \n",
       "5           2.995716e-02          0.003469  \n",
       "6           6.959731e-02         -0.037481  \n",
       "7          -4.036251e-02         -0.009161  \n",
       "8          -2.189424e-01         -0.140410  \n",
       "9          -3.583744e-03          0.062098  \n",
       "10         -1.491025e-02          0.030983  \n",
       "11          2.811515e-02         -0.029770  \n",
       "12         -1.978022e-02          0.013842  \n",
       "13          5.939213e-03         -0.005922  \n",
       "14          4.695575e-03          0.001168  \n",
       "15         -1.975377e-02          0.004524  \n",
       "16          6.953222e-03         -0.000948  \n",
       "17         -1.395472e-02          0.003715  \n",
       "18         -3.304401e-02          0.001807  \n",
       "19         -1.384276e-02         -0.002592  \n",
       "20         -2.568885e-02          0.002110  \n",
       "21         -8.246600e-03         -0.000399  \n",
       "22         -3.827574e-02          0.000061  \n",
       "23         -1.542041e-02          0.000704  \n",
       "24          3.352749e-02         -0.003368  \n",
       "25          3.349729e-02         -0.002034  \n",
       "26         -2.212391e-04         -0.003014  \n",
       "27          3.646457e-02         -0.000074  \n",
       "28          5.843970e-01         -0.046026  \n",
       "29         -2.841180e-02          0.003407  \n",
       "30          2.655264e-01         -0.001947  \n",
       "31         -1.541151e-03         -0.009197  \n",
       "32         -1.480309e-02          0.018056  \n",
       "33         -1.036126e-02          0.016381  \n",
       "34         -9.541584e-02          0.187498  \n",
       "35          3.768877e-01         -0.760488  \n",
       "36         -3.887958e-02          0.057558  \n",
       "37          2.617130e-03         -0.004781  \n",
       "38         -2.238920e-03          0.002330  \n",
       "39          2.018188e-04         -0.000568  \n",
       "40         -1.883508e-07         -0.000008  \n",
       "41          1.957229e-01          0.195723  \n",
       "42          1.395172e-02          0.013952  \n",
       "43         -1.565157e-01         -0.156516  \n",
       "44          1.890092e-01          0.189009  \n",
       "45          4.635965e-04          0.000464  \n",
       "46         -4.122798e-01         -0.412280  \n",
       "47          7.415152e-02          0.074152  \n",
       "48         -1.441596e-01         -0.144160  \n",
       "49         -1.002565e-02         -0.010026  \n",
       "50          1.955858e-01          0.195586  \n",
       "\n",
       "[51 rows x 51 columns]"
      ]
     },
     "execution_count": 45,
     "metadata": {},
     "output_type": "execute_result"
    }
   ],
   "source": [
    "pd.DataFrame(pca.components_,columns=X.columns)"
   ]
  },
  {
   "cell_type": "code",
   "execution_count": 46,
   "metadata": {},
   "outputs": [],
   "source": [
    "X_pca = pd.DataFrame(data = pca.transform(X))\n",
    "\n",
    "X_train_pca = pd.DataFrame(data = pca.transform(X_train))\n",
    "\n",
    "X_test_pca = pd.DataFrame(data = pca.transform(X_test))\n"
   ]
  },
  {
   "cell_type": "code",
   "execution_count": 47,
   "metadata": {},
   "outputs": [
    {
     "data": {
      "image/png": "[encoded data removed]",
      "text/plain": [
       "<Figure size 432x288 with 1 Axes>"
      ]
     },
     "metadata": {
      "needs_background": "light"
     },
     "output_type": "display_data"
    }
   ],
   "source": [
    "import matplotlib.pyplot as plt\n",
    "\n",
    "x = X_train_pca.iloc[:,0]\n",
    "y = X_train_pca.iloc[:,1]\n",
    "\n",
    "plt.scatter(x, y,alpha=0.2,c=y_train )\n",
    "plt.show()"
   ]
  },
  {
   "cell_type": "code",
   "execution_count": 48,
   "metadata": {},
   "outputs": [
    {
     "data": {
      "image/png": "[encoded data removed]",
      "text/plain": [
       "<Figure size 432x288 with 1 Axes>"
      ]
     },
     "metadata": {
      "needs_background": "light"
     },
     "output_type": "display_data"
    }
   ],
   "source": [
    "import matplotlib.pyplot as plt\n",
    "\n",
    "x = X_test_pca.iloc[:,0]\n",
    "y = X_test_pca.iloc[:,1]\n",
    "\n",
    "plt.scatter(x, y,alpha=0.2,c=y_test )\n",
    "plt.show()"
   ]
  },
  {
   "cell_type": "code",
   "execution_count": 49,
   "metadata": {},
   "outputs": [
    {
     "name": "stdout",
     "output_type": "stream",
     "text": [
      "Fitting 3 folds for each of 8 candidates, totalling 24 fits\n",
      "[Parallel(n_jobs=-1)]: Using backend LokyBackend with 8 concurrent workers.\n",
      "[Parallel(n_jobs=-1)]: Done   1 tasks      | elapsed:    1.9s\n",
      "[Parallel(n_jobs=-1)]: Done   2 tasks      | elapsed:    2.0s\n",
      "[Parallel(n_jobs=-1)]: Done   3 tasks      | elapsed:    2.3s\n",
      "[Parallel(n_jobs=-1)]: Done   4 tasks      | elapsed:    2.4s\n",
      "[Parallel(n_jobs=-1)]: Done   5 tasks      | elapsed:    2.4s\n",
      "[Parallel(n_jobs=-1)]: Done   6 tasks      | elapsed:    2.5s\n",
      "[Parallel(n_jobs=-1)]: Done   7 tasks      | elapsed:    2.5s\n",
      "[Parallel(n_jobs=-1)]: Done   8 tasks      | elapsed:    2.5s\n",
      "[Parallel(n_jobs=-1)]: Done   9 tasks      | elapsed:    2.8s\n",
      "[Parallel(n_jobs=-1)]: Done  10 out of  24 | elapsed:    3.0s remaining:    4.2s\n",
      "[Parallel(n_jobs=-1)]: Done  11 out of  24 | elapsed:    3.2s remaining:    3.8s\n",
      "[Parallel(n_jobs=-1)]: Done  12 out of  24 | elapsed:    3.2s remaining:    3.2s\n",
      "[Parallel(n_jobs=-1)]: Done  13 out of  24 | elapsed:    3.3s remaining:    2.8s\n",
      "[Parallel(n_jobs=-1)]: Done  14 out of  24 | elapsed:    3.3s remaining:    2.4s\n",
      "[Parallel(n_jobs=-1)]: Done  15 out of  24 | elapsed:    3.4s remaining:    2.0s\n",
      "[Parallel(n_jobs=-1)]: Done  16 out of  24 | elapsed:    3.4s remaining:    1.7s\n",
      "[Parallel(n_jobs=-1)]: Done  17 out of  24 | elapsed:    3.6s remaining:    1.5s\n",
      "[Parallel(n_jobs=-1)]: Done  18 out of  24 | elapsed:    3.9s remaining:    1.3s\n",
      "[Parallel(n_jobs=-1)]: Done  19 out of  24 | elapsed:    3.9s remaining:    1.0s\n",
      "[Parallel(n_jobs=-1)]: Done  20 out of  24 | elapsed:    4.0s remaining:    0.8s\n",
      "[Parallel(n_jobs=-1)]: Done  21 out of  24 | elapsed:    4.0s remaining:    0.6s\n",
      "[Parallel(n_jobs=-1)]: Done  22 out of  24 | elapsed:    4.1s remaining:    0.4s\n",
      "[Parallel(n_jobs=-1)]: Done  24 out of  24 | elapsed:    4.2s remaining:    0.0s\n",
      "[Parallel(n_jobs=-1)]: Done  24 out of  24 | elapsed:    4.2s finished\n",
      "Best score: 0.537730 using {'n_neighbors': 11}\n",
      "f1_score:  0.5220417633410672\n",
      "accuracy:  0.8168888888888889\n",
      "[[3226  240]\n",
      " [ 584  450]]\n"
     ]
    },
    {
     "data": {
      "image/png": "[encoded data removed]",
      "text/plain": [
       "<Figure size 432x288 with 2 Axes>"
      ]
     },
     "metadata": {
      "needs_background": "light"
     },
     "output_type": "display_data"
    }
   ],
   "source": [
    "#DEFINE  PARAMETERS GRID\n",
    "from sklearn.neighbors import KNeighborsClassifier\n",
    "import numpy as np\n",
    "classifier = KNeighborsClassifier()\n",
    "parameters = {'n_neighbors':np.arange(1,40,5)}\n",
    "from sklearn.model_selection import GridSearchCV\n",
    "gs = GridSearchCV(classifier, parameters, cv=3, scoring = 'f1', verbose=50, n_jobs=-1)\n",
    "# We use just the two first PC\n",
    "gs = gs.fit(X_train_pca.iloc[:,:2], y_train) \n",
    "\n",
    "#Prediction\n",
    "print(\"Best score: %f using %s\" % (gs.best_score_, gs.best_params_))\n",
    "best_model = gs.best_estimator_\n",
    "y_pred = best_model.predict(X_test_pca.iloc[:,:2])\n",
    "\n",
    "print(\"f1_score: \", metrics.f1_score(y_test, y_pred))\n",
    "print(\"accuracy: \", metrics.accuracy_score(y_test, y_pred))\n",
    "\n",
    "from sklearn.metrics import confusion_matrix\n",
    "\n",
    "print(confusion_matrix(y_test, y_pred))\n",
    "\n",
    "sns.heatmap(confusion_matrix(y_test, y_pred), annot=True, fmt='d', cmap=\"Blues\"); #annot=True to annotate cells fmt: format\n"
   ]
  },
  {
   "cell_type": "code",
   "execution_count": 51,
   "metadata": {},
   "outputs": [
    {
     "data": {
      "image/png": "[encoded data removed]",
      "text/plain": [
       "<Figure size 432x288 with 1 Axes>"
      ]
     },
     "metadata": {
      "needs_background": "light"
     },
     "output_type": "display_data"
    },
    {
     "name": "stdout",
     "output_type": "stream",
     "text": [
      "AUC: 0.77\n"
     ]
    }
   ],
   "source": [
    "#Using the two first PC\n",
    "X_train_pca_2=X_train_pca.iloc[:,:2]\n",
    "X_test_pca_2=X_test_pca.iloc[:,:2]\n",
    "\n",
    "model = KNeighborsClassifier(n_neighbors=7)\n",
    "model.fit(X_train_pca_2, y_train)\n",
    "y_pred = model.predict(X_test_pca_2)\n",
    "\n",
    "y_probs = model.predict_proba(X_test_pca_2) #predict_proba gives the probabilities for the target (0 and 1 in your case) \n",
    "\n",
    "fpr, tpr, thresholds=metrics.roc_curve(y_test,  y_probs[:,1])\n",
    "\n",
    "import matplotlib.pyplot as plt\n",
    "plt.plot(fpr, tpr, label='ROC')\n",
    "plt.plot([0, 1], [0, 1], color='darkblue', linestyle='--')\n",
    "plt.xlabel('False Positive Rate')\n",
    "plt.ylabel('True Positive Rate')\n",
    "plt.title('Receiver Operating Characteristic (ROC) Curve')\n",
    "plt.legend()\n",
    "plt.show()\n",
    "\n",
    "auc = metrics.roc_auc_score(y_test, y_probs[:,1])\n",
    "print('AUC: %.2f' % auc)"
   ]
  },
  {
   "cell_type": "code",
   "execution_count": 53,
   "metadata": {},
   "outputs": [
    {
     "data": {
      "image/png": "[encoded data removed]",
      "text/plain": [
       "<Figure size 432x288 with 1 Axes>"
      ]
     },
     "metadata": {
      "needs_background": "light"
     },
     "output_type": "display_data"
    },
    {
     "name": "stdout",
     "output_type": "stream",
     "text": [
      "AUC: 0.90\n"
     ]
    }
   ],
   "source": [
    "# and with all PC\n",
    "\n",
    "model = KNeighborsClassifier(n_neighbors=7)\n",
    "model.fit(X_train_pca, y_train)\n",
    "y_pred = model.predict(X_test_pca)\n",
    "\n",
    "y_probs = model.predict_proba(X_test_pca) #predict_proba gives the probabilities for the target (0 and 1 in your case) \n",
    "\n",
    "fpr, tpr, thresholds=metrics.roc_curve(y_test,  y_probs[:,1])\n",
    "\n",
    "import matplotlib.pyplot as plt\n",
    "plt.plot(fpr, tpr, label='ROC')\n",
    "plt.plot([0, 1], [0, 1], color='darkblue', linestyle='--')\n",
    "plt.xlabel('False Positive Rate')\n",
    "plt.ylabel('True Positive Rate')\n",
    "plt.title('Receiver Operating Characteristic (ROC) Curve')\n",
    "plt.legend()\n",
    "plt.show()\n",
    "\n",
    "auc = metrics.roc_auc_score(y_test, y_probs[:,1])\n",
    "print('AUC: %.2f' % auc)"
   ]
  },
  {
   "cell_type": "code",
   "execution_count": null,
   "metadata": {},
   "outputs": [],
   "source": []
  }
 ],
 "metadata": {
  "kernelspec": {
   "display_name": "Python 3",
   "language": "python",
   "name": "python3"
  },
  "language_info": {
   "codemirror_mode": {
    "name": "ipython",
    "version": 3
   },
   "file_extension": ".py",
   "mimetype": "text/x-python",
   "name": "python",
   "nbconvert_exporter": "python",
   "pygments_lexer": "ipython3",
   "version": "3.7.6"
  }
 },
 "nbformat": 4,
 "nbformat_minor": 2
}
