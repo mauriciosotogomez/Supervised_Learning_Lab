{
 "cells": [
  {
   "cell_type": "markdown",
   "metadata": {},
   "source": [
    "# Cassification: k-Nearest Neighbors"
   ]
  },
  {
   "cell_type": "markdown",
   "metadata": {},
   "source": [
    "## Data import"
   ]
  },
  {
   "cell_type": "code",
   "execution_count": 1,
   "metadata": {},
   "outputs": [],
   "source": [
    "import pandas as pd\n",
    "df = pd.read_csv('telemarketing_train_preprocess.csv')"
   ]
  },
  {
   "cell_type": "code",
   "execution_count": 2,
   "metadata": {},
   "outputs": [
    {
     "data": {
      "text/html": [
       "<div>\n",
       "<style scoped>\n",
       "    .dataframe tbody tr th:only-of-type {\n",
       "        vertical-align: middle;\n",
       "    }\n",
       "\n",
       "    .dataframe tbody tr th {\n",
       "        vertical-align: top;\n",
       "    }\n",
       "\n",
       "    .dataframe thead th {\n",
       "        text-align: right;\n",
       "    }\n",
       "</style>\n",
       "<table border=\"1\" class=\"dataframe\">\n",
       "  <thead>\n",
       "    <tr style=\"text-align: right;\">\n",
       "      <th></th>\n",
       "      <th>age</th>\n",
       "      <th>duration</th>\n",
       "      <th>campaign</th>\n",
       "      <th>pdays</th>\n",
       "      <th>previous</th>\n",
       "      <th>emp.var.rate</th>\n",
       "      <th>cons.price.idx</th>\n",
       "      <th>cons.conf.idx</th>\n",
       "      <th>euribor3m</th>\n",
       "      <th>nr.employed</th>\n",
       "      <th>...</th>\n",
       "      <th>month_sep</th>\n",
       "      <th>day_of_week_fri</th>\n",
       "      <th>day_of_week_mon</th>\n",
       "      <th>day_of_week_thu</th>\n",
       "      <th>day_of_week_tue</th>\n",
       "      <th>day_of_week_wed</th>\n",
       "      <th>poutcome_failure</th>\n",
       "      <th>poutcome_nonexistent</th>\n",
       "      <th>poutcome_success</th>\n",
       "      <th>target</th>\n",
       "    </tr>\n",
       "  </thead>\n",
       "  <tbody>\n",
       "    <tr>\n",
       "      <th>0</th>\n",
       "      <td>1.444850</td>\n",
       "      <td>-0.746982</td>\n",
       "      <td>-0.571300</td>\n",
       "      <td>-3.969061</td>\n",
       "      <td>1.366417</td>\n",
       "      <td>-1.706389</td>\n",
       "      <td>-2.254135</td>\n",
       "      <td>1.860592</td>\n",
       "      <td>-1.400757</td>\n",
       "      <td>-1.031304</td>\n",
       "      <td>...</td>\n",
       "      <td>0</td>\n",
       "      <td>0</td>\n",
       "      <td>0</td>\n",
       "      <td>0</td>\n",
       "      <td>0</td>\n",
       "      <td>1</td>\n",
       "      <td>0</td>\n",
       "      <td>0</td>\n",
       "      <td>1</td>\n",
       "      <td>1</td>\n",
       "    </tr>\n",
       "    <tr>\n",
       "      <th>1</th>\n",
       "      <td>1.082169</td>\n",
       "      <td>0.100012</td>\n",
       "      <td>-0.571300</td>\n",
       "      <td>0.252494</td>\n",
       "      <td>-0.378985</td>\n",
       "      <td>-1.706389</td>\n",
       "      <td>-0.979221</td>\n",
       "      <td>-0.075950</td>\n",
       "      <td>-1.187102</td>\n",
       "      <td>-1.031304</td>\n",
       "      <td>...</td>\n",
       "      <td>0</td>\n",
       "      <td>0</td>\n",
       "      <td>1</td>\n",
       "      <td>0</td>\n",
       "      <td>0</td>\n",
       "      <td>0</td>\n",
       "      <td>0</td>\n",
       "      <td>1</td>\n",
       "      <td>0</td>\n",
       "      <td>1</td>\n",
       "    </tr>\n",
       "    <tr>\n",
       "      <th>2</th>\n",
       "      <td>0.447476</td>\n",
       "      <td>-0.363501</td>\n",
       "      <td>0.974844</td>\n",
       "      <td>0.252494</td>\n",
       "      <td>-0.378985</td>\n",
       "      <td>0.910934</td>\n",
       "      <td>-0.174453</td>\n",
       "      <td>0.892321</td>\n",
       "      <td>0.854483</td>\n",
       "      <td>0.901546</td>\n",
       "      <td>...</td>\n",
       "      <td>0</td>\n",
       "      <td>0</td>\n",
       "      <td>0</td>\n",
       "      <td>0</td>\n",
       "      <td>0</td>\n",
       "      <td>1</td>\n",
       "      <td>0</td>\n",
       "      <td>1</td>\n",
       "      <td>0</td>\n",
       "      <td>0</td>\n",
       "    </tr>\n",
       "    <tr>\n",
       "      <th>3</th>\n",
       "      <td>-0.731238</td>\n",
       "      <td>-0.200104</td>\n",
       "      <td>-0.184764</td>\n",
       "      <td>0.252494</td>\n",
       "      <td>-0.378985</td>\n",
       "      <td>0.728330</td>\n",
       "      <td>0.745760</td>\n",
       "      <td>0.830517</td>\n",
       "      <td>0.795410</td>\n",
       "      <td>0.429467</td>\n",
       "      <td>...</td>\n",
       "      <td>0</td>\n",
       "      <td>0</td>\n",
       "      <td>0</td>\n",
       "      <td>0</td>\n",
       "      <td>1</td>\n",
       "      <td>0</td>\n",
       "      <td>0</td>\n",
       "      <td>1</td>\n",
       "      <td>0</td>\n",
       "      <td>0</td>\n",
       "    </tr>\n",
       "    <tr>\n",
       "      <th>4</th>\n",
       "      <td>-0.731238</td>\n",
       "      <td>2.884420</td>\n",
       "      <td>-0.184764</td>\n",
       "      <td>0.252494</td>\n",
       "      <td>-0.378985</td>\n",
       "      <td>-0.002086</td>\n",
       "      <td>-0.582693</td>\n",
       "      <td>-0.323168</td>\n",
       "      <td>0.333873</td>\n",
       "      <td>0.490545</td>\n",
       "      <td>...</td>\n",
       "      <td>0</td>\n",
       "      <td>1</td>\n",
       "      <td>0</td>\n",
       "      <td>0</td>\n",
       "      <td>0</td>\n",
       "      <td>0</td>\n",
       "      <td>0</td>\n",
       "      <td>1</td>\n",
       "      <td>0</td>\n",
       "      <td>0</td>\n",
       "    </tr>\n",
       "  </tbody>\n",
       "</table>\n",
       "<p>5 rows × 52 columns</p>\n",
       "</div>"
      ],
      "text/plain": [
       "        age  duration  campaign     pdays  previous  emp.var.rate  \\\n",
       "0  1.444850 -0.746982 -0.571300 -3.969061  1.366417     -1.706389   \n",
       "1  1.082169  0.100012 -0.571300  0.252494 -0.378985     -1.706389   \n",
       "2  0.447476 -0.363501  0.974844  0.252494 -0.378985      0.910934   \n",
       "3 -0.731238 -0.200104 -0.184764  0.252494 -0.378985      0.728330   \n",
       "4 -0.731238  2.884420 -0.184764  0.252494 -0.378985     -0.002086   \n",
       "\n",
       "   cons.price.idx  cons.conf.idx  euribor3m  nr.employed  ...  month_sep  \\\n",
       "0       -2.254135       1.860592  -1.400757    -1.031304  ...          0   \n",
       "1       -0.979221      -0.075950  -1.187102    -1.031304  ...          0   \n",
       "2       -0.174453       0.892321   0.854483     0.901546  ...          0   \n",
       "3        0.745760       0.830517   0.795410     0.429467  ...          0   \n",
       "4       -0.582693      -0.323168   0.333873     0.490545  ...          0   \n",
       "\n",
       "   day_of_week_fri  day_of_week_mon  day_of_week_thu  day_of_week_tue  \\\n",
       "0                0                0                0                0   \n",
       "1                0                1                0                0   \n",
       "2                0                0                0                0   \n",
       "3                0                0                0                1   \n",
       "4                1                0                0                0   \n",
       "\n",
       "   day_of_week_wed  poutcome_failure  poutcome_nonexistent  poutcome_success  \\\n",
       "0                1                 0                     0                 1   \n",
       "1                0                 0                     1                 0   \n",
       "2                1                 0                     1                 0   \n",
       "3                0                 0                     1                 0   \n",
       "4                0                 0                     1                 0   \n",
       "\n",
       "   target  \n",
       "0       1  \n",
       "1       1  \n",
       "2       0  \n",
       "3       0  \n",
       "4       0  \n",
       "\n",
       "[5 rows x 52 columns]"
      ]
     },
     "execution_count": 2,
     "metadata": {},
     "output_type": "execute_result"
    }
   ],
   "source": [
    "df.head()"
   ]
  },
  {
   "cell_type": "markdown",
   "metadata": {},
   "source": [
    "## Exploratory Data Analysis"
   ]
  },
  {
   "cell_type": "code",
   "execution_count": 3,
   "metadata": {},
   "outputs": [
    {
     "name": "stdout",
     "output_type": "stream",
     "text": [
      "<class 'pandas.core.frame.DataFrame'>\n",
      "RangeIndex: 15000 entries, 0 to 14999\n",
      "Data columns (total 52 columns):\n",
      " #   Column                         Non-Null Count  Dtype  \n",
      "---  ------                         --------------  -----  \n",
      " 0   age                            15000 non-null  float64\n",
      " 1   duration                       15000 non-null  float64\n",
      " 2   campaign                       15000 non-null  float64\n",
      " 3   pdays                          15000 non-null  float64\n",
      " 4   previous                       15000 non-null  float64\n",
      " 5   emp.var.rate                   15000 non-null  float64\n",
      " 6   cons.price.idx                 15000 non-null  float64\n",
      " 7   cons.conf.idx                  15000 non-null  float64\n",
      " 8   euribor3m                      15000 non-null  float64\n",
      " 9   nr.employed                    15000 non-null  float64\n",
      " 10  marital_divorced               15000 non-null  int64  \n",
      " 11  marital_married                15000 non-null  int64  \n",
      " 12  marital_single                 15000 non-null  int64  \n",
      " 13  marital_unknown                15000 non-null  int64  \n",
      " 14  education_basic.4y             15000 non-null  int64  \n",
      " 15  education_basic.6y             15000 non-null  int64  \n",
      " 16  education_basic.9y             15000 non-null  int64  \n",
      " 17  education_high.school          15000 non-null  int64  \n",
      " 18  education_illiterate           15000 non-null  int64  \n",
      " 19  education_professional.course  15000 non-null  int64  \n",
      " 20  education_university.degree    15000 non-null  int64  \n",
      " 21  education_unknown              15000 non-null  int64  \n",
      " 22  default_no                     15000 non-null  int64  \n",
      " 23  default_unknown                15000 non-null  int64  \n",
      " 24  default_yes                    15000 non-null  int64  \n",
      " 25  housing_no                     15000 non-null  int64  \n",
      " 26  housing_unknown                15000 non-null  int64  \n",
      " 27  housing_yes                    15000 non-null  int64  \n",
      " 28  loan_no                        15000 non-null  int64  \n",
      " 29  loan_unknown                   15000 non-null  int64  \n",
      " 30  loan_yes                       15000 non-null  int64  \n",
      " 31  contact_cellular               15000 non-null  int64  \n",
      " 32  contact_telephone              15000 non-null  int64  \n",
      " 33  month_apr                      15000 non-null  int64  \n",
      " 34  month_aug                      15000 non-null  int64  \n",
      " 35  month_dec                      15000 non-null  int64  \n",
      " 36  month_jul                      15000 non-null  int64  \n",
      " 37  month_jun                      15000 non-null  int64  \n",
      " 38  month_mar                      15000 non-null  int64  \n",
      " 39  month_may                      15000 non-null  int64  \n",
      " 40  month_nov                      15000 non-null  int64  \n",
      " 41  month_oct                      15000 non-null  int64  \n",
      " 42  month_sep                      15000 non-null  int64  \n",
      " 43  day_of_week_fri                15000 non-null  int64  \n",
      " 44  day_of_week_mon                15000 non-null  int64  \n",
      " 45  day_of_week_thu                15000 non-null  int64  \n",
      " 46  day_of_week_tue                15000 non-null  int64  \n",
      " 47  day_of_week_wed                15000 non-null  int64  \n",
      " 48  poutcome_failure               15000 non-null  int64  \n",
      " 49  poutcome_nonexistent           15000 non-null  int64  \n",
      " 50  poutcome_success               15000 non-null  int64  \n",
      " 51  target                         15000 non-null  int64  \n",
      "dtypes: float64(10), int64(42)\n",
      "memory usage: 6.0 MB\n"
     ]
    }
   ],
   "source": [
    "#gives information about the data types,columns, null value counts, memory usage etc\n",
    "df.info(verbose=True)"
   ]
  },
  {
   "cell_type": "code",
   "execution_count": 37,
   "metadata": {},
   "outputs": [
    {
     "data": {
      "image/png": "[encoded data removed]",
      "text/plain": [
       "<Figure size 432x288 with 1 Axes>"
      ]
     },
     "metadata": {
      "needs_background": "light"
     },
     "output_type": "display_data"
    },
    {
     "data": {
      "image/png": "[encoded data removed]",
      "text/plain": [
       "<Figure size 432x288 with 1 Axes>"
      ]
     },
     "metadata": {
      "needs_background": "light"
     },
     "output_type": "display_data"
    },
    {
     "data": {
      "image/png": "[encoded data removed]",
      "text/plain": [
       "<Figure size 432x288 with 1 Axes>"
      ]
     },
     "metadata": {
      "needs_background": "light"
     },
     "output_type": "display_data"
    },
    {
     "data": {
      "image/png": "[encoded data removed]",
      "text/plain": [
       "<Figure size 432x288 with 1 Axes>"
      ]
     },
     "metadata": {
      "needs_background": "light"
     },
     "output_type": "display_data"
    },
    {
     "data": {
      "image/png": "[encoded data removed]",
      "text/plain": [
       "<Figure size 432x288 with 1 Axes>"
      ]
     },
     "metadata": {
      "needs_background": "light"
     },
     "output_type": "display_data"
    },
    {
     "data": {
      "image/png": "[encoded data removed]",
      "text/plain": [
       "<Figure size 432x288 with 1 Axes>"
      ]
     },
     "metadata": {
      "needs_background": "light"
     },
     "output_type": "display_data"
    },
    {
     "data": {
      "image/png": "[encoded data removed]",
      "text/plain": [
       "<Figure size 432x288 with 1 Axes>"
      ]
     },
     "metadata": {
      "needs_background": "light"
     },
     "output_type": "display_data"
    },
    {
     "data": {
      "image/png": "[encoded data removed]",
      "text/plain": [
       "<Figure size 432x288 with 1 Axes>"
      ]
     },
     "metadata": {
      "needs_background": "light"
     },
     "output_type": "display_data"
    },
    {
     "data": {
      "image/png": "[encoded data removed]",
      "text/plain": [
       "<Figure size 432x288 with 1 Axes>"
      ]
     },
     "metadata": {
      "needs_background": "light"
     },
     "output_type": "display_data"
    },
    {
     "data": {
      "image/png": "[encoded data removed]",
      "text/plain": [
       "<Figure size 432x288 with 1 Axes>"
      ]
     },
     "metadata": {
      "needs_background": "light"
     },
     "output_type": "display_data"
    },
    {
     "data": {
      "image/png": "[encoded data removed]",
      "text/plain": [
       "<Figure size 432x288 with 1 Axes>"
      ]
     },
     "metadata": {
      "needs_background": "light"
     },
     "output_type": "display_data"
    },
    {
     "data": {
      "image/png": "[encoded data removed]",
      "text/plain": [
       "<Figure size 432x288 with 1 Axes>"
      ]
     },
     "metadata": {
      "needs_background": "light"
     },
     "output_type": "display_data"
    },
    {
     "data": {
      "image/png": "[encoded data removed]",
      "text/plain": [
       "<Figure size 432x288 with 1 Axes>"
      ]
     },
     "metadata": {
      "needs_background": "light"
     },
     "output_type": "display_data"
    },
    {
     "data": {
      "image/png": "[encoded data removed]",
      "text/plain": [
       "<Figure size 432x288 with 1 Axes>"
      ]
     },
     "metadata": {
      "needs_background": "light"
     },
     "output_type": "display_data"
    },
    {
     "data": {
      "image/png": "[encoded data removed]",
      "text/plain": [
       "<Figure size 432x288 with 1 Axes>"
      ]
     },
     "metadata": {
      "needs_background": "light"
     },
     "output_type": "display_data"
    },
    {
     "data": {
      "image/png": "[encoded data removed]",
      "text/plain": [
       "<Figure size 432x288 with 1 Axes>"
      ]
     },
     "metadata": {
      "needs_background": "light"
     },
     "output_type": "display_data"
    },
    {
     "data": {
      "image/png": "[encoded data removed]",
      "text/plain": [
       "<Figure size 432x288 with 1 Axes>"
      ]
     },
     "metadata": {
      "needs_background": "light"
     },
     "output_type": "display_data"
    },
    {
     "data": {
      "image/png": "[encoded data removed]",
      "text/plain": [
       "<Figure size 432x288 with 1 Axes>"
      ]
     },
     "metadata": {
      "needs_background": "light"
     },
     "output_type": "display_data"
    },
    {
     "data": {
      "image/png": "[encoded data removed]",
      "text/plain": [
       "<Figure size 432x288 with 1 Axes>"
      ]
     },
     "metadata": {
      "needs_background": "light"
     },
     "output_type": "display_data"
    },
    {
     "data": {
      "image/png": "[encoded data removed]",
      "text/plain": [
       "<Figure size 432x288 with 1 Axes>"
      ]
     },
     "metadata": {
      "needs_background": "light"
     },
     "output_type": "display_data"
    },
    {
     "data": {
      "image/png": "[encoded data removed]",
      "text/plain": [
       "<Figure size 432x288 with 1 Axes>"
      ]
     },
     "metadata": {
      "needs_background": "light"
     },
     "output_type": "display_data"
    },
    {
     "data": {
      "image/png": "[encoded data removed]",
      "text/plain": [
       "<Figure size 432x288 with 1 Axes>"
      ]
     },
     "metadata": {
      "needs_background": "light"
     },
     "output_type": "display_data"
    },
    {
     "data": {
      "image/png": "[encoded data removed]",
      "text/plain": [
       "<Figure size 432x288 with 1 Axes>"
      ]
     },
     "metadata": {
      "needs_background": "light"
     },
     "output_type": "display_data"
    },
    {
     "data": {
      "image/png": "[encoded data removed]",
      "text/plain": [
       "<Figure size 432x288 with 1 Axes>"
      ]
     },
     "metadata": {
      "needs_background": "light"
     },
     "output_type": "display_data"
    },
    {
     "data": {
      "image/png": "[encoded data removed]",
      "text/plain": [
       "<Figure size 432x288 with 1 Axes>"
      ]
     },
     "metadata": {
      "needs_background": "light"
     },
     "output_type": "display_data"
    },
    {
     "data": {
      "image/png": "[encoded data removed]",
      "text/plain": [
       "<Figure size 432x288 with 1 Axes>"
      ]
     },
     "metadata": {
      "needs_background": "light"
     },
     "output_type": "display_data"
    },
    {
     "data": {
      "image/png": "[encoded data removed]",
      "text/plain": [
       "<Figure size 432x288 with 1 Axes>"
      ]
     },
     "metadata": {
      "needs_background": "light"
     },
     "output_type": "display_data"
    },
    {
     "data": {
      "image/png": "[encoded data removed]",
      "text/plain": [
       "<Figure size 432x288 with 1 Axes>"
      ]
     },
     "metadata": {
      "needs_background": "light"
     },
     "output_type": "display_data"
    },
    {
     "data": {
      "image/png": "[encoded data removed]",
      "text/plain": [
       "<Figure size 432x288 with 1 Axes>"
      ]
     },
     "metadata": {
      "needs_background": "light"
     },
     "output_type": "display_data"
    },
    {
     "data": {
      "image/png": "[encoded data removed]",
      "text/plain": [
       "<Figure size 432x288 with 1 Axes>"
      ]
     },
     "metadata": {
      "needs_background": "light"
     },
     "output_type": "display_data"
    },
    {
     "data": {
      "image/png": "[encoded data removed]",
      "text/plain": [
       "<Figure size 432x288 with 1 Axes>"
      ]
     },
     "metadata": {
      "needs_background": "light"
     },
     "output_type": "display_data"
    },
    {
     "data": {
      "image/png": "[encoded data removed]",
      "text/plain": [
       "<Figure size 432x288 with 1 Axes>"
      ]
     },
     "metadata": {
      "needs_background": "light"
     },
     "output_type": "display_data"
    },
    {
     "data": {
      "image/png": "[encoded data removed]",
      "text/plain": [
       "<Figure size 432x288 with 1 Axes>"
      ]
     },
     "metadata": {
      "needs_background": "light"
     },
     "output_type": "display_data"
    },
    {
     "data": {
      "image/png": "[encoded data removed]",
      "text/plain": [
       "<Figure size 432x288 with 1 Axes>"
      ]
     },
     "metadata": {
      "needs_background": "light"
     },
     "output_type": "display_data"
    },
    {
     "data": {
      "image/png": "[encoded data removed]",
      "text/plain": [
       "<Figure size 432x288 with 1 Axes>"
      ]
     },
     "metadata": {
      "needs_background": "light"
     },
     "output_type": "display_data"
    },
    {
     "data": {
      "image/png": "[encoded data removed]",
      "text/plain": [
       "<Figure size 432x288 with 1 Axes>"
      ]
     },
     "metadata": {
      "needs_background": "light"
     },
     "output_type": "display_data"
    },
    {
     "data": {
      "image/png": "[encoded data removed]",
      "text/plain": [
       "<Figure size 432x288 with 1 Axes>"
      ]
     },
     "metadata": {
      "needs_background": "light"
     },
     "output_type": "display_data"
    },
    {
     "data": {
      "image/png": "[encoded data removed]",
      "text/plain": [
       "<Figure size 432x288 with 1 Axes>"
      ]
     },
     "metadata": {
      "needs_background": "light"
     },
     "output_type": "display_data"
    },
    {
     "data": {
      "image/png": "[encoded data removed]",
      "text/plain": [
       "<Figure size 432x288 with 1 Axes>"
      ]
     },
     "metadata": {
      "needs_background": "light"
     },
     "output_type": "display_data"
    },
    {
     "data": {
      "image/png": "[encoded data removed]",
      "text/plain": [
       "<Figure size 432x288 with 1 Axes>"
      ]
     },
     "metadata": {
      "needs_background": "light"
     },
     "output_type": "display_data"
    },
    {
     "data": {
      "image/png": "[encoded data removed]",
      "text/plain": [
       "<Figure size 432x288 with 1 Axes>"
      ]
     },
     "metadata": {
      "needs_background": "light"
     },
     "output_type": "display_data"
    },
    {
     "data": {
      "image/png": "[encoded data removed]",
      "text/plain": [
       "<Figure size 432x288 with 1 Axes>"
      ]
     },
     "metadata": {
      "needs_background": "light"
     },
     "output_type": "display_data"
    },
    {
     "data": {
      "image/png": "[encoded data removed]",
      "text/plain": [
       "<Figure size 432x288 with 1 Axes>"
      ]
     },
     "metadata": {
      "needs_background": "light"
     },
     "output_type": "display_data"
    },
    {
     "data": {
      "image/png": "[encoded data removed]",
      "text/plain": [
       "<Figure size 432x288 with 1 Axes>"
      ]
     },
     "metadata": {
      "needs_background": "light"
     },
     "output_type": "display_data"
    },
    {
     "data": {
      "image/png": "[encoded data removed]",
      "text/plain": [
       "<Figure size 432x288 with 1 Axes>"
      ]
     },
     "metadata": {
      "needs_background": "light"
     },
     "output_type": "display_data"
    },
    {
     "data": {
      "image/png": "[encoded data removed]",
      "text/plain": [
       "<Figure size 432x288 with 1 Axes>"
      ]
     },
     "metadata": {
      "needs_background": "light"
     },
     "output_type": "display_data"
    },
    {
     "data": {
      "image/png": "[encoded data removed]",
      "text/plain": [
       "<Figure size 432x288 with 1 Axes>"
      ]
     },
     "metadata": {
      "needs_background": "light"
     },
     "output_type": "display_data"
    },
    {
     "data": {
      "image/png": "[encoded data removed]",
      "text/plain": [
       "<Figure size 432x288 with 1 Axes>"
      ]
     },
     "metadata": {
      "needs_background": "light"
     },
     "output_type": "display_data"
    },
    {
     "data": {
      "image/png": "[encoded data removed]",
      "text/plain": [
       "<Figure size 432x288 with 1 Axes>"
      ]
     },
     "metadata": {
      "needs_background": "light"
     },
     "output_type": "display_data"
    },
    {
     "data": {
      "image/png": "[encoded data removed]",
      "text/plain": [
       "<Figure size 432x288 with 1 Axes>"
      ]
     },
     "metadata": {
      "needs_background": "light"
     },
     "output_type": "display_data"
    },
    {
     "data": {
      "image/png": "[encoded data removed]",
      "text/plain": [
       "<Figure size 432x288 with 1 Axes>"
      ]
     },
     "metadata": {
      "needs_background": "light"
     },
     "output_type": "display_data"
    },
    {
     "data": {
      "image/png": "[encoded data removed]",
      "text/plain": [
       "<Figure size 432x288 with 1 Axes>"
      ]
     },
     "metadata": {
      "needs_background": "light"
     },
     "output_type": "display_data"
    }
   ],
   "source": [
    "%matplotlib inline\n",
    "import seaborn as sns\n",
    "import matplotlib.pyplot as plt\n",
    "\n",
    "X=df\n",
    "\n",
    "X0 = X[X['target']==0]\n",
    "X1 = X[X['target']==1]\n",
    "\n",
    "\n",
    "fig = plt.figure()\n",
    "for i in X.columns :\n",
    "    plt.hist([X0[i],X1[i]],density=True)\n",
    "    plt.title(i)\n",
    "    plt.show()\n"
   ]
  },
  {
   "cell_type": "code",
   "execution_count": 38,
   "metadata": {},
   "outputs": [
    {
     "name": "stdout",
     "output_type": "stream",
     "text": [
      "target\n",
      "0    11552\n",
      "1     3448\n",
      "dtype: int64\n"
     ]
    },
    {
     "data": {
      "text/plain": [
       "<matplotlib.axes._subplots.AxesSubplot at 0x7fae6853b510>"
      ]
     },
     "execution_count": 38,
     "metadata": {},
     "output_type": "execute_result"
    },
    {
     "data": {
      "image/png": "[encoded data removed]",
      "text/plain": [
       "<Figure size 432x288 with 1 Axes>"
      ]
     },
     "metadata": {
      "needs_background": "light"
     },
     "output_type": "display_data"
    }
   ],
   "source": [
    "#Print class freq. through pandas: we group the data by the column target and we count the number of rows \n",
    "target_dist=df.groupby('target').size()\n",
    "print(target_dist)\n",
    "\n",
    "#some imports to plot \n",
    "import matplotlib.pyplot as plt\n",
    "import seaborn as sns\n",
    "%matplotlib inline\n",
    "\n",
    "#Visualize Class Counts\n",
    "target_dist.plot.bar(x='',y='',title='Distribution of target')"
   ]
  },
  {
   "cell_type": "markdown",
   "metadata": {},
   "source": [
    "## Data Preparation "
   ]
  },
  {
   "cell_type": "markdown",
   "metadata": {},
   "source": [
    "### Separate Train/Test sets"
   ]
  },
  {
   "cell_type": "code",
   "execution_count": 39,
   "metadata": {},
   "outputs": [
    {
     "data": {
      "text/html": [
       "<div>\n",
       "<style scoped>\n",
       "    .dataframe tbody tr th:only-of-type {\n",
       "        vertical-align: middle;\n",
       "    }\n",
       "\n",
       "    .dataframe tbody tr th {\n",
       "        vertical-align: top;\n",
       "    }\n",
       "\n",
       "    .dataframe thead th {\n",
       "        text-align: right;\n",
       "    }\n",
       "</style>\n",
       "<table border=\"1\" class=\"dataframe\">\n",
       "  <thead>\n",
       "    <tr style=\"text-align: right;\">\n",
       "      <th></th>\n",
       "      <th>age</th>\n",
       "      <th>duration</th>\n",
       "      <th>campaign</th>\n",
       "      <th>pdays</th>\n",
       "      <th>previous</th>\n",
       "      <th>emp.var.rate</th>\n",
       "      <th>cons.price.idx</th>\n",
       "      <th>cons.conf.idx</th>\n",
       "      <th>euribor3m</th>\n",
       "      <th>nr.employed</th>\n",
       "      <th>...</th>\n",
       "      <th>month_sep</th>\n",
       "      <th>day_of_week_fri</th>\n",
       "      <th>day_of_week_mon</th>\n",
       "      <th>day_of_week_thu</th>\n",
       "      <th>day_of_week_tue</th>\n",
       "      <th>day_of_week_wed</th>\n",
       "      <th>poutcome_failure</th>\n",
       "      <th>poutcome_nonexistent</th>\n",
       "      <th>poutcome_success</th>\n",
       "      <th>target</th>\n",
       "    </tr>\n",
       "  </thead>\n",
       "  <tbody>\n",
       "    <tr>\n",
       "      <th>0</th>\n",
       "      <td>1.444850</td>\n",
       "      <td>-0.746982</td>\n",
       "      <td>-0.571300</td>\n",
       "      <td>-3.969061</td>\n",
       "      <td>1.366417</td>\n",
       "      <td>-1.706389</td>\n",
       "      <td>-2.254135</td>\n",
       "      <td>1.860592</td>\n",
       "      <td>-1.400757</td>\n",
       "      <td>-1.031304</td>\n",
       "      <td>...</td>\n",
       "      <td>0</td>\n",
       "      <td>0</td>\n",
       "      <td>0</td>\n",
       "      <td>0</td>\n",
       "      <td>0</td>\n",
       "      <td>1</td>\n",
       "      <td>0</td>\n",
       "      <td>0</td>\n",
       "      <td>1</td>\n",
       "      <td>1</td>\n",
       "    </tr>\n",
       "    <tr>\n",
       "      <th>1</th>\n",
       "      <td>1.082169</td>\n",
       "      <td>0.100012</td>\n",
       "      <td>-0.571300</td>\n",
       "      <td>0.252494</td>\n",
       "      <td>-0.378985</td>\n",
       "      <td>-1.706389</td>\n",
       "      <td>-0.979221</td>\n",
       "      <td>-0.075950</td>\n",
       "      <td>-1.187102</td>\n",
       "      <td>-1.031304</td>\n",
       "      <td>...</td>\n",
       "      <td>0</td>\n",
       "      <td>0</td>\n",
       "      <td>1</td>\n",
       "      <td>0</td>\n",
       "      <td>0</td>\n",
       "      <td>0</td>\n",
       "      <td>0</td>\n",
       "      <td>1</td>\n",
       "      <td>0</td>\n",
       "      <td>1</td>\n",
       "    </tr>\n",
       "    <tr>\n",
       "      <th>2</th>\n",
       "      <td>0.447476</td>\n",
       "      <td>-0.363501</td>\n",
       "      <td>0.974844</td>\n",
       "      <td>0.252494</td>\n",
       "      <td>-0.378985</td>\n",
       "      <td>0.910934</td>\n",
       "      <td>-0.174453</td>\n",
       "      <td>0.892321</td>\n",
       "      <td>0.854483</td>\n",
       "      <td>0.901546</td>\n",
       "      <td>...</td>\n",
       "      <td>0</td>\n",
       "      <td>0</td>\n",
       "      <td>0</td>\n",
       "      <td>0</td>\n",
       "      <td>0</td>\n",
       "      <td>1</td>\n",
       "      <td>0</td>\n",
       "      <td>1</td>\n",
       "      <td>0</td>\n",
       "      <td>0</td>\n",
       "    </tr>\n",
       "    <tr>\n",
       "      <th>3</th>\n",
       "      <td>-0.731238</td>\n",
       "      <td>-0.200104</td>\n",
       "      <td>-0.184764</td>\n",
       "      <td>0.252494</td>\n",
       "      <td>-0.378985</td>\n",
       "      <td>0.728330</td>\n",
       "      <td>0.745760</td>\n",
       "      <td>0.830517</td>\n",
       "      <td>0.795410</td>\n",
       "      <td>0.429467</td>\n",
       "      <td>...</td>\n",
       "      <td>0</td>\n",
       "      <td>0</td>\n",
       "      <td>0</td>\n",
       "      <td>0</td>\n",
       "      <td>1</td>\n",
       "      <td>0</td>\n",
       "      <td>0</td>\n",
       "      <td>1</td>\n",
       "      <td>0</td>\n",
       "      <td>0</td>\n",
       "    </tr>\n",
       "    <tr>\n",
       "      <th>4</th>\n",
       "      <td>-0.731238</td>\n",
       "      <td>2.884420</td>\n",
       "      <td>-0.184764</td>\n",
       "      <td>0.252494</td>\n",
       "      <td>-0.378985</td>\n",
       "      <td>-0.002086</td>\n",
       "      <td>-0.582693</td>\n",
       "      <td>-0.323168</td>\n",
       "      <td>0.333873</td>\n",
       "      <td>0.490545</td>\n",
       "      <td>...</td>\n",
       "      <td>0</td>\n",
       "      <td>1</td>\n",
       "      <td>0</td>\n",
       "      <td>0</td>\n",
       "      <td>0</td>\n",
       "      <td>0</td>\n",
       "      <td>0</td>\n",
       "      <td>1</td>\n",
       "      <td>0</td>\n",
       "      <td>0</td>\n",
       "    </tr>\n",
       "    <tr>\n",
       "      <th>...</th>\n",
       "      <td>...</td>\n",
       "      <td>...</td>\n",
       "      <td>...</td>\n",
       "      <td>...</td>\n",
       "      <td>...</td>\n",
       "      <td>...</td>\n",
       "      <td>...</td>\n",
       "      <td>...</td>\n",
       "      <td>...</td>\n",
       "      <td>...</td>\n",
       "      <td>...</td>\n",
       "      <td>...</td>\n",
       "      <td>...</td>\n",
       "      <td>...</td>\n",
       "      <td>...</td>\n",
       "      <td>...</td>\n",
       "      <td>...</td>\n",
       "      <td>...</td>\n",
       "      <td>...</td>\n",
       "      <td>...</td>\n",
       "      <td>...</td>\n",
       "    </tr>\n",
       "    <tr>\n",
       "      <th>14995</th>\n",
       "      <td>0.991498</td>\n",
       "      <td>-0.146750</td>\n",
       "      <td>-0.571300</td>\n",
       "      <td>0.252494</td>\n",
       "      <td>-0.378985</td>\n",
       "      <td>0.728330</td>\n",
       "      <td>0.745760</td>\n",
       "      <td>0.830517</td>\n",
       "      <td>0.794858</td>\n",
       "      <td>0.429467</td>\n",
       "      <td>...</td>\n",
       "      <td>0</td>\n",
       "      <td>0</td>\n",
       "      <td>0</td>\n",
       "      <td>0</td>\n",
       "      <td>1</td>\n",
       "      <td>0</td>\n",
       "      <td>0</td>\n",
       "      <td>1</td>\n",
       "      <td>0</td>\n",
       "      <td>0</td>\n",
       "    </tr>\n",
       "    <tr>\n",
       "      <th>14996</th>\n",
       "      <td>1.172839</td>\n",
       "      <td>-0.440197</td>\n",
       "      <td>6.772887</td>\n",
       "      <td>0.252494</td>\n",
       "      <td>-0.378985</td>\n",
       "      <td>0.910934</td>\n",
       "      <td>0.618604</td>\n",
       "      <td>-0.467378</td>\n",
       "      <td>0.852827</td>\n",
       "      <td>0.901546</td>\n",
       "      <td>...</td>\n",
       "      <td>0</td>\n",
       "      <td>0</td>\n",
       "      <td>0</td>\n",
       "      <td>0</td>\n",
       "      <td>1</td>\n",
       "      <td>0</td>\n",
       "      <td>0</td>\n",
       "      <td>1</td>\n",
       "      <td>0</td>\n",
       "      <td>0</td>\n",
       "    </tr>\n",
       "    <tr>\n",
       "      <th>14997</th>\n",
       "      <td>0.084795</td>\n",
       "      <td>-0.446866</td>\n",
       "      <td>0.974844</td>\n",
       "      <td>0.252494</td>\n",
       "      <td>1.366417</td>\n",
       "      <td>-1.036841</td>\n",
       "      <td>-1.096339</td>\n",
       "      <td>-1.188431</td>\n",
       "      <td>-1.195936</td>\n",
       "      <td>-0.739913</td>\n",
       "      <td>...</td>\n",
       "      <td>0</td>\n",
       "      <td>1</td>\n",
       "      <td>0</td>\n",
       "      <td>0</td>\n",
       "      <td>0</td>\n",
       "      <td>0</td>\n",
       "      <td>1</td>\n",
       "      <td>0</td>\n",
       "      <td>0</td>\n",
       "      <td>0</td>\n",
       "    </tr>\n",
       "    <tr>\n",
       "      <th>14998</th>\n",
       "      <td>-0.549897</td>\n",
       "      <td>-0.716970</td>\n",
       "      <td>0.201772</td>\n",
       "      <td>0.252494</td>\n",
       "      <td>-0.378985</td>\n",
       "      <td>0.910934</td>\n",
       "      <td>-0.174453</td>\n",
       "      <td>0.892321</td>\n",
       "      <td>0.854483</td>\n",
       "      <td>0.901546</td>\n",
       "      <td>...</td>\n",
       "      <td>0</td>\n",
       "      <td>1</td>\n",
       "      <td>0</td>\n",
       "      <td>0</td>\n",
       "      <td>0</td>\n",
       "      <td>0</td>\n",
       "      <td>0</td>\n",
       "      <td>1</td>\n",
       "      <td>0</td>\n",
       "      <td>0</td>\n",
       "    </tr>\n",
       "    <tr>\n",
       "      <th>14999</th>\n",
       "      <td>0.991498</td>\n",
       "      <td>-0.460205</td>\n",
       "      <td>-0.184764</td>\n",
       "      <td>0.252494</td>\n",
       "      <td>-0.378985</td>\n",
       "      <td>-1.706389</td>\n",
       "      <td>-0.979221</td>\n",
       "      <td>-0.075950</td>\n",
       "      <td>-1.185998</td>\n",
       "      <td>-1.031304</td>\n",
       "      <td>...</td>\n",
       "      <td>0</td>\n",
       "      <td>1</td>\n",
       "      <td>0</td>\n",
       "      <td>0</td>\n",
       "      <td>0</td>\n",
       "      <td>0</td>\n",
       "      <td>0</td>\n",
       "      <td>1</td>\n",
       "      <td>0</td>\n",
       "      <td>1</td>\n",
       "    </tr>\n",
       "  </tbody>\n",
       "</table>\n",
       "<p>15000 rows × 52 columns</p>\n",
       "</div>"
      ],
      "text/plain": [
       "            age  duration  campaign     pdays  previous  emp.var.rate  \\\n",
       "0      1.444850 -0.746982 -0.571300 -3.969061  1.366417     -1.706389   \n",
       "1      1.082169  0.100012 -0.571300  0.252494 -0.378985     -1.706389   \n",
       "2      0.447476 -0.363501  0.974844  0.252494 -0.378985      0.910934   \n",
       "3     -0.731238 -0.200104 -0.184764  0.252494 -0.378985      0.728330   \n",
       "4     -0.731238  2.884420 -0.184764  0.252494 -0.378985     -0.002086   \n",
       "...         ...       ...       ...       ...       ...           ...   \n",
       "14995  0.991498 -0.146750 -0.571300  0.252494 -0.378985      0.728330   \n",
       "14996  1.172839 -0.440197  6.772887  0.252494 -0.378985      0.910934   \n",
       "14997  0.084795 -0.446866  0.974844  0.252494  1.366417     -1.036841   \n",
       "14998 -0.549897 -0.716970  0.201772  0.252494 -0.378985      0.910934   \n",
       "14999  0.991498 -0.460205 -0.184764  0.252494 -0.378985     -1.706389   \n",
       "\n",
       "       cons.price.idx  cons.conf.idx  euribor3m  nr.employed  ...  month_sep  \\\n",
       "0           -2.254135       1.860592  -1.400757    -1.031304  ...          0   \n",
       "1           -0.979221      -0.075950  -1.187102    -1.031304  ...          0   \n",
       "2           -0.174453       0.892321   0.854483     0.901546  ...          0   \n",
       "3            0.745760       0.830517   0.795410     0.429467  ...          0   \n",
       "4           -0.582693      -0.323168   0.333873     0.490545  ...          0   \n",
       "...               ...            ...        ...          ...  ...        ...   \n",
       "14995        0.745760       0.830517   0.794858     0.429467  ...          0   \n",
       "14996        0.618604      -0.467378   0.852827     0.901546  ...          0   \n",
       "14997       -1.096339      -1.188431  -1.195936    -0.739913  ...          0   \n",
       "14998       -0.174453       0.892321   0.854483     0.901546  ...          0   \n",
       "14999       -0.979221      -0.075950  -1.185998    -1.031304  ...          0   \n",
       "\n",
       "       day_of_week_fri  day_of_week_mon  day_of_week_thu  day_of_week_tue  \\\n",
       "0                    0                0                0                0   \n",
       "1                    0                1                0                0   \n",
       "2                    0                0                0                0   \n",
       "3                    0                0                0                1   \n",
       "4                    1                0                0                0   \n",
       "...                ...              ...              ...              ...   \n",
       "14995                0                0                0                1   \n",
       "14996                0                0                0                1   \n",
       "14997                1                0                0                0   \n",
       "14998                1                0                0                0   \n",
       "14999                1                0                0                0   \n",
       "\n",
       "       day_of_week_wed  poutcome_failure  poutcome_nonexistent  \\\n",
       "0                    1                 0                     0   \n",
       "1                    0                 0                     1   \n",
       "2                    1                 0                     1   \n",
       "3                    0                 0                     1   \n",
       "4                    0                 0                     1   \n",
       "...                ...               ...                   ...   \n",
       "14995                0                 0                     1   \n",
       "14996                0                 0                     1   \n",
       "14997                0                 1                     0   \n",
       "14998                0                 0                     1   \n",
       "14999                0                 0                     1   \n",
       "\n",
       "       poutcome_success  target  \n",
       "0                     1       1  \n",
       "1                     0       1  \n",
       "2                     0       0  \n",
       "3                     0       0  \n",
       "4                     0       0  \n",
       "...                 ...     ...  \n",
       "14995                 0       0  \n",
       "14996                 0       0  \n",
       "14997                 0       0  \n",
       "14998                 0       0  \n",
       "14999                 0       1  \n",
       "\n",
       "[15000 rows x 52 columns]"
      ]
     },
     "execution_count": 39,
     "metadata": {},
     "output_type": "execute_result"
    }
   ],
   "source": [
    "df"
   ]
  },
  {
   "cell_type": "code",
   "execution_count": 40,
   "metadata": {},
   "outputs": [
    {
     "data": {
      "text/plain": [
       "0    1\n",
       "1    1\n",
       "2    0\n",
       "3    0\n",
       "4    0\n",
       "Name: target, dtype: int64"
      ]
     },
     "execution_count": 40,
     "metadata": {},
     "output_type": "execute_result"
    }
   ],
   "source": [
    "#Separate X and y (explanatory variables and target variable)\n",
    "X = df.iloc[:,0:-1]\n",
    "y = df.iloc[:,-1] #[-1]]\n",
    "\n",
    "#X.head()\n",
    "y.head()"
   ]
  },
  {
   "cell_type": "code",
   "execution_count": 41,
   "metadata": {},
   "outputs": [
    {
     "name": "stdout",
     "output_type": "stream",
     "text": [
      "(10500, 51) (4500, 51)\n"
     ]
    }
   ],
   "source": [
    "from sklearn.model_selection import train_test_split\n",
    "\n",
    "#SPLIT DATA INTO TRAIN AND TEST SET\n",
    "X_train, X_test, y_train, y_test = train_test_split(X, y, \n",
    "                                                    test_size =0.30, #by default is 75%-25%\n",
    "                                                    #shuffle is set True by default,\n",
    "                                                    stratify=y,\n",
    "                                                    random_state= 123) #fix random seed for replicability\n",
    "\n",
    "print(X_train.shape,X_test.shape)"
   ]
  },
  {
   "cell_type": "code",
   "execution_count": 42,
   "metadata": {},
   "outputs": [
    {
     "data": {
      "image/png": "[encoded data removed]",
      "text/plain": [
       "<Figure size 432x288 with 1 Axes>"
      ]
     },
     "metadata": {
      "needs_background": "light"
     },
     "output_type": "display_data"
    }
   ],
   "source": [
    "y_train_dist=y_train.groupby(y_train.iloc[:]).size()/y_train.size\n",
    "y_test_dist=y_test.groupby(y_test.iloc[:]).size()/y_test.size\n",
    "\n",
    "train_test_dist = pd.DataFrame({'train': y_train_dist, 'test': y_test_dist})\n",
    "ax = train_test_dist.plot.bar(rot=0) # rotation of the labels"
   ]
  },
  {
   "cell_type": "code",
   "execution_count": 43,
   "metadata": {},
   "outputs": [
    {
     "data": {
      "image/png": "[encoded data removed]",
      "text/plain": [
       "<Figure size 432x288 with 1 Axes>"
      ]
     },
     "metadata": {
      "needs_background": "light"
     },
     "output_type": "display_data"
    }
   ],
   "source": [
    "import matplotlib.pyplot as plt\n",
    "\n",
    "x = X_train.iloc[:,0]\n",
    "y = X_train.iloc[:,1]\n",
    "\n",
    "plt.scatter(x, y,alpha=0.2,c=y_train )\n",
    "plt.show()"
   ]
  },
  {
   "cell_type": "markdown",
   "metadata": {},
   "source": [
    "# A first model: K-Nearest Neighbor\n",
    "\n",
    "The K-Nearest Neighbor classification model simply assign to new observation the most common value among its k-nearest neighbors\n",
    "\n",
    "![KNN](KnnClassification.svg)"
   ]
  },
  {
   "cell_type": "code",
   "execution_count": 44,
   "metadata": {},
   "outputs": [],
   "source": [
    "#DEFINE YOUR CLASSIFIER and THE PARAMETERS GRID\n",
    "from sklearn.neighbors import KNeighborsClassifier\n",
    "import numpy as np\n",
    "\n",
    "#Create KNN Classifier\n",
    "knn3 = KNeighborsClassifier(n_neighbors=3)\n",
    "\n",
    "#Train the model using the training sets\n",
    "knn3.fit(X_train, y_train)\n",
    "\n",
    "#Predict the response for test dataset\n",
    "y_pred = knn3.predict(X_test)\n"
   ]
  },
  {
   "cell_type": "code",
   "execution_count": 45,
   "metadata": {},
   "outputs": [
    {
     "data": {
      "text/plain": [
       "array([0, 0, 0, ..., 0, 0, 0])"
      ]
     },
     "execution_count": 45,
     "metadata": {},
     "output_type": "execute_result"
    }
   ],
   "source": [
    "y_pred"
   ]
  },
  {
   "cell_type": "code",
   "execution_count": 46,
   "metadata": {},
   "outputs": [
    {
     "name": "stdout",
     "output_type": "stream",
     "text": [
      "[[3192  274]\n",
      " [ 390  644]]\n"
     ]
    }
   ],
   "source": [
    "from sklearn.metrics import confusion_matrix\n",
    "print(confusion_matrix(y_test, y_pred))"
   ]
  },
  {
   "cell_type": "code",
   "execution_count": 50,
   "metadata": {},
   "outputs": [
    {
     "name": "stdout",
     "output_type": "stream",
     "text": [
      "***RESULTS ON TEST SET***\n",
      "F1_score:  0.6598360655737705\n",
      "Accuracy 0.8524444444444444\n",
      "Recall 0.6228239845261122\n"
     ]
    }
   ],
   "source": [
    "#EVALUATE OUR PREDICTION\n",
    "from sklearn import metrics\n",
    "\n",
    "print('***RESULTS ON TEST SET***')\n",
    "print(\"F1_score: \",metrics.f1_score(y_test, y_pred))\n",
    "print(\"Accuracy\",metrics.accuracy_score(y_test, y_pred))\n",
    "print(\"Recall\",metrics.recall_score(y_test, y_pred))\n"
   ]
  },
  {
   "cell_type": "markdown",
   "metadata": {},
   "source": [
    "## Searching the best parameters"
   ]
  },
  {
   "cell_type": "markdown",
   "metadata": {},
   "source": [
    "#### DEFINE YOUR GRIDSEARCH \n",
    "\n",
    "GS perfoms an exhaustive search over specified parameter values for an estimator.\n",
    "GS uses a Stratified K-Folds cross-validator\n",
    "(The folds are made by preserving the percentage of samples for each class.)\n",
    "\n",
    "Some Parameters:\n",
    "\n",
    "- estimator : estimator object.\n",
    "- param_grid : dict or list of dictionaries\n",
    "- scoring : scoring parameter\n",
    "- n_jobs : Number of jobs to run in parallel. -1 means using all processors\n",
    "- cv : cross-validation generator (default 3-fold cross validation)\n",
    "- verbose : Controls the verbosity: the higher, the more messages.\n",
    "\n"
   ]
  },
  {
   "cell_type": "code",
   "execution_count": 51,
   "metadata": {},
   "outputs": [],
   "source": [
    "#Create KNN Classifier\n",
    "classifier = KNeighborsClassifier()\n",
    "parameters = {'n_neighbors':np.arange(1,60,5)}\n",
    "\n",
    "from sklearn.model_selection import GridSearchCV\n",
    "gs = GridSearchCV(classifier, parameters, cv=3, scoring = 'f1', verbose=50, n_jobs=-1)"
   ]
  },
  {
   "cell_type": "code",
   "execution_count": 52,
   "metadata": {},
   "outputs": [
    {
     "name": "stdout",
     "output_type": "stream",
     "text": [
      "Fitting 3 folds for each of 12 candidates, totalling 36 fits\n",
      "[Parallel(n_jobs=-1)]: Using backend LokyBackend with 8 concurrent workers.\n",
      "[Parallel(n_jobs=-1)]: Done   1 tasks      | elapsed:    3.9s\n",
      "[Parallel(n_jobs=-1)]: Done   2 tasks      | elapsed:    3.9s\n",
      "[Parallel(n_jobs=-1)]: Done   3 tasks      | elapsed:    4.2s\n",
      "[Parallel(n_jobs=-1)]: Done   4 tasks      | elapsed:    5.3s\n",
      "[Parallel(n_jobs=-1)]: Done   5 tasks      | elapsed:    5.4s\n",
      "[Parallel(n_jobs=-1)]: Done   6 tasks      | elapsed:    5.5s\n",
      "[Parallel(n_jobs=-1)]: Done   7 tasks      | elapsed:    5.9s\n",
      "[Parallel(n_jobs=-1)]: Done   8 tasks      | elapsed:    6.0s\n",
      "[Parallel(n_jobs=-1)]: Done   9 tasks      | elapsed:    9.4s\n",
      "[Parallel(n_jobs=-1)]: Done  10 tasks      | elapsed:   10.4s\n",
      "[Parallel(n_jobs=-1)]: Done  11 tasks      | elapsed:   10.8s\n",
      "[Parallel(n_jobs=-1)]: Done  12 tasks      | elapsed:   11.6s\n",
      "[Parallel(n_jobs=-1)]: Done  13 tasks      | elapsed:   12.3s\n",
      "[Parallel(n_jobs=-1)]: Done  14 tasks      | elapsed:   12.7s\n",
      "[Parallel(n_jobs=-1)]: Done  15 tasks      | elapsed:   12.8s\n",
      "[Parallel(n_jobs=-1)]: Done  16 tasks      | elapsed:   13.1s\n",
      "[Parallel(n_jobs=-1)]: Done  17 tasks      | elapsed:   16.0s\n",
      "[Parallel(n_jobs=-1)]: Done  18 tasks      | elapsed:   17.0s\n",
      "[Parallel(n_jobs=-1)]: Done  19 tasks      | elapsed:   18.3s\n",
      "[Parallel(n_jobs=-1)]: Done  20 tasks      | elapsed:   19.0s\n",
      "[Parallel(n_jobs=-1)]: Done  21 tasks      | elapsed:   19.7s\n",
      "[Parallel(n_jobs=-1)]: Done  22 out of  36 | elapsed:   20.2s remaining:   12.8s\n",
      "[Parallel(n_jobs=-1)]: Done  23 out of  36 | elapsed:   20.3s remaining:   11.5s\n",
      "[Parallel(n_jobs=-1)]: Done  24 out of  36 | elapsed:   20.7s remaining:   10.4s\n",
      "[Parallel(n_jobs=-1)]: Done  25 out of  36 | elapsed:   23.5s remaining:   10.4s\n",
      "[Parallel(n_jobs=-1)]: Done  26 out of  36 | elapsed:   24.6s remaining:    9.5s\n",
      "[Parallel(n_jobs=-1)]: Done  27 out of  36 | elapsed:   25.4s remaining:    8.5s\n",
      "[Parallel(n_jobs=-1)]: Done  28 out of  36 | elapsed:   26.2s remaining:    7.5s\n",
      "[Parallel(n_jobs=-1)]: Done  29 out of  36 | elapsed:   27.2s remaining:    6.6s\n",
      "[Parallel(n_jobs=-1)]: Done  30 out of  36 | elapsed:   27.5s remaining:    5.5s\n",
      "[Parallel(n_jobs=-1)]: Done  31 out of  36 | elapsed:   27.8s remaining:    4.5s\n",
      "[Parallel(n_jobs=-1)]: Done  32 out of  36 | elapsed:   28.0s remaining:    3.5s\n",
      "[Parallel(n_jobs=-1)]: Done  33 out of  36 | elapsed:   29.5s remaining:    2.7s\n",
      "[Parallel(n_jobs=-1)]: Done  34 out of  36 | elapsed:   30.1s remaining:    1.8s\n",
      "[Parallel(n_jobs=-1)]: Done  36 out of  36 | elapsed:   30.4s remaining:    0.0s\n",
      "[Parallel(n_jobs=-1)]: Done  36 out of  36 | elapsed:   30.4s finished\n"
     ]
    }
   ],
   "source": [
    "#TRAIN YOUR CLASSIFIER\n",
    "gs = gs.fit(X_train, y_train)"
   ]
  },
  {
   "cell_type": "code",
   "execution_count": 53,
   "metadata": {},
   "outputs": [
    {
     "name": "stdout",
     "output_type": "stream",
     "text": [
      "Best score: 0.668238 using {'n_neighbors': 11}\n",
      "Mean 0.606111 Std (0.010754) with: {'n_neighbors': 1}\n",
      "Mean 0.605940 Std (0.023032) with: {'n_neighbors': 6}\n",
      "Mean 0.668238 Std (0.016267) with: {'n_neighbors': 11}\n",
      "Mean 0.647822 Std (0.013656) with: {'n_neighbors': 16}\n",
      "Mean 0.660524 Std (0.015278) with: {'n_neighbors': 21}\n",
      "Mean 0.654705 Std (0.008905) with: {'n_neighbors': 26}\n",
      "Mean 0.660219 Std (0.011474) with: {'n_neighbors': 31}\n",
      "Mean 0.643718 Std (0.014547) with: {'n_neighbors': 36}\n",
      "Mean 0.650969 Std (0.015348) with: {'n_neighbors': 41}\n",
      "Mean 0.641650 Std (0.015101) with: {'n_neighbors': 46}\n",
      "Mean 0.637787 Std (0.018517) with: {'n_neighbors': 51}\n",
      "Mean 0.627728 Std (0.015841) with: {'n_neighbors': 56}\n"
     ]
    }
   ],
   "source": [
    "#summarize the results of your GRIDSEARCH\n",
    "print(\"Best score: %f using %s\" % (gs.best_score_, gs.best_params_))\n",
    "means = gs.cv_results_['mean_test_score']\n",
    "stds = gs.cv_results_['std_test_score']\n",
    "params = gs.cv_results_['params']\n",
    "for mean, stdev, param in zip(means, stds, params):\n",
    "    print(\"Mean %f Std (%f) with: %r\" % (mean, stdev, param))"
   ]
  },
  {
   "cell_type": "code",
   "execution_count": 54,
   "metadata": {},
   "outputs": [
    {
     "data": {
      "image/png": "[encoded data removed]",
      "text/plain": [
       "<Figure size 432x288 with 1 Axes>"
      ]
     },
     "metadata": {
      "needs_background": "light"
     },
     "output_type": "display_data"
    }
   ],
   "source": [
    "import matplotlib.pyplot as plt\n",
    "\n",
    "plt.plot (means, color='blue', alpha=1.00)\n",
    "plt.show()"
   ]
  },
  {
   "cell_type": "code",
   "execution_count": 55,
   "metadata": {},
   "outputs": [],
   "source": [
    "#TEST ON YOUR TEST SET \n",
    "best_model = gs.best_estimator_\n",
    "y_pred = best_model.predict(X_test)"
   ]
  },
  {
   "cell_type": "code",
   "execution_count": 56,
   "metadata": {},
   "outputs": [
    {
     "data": {
      "text/plain": [
       "array([0, 0, 0, ..., 0, 0, 0])"
      ]
     },
     "execution_count": 56,
     "metadata": {},
     "output_type": "execute_result"
    }
   ],
   "source": [
    "#This is your prediction on the TEST SET\n",
    "y_pred"
   ]
  },
  {
   "cell_type": "code",
   "execution_count": 57,
   "metadata": {},
   "outputs": [
    {
     "name": "stdout",
     "output_type": "stream",
     "text": [
      "***RESULTS ON TEST SET***\n",
      "precision:  0.7312072892938497\n",
      "recall:  0.620889748549323\n",
      "f1_score:  0.6715481171548118\n",
      "accuracy:  0.8604444444444445\n"
     ]
    }
   ],
   "source": [
    "#EVALUATE YOUR PREDICTION (on the y_test that you left aside)\n",
    "from sklearn import metrics \n",
    "print('***RESULTS ON TEST SET***')\n",
    "print(\"precision: \", metrics.precision_score(y_test, y_pred)) # tp / (tp + fp)\n",
    "print(\"recall: \", metrics.recall_score(y_test, y_pred)) # tp / (tp + fn)\n",
    "print(\"f1_score: \", metrics.f1_score(y_test, y_pred)) #F1 = 2 * (precision * recall) / (precision + recall)\n",
    "print(\"accuracy: \", metrics.accuracy_score(y_test, y_pred)) # (tp+tn)/m\n"
   ]
  },
  {
   "cell_type": "code",
   "execution_count": 58,
   "metadata": {},
   "outputs": [
    {
     "name": "stdout",
     "output_type": "stream",
     "text": [
      "              precision    recall  f1-score   support\n",
      "\n",
      "           0       0.89      0.93      0.91      3466\n",
      "           1       0.73      0.62      0.67      1034\n",
      "\n",
      "    accuracy                           0.86      4500\n",
      "   macro avg       0.81      0.78      0.79      4500\n",
      "weighted avg       0.85      0.86      0.86      4500\n",
      "\n"
     ]
    }
   ],
   "source": [
    "#PRINT SOME FURTHER METRICS\n",
    "from sklearn.metrics import classification_report\n",
    "print(classification_report(y_test, y_pred))"
   ]
  },
  {
   "cell_type": "code",
   "execution_count": 59,
   "metadata": {},
   "outputs": [
    {
     "name": "stdout",
     "output_type": "stream",
     "text": [
      "[[3230  236]\n",
      " [ 392  642]]\n"
     ]
    }
   ],
   "source": [
    "from sklearn.metrics import confusion_matrix\n",
    "print(confusion_matrix(y_test, y_pred))"
   ]
  },
  {
   "cell_type": "code",
   "execution_count": 60,
   "metadata": {},
   "outputs": [
    {
     "data": {
      "image/png": "[encoded data removed]",
      "text/plain": [
       "<Figure size 432x288 with 2 Axes>"
      ]
     },
     "metadata": {
      "needs_background": "light"
     },
     "output_type": "display_data"
    }
   ],
   "source": [
    "# Plot normalized confusion matrix\n",
    "sns.heatmap(confusion_matrix(y_test, y_pred), annot=True, fmt='d', cmap=\"Reds\"); #annot=True to annotate cells fmt: format\n"
   ]
  },
  {
   "cell_type": "markdown",
   "metadata": {},
   "source": [
    "### ROC Curve"
   ]
  },
  {
   "cell_type": "code",
   "execution_count": 76,
   "metadata": {},
   "outputs": [
    {
     "data": {
      "image/png": "[encoded data removed]",
      "text/plain": [
       "<Figure size 432x288 with 1 Axes>"
      ]
     },
     "metadata": {
      "needs_background": "light"
     },
     "output_type": "display_data"
    },
    {
     "name": "stdout",
     "output_type": "stream",
     "text": [
      "AUC: 0.91\n"
     ]
    }
   ],
   "source": [
    "model = KNeighborsClassifier(n_neighbors=11)\n",
    "model.fit(X_train, y_train)\n",
    "y_pred = model.predict(X_test)\n",
    "\n",
    "y_probs = model.predict_proba(X_test) #predict_proba gives the probabilities for the target (0 and 1 in your case) \n",
    "\n",
    "fpr, tpr, thresholds=metrics.roc_curve(y_test,  y_probs[:,1])\n",
    "\n",
    "import matplotlib.pyplot as plt\n",
    "plt.plot(fpr, tpr, label='ROC')\n",
    "plt.plot([0, 1], [0, 1], color='darkblue', linestyle='--')\n",
    "plt.xlabel('False Positive Rate')\n",
    "plt.ylabel('True Positive Rate')\n",
    "plt.title('Receiver Operating Characteristic (ROC) Curve')\n",
    "plt.legend()\n",
    "plt.show()\n",
    "\n",
    "auc = metrics.roc_auc_score(y_test, y_probs[:,1])\n",
    "print('AUC: %.2f' % auc)"
   ]
  },
  {
   "cell_type": "markdown",
   "metadata": {},
   "source": [
    "## Apply PCA"
   ]
  },
  {
   "cell_type": "code",
   "execution_count": 81,
   "metadata": {},
   "outputs": [],
   "source": [
    "#PCA fit\n",
    "from sklearn.decomposition import PCA\n",
    "pca = PCA()\n",
    "pca.fit(X)\n",
    "df_pca = pd.DataFrame(pca.transform(scaled_X))"
   ]
  },
  {
   "cell_type": "code",
   "execution_count": 82,
   "metadata": {},
   "outputs": [
    {
     "data": {
      "image/png": "[encoded data removed]",
      "text/plain": [
       "<Figure size 432x288 with 1 Axes>"
      ]
     },
     "metadata": {
      "needs_background": "light"
     },
     "output_type": "display_data"
    }
   ],
   "source": [
    "explained_variance=pd.DataFrame(pca.explained_variance_ratio_)\n",
    "%matplotlib inline\n",
    "import seaborn as sns\n",
    "ax = sns.barplot( data=explained_variance.transpose())"
   ]
  },
  {
   "cell_type": "code",
   "execution_count": 65,
   "metadata": {},
   "outputs": [
    {
     "data": {
      "text/html": [
       "<div>\n",
       "<style scoped>\n",
       "    .dataframe tbody tr th:only-of-type {\n",
       "        vertical-align: middle;\n",
       "    }\n",
       "\n",
       "    .dataframe tbody tr th {\n",
       "        vertical-align: top;\n",
       "    }\n",
       "\n",
       "    .dataframe thead th {\n",
       "        text-align: right;\n",
       "    }\n",
       "</style>\n",
       "<table border=\"1\" class=\"dataframe\">\n",
       "  <thead>\n",
       "    <tr style=\"text-align: right;\">\n",
       "      <th></th>\n",
       "      <th>age</th>\n",
       "      <th>duration</th>\n",
       "      <th>campaign</th>\n",
       "      <th>pdays</th>\n",
       "      <th>previous</th>\n",
       "      <th>emp.var.rate</th>\n",
       "      <th>cons.price.idx</th>\n",
       "      <th>cons.conf.idx</th>\n",
       "      <th>euribor3m</th>\n",
       "      <th>nr.employed</th>\n",
       "      <th>...</th>\n",
       "      <th>month_oct</th>\n",
       "      <th>month_sep</th>\n",
       "      <th>day_of_week_fri</th>\n",
       "      <th>day_of_week_mon</th>\n",
       "      <th>day_of_week_thu</th>\n",
       "      <th>day_of_week_tue</th>\n",
       "      <th>day_of_week_wed</th>\n",
       "      <th>poutcome_failure</th>\n",
       "      <th>poutcome_nonexistent</th>\n",
       "      <th>poutcome_success</th>\n",
       "    </tr>\n",
       "  </thead>\n",
       "  <tbody>\n",
       "    <tr>\n",
       "      <th>0</th>\n",
       "      <td>4.694619e-03</td>\n",
       "      <td>2.095256e-02</td>\n",
       "      <td>-8.241802e-02</td>\n",
       "      <td>-2.269947e-01</td>\n",
       "      <td>2.850766e-01</td>\n",
       "      <td>-3.546334e-01</td>\n",
       "      <td>-2.674595e-01</td>\n",
       "      <td>-3.132632e-02</td>\n",
       "      <td>-3.596241e-01</td>\n",
       "      <td>-3.473792e-01</td>\n",
       "      <td>...</td>\n",
       "      <td>0.090766</td>\n",
       "      <td>0.098693</td>\n",
       "      <td>-0.000548</td>\n",
       "      <td>-0.006290</td>\n",
       "      <td>0.015922</td>\n",
       "      <td>-0.001760</td>\n",
       "      <td>-0.007898</td>\n",
       "      <td>0.202241</td>\n",
       "      <td>-0.303360</td>\n",
       "      <td>0.216121</td>\n",
       "    </tr>\n",
       "    <tr>\n",
       "      <th>1</th>\n",
       "      <td>1.834855e-01</td>\n",
       "      <td>-7.183111e-03</td>\n",
       "      <td>-7.255592e-03</td>\n",
       "      <td>-2.844720e-01</td>\n",
       "      <td>2.525840e-01</td>\n",
       "      <td>-3.659265e-03</td>\n",
       "      <td>2.017997e-01</td>\n",
       "      <td>1.530395e-01</td>\n",
       "      <td>-2.210812e-02</td>\n",
       "      <td>-1.167394e-01</td>\n",
       "      <td>...</td>\n",
       "      <td>0.073155</td>\n",
       "      <td>0.099094</td>\n",
       "      <td>0.034223</td>\n",
       "      <td>-0.013968</td>\n",
       "      <td>-0.057367</td>\n",
       "      <td>0.023584</td>\n",
       "      <td>0.016801</td>\n",
       "      <td>0.064172</td>\n",
       "      <td>-0.224586</td>\n",
       "      <td>0.276005</td>\n",
       "    </tr>\n",
       "    <tr>\n",
       "      <th>2</th>\n",
       "      <td>3.451413e-01</td>\n",
       "      <td>6.096697e-03</td>\n",
       "      <td>-2.365838e-02</td>\n",
       "      <td>7.960304e-02</td>\n",
       "      <td>-4.739644e-02</td>\n",
       "      <td>-2.758471e-02</td>\n",
       "      <td>-1.780276e-01</td>\n",
       "      <td>9.222600e-03</td>\n",
       "      <td>-1.254765e-02</td>\n",
       "      <td>3.111668e-02</td>\n",
       "      <td>...</td>\n",
       "      <td>-0.020486</td>\n",
       "      <td>-0.021935</td>\n",
       "      <td>-0.037978</td>\n",
       "      <td>0.020518</td>\n",
       "      <td>0.016363</td>\n",
       "      <td>0.020373</td>\n",
       "      <td>-0.021249</td>\n",
       "      <td>0.027658</td>\n",
       "      <td>0.025448</td>\n",
       "      <td>-0.078635</td>\n",
       "    </tr>\n",
       "    <tr>\n",
       "      <th>3</th>\n",
       "      <td>1.832197e-02</td>\n",
       "      <td>-3.251716e-03</td>\n",
       "      <td>-2.868529e-04</td>\n",
       "      <td>6.996778e-02</td>\n",
       "      <td>-3.042863e-02</td>\n",
       "      <td>-3.975389e-02</td>\n",
       "      <td>-3.510342e-02</td>\n",
       "      <td>-6.659302e-02</td>\n",
       "      <td>-4.090210e-02</td>\n",
       "      <td>-2.084613e-02</td>\n",
       "      <td>...</td>\n",
       "      <td>-0.019990</td>\n",
       "      <td>-0.024763</td>\n",
       "      <td>0.016207</td>\n",
       "      <td>0.010637</td>\n",
       "      <td>-0.001940</td>\n",
       "      <td>-0.007878</td>\n",
       "      <td>-0.016685</td>\n",
       "      <td>0.033107</td>\n",
       "      <td>0.017480</td>\n",
       "      <td>-0.073144</td>\n",
       "    </tr>\n",
       "    <tr>\n",
       "      <th>4</th>\n",
       "      <td>7.001651e-02</td>\n",
       "      <td>-1.357492e-03</td>\n",
       "      <td>4.780388e-02</td>\n",
       "      <td>-3.184998e-01</td>\n",
       "      <td>1.301616e-01</td>\n",
       "      <td>2.192957e-01</td>\n",
       "      <td>1.321331e-01</td>\n",
       "      <td>3.118872e-01</td>\n",
       "      <td>2.197778e-01</td>\n",
       "      <td>1.488347e-01</td>\n",
       "      <td>...</td>\n",
       "      <td>0.039986</td>\n",
       "      <td>0.098929</td>\n",
       "      <td>-0.067430</td>\n",
       "      <td>-0.034024</td>\n",
       "      <td>0.012319</td>\n",
       "      <td>0.046324</td>\n",
       "      <td>0.040995</td>\n",
       "      <td>-0.167706</td>\n",
       "      <td>-0.056638</td>\n",
       "      <td>0.318948</td>\n",
       "    </tr>\n",
       "    <tr>\n",
       "      <th>5</th>\n",
       "      <td>-7.064035e-02</td>\n",
       "      <td>1.475287e-02</td>\n",
       "      <td>3.376576e-02</td>\n",
       "      <td>-1.190996e-01</td>\n",
       "      <td>9.840613e-02</td>\n",
       "      <td>5.634596e-02</td>\n",
       "      <td>1.481724e-01</td>\n",
       "      <td>-1.335170e-01</td>\n",
       "      <td>2.617183e-02</td>\n",
       "      <td>1.506368e-02</td>\n",
       "      <td>...</td>\n",
       "      <td>-0.048461</td>\n",
       "      <td>-0.001172</td>\n",
       "      <td>-0.024755</td>\n",
       "      <td>0.039366</td>\n",
       "      <td>0.029748</td>\n",
       "      <td>-0.048094</td>\n",
       "      <td>0.001582</td>\n",
       "      <td>0.007482</td>\n",
       "      <td>-0.079515</td>\n",
       "      <td>0.118383</td>\n",
       "    </tr>\n",
       "    <tr>\n",
       "      <th>6</th>\n",
       "      <td>7.026476e-02</td>\n",
       "      <td>-5.457873e-02</td>\n",
       "      <td>-7.162428e-02</td>\n",
       "      <td>9.042486e-02</td>\n",
       "      <td>-1.706662e-01</td>\n",
       "      <td>-1.170751e-01</td>\n",
       "      <td>-1.838525e-01</td>\n",
       "      <td>3.748122e-01</td>\n",
       "      <td>-6.341205e-02</td>\n",
       "      <td>-9.736526e-02</td>\n",
       "      <td>...</td>\n",
       "      <td>0.109246</td>\n",
       "      <td>0.075484</td>\n",
       "      <td>0.045994</td>\n",
       "      <td>-0.034069</td>\n",
       "      <td>-0.057755</td>\n",
       "      <td>0.024439</td>\n",
       "      <td>0.025247</td>\n",
       "      <td>-0.149548</td>\n",
       "      <td>0.175281</td>\n",
       "      <td>-0.080544</td>\n",
       "    </tr>\n",
       "    <tr>\n",
       "      <th>7</th>\n",
       "      <td>-2.550173e-02</td>\n",
       "      <td>-8.871146e-03</td>\n",
       "      <td>1.655376e-02</td>\n",
       "      <td>-1.135856e-02</td>\n",
       "      <td>5.516827e-02</td>\n",
       "      <td>5.005269e-02</td>\n",
       "      <td>5.271368e-02</td>\n",
       "      <td>-6.188407e-02</td>\n",
       "      <td>4.484758e-02</td>\n",
       "      <td>4.796292e-02</td>\n",
       "      <td>...</td>\n",
       "      <td>-0.029486</td>\n",
       "      <td>-0.039237</td>\n",
       "      <td>-0.025189</td>\n",
       "      <td>-0.018122</td>\n",
       "      <td>0.021048</td>\n",
       "      <td>0.006504</td>\n",
       "      <td>0.014530</td>\n",
       "      <td>0.066791</td>\n",
       "      <td>-0.059355</td>\n",
       "      <td>0.005376</td>\n",
       "    </tr>\n",
       "    <tr>\n",
       "      <th>8</th>\n",
       "      <td>-1.307152e-01</td>\n",
       "      <td>-7.224572e-03</td>\n",
       "      <td>-3.527606e-02</td>\n",
       "      <td>-1.404424e-02</td>\n",
       "      <td>-4.594962e-02</td>\n",
       "      <td>-4.865790e-02</td>\n",
       "      <td>-1.426206e-01</td>\n",
       "      <td>2.240905e-01</td>\n",
       "      <td>-4.253402e-02</td>\n",
       "      <td>-5.267918e-02</td>\n",
       "      <td>...</td>\n",
       "      <td>0.041978</td>\n",
       "      <td>0.044236</td>\n",
       "      <td>0.042816</td>\n",
       "      <td>-0.049311</td>\n",
       "      <td>-0.031507</td>\n",
       "      <td>0.032608</td>\n",
       "      <td>0.008265</td>\n",
       "      <td>-0.082772</td>\n",
       "      <td>0.058184</td>\n",
       "      <td>0.018186</td>\n",
       "    </tr>\n",
       "    <tr>\n",
       "      <th>9</th>\n",
       "      <td>-8.276065e-02</td>\n",
       "      <td>-1.123644e-01</td>\n",
       "      <td>-1.742157e-02</td>\n",
       "      <td>1.635056e-01</td>\n",
       "      <td>2.459258e-01</td>\n",
       "      <td>1.410571e-01</td>\n",
       "      <td>-4.591299e-02</td>\n",
       "      <td>1.314231e-01</td>\n",
       "      <td>1.799901e-01</td>\n",
       "      <td>1.829250e-01</td>\n",
       "      <td>...</td>\n",
       "      <td>-0.067952</td>\n",
       "      <td>-0.113987</td>\n",
       "      <td>0.093075</td>\n",
       "      <td>-0.123256</td>\n",
       "      <td>-0.078497</td>\n",
       "      <td>0.031542</td>\n",
       "      <td>0.084234</td>\n",
       "      <td>0.546812</td>\n",
       "      <td>-0.334544</td>\n",
       "      <td>-0.200690</td>\n",
       "    </tr>\n",
       "    <tr>\n",
       "      <th>10</th>\n",
       "      <td>9.464795e-02</td>\n",
       "      <td>-1.229476e-01</td>\n",
       "      <td>1.000651e-01</td>\n",
       "      <td>1.029225e-01</td>\n",
       "      <td>6.007303e-02</td>\n",
       "      <td>-1.133074e-02</td>\n",
       "      <td>6.336164e-02</td>\n",
       "      <td>-8.187970e-02</td>\n",
       "      <td>-8.385485e-03</td>\n",
       "      <td>2.806814e-02</td>\n",
       "      <td>...</td>\n",
       "      <td>-0.053444</td>\n",
       "      <td>-0.083895</td>\n",
       "      <td>0.153899</td>\n",
       "      <td>0.231664</td>\n",
       "      <td>0.045708</td>\n",
       "      <td>-0.170478</td>\n",
       "      <td>-0.261669</td>\n",
       "      <td>0.192151</td>\n",
       "      <td>-0.089981</td>\n",
       "      <td>-0.115100</td>\n",
       "    </tr>\n",
       "    <tr>\n",
       "      <th>11</th>\n",
       "      <td>3.191190e-01</td>\n",
       "      <td>-5.317155e-02</td>\n",
       "      <td>3.273777e-02</td>\n",
       "      <td>6.992181e-02</td>\n",
       "      <td>-2.999027e-02</td>\n",
       "      <td>-1.754437e-02</td>\n",
       "      <td>1.340661e-03</td>\n",
       "      <td>5.637905e-02</td>\n",
       "      <td>-3.270987e-03</td>\n",
       "      <td>-2.477952e-02</td>\n",
       "      <td>...</td>\n",
       "      <td>0.077737</td>\n",
       "      <td>0.006733</td>\n",
       "      <td>0.009699</td>\n",
       "      <td>0.099254</td>\n",
       "      <td>-0.273142</td>\n",
       "      <td>0.215872</td>\n",
       "      <td>-0.042643</td>\n",
       "      <td>0.028865</td>\n",
       "      <td>0.021487</td>\n",
       "      <td>-0.073871</td>\n",
       "    </tr>\n",
       "    <tr>\n",
       "      <th>12</th>\n",
       "      <td>6.234453e-02</td>\n",
       "      <td>5.321915e-02</td>\n",
       "      <td>-2.163767e-02</td>\n",
       "      <td>6.839277e-03</td>\n",
       "      <td>9.858158e-03</td>\n",
       "      <td>2.270551e-02</td>\n",
       "      <td>7.345957e-03</td>\n",
       "      <td>7.237627e-02</td>\n",
       "      <td>1.708407e-02</td>\n",
       "      <td>9.593346e-03</td>\n",
       "      <td>...</td>\n",
       "      <td>0.033440</td>\n",
       "      <td>0.014414</td>\n",
       "      <td>0.114510</td>\n",
       "      <td>-0.404933</td>\n",
       "      <td>0.676712</td>\n",
       "      <td>-0.076979</td>\n",
       "      <td>-0.328478</td>\n",
       "      <td>0.017036</td>\n",
       "      <td>-0.007925</td>\n",
       "      <td>-0.010290</td>\n",
       "    </tr>\n",
       "    <tr>\n",
       "      <th>13</th>\n",
       "      <td>-8.781108e-02</td>\n",
       "      <td>-7.611468e-02</td>\n",
       "      <td>8.284134e-02</td>\n",
       "      <td>4.424027e-03</td>\n",
       "      <td>3.872276e-03</td>\n",
       "      <td>-2.440015e-03</td>\n",
       "      <td>-2.370939e-02</td>\n",
       "      <td>1.143303e-01</td>\n",
       "      <td>-5.674333e-03</td>\n",
       "      <td>-2.015543e-03</td>\n",
       "      <td>...</td>\n",
       "      <td>0.111006</td>\n",
       "      <td>-0.025217</td>\n",
       "      <td>0.145299</td>\n",
       "      <td>0.473634</td>\n",
       "      <td>-0.098317</td>\n",
       "      <td>-0.256509</td>\n",
       "      <td>-0.262316</td>\n",
       "      <td>0.019968</td>\n",
       "      <td>-0.010216</td>\n",
       "      <td>-0.010562</td>\n",
       "    </tr>\n",
       "    <tr>\n",
       "      <th>14</th>\n",
       "      <td>-9.811645e-02</td>\n",
       "      <td>-4.470786e-02</td>\n",
       "      <td>-6.727027e-03</td>\n",
       "      <td>-1.013226e-02</td>\n",
       "      <td>1.635914e-02</td>\n",
       "      <td>3.576785e-03</td>\n",
       "      <td>-1.904572e-03</td>\n",
       "      <td>-2.790314e-02</td>\n",
       "      <td>-8.394414e-04</td>\n",
       "      <td>6.587829e-03</td>\n",
       "      <td>...</td>\n",
       "      <td>-0.054108</td>\n",
       "      <td>-0.047171</td>\n",
       "      <td>-0.106144</td>\n",
       "      <td>0.032378</td>\n",
       "      <td>-0.083550</td>\n",
       "      <td>0.730858</td>\n",
       "      <td>-0.576749</td>\n",
       "      <td>0.015171</td>\n",
       "      <td>-0.017437</td>\n",
       "      <td>0.007615</td>\n",
       "    </tr>\n",
       "    <tr>\n",
       "      <th>15</th>\n",
       "      <td>-2.332321e-03</td>\n",
       "      <td>7.276868e-02</td>\n",
       "      <td>3.230588e-02</td>\n",
       "      <td>-1.110739e-02</td>\n",
       "      <td>-4.028757e-02</td>\n",
       "      <td>-2.004639e-02</td>\n",
       "      <td>2.338524e-02</td>\n",
       "      <td>-4.367973e-02</td>\n",
       "      <td>-1.984979e-02</td>\n",
       "      <td>-1.301443e-02</td>\n",
       "      <td>...</td>\n",
       "      <td>0.007785</td>\n",
       "      <td>0.101652</td>\n",
       "      <td>0.741411</td>\n",
       "      <td>-0.435544</td>\n",
       "      <td>-0.316089</td>\n",
       "      <td>0.073210</td>\n",
       "      <td>-0.026502</td>\n",
       "      <td>-0.072382</td>\n",
       "      <td>0.051065</td>\n",
       "      <td>0.015605</td>\n",
       "    </tr>\n",
       "    <tr>\n",
       "      <th>16</th>\n",
       "      <td>-6.070315e-03</td>\n",
       "      <td>-1.465188e-01</td>\n",
       "      <td>1.664928e-01</td>\n",
       "      <td>-9.807811e-02</td>\n",
       "      <td>2.460184e-02</td>\n",
       "      <td>4.879791e-02</td>\n",
       "      <td>-3.292973e-02</td>\n",
       "      <td>-3.307124e-02</td>\n",
       "      <td>1.194357e-02</td>\n",
       "      <td>2.624883e-02</td>\n",
       "      <td>...</td>\n",
       "      <td>-0.189729</td>\n",
       "      <td>-0.019225</td>\n",
       "      <td>0.310371</td>\n",
       "      <td>0.179663</td>\n",
       "      <td>-0.176870</td>\n",
       "      <td>-0.171128</td>\n",
       "      <td>-0.129222</td>\n",
       "      <td>-0.062697</td>\n",
       "      <td>-0.012962</td>\n",
       "      <td>0.105966</td>\n",
       "    </tr>\n",
       "    <tr>\n",
       "      <th>17</th>\n",
       "      <td>-3.471858e-02</td>\n",
       "      <td>2.429822e-02</td>\n",
       "      <td>-5.979878e-02</td>\n",
       "      <td>9.918248e-02</td>\n",
       "      <td>1.011351e-03</td>\n",
       "      <td>-2.326222e-02</td>\n",
       "      <td>3.648983e-02</td>\n",
       "      <td>-1.685687e-02</td>\n",
       "      <td>-3.357344e-02</td>\n",
       "      <td>-2.681685e-02</td>\n",
       "      <td>...</td>\n",
       "      <td>0.008062</td>\n",
       "      <td>0.102945</td>\n",
       "      <td>-0.142549</td>\n",
       "      <td>-0.143878</td>\n",
       "      <td>-0.204832</td>\n",
       "      <td>0.122068</td>\n",
       "      <td>0.375915</td>\n",
       "      <td>0.099814</td>\n",
       "      <td>-0.016250</td>\n",
       "      <td>-0.109075</td>\n",
       "    </tr>\n",
       "    <tr>\n",
       "      <th>18</th>\n",
       "      <td>2.706869e-02</td>\n",
       "      <td>-8.265651e-02</td>\n",
       "      <td>3.664151e-01</td>\n",
       "      <td>1.310864e-01</td>\n",
       "      <td>6.803093e-02</td>\n",
       "      <td>4.726340e-02</td>\n",
       "      <td>8.370335e-02</td>\n",
       "      <td>2.635180e-02</td>\n",
       "      <td>-4.078638e-02</td>\n",
       "      <td>-5.977075e-02</td>\n",
       "      <td>...</td>\n",
       "      <td>0.065359</td>\n",
       "      <td>0.117530</td>\n",
       "      <td>-0.043725</td>\n",
       "      <td>-0.099346</td>\n",
       "      <td>0.034683</td>\n",
       "      <td>0.032890</td>\n",
       "      <td>0.074334</td>\n",
       "      <td>0.203423</td>\n",
       "      <td>-0.080461</td>\n",
       "      <td>-0.145773</td>\n",
       "    </tr>\n",
       "    <tr>\n",
       "      <th>19</th>\n",
       "      <td>4.720830e-02</td>\n",
       "      <td>-1.003157e-01</td>\n",
       "      <td>4.502713e-02</td>\n",
       "      <td>1.093682e-01</td>\n",
       "      <td>-1.121251e-02</td>\n",
       "      <td>-3.416294e-02</td>\n",
       "      <td>5.313350e-03</td>\n",
       "      <td>1.380210e-01</td>\n",
       "      <td>-9.315872e-03</td>\n",
       "      <td>-3.653718e-02</td>\n",
       "      <td>...</td>\n",
       "      <td>0.189215</td>\n",
       "      <td>0.033941</td>\n",
       "      <td>-0.052725</td>\n",
       "      <td>-0.058459</td>\n",
       "      <td>0.052250</td>\n",
       "      <td>0.049538</td>\n",
       "      <td>0.006602</td>\n",
       "      <td>0.088759</td>\n",
       "      <td>-0.000651</td>\n",
       "      <td>-0.119300</td>\n",
       "    </tr>\n",
       "    <tr>\n",
       "      <th>20</th>\n",
       "      <td>-2.153670e-02</td>\n",
       "      <td>-1.705264e-01</td>\n",
       "      <td>7.177171e-02</td>\n",
       "      <td>-6.352326e-02</td>\n",
       "      <td>1.423895e-02</td>\n",
       "      <td>1.374740e-02</td>\n",
       "      <td>7.880528e-03</td>\n",
       "      <td>-9.021922e-02</td>\n",
       "      <td>-3.053082e-02</td>\n",
       "      <td>9.844206e-03</td>\n",
       "      <td>...</td>\n",
       "      <td>0.098506</td>\n",
       "      <td>-0.233600</td>\n",
       "      <td>0.010785</td>\n",
       "      <td>-0.137993</td>\n",
       "      <td>-0.003893</td>\n",
       "      <td>0.052083</td>\n",
       "      <td>0.081204</td>\n",
       "      <td>-0.040011</td>\n",
       "      <td>-0.005831</td>\n",
       "      <td>0.063678</td>\n",
       "    </tr>\n",
       "    <tr>\n",
       "      <th>21</th>\n",
       "      <td>-1.044664e-02</td>\n",
       "      <td>-1.930459e-01</td>\n",
       "      <td>1.761087e-01</td>\n",
       "      <td>-7.881003e-02</td>\n",
       "      <td>-2.089427e-03</td>\n",
       "      <td>-8.486337e-03</td>\n",
       "      <td>-7.902921e-02</td>\n",
       "      <td>-9.367028e-02</td>\n",
       "      <td>-3.589659e-02</td>\n",
       "      <td>5.152131e-02</td>\n",
       "      <td>...</td>\n",
       "      <td>-0.559997</td>\n",
       "      <td>-0.098550</td>\n",
       "      <td>-0.141495</td>\n",
       "      <td>-0.116853</td>\n",
       "      <td>0.017067</td>\n",
       "      <td>0.070151</td>\n",
       "      <td>0.168494</td>\n",
       "      <td>-0.072715</td>\n",
       "      <td>0.003246</td>\n",
       "      <td>0.093351</td>\n",
       "    </tr>\n",
       "    <tr>\n",
       "      <th>22</th>\n",
       "      <td>-9.038898e-03</td>\n",
       "      <td>-3.271340e-01</td>\n",
       "      <td>2.076308e-01</td>\n",
       "      <td>-3.151064e-02</td>\n",
       "      <td>-3.351506e-02</td>\n",
       "      <td>-4.585184e-02</td>\n",
       "      <td>-6.891250e-02</td>\n",
       "      <td>-3.753650e-02</td>\n",
       "      <td>-3.131727e-03</td>\n",
       "      <td>-5.988267e-03</td>\n",
       "      <td>...</td>\n",
       "      <td>0.143444</td>\n",
       "      <td>-0.229848</td>\n",
       "      <td>0.077606</td>\n",
       "      <td>-0.093834</td>\n",
       "      <td>0.085413</td>\n",
       "      <td>-0.117316</td>\n",
       "      <td>0.048363</td>\n",
       "      <td>-0.072977</td>\n",
       "      <td>0.041819</td>\n",
       "      <td>0.031356</td>\n",
       "    </tr>\n",
       "    <tr>\n",
       "      <th>23</th>\n",
       "      <td>-1.992793e-02</td>\n",
       "      <td>-2.248355e-01</td>\n",
       "      <td>1.562340e-01</td>\n",
       "      <td>4.648402e-02</td>\n",
       "      <td>-2.595638e-02</td>\n",
       "      <td>-8.549347e-02</td>\n",
       "      <td>-2.661700e-02</td>\n",
       "      <td>7.277237e-02</td>\n",
       "      <td>-5.599349e-02</td>\n",
       "      <td>-4.679826e-02</td>\n",
       "      <td>...</td>\n",
       "      <td>0.439416</td>\n",
       "      <td>-0.071662</td>\n",
       "      <td>-0.056769</td>\n",
       "      <td>-0.036143</td>\n",
       "      <td>0.015366</td>\n",
       "      <td>0.042789</td>\n",
       "      <td>0.033110</td>\n",
       "      <td>0.019197</td>\n",
       "      <td>0.013825</td>\n",
       "      <td>-0.048376</td>\n",
       "    </tr>\n",
       "    <tr>\n",
       "      <th>24</th>\n",
       "      <td>6.028279e-03</td>\n",
       "      <td>4.458968e-01</td>\n",
       "      <td>-1.811562e-01</td>\n",
       "      <td>-4.824643e-02</td>\n",
       "      <td>3.475722e-02</td>\n",
       "      <td>3.999927e-02</td>\n",
       "      <td>3.891896e-03</td>\n",
       "      <td>-4.407409e-02</td>\n",
       "      <td>3.829853e-02</td>\n",
       "      <td>7.132992e-02</td>\n",
       "      <td>...</td>\n",
       "      <td>0.186863</td>\n",
       "      <td>-0.540646</td>\n",
       "      <td>0.053689</td>\n",
       "      <td>0.013540</td>\n",
       "      <td>-0.125533</td>\n",
       "      <td>0.021538</td>\n",
       "      <td>0.042938</td>\n",
       "      <td>0.019756</td>\n",
       "      <td>-0.044573</td>\n",
       "      <td>0.045258</td>\n",
       "    </tr>\n",
       "    <tr>\n",
       "      <th>25</th>\n",
       "      <td>6.242442e-03</td>\n",
       "      <td>9.773975e-03</td>\n",
       "      <td>-1.582856e-01</td>\n",
       "      <td>2.752585e-02</td>\n",
       "      <td>-1.474834e-02</td>\n",
       "      <td>1.459764e-02</td>\n",
       "      <td>4.594620e-02</td>\n",
       "      <td>1.596826e-02</td>\n",
       "      <td>-5.416538e-03</td>\n",
       "      <td>-3.910047e-02</td>\n",
       "      <td>...</td>\n",
       "      <td>0.032036</td>\n",
       "      <td>0.381735</td>\n",
       "      <td>-0.067978</td>\n",
       "      <td>0.121285</td>\n",
       "      <td>-0.020704</td>\n",
       "      <td>-0.046181</td>\n",
       "      <td>0.011303</td>\n",
       "      <td>-0.016198</td>\n",
       "      <td>0.032186</td>\n",
       "      <td>-0.030062</td>\n",
       "    </tr>\n",
       "    <tr>\n",
       "      <th>26</th>\n",
       "      <td>5.560478e-04</td>\n",
       "      <td>1.397259e-02</td>\n",
       "      <td>-8.713713e-03</td>\n",
       "      <td>6.280541e-04</td>\n",
       "      <td>-8.208953e-03</td>\n",
       "      <td>-4.790487e-03</td>\n",
       "      <td>4.766469e-03</td>\n",
       "      <td>-7.171067e-03</td>\n",
       "      <td>-9.719299e-03</td>\n",
       "      <td>-9.557127e-03</td>\n",
       "      <td>...</td>\n",
       "      <td>-0.039800</td>\n",
       "      <td>0.066978</td>\n",
       "      <td>0.005756</td>\n",
       "      <td>-0.004492</td>\n",
       "      <td>0.017627</td>\n",
       "      <td>-0.016085</td>\n",
       "      <td>-0.003258</td>\n",
       "      <td>-0.015952</td>\n",
       "      <td>0.012180</td>\n",
       "      <td>0.001942</td>\n",
       "    </tr>\n",
       "    <tr>\n",
       "      <th>27</th>\n",
       "      <td>1.163082e-02</td>\n",
       "      <td>-2.012778e-01</td>\n",
       "      <td>6.765592e-02</td>\n",
       "      <td>1.135465e-03</td>\n",
       "      <td>-7.893270e-03</td>\n",
       "      <td>-9.946704e-03</td>\n",
       "      <td>4.751936e-03</td>\n",
       "      <td>-9.490378e-03</td>\n",
       "      <td>2.598458e-03</td>\n",
       "      <td>-1.892484e-02</td>\n",
       "      <td>...</td>\n",
       "      <td>0.019502</td>\n",
       "      <td>0.073233</td>\n",
       "      <td>0.019558</td>\n",
       "      <td>0.002809</td>\n",
       "      <td>0.053300</td>\n",
       "      <td>-0.069916</td>\n",
       "      <td>-0.007202</td>\n",
       "      <td>-0.013366</td>\n",
       "      <td>0.011026</td>\n",
       "      <td>0.000300</td>\n",
       "    </tr>\n",
       "    <tr>\n",
       "      <th>28</th>\n",
       "      <td>-9.790170e-03</td>\n",
       "      <td>3.004491e-01</td>\n",
       "      <td>1.090398e-01</td>\n",
       "      <td>1.112615e-01</td>\n",
       "      <td>-6.357304e-03</td>\n",
       "      <td>-2.370674e-02</td>\n",
       "      <td>1.358667e-02</td>\n",
       "      <td>5.922482e-02</td>\n",
       "      <td>-3.088939e-02</td>\n",
       "      <td>-4.753501e-02</td>\n",
       "      <td>...</td>\n",
       "      <td>-0.271119</td>\n",
       "      <td>0.391548</td>\n",
       "      <td>0.063237</td>\n",
       "      <td>0.006101</td>\n",
       "      <td>0.020382</td>\n",
       "      <td>-0.021753</td>\n",
       "      <td>-0.067324</td>\n",
       "      <td>0.105869</td>\n",
       "      <td>-0.017420</td>\n",
       "      <td>-0.115395</td>\n",
       "    </tr>\n",
       "    <tr>\n",
       "      <th>29</th>\n",
       "      <td>-5.234886e-02</td>\n",
       "      <td>-3.043964e-01</td>\n",
       "      <td>2.669852e-01</td>\n",
       "      <td>-7.019650e-02</td>\n",
       "      <td>-2.622008e-02</td>\n",
       "      <td>-4.456074e-02</td>\n",
       "      <td>-4.172699e-02</td>\n",
       "      <td>-6.736547e-02</td>\n",
       "      <td>-1.423834e-02</td>\n",
       "      <td>9.490715e-03</td>\n",
       "      <td>...</td>\n",
       "      <td>-0.026173</td>\n",
       "      <td>0.046874</td>\n",
       "      <td>-0.038724</td>\n",
       "      <td>-0.052975</td>\n",
       "      <td>-0.086562</td>\n",
       "      <td>0.150549</td>\n",
       "      <td>0.030433</td>\n",
       "      <td>-0.092554</td>\n",
       "      <td>0.024239</td>\n",
       "      <td>0.086318</td>\n",
       "    </tr>\n",
       "    <tr>\n",
       "      <th>30</th>\n",
       "      <td>9.422067e-03</td>\n",
       "      <td>-4.714239e-02</td>\n",
       "      <td>-6.695428e-02</td>\n",
       "      <td>-1.503207e-02</td>\n",
       "      <td>2.847581e-03</td>\n",
       "      <td>5.402489e-03</td>\n",
       "      <td>-5.630186e-02</td>\n",
       "      <td>7.212054e-02</td>\n",
       "      <td>1.446767e-02</td>\n",
       "      <td>5.578304e-02</td>\n",
       "      <td>...</td>\n",
       "      <td>-0.173663</td>\n",
       "      <td>-0.003981</td>\n",
       "      <td>0.025352</td>\n",
       "      <td>0.050882</td>\n",
       "      <td>0.008402</td>\n",
       "      <td>-0.045000</td>\n",
       "      <td>-0.039918</td>\n",
       "      <td>-0.004204</td>\n",
       "      <td>-0.006860</td>\n",
       "      <td>0.016788</td>\n",
       "    </tr>\n",
       "    <tr>\n",
       "      <th>31</th>\n",
       "      <td>-3.025250e-03</td>\n",
       "      <td>5.104259e-01</td>\n",
       "      <td>7.121455e-01</td>\n",
       "      <td>-2.275072e-02</td>\n",
       "      <td>-1.570176e-02</td>\n",
       "      <td>-6.543388e-02</td>\n",
       "      <td>-8.669091e-02</td>\n",
       "      <td>4.229905e-04</td>\n",
       "      <td>-4.005703e-02</td>\n",
       "      <td>-1.807294e-02</td>\n",
       "      <td>...</td>\n",
       "      <td>0.067989</td>\n",
       "      <td>-0.061541</td>\n",
       "      <td>-0.082101</td>\n",
       "      <td>0.029978</td>\n",
       "      <td>0.021032</td>\n",
       "      <td>0.017071</td>\n",
       "      <td>0.010703</td>\n",
       "      <td>-0.034591</td>\n",
       "      <td>0.017040</td>\n",
       "      <td>0.019360</td>\n",
       "    </tr>\n",
       "    <tr>\n",
       "      <th>32</th>\n",
       "      <td>1.001916e-01</td>\n",
       "      <td>1.606354e-02</td>\n",
       "      <td>1.804339e-01</td>\n",
       "      <td>-4.266178e-03</td>\n",
       "      <td>2.788735e-02</td>\n",
       "      <td>9.281396e-02</td>\n",
       "      <td>1.522112e-02</td>\n",
       "      <td>2.026062e-01</td>\n",
       "      <td>1.195333e-01</td>\n",
       "      <td>3.348687e-02</td>\n",
       "      <td>...</td>\n",
       "      <td>0.069723</td>\n",
       "      <td>0.111575</td>\n",
       "      <td>-0.018598</td>\n",
       "      <td>0.039487</td>\n",
       "      <td>-0.077763</td>\n",
       "      <td>0.034630</td>\n",
       "      <td>0.024292</td>\n",
       "      <td>0.039070</td>\n",
       "      <td>-0.033823</td>\n",
       "      <td>0.001694</td>\n",
       "    </tr>\n",
       "    <tr>\n",
       "      <th>33</th>\n",
       "      <td>7.903611e-01</td>\n",
       "      <td>-1.356342e-02</td>\n",
       "      <td>-1.034253e-02</td>\n",
       "      <td>1.679273e-02</td>\n",
       "      <td>-3.713443e-03</td>\n",
       "      <td>-4.133421e-02</td>\n",
       "      <td>2.402986e-02</td>\n",
       "      <td>-1.251896e-03</td>\n",
       "      <td>-4.932849e-02</td>\n",
       "      <td>-4.022944e-02</td>\n",
       "      <td>...</td>\n",
       "      <td>-0.147262</td>\n",
       "      <td>-0.132884</td>\n",
       "      <td>-0.002872</td>\n",
       "      <td>-0.013353</td>\n",
       "      <td>0.020919</td>\n",
       "      <td>-0.009506</td>\n",
       "      <td>0.004119</td>\n",
       "      <td>-0.007113</td>\n",
       "      <td>0.015878</td>\n",
       "      <td>-0.016020</td>\n",
       "    </tr>\n",
       "    <tr>\n",
       "      <th>34</th>\n",
       "      <td>-1.582161e-01</td>\n",
       "      <td>1.690244e-02</td>\n",
       "      <td>-1.830572e-02</td>\n",
       "      <td>7.588801e-03</td>\n",
       "      <td>-5.798418e-02</td>\n",
       "      <td>-2.608053e-01</td>\n",
       "      <td>-2.610739e-01</td>\n",
       "      <td>4.388005e-01</td>\n",
       "      <td>-1.404871e-01</td>\n",
       "      <td>-8.700055e-02</td>\n",
       "      <td>...</td>\n",
       "      <td>-0.318336</td>\n",
       "      <td>-0.265989</td>\n",
       "      <td>0.002070</td>\n",
       "      <td>0.003999</td>\n",
       "      <td>0.003207</td>\n",
       "      <td>-0.023254</td>\n",
       "      <td>0.013953</td>\n",
       "      <td>0.037757</td>\n",
       "      <td>-0.025574</td>\n",
       "      <td>-0.009859</td>\n",
       "    </tr>\n",
       "    <tr>\n",
       "      <th>35</th>\n",
       "      <td>-8.245361e-02</td>\n",
       "      <td>-2.510578e-02</td>\n",
       "      <td>1.633125e-02</td>\n",
       "      <td>9.907024e-02</td>\n",
       "      <td>1.999640e-01</td>\n",
       "      <td>2.279058e-02</td>\n",
       "      <td>6.237964e-01</td>\n",
       "      <td>1.001837e-01</td>\n",
       "      <td>-1.988430e-01</td>\n",
       "      <td>-5.244414e-01</td>\n",
       "      <td>...</td>\n",
       "      <td>-0.124576</td>\n",
       "      <td>-0.190869</td>\n",
       "      <td>0.005826</td>\n",
       "      <td>-0.001789</td>\n",
       "      <td>-0.006725</td>\n",
       "      <td>0.001200</td>\n",
       "      <td>0.001925</td>\n",
       "      <td>-0.085013</td>\n",
       "      <td>0.184597</td>\n",
       "      <td>-0.183107</td>\n",
       "    </tr>\n",
       "    <tr>\n",
       "      <th>36</th>\n",
       "      <td>2.067499e-02</td>\n",
       "      <td>6.658023e-03</td>\n",
       "      <td>-2.864072e-02</td>\n",
       "      <td>-1.176392e-02</td>\n",
       "      <td>5.034564e-02</td>\n",
       "      <td>-8.135780e-02</td>\n",
       "      <td>-1.538446e-01</td>\n",
       "      <td>-5.442133e-01</td>\n",
       "      <td>-1.503604e-01</td>\n",
       "      <td>-5.598567e-02</td>\n",
       "      <td>...</td>\n",
       "      <td>0.059488</td>\n",
       "      <td>0.093737</td>\n",
       "      <td>0.002155</td>\n",
       "      <td>0.002191</td>\n",
       "      <td>-0.007105</td>\n",
       "      <td>0.004196</td>\n",
       "      <td>-0.001144</td>\n",
       "      <td>-0.025456</td>\n",
       "      <td>0.030454</td>\n",
       "      <td>-0.014710</td>\n",
       "    </tr>\n",
       "    <tr>\n",
       "      <th>37</th>\n",
       "      <td>4.584545e-03</td>\n",
       "      <td>7.055155e-03</td>\n",
       "      <td>-2.721023e-03</td>\n",
       "      <td>4.243502e-02</td>\n",
       "      <td>8.043534e-01</td>\n",
       "      <td>-3.503278e-02</td>\n",
       "      <td>-2.364839e-01</td>\n",
       "      <td>2.429415e-02</td>\n",
       "      <td>6.369382e-02</td>\n",
       "      <td>1.740592e-01</td>\n",
       "      <td>...</td>\n",
       "      <td>0.009857</td>\n",
       "      <td>0.022019</td>\n",
       "      <td>0.001103</td>\n",
       "      <td>0.003107</td>\n",
       "      <td>-0.003126</td>\n",
       "      <td>-0.000878</td>\n",
       "      <td>-0.000092</td>\n",
       "      <td>-0.249217</td>\n",
       "      <td>0.352880</td>\n",
       "      <td>-0.232469</td>\n",
       "    </tr>\n",
       "    <tr>\n",
       "      <th>38</th>\n",
       "      <td>3.768437e-03</td>\n",
       "      <td>-3.516554e-03</td>\n",
       "      <td>-6.027743e-04</td>\n",
       "      <td>-7.709620e-01</td>\n",
       "      <td>-1.424660e-01</td>\n",
       "      <td>-3.240846e-03</td>\n",
       "      <td>-3.945235e-03</td>\n",
       "      <td>-4.841334e-03</td>\n",
       "      <td>1.115610e-02</td>\n",
       "      <td>7.497073e-03</td>\n",
       "      <td>...</td>\n",
       "      <td>-0.003477</td>\n",
       "      <td>0.008008</td>\n",
       "      <td>-0.000616</td>\n",
       "      <td>-0.000839</td>\n",
       "      <td>0.000301</td>\n",
       "      <td>0.000186</td>\n",
       "      <td>0.000952</td>\n",
       "      <td>0.200680</td>\n",
       "      <td>0.177657</td>\n",
       "      <td>-0.559273</td>\n",
       "    </tr>\n",
       "    <tr>\n",
       "      <th>39</th>\n",
       "      <td>-1.198560e-03</td>\n",
       "      <td>3.975270e-04</td>\n",
       "      <td>4.568315e-03</td>\n",
       "      <td>6.746773e-03</td>\n",
       "      <td>-1.558206e-03</td>\n",
       "      <td>-6.706945e-01</td>\n",
       "      <td>1.401586e-01</td>\n",
       "      <td>-8.465095e-02</td>\n",
       "      <td>7.052780e-01</td>\n",
       "      <td>-1.273618e-01</td>\n",
       "      <td>...</td>\n",
       "      <td>-0.022476</td>\n",
       "      <td>0.005651</td>\n",
       "      <td>-0.000001</td>\n",
       "      <td>-0.000699</td>\n",
       "      <td>0.002627</td>\n",
       "      <td>-0.001896</td>\n",
       "      <td>-0.000120</td>\n",
       "      <td>0.001441</td>\n",
       "      <td>-0.004937</td>\n",
       "      <td>0.006027</td>\n",
       "    </tr>\n",
       "    <tr>\n",
       "      <th>40</th>\n",
       "      <td>2.760745e-03</td>\n",
       "      <td>6.651363e-04</td>\n",
       "      <td>7.076042e-04</td>\n",
       "      <td>-3.362637e-04</td>\n",
       "      <td>1.642788e-03</td>\n",
       "      <td>4.684305e-01</td>\n",
       "      <td>-3.973014e-01</td>\n",
       "      <td>-7.340334e-02</td>\n",
       "      <td>4.064098e-01</td>\n",
       "      <td>-6.580176e-01</td>\n",
       "      <td>...</td>\n",
       "      <td>-0.022113</td>\n",
       "      <td>-0.037102</td>\n",
       "      <td>0.002000</td>\n",
       "      <td>-0.000706</td>\n",
       "      <td>0.001542</td>\n",
       "      <td>-0.001737</td>\n",
       "      <td>-0.001098</td>\n",
       "      <td>0.000660</td>\n",
       "      <td>-0.000915</td>\n",
       "      <td>0.000585</td>\n",
       "    </tr>\n",
       "    <tr>\n",
       "      <th>41</th>\n",
       "      <td>1.937755e-16</td>\n",
       "      <td>-2.315282e-16</td>\n",
       "      <td>1.926013e-16</td>\n",
       "      <td>1.144908e-15</td>\n",
       "      <td>-2.044835e-16</td>\n",
       "      <td>-2.731195e-15</td>\n",
       "      <td>1.576683e-15</td>\n",
       "      <td>1.058021e-16</td>\n",
       "      <td>-6.941573e-17</td>\n",
       "      <td>2.035585e-15</td>\n",
       "      <td>...</td>\n",
       "      <td>0.021100</td>\n",
       "      <td>0.018958</td>\n",
       "      <td>0.002377</td>\n",
       "      <td>0.002470</td>\n",
       "      <td>0.002536</td>\n",
       "      <td>0.002446</td>\n",
       "      <td>0.002434</td>\n",
       "      <td>-0.170683</td>\n",
       "      <td>-0.203469</td>\n",
       "      <td>-0.125879</td>\n",
       "    </tr>\n",
       "    <tr>\n",
       "      <th>42</th>\n",
       "      <td>-0.000000e+00</td>\n",
       "      <td>-2.537324e-18</td>\n",
       "      <td>-3.127255e-16</td>\n",
       "      <td>-3.105658e-16</td>\n",
       "      <td>-1.581188e-16</td>\n",
       "      <td>6.761434e-16</td>\n",
       "      <td>-2.584707e-16</td>\n",
       "      <td>-4.915764e-18</td>\n",
       "      <td>-2.959910e-16</td>\n",
       "      <td>-3.255332e-16</td>\n",
       "      <td>...</td>\n",
       "      <td>0.053516</td>\n",
       "      <td>0.048082</td>\n",
       "      <td>-0.161829</td>\n",
       "      <td>-0.168132</td>\n",
       "      <td>-0.172591</td>\n",
       "      <td>-0.166532</td>\n",
       "      <td>-0.165684</td>\n",
       "      <td>-0.071983</td>\n",
       "      <td>-0.085810</td>\n",
       "      <td>-0.053087</td>\n",
       "    </tr>\n",
       "    <tr>\n",
       "      <th>43</th>\n",
       "      <td>0.000000e+00</td>\n",
       "      <td>3.292413e-16</td>\n",
       "      <td>1.128582e-16</td>\n",
       "      <td>3.099219e-16</td>\n",
       "      <td>2.988513e-17</td>\n",
       "      <td>6.004732e-16</td>\n",
       "      <td>-5.725597e-16</td>\n",
       "      <td>-1.769246e-16</td>\n",
       "      <td>8.834807e-16</td>\n",
       "      <td>-1.249562e-15</td>\n",
       "      <td>...</td>\n",
       "      <td>0.084505</td>\n",
       "      <td>0.075925</td>\n",
       "      <td>-0.047009</td>\n",
       "      <td>-0.048840</td>\n",
       "      <td>-0.050135</td>\n",
       "      <td>-0.048375</td>\n",
       "      <td>-0.048129</td>\n",
       "      <td>0.123468</td>\n",
       "      <td>0.147184</td>\n",
       "      <td>0.091057</td>\n",
       "    </tr>\n",
       "    <tr>\n",
       "      <th>44</th>\n",
       "      <td>0.000000e+00</td>\n",
       "      <td>-3.413120e-16</td>\n",
       "      <td>7.642165e-17</td>\n",
       "      <td>3.739606e-16</td>\n",
       "      <td>4.008219e-17</td>\n",
       "      <td>-7.624138e-16</td>\n",
       "      <td>4.352652e-16</td>\n",
       "      <td>6.497337e-17</td>\n",
       "      <td>-3.810460e-16</td>\n",
       "      <td>8.779895e-16</td>\n",
       "      <td>...</td>\n",
       "      <td>-0.109190</td>\n",
       "      <td>-0.098103</td>\n",
       "      <td>-0.212271</td>\n",
       "      <td>-0.220539</td>\n",
       "      <td>-0.226387</td>\n",
       "      <td>-0.218440</td>\n",
       "      <td>-0.217327</td>\n",
       "      <td>0.104693</td>\n",
       "      <td>0.124803</td>\n",
       "      <td>0.077211</td>\n",
       "    </tr>\n",
       "    <tr>\n",
       "      <th>45</th>\n",
       "      <td>0.000000e+00</td>\n",
       "      <td>3.002120e-16</td>\n",
       "      <td>7.753302e-17</td>\n",
       "      <td>-3.388926e-16</td>\n",
       "      <td>7.112754e-17</td>\n",
       "      <td>1.641466e-16</td>\n",
       "      <td>2.917733e-16</td>\n",
       "      <td>2.142490e-16</td>\n",
       "      <td>-8.128948e-16</td>\n",
       "      <td>7.056690e-16</td>\n",
       "      <td>...</td>\n",
       "      <td>-0.005233</td>\n",
       "      <td>-0.004701</td>\n",
       "      <td>-0.142087</td>\n",
       "      <td>-0.147621</td>\n",
       "      <td>-0.151535</td>\n",
       "      <td>-0.146216</td>\n",
       "      <td>-0.145471</td>\n",
       "      <td>-0.022145</td>\n",
       "      <td>-0.026399</td>\n",
       "      <td>-0.016332</td>\n",
       "    </tr>\n",
       "    <tr>\n",
       "      <th>46</th>\n",
       "      <td>-0.000000e+00</td>\n",
       "      <td>3.062346e-16</td>\n",
       "      <td>-9.085818e-17</td>\n",
       "      <td>-6.790672e-16</td>\n",
       "      <td>-3.588333e-16</td>\n",
       "      <td>5.896682e-16</td>\n",
       "      <td>1.695623e-16</td>\n",
       "      <td>2.770136e-16</td>\n",
       "      <td>-1.412520e-15</td>\n",
       "      <td>1.042709e-15</td>\n",
       "      <td>...</td>\n",
       "      <td>-0.041935</td>\n",
       "      <td>-0.037677</td>\n",
       "      <td>0.242100</td>\n",
       "      <td>0.251530</td>\n",
       "      <td>0.258199</td>\n",
       "      <td>0.249136</td>\n",
       "      <td>0.247866</td>\n",
       "      <td>-0.187861</td>\n",
       "      <td>-0.223945</td>\n",
       "      <td>-0.138547</td>\n",
       "    </tr>\n",
       "    <tr>\n",
       "      <th>47</th>\n",
       "      <td>-0.000000e+00</td>\n",
       "      <td>2.403083e-18</td>\n",
       "      <td>1.451325e-16</td>\n",
       "      <td>7.432932e-16</td>\n",
       "      <td>5.637041e-16</td>\n",
       "      <td>-7.800691e-16</td>\n",
       "      <td>4.942775e-16</td>\n",
       "      <td>-1.511215e-17</td>\n",
       "      <td>9.900717e-18</td>\n",
       "      <td>4.826556e-16</td>\n",
       "      <td>...</td>\n",
       "      <td>0.019716</td>\n",
       "      <td>0.017714</td>\n",
       "      <td>0.099675</td>\n",
       "      <td>0.103557</td>\n",
       "      <td>0.106303</td>\n",
       "      <td>0.102571</td>\n",
       "      <td>0.102049</td>\n",
       "      <td>0.471413</td>\n",
       "      <td>0.561962</td>\n",
       "      <td>0.347666</td>\n",
       "    </tr>\n",
       "    <tr>\n",
       "      <th>48</th>\n",
       "      <td>0.000000e+00</td>\n",
       "      <td>2.174248e-16</td>\n",
       "      <td>1.376841e-16</td>\n",
       "      <td>1.477469e-16</td>\n",
       "      <td>-5.870315e-17</td>\n",
       "      <td>-8.140973e-16</td>\n",
       "      <td>2.169393e-16</td>\n",
       "      <td>2.966633e-17</td>\n",
       "      <td>2.765503e-16</td>\n",
       "      <td>5.475589e-16</td>\n",
       "      <td>...</td>\n",
       "      <td>0.024501</td>\n",
       "      <td>0.022013</td>\n",
       "      <td>-0.159331</td>\n",
       "      <td>-0.165537</td>\n",
       "      <td>-0.169927</td>\n",
       "      <td>-0.163962</td>\n",
       "      <td>-0.163126</td>\n",
       "      <td>-0.084551</td>\n",
       "      <td>-0.100791</td>\n",
       "      <td>-0.062356</td>\n",
       "    </tr>\n",
       "    <tr>\n",
       "      <th>49</th>\n",
       "      <td>-0.000000e+00</td>\n",
       "      <td>-1.627816e-16</td>\n",
       "      <td>-2.628975e-16</td>\n",
       "      <td>-6.568424e-16</td>\n",
       "      <td>-3.076856e-16</td>\n",
       "      <td>1.407117e-15</td>\n",
       "      <td>-6.108321e-16</td>\n",
       "      <td>8.609577e-17</td>\n",
       "      <td>-6.040551e-16</td>\n",
       "      <td>-4.700219e-16</td>\n",
       "      <td>...</td>\n",
       "      <td>0.037672</td>\n",
       "      <td>0.033847</td>\n",
       "      <td>-0.000831</td>\n",
       "      <td>-0.000863</td>\n",
       "      <td>-0.000886</td>\n",
       "      <td>-0.000855</td>\n",
       "      <td>-0.000851</td>\n",
       "      <td>-0.060000</td>\n",
       "      <td>-0.071524</td>\n",
       "      <td>-0.044249</td>\n",
       "    </tr>\n",
       "    <tr>\n",
       "      <th>50</th>\n",
       "      <td>0.000000e+00</td>\n",
       "      <td>1.292935e-16</td>\n",
       "      <td>-7.948048e-17</td>\n",
       "      <td>2.670248e-18</td>\n",
       "      <td>1.910793e-16</td>\n",
       "      <td>5.606700e-16</td>\n",
       "      <td>-4.986682e-17</td>\n",
       "      <td>1.929939e-16</td>\n",
       "      <td>-6.616525e-16</td>\n",
       "      <td>1.480022e-16</td>\n",
       "      <td>...</td>\n",
       "      <td>-0.050389</td>\n",
       "      <td>-0.045272</td>\n",
       "      <td>-0.015553</td>\n",
       "      <td>-0.016159</td>\n",
       "      <td>-0.016588</td>\n",
       "      <td>-0.016005</td>\n",
       "      <td>-0.015924</td>\n",
       "      <td>0.089401</td>\n",
       "      <td>0.106573</td>\n",
       "      <td>0.065933</td>\n",
       "    </tr>\n",
       "  </tbody>\n",
       "</table>\n",
       "<p>51 rows × 51 columns</p>\n",
       "</div>"
      ],
      "text/plain": [
       "             age      duration      campaign         pdays      previous  \\\n",
       "0   4.694619e-03  2.095256e-02 -8.241802e-02 -2.269947e-01  2.850766e-01   \n",
       "1   1.834855e-01 -7.183111e-03 -7.255592e-03 -2.844720e-01  2.525840e-01   \n",
       "2   3.451413e-01  6.096697e-03 -2.365838e-02  7.960304e-02 -4.739644e-02   \n",
       "3   1.832197e-02 -3.251716e-03 -2.868529e-04  6.996778e-02 -3.042863e-02   \n",
       "4   7.001651e-02 -1.357492e-03  4.780388e-02 -3.184998e-01  1.301616e-01   \n",
       "5  -7.064035e-02  1.475287e-02  3.376576e-02 -1.190996e-01  9.840613e-02   \n",
       "6   7.026476e-02 -5.457873e-02 -7.162428e-02  9.042486e-02 -1.706662e-01   \n",
       "7  -2.550173e-02 -8.871146e-03  1.655376e-02 -1.135856e-02  5.516827e-02   \n",
       "8  -1.307152e-01 -7.224572e-03 -3.527606e-02 -1.404424e-02 -4.594962e-02   \n",
       "9  -8.276065e-02 -1.123644e-01 -1.742157e-02  1.635056e-01  2.459258e-01   \n",
       "10  9.464795e-02 -1.229476e-01  1.000651e-01  1.029225e-01  6.007303e-02   \n",
       "11  3.191190e-01 -5.317155e-02  3.273777e-02  6.992181e-02 -2.999027e-02   \n",
       "12  6.234453e-02  5.321915e-02 -2.163767e-02  6.839277e-03  9.858158e-03   \n",
       "13 -8.781108e-02 -7.611468e-02  8.284134e-02  4.424027e-03  3.872276e-03   \n",
       "14 -9.811645e-02 -4.470786e-02 -6.727027e-03 -1.013226e-02  1.635914e-02   \n",
       "15 -2.332321e-03  7.276868e-02  3.230588e-02 -1.110739e-02 -4.028757e-02   \n",
       "16 -6.070315e-03 -1.465188e-01  1.664928e-01 -9.807811e-02  2.460184e-02   \n",
       "17 -3.471858e-02  2.429822e-02 -5.979878e-02  9.918248e-02  1.011351e-03   \n",
       "18  2.706869e-02 -8.265651e-02  3.664151e-01  1.310864e-01  6.803093e-02   \n",
       "19  4.720830e-02 -1.003157e-01  4.502713e-02  1.093682e-01 -1.121251e-02   \n",
       "20 -2.153670e-02 -1.705264e-01  7.177171e-02 -6.352326e-02  1.423895e-02   \n",
       "21 -1.044664e-02 -1.930459e-01  1.761087e-01 -7.881003e-02 -2.089427e-03   \n",
       "22 -9.038898e-03 -3.271340e-01  2.076308e-01 -3.151064e-02 -3.351506e-02   \n",
       "23 -1.992793e-02 -2.248355e-01  1.562340e-01  4.648402e-02 -2.595638e-02   \n",
       "24  6.028279e-03  4.458968e-01 -1.811562e-01 -4.824643e-02  3.475722e-02   \n",
       "25  6.242442e-03  9.773975e-03 -1.582856e-01  2.752585e-02 -1.474834e-02   \n",
       "26  5.560478e-04  1.397259e-02 -8.713713e-03  6.280541e-04 -8.208953e-03   \n",
       "27  1.163082e-02 -2.012778e-01  6.765592e-02  1.135465e-03 -7.893270e-03   \n",
       "28 -9.790170e-03  3.004491e-01  1.090398e-01  1.112615e-01 -6.357304e-03   \n",
       "29 -5.234886e-02 -3.043964e-01  2.669852e-01 -7.019650e-02 -2.622008e-02   \n",
       "30  9.422067e-03 -4.714239e-02 -6.695428e-02 -1.503207e-02  2.847581e-03   \n",
       "31 -3.025250e-03  5.104259e-01  7.121455e-01 -2.275072e-02 -1.570176e-02   \n",
       "32  1.001916e-01  1.606354e-02  1.804339e-01 -4.266178e-03  2.788735e-02   \n",
       "33  7.903611e-01 -1.356342e-02 -1.034253e-02  1.679273e-02 -3.713443e-03   \n",
       "34 -1.582161e-01  1.690244e-02 -1.830572e-02  7.588801e-03 -5.798418e-02   \n",
       "35 -8.245361e-02 -2.510578e-02  1.633125e-02  9.907024e-02  1.999640e-01   \n",
       "36  2.067499e-02  6.658023e-03 -2.864072e-02 -1.176392e-02  5.034564e-02   \n",
       "37  4.584545e-03  7.055155e-03 -2.721023e-03  4.243502e-02  8.043534e-01   \n",
       "38  3.768437e-03 -3.516554e-03 -6.027743e-04 -7.709620e-01 -1.424660e-01   \n",
       "39 -1.198560e-03  3.975270e-04  4.568315e-03  6.746773e-03 -1.558206e-03   \n",
       "40  2.760745e-03  6.651363e-04  7.076042e-04 -3.362637e-04  1.642788e-03   \n",
       "41  1.937755e-16 -2.315282e-16  1.926013e-16  1.144908e-15 -2.044835e-16   \n",
       "42 -0.000000e+00 -2.537324e-18 -3.127255e-16 -3.105658e-16 -1.581188e-16   \n",
       "43  0.000000e+00  3.292413e-16  1.128582e-16  3.099219e-16  2.988513e-17   \n",
       "44  0.000000e+00 -3.413120e-16  7.642165e-17  3.739606e-16  4.008219e-17   \n",
       "45  0.000000e+00  3.002120e-16  7.753302e-17 -3.388926e-16  7.112754e-17   \n",
       "46 -0.000000e+00  3.062346e-16 -9.085818e-17 -6.790672e-16 -3.588333e-16   \n",
       "47 -0.000000e+00  2.403083e-18  1.451325e-16  7.432932e-16  5.637041e-16   \n",
       "48  0.000000e+00  2.174248e-16  1.376841e-16  1.477469e-16 -5.870315e-17   \n",
       "49 -0.000000e+00 -1.627816e-16 -2.628975e-16 -6.568424e-16 -3.076856e-16   \n",
       "50  0.000000e+00  1.292935e-16 -7.948048e-17  2.670248e-18  1.910793e-16   \n",
       "\n",
       "    emp.var.rate  cons.price.idx  cons.conf.idx     euribor3m   nr.employed  \\\n",
       "0  -3.546334e-01   -2.674595e-01  -3.132632e-02 -3.596241e-01 -3.473792e-01   \n",
       "1  -3.659265e-03    2.017997e-01   1.530395e-01 -2.210812e-02 -1.167394e-01   \n",
       "2  -2.758471e-02   -1.780276e-01   9.222600e-03 -1.254765e-02  3.111668e-02   \n",
       "3  -3.975389e-02   -3.510342e-02  -6.659302e-02 -4.090210e-02 -2.084613e-02   \n",
       "4   2.192957e-01    1.321331e-01   3.118872e-01  2.197778e-01  1.488347e-01   \n",
       "5   5.634596e-02    1.481724e-01  -1.335170e-01  2.617183e-02  1.506368e-02   \n",
       "6  -1.170751e-01   -1.838525e-01   3.748122e-01 -6.341205e-02 -9.736526e-02   \n",
       "7   5.005269e-02    5.271368e-02  -6.188407e-02  4.484758e-02  4.796292e-02   \n",
       "8  -4.865790e-02   -1.426206e-01   2.240905e-01 -4.253402e-02 -5.267918e-02   \n",
       "9   1.410571e-01   -4.591299e-02   1.314231e-01  1.799901e-01  1.829250e-01   \n",
       "10 -1.133074e-02    6.336164e-02  -8.187970e-02 -8.385485e-03  2.806814e-02   \n",
       "11 -1.754437e-02    1.340661e-03   5.637905e-02 -3.270987e-03 -2.477952e-02   \n",
       "12  2.270551e-02    7.345957e-03   7.237627e-02  1.708407e-02  9.593346e-03   \n",
       "13 -2.440015e-03   -2.370939e-02   1.143303e-01 -5.674333e-03 -2.015543e-03   \n",
       "14  3.576785e-03   -1.904572e-03  -2.790314e-02 -8.394414e-04  6.587829e-03   \n",
       "15 -2.004639e-02    2.338524e-02  -4.367973e-02 -1.984979e-02 -1.301443e-02   \n",
       "16  4.879791e-02   -3.292973e-02  -3.307124e-02  1.194357e-02  2.624883e-02   \n",
       "17 -2.326222e-02    3.648983e-02  -1.685687e-02 -3.357344e-02 -2.681685e-02   \n",
       "18  4.726340e-02    8.370335e-02   2.635180e-02 -4.078638e-02 -5.977075e-02   \n",
       "19 -3.416294e-02    5.313350e-03   1.380210e-01 -9.315872e-03 -3.653718e-02   \n",
       "20  1.374740e-02    7.880528e-03  -9.021922e-02 -3.053082e-02  9.844206e-03   \n",
       "21 -8.486337e-03   -7.902921e-02  -9.367028e-02 -3.589659e-02  5.152131e-02   \n",
       "22 -4.585184e-02   -6.891250e-02  -3.753650e-02 -3.131727e-03 -5.988267e-03   \n",
       "23 -8.549347e-02   -2.661700e-02   7.277237e-02 -5.599349e-02 -4.679826e-02   \n",
       "24  3.999927e-02    3.891896e-03  -4.407409e-02  3.829853e-02  7.132992e-02   \n",
       "25  1.459764e-02    4.594620e-02   1.596826e-02 -5.416538e-03 -3.910047e-02   \n",
       "26 -4.790487e-03    4.766469e-03  -7.171067e-03 -9.719299e-03 -9.557127e-03   \n",
       "27 -9.946704e-03    4.751936e-03  -9.490378e-03  2.598458e-03 -1.892484e-02   \n",
       "28 -2.370674e-02    1.358667e-02   5.922482e-02 -3.088939e-02 -4.753501e-02   \n",
       "29 -4.456074e-02   -4.172699e-02  -6.736547e-02 -1.423834e-02  9.490715e-03   \n",
       "30  5.402489e-03   -5.630186e-02   7.212054e-02  1.446767e-02  5.578304e-02   \n",
       "31 -6.543388e-02   -8.669091e-02   4.229905e-04 -4.005703e-02 -1.807294e-02   \n",
       "32  9.281396e-02    1.522112e-02   2.026062e-01  1.195333e-01  3.348687e-02   \n",
       "33 -4.133421e-02    2.402986e-02  -1.251896e-03 -4.932849e-02 -4.022944e-02   \n",
       "34 -2.608053e-01   -2.610739e-01   4.388005e-01 -1.404871e-01 -8.700055e-02   \n",
       "35  2.279058e-02    6.237964e-01   1.001837e-01 -1.988430e-01 -5.244414e-01   \n",
       "36 -8.135780e-02   -1.538446e-01  -5.442133e-01 -1.503604e-01 -5.598567e-02   \n",
       "37 -3.503278e-02   -2.364839e-01   2.429415e-02  6.369382e-02  1.740592e-01   \n",
       "38 -3.240846e-03   -3.945235e-03  -4.841334e-03  1.115610e-02  7.497073e-03   \n",
       "39 -6.706945e-01    1.401586e-01  -8.465095e-02  7.052780e-01 -1.273618e-01   \n",
       "40  4.684305e-01   -3.973014e-01  -7.340334e-02  4.064098e-01 -6.580176e-01   \n",
       "41 -2.731195e-15    1.576683e-15   1.058021e-16 -6.941573e-17  2.035585e-15   \n",
       "42  6.761434e-16   -2.584707e-16  -4.915764e-18 -2.959910e-16 -3.255332e-16   \n",
       "43  6.004732e-16   -5.725597e-16  -1.769246e-16  8.834807e-16 -1.249562e-15   \n",
       "44 -7.624138e-16    4.352652e-16   6.497337e-17 -3.810460e-16  8.779895e-16   \n",
       "45  1.641466e-16    2.917733e-16   2.142490e-16 -8.128948e-16  7.056690e-16   \n",
       "46  5.896682e-16    1.695623e-16   2.770136e-16 -1.412520e-15  1.042709e-15   \n",
       "47 -7.800691e-16    4.942775e-16  -1.511215e-17  9.900717e-18  4.826556e-16   \n",
       "48 -8.140973e-16    2.169393e-16   2.966633e-17  2.765503e-16  5.475589e-16   \n",
       "49  1.407117e-15   -6.108321e-16   8.609577e-17 -6.040551e-16 -4.700219e-16   \n",
       "50  5.606700e-16   -4.986682e-17   1.929939e-16 -6.616525e-16  1.480022e-16   \n",
       "\n",
       "    ...  month_oct  month_sep  day_of_week_fri  day_of_week_mon  \\\n",
       "0   ...   0.090766   0.098693        -0.000548        -0.006290   \n",
       "1   ...   0.073155   0.099094         0.034223        -0.013968   \n",
       "2   ...  -0.020486  -0.021935        -0.037978         0.020518   \n",
       "3   ...  -0.019990  -0.024763         0.016207         0.010637   \n",
       "4   ...   0.039986   0.098929        -0.067430        -0.034024   \n",
       "5   ...  -0.048461  -0.001172        -0.024755         0.039366   \n",
       "6   ...   0.109246   0.075484         0.045994        -0.034069   \n",
       "7   ...  -0.029486  -0.039237        -0.025189        -0.018122   \n",
       "8   ...   0.041978   0.044236         0.042816        -0.049311   \n",
       "9   ...  -0.067952  -0.113987         0.093075        -0.123256   \n",
       "10  ...  -0.053444  -0.083895         0.153899         0.231664   \n",
       "11  ...   0.077737   0.006733         0.009699         0.099254   \n",
       "12  ...   0.033440   0.014414         0.114510        -0.404933   \n",
       "13  ...   0.111006  -0.025217         0.145299         0.473634   \n",
       "14  ...  -0.054108  -0.047171        -0.106144         0.032378   \n",
       "15  ...   0.007785   0.101652         0.741411        -0.435544   \n",
       "16  ...  -0.189729  -0.019225         0.310371         0.179663   \n",
       "17  ...   0.008062   0.102945        -0.142549        -0.143878   \n",
       "18  ...   0.065359   0.117530        -0.043725        -0.099346   \n",
       "19  ...   0.189215   0.033941        -0.052725        -0.058459   \n",
       "20  ...   0.098506  -0.233600         0.010785        -0.137993   \n",
       "21  ...  -0.559997  -0.098550        -0.141495        -0.116853   \n",
       "22  ...   0.143444  -0.229848         0.077606        -0.093834   \n",
       "23  ...   0.439416  -0.071662        -0.056769        -0.036143   \n",
       "24  ...   0.186863  -0.540646         0.053689         0.013540   \n",
       "25  ...   0.032036   0.381735        -0.067978         0.121285   \n",
       "26  ...  -0.039800   0.066978         0.005756        -0.004492   \n",
       "27  ...   0.019502   0.073233         0.019558         0.002809   \n",
       "28  ...  -0.271119   0.391548         0.063237         0.006101   \n",
       "29  ...  -0.026173   0.046874        -0.038724        -0.052975   \n",
       "30  ...  -0.173663  -0.003981         0.025352         0.050882   \n",
       "31  ...   0.067989  -0.061541        -0.082101         0.029978   \n",
       "32  ...   0.069723   0.111575        -0.018598         0.039487   \n",
       "33  ...  -0.147262  -0.132884        -0.002872        -0.013353   \n",
       "34  ...  -0.318336  -0.265989         0.002070         0.003999   \n",
       "35  ...  -0.124576  -0.190869         0.005826        -0.001789   \n",
       "36  ...   0.059488   0.093737         0.002155         0.002191   \n",
       "37  ...   0.009857   0.022019         0.001103         0.003107   \n",
       "38  ...  -0.003477   0.008008        -0.000616        -0.000839   \n",
       "39  ...  -0.022476   0.005651        -0.000001        -0.000699   \n",
       "40  ...  -0.022113  -0.037102         0.002000        -0.000706   \n",
       "41  ...   0.021100   0.018958         0.002377         0.002470   \n",
       "42  ...   0.053516   0.048082        -0.161829        -0.168132   \n",
       "43  ...   0.084505   0.075925        -0.047009        -0.048840   \n",
       "44  ...  -0.109190  -0.098103        -0.212271        -0.220539   \n",
       "45  ...  -0.005233  -0.004701        -0.142087        -0.147621   \n",
       "46  ...  -0.041935  -0.037677         0.242100         0.251530   \n",
       "47  ...   0.019716   0.017714         0.099675         0.103557   \n",
       "48  ...   0.024501   0.022013        -0.159331        -0.165537   \n",
       "49  ...   0.037672   0.033847        -0.000831        -0.000863   \n",
       "50  ...  -0.050389  -0.045272        -0.015553        -0.016159   \n",
       "\n",
       "    day_of_week_thu  day_of_week_tue  day_of_week_wed  poutcome_failure  \\\n",
       "0          0.015922        -0.001760        -0.007898          0.202241   \n",
       "1         -0.057367         0.023584         0.016801          0.064172   \n",
       "2          0.016363         0.020373        -0.021249          0.027658   \n",
       "3         -0.001940        -0.007878        -0.016685          0.033107   \n",
       "4          0.012319         0.046324         0.040995         -0.167706   \n",
       "5          0.029748        -0.048094         0.001582          0.007482   \n",
       "6         -0.057755         0.024439         0.025247         -0.149548   \n",
       "7          0.021048         0.006504         0.014530          0.066791   \n",
       "8         -0.031507         0.032608         0.008265         -0.082772   \n",
       "9         -0.078497         0.031542         0.084234          0.546812   \n",
       "10         0.045708        -0.170478        -0.261669          0.192151   \n",
       "11        -0.273142         0.215872        -0.042643          0.028865   \n",
       "12         0.676712        -0.076979        -0.328478          0.017036   \n",
       "13        -0.098317        -0.256509        -0.262316          0.019968   \n",
       "14        -0.083550         0.730858        -0.576749          0.015171   \n",
       "15        -0.316089         0.073210        -0.026502         -0.072382   \n",
       "16        -0.176870        -0.171128        -0.129222         -0.062697   \n",
       "17        -0.204832         0.122068         0.375915          0.099814   \n",
       "18         0.034683         0.032890         0.074334          0.203423   \n",
       "19         0.052250         0.049538         0.006602          0.088759   \n",
       "20        -0.003893         0.052083         0.081204         -0.040011   \n",
       "21         0.017067         0.070151         0.168494         -0.072715   \n",
       "22         0.085413        -0.117316         0.048363         -0.072977   \n",
       "23         0.015366         0.042789         0.033110          0.019197   \n",
       "24        -0.125533         0.021538         0.042938          0.019756   \n",
       "25        -0.020704        -0.046181         0.011303         -0.016198   \n",
       "26         0.017627        -0.016085        -0.003258         -0.015952   \n",
       "27         0.053300        -0.069916        -0.007202         -0.013366   \n",
       "28         0.020382        -0.021753        -0.067324          0.105869   \n",
       "29        -0.086562         0.150549         0.030433         -0.092554   \n",
       "30         0.008402        -0.045000        -0.039918         -0.004204   \n",
       "31         0.021032         0.017071         0.010703         -0.034591   \n",
       "32        -0.077763         0.034630         0.024292          0.039070   \n",
       "33         0.020919        -0.009506         0.004119         -0.007113   \n",
       "34         0.003207        -0.023254         0.013953          0.037757   \n",
       "35        -0.006725         0.001200         0.001925         -0.085013   \n",
       "36        -0.007105         0.004196        -0.001144         -0.025456   \n",
       "37        -0.003126        -0.000878        -0.000092         -0.249217   \n",
       "38         0.000301         0.000186         0.000952          0.200680   \n",
       "39         0.002627        -0.001896        -0.000120          0.001441   \n",
       "40         0.001542        -0.001737        -0.001098          0.000660   \n",
       "41         0.002536         0.002446         0.002434         -0.170683   \n",
       "42        -0.172591        -0.166532        -0.165684         -0.071983   \n",
       "43        -0.050135        -0.048375        -0.048129          0.123468   \n",
       "44        -0.226387        -0.218440        -0.217327          0.104693   \n",
       "45        -0.151535        -0.146216        -0.145471         -0.022145   \n",
       "46         0.258199         0.249136         0.247866         -0.187861   \n",
       "47         0.106303         0.102571         0.102049          0.471413   \n",
       "48        -0.169927        -0.163962        -0.163126         -0.084551   \n",
       "49        -0.000886        -0.000855        -0.000851         -0.060000   \n",
       "50        -0.016588        -0.016005        -0.015924          0.089401   \n",
       "\n",
       "    poutcome_nonexistent  poutcome_success  \n",
       "0              -0.303360          0.216121  \n",
       "1              -0.224586          0.276005  \n",
       "2               0.025448         -0.078635  \n",
       "3               0.017480         -0.073144  \n",
       "4              -0.056638          0.318948  \n",
       "5              -0.079515          0.118383  \n",
       "6               0.175281         -0.080544  \n",
       "7              -0.059355          0.005376  \n",
       "8               0.058184          0.018186  \n",
       "9              -0.334544         -0.200690  \n",
       "10             -0.089981         -0.115100  \n",
       "11              0.021487         -0.073871  \n",
       "12             -0.007925         -0.010290  \n",
       "13             -0.010216         -0.010562  \n",
       "14             -0.017437          0.007615  \n",
       "15              0.051065          0.015605  \n",
       "16             -0.012962          0.105966  \n",
       "17             -0.016250         -0.109075  \n",
       "18             -0.080461         -0.145773  \n",
       "19             -0.000651         -0.119300  \n",
       "20             -0.005831          0.063678  \n",
       "21              0.003246          0.093351  \n",
       "22              0.041819          0.031356  \n",
       "23              0.013825         -0.048376  \n",
       "24             -0.044573          0.045258  \n",
       "25              0.032186         -0.030062  \n",
       "26              0.012180          0.001942  \n",
       "27              0.011026          0.000300  \n",
       "28             -0.017420         -0.115395  \n",
       "29              0.024239          0.086318  \n",
       "30             -0.006860          0.016788  \n",
       "31              0.017040          0.019360  \n",
       "32             -0.033823          0.001694  \n",
       "33              0.015878         -0.016020  \n",
       "34             -0.025574         -0.009859  \n",
       "35              0.184597         -0.183107  \n",
       "36              0.030454         -0.014710  \n",
       "37              0.352880         -0.232469  \n",
       "38              0.177657         -0.559273  \n",
       "39             -0.004937          0.006027  \n",
       "40             -0.000915          0.000585  \n",
       "41             -0.203469         -0.125879  \n",
       "42             -0.085810         -0.053087  \n",
       "43              0.147184          0.091057  \n",
       "44              0.124803          0.077211  \n",
       "45             -0.026399         -0.016332  \n",
       "46             -0.223945         -0.138547  \n",
       "47              0.561962          0.347666  \n",
       "48             -0.100791         -0.062356  \n",
       "49             -0.071524         -0.044249  \n",
       "50              0.106573          0.065933  \n",
       "\n",
       "[51 rows x 51 columns]"
      ]
     },
     "execution_count": 65,
     "metadata": {},
     "output_type": "execute_result"
    }
   ],
   "source": [
    "pd.DataFrame(pca.components_,columns=X.columns)"
   ]
  },
  {
   "cell_type": "code",
   "execution_count": 83,
   "metadata": {},
   "outputs": [],
   "source": [
    "X_pca = pd.DataFrame(data = pca.transform(X))\n",
    "\n",
    "X_train_pca = pd.DataFrame(data = pca.transform(X_train))\n",
    "\n",
    "X_test_pca = pd.DataFrame(data = pca.transform(X_test))\n"
   ]
  },
  {
   "cell_type": "code",
   "execution_count": 84,
   "metadata": {},
   "outputs": [
    {
     "data": {
      "image/png": "[encoded data removed]",
      "text/plain": [
       "<Figure size 432x288 with 1 Axes>"
      ]
     },
     "metadata": {
      "needs_background": "light"
     },
     "output_type": "display_data"
    }
   ],
   "source": [
    "import matplotlib.pyplot as plt\n",
    "\n",
    "x = X_train_pca.iloc[:,0]\n",
    "y = X_train_pca.iloc[:,1]\n",
    "\n",
    "plt.scatter(x, y,alpha=0.2,c=y_train )\n",
    "plt.show()"
   ]
  },
  {
   "cell_type": "code",
   "execution_count": 85,
   "metadata": {},
   "outputs": [
    {
     "data": {
      "image/png": "[encoded data removed]",
      "text/plain": [
       "<Figure size 432x288 with 1 Axes>"
      ]
     },
     "metadata": {
      "needs_background": "light"
     },
     "output_type": "display_data"
    }
   ],
   "source": [
    "import matplotlib.pyplot as plt\n",
    "\n",
    "x = X_test_pca.iloc[:,0]\n",
    "y = X_test_pca.iloc[:,1]\n",
    "\n",
    "plt.scatter(x, y,alpha=0.2,c=y_test )\n",
    "plt.show()"
   ]
  },
  {
   "cell_type": "code",
   "execution_count": 86,
   "metadata": {},
   "outputs": [
    {
     "name": "stdout",
     "output_type": "stream",
     "text": [
      "Fitting 3 folds for each of 8 candidates, totalling 24 fits\n",
      "[Parallel(n_jobs=-1)]: Using backend LokyBackend with 8 concurrent workers.\n",
      "[Parallel(n_jobs=-1)]: Done   1 tasks      | elapsed:    0.2s\n",
      "[Parallel(n_jobs=-1)]: Batch computation too fast (0.1591s.) Setting batch_size=2.\n",
      "[Parallel(n_jobs=-1)]: Done   2 tasks      | elapsed:    0.2s\n",
      "[Parallel(n_jobs=-1)]: Done   3 tasks      | elapsed:    0.2s\n",
      "[Parallel(n_jobs=-1)]: Done   4 tasks      | elapsed:    0.2s\n",
      "[Parallel(n_jobs=-1)]: Done   5 tasks      | elapsed:    0.2s\n",
      "[Parallel(n_jobs=-1)]: Done   6 tasks      | elapsed:    0.2s\n",
      "[Parallel(n_jobs=-1)]: Done   7 tasks      | elapsed:    0.2s\n",
      "[Parallel(n_jobs=-1)]: Done   8 tasks      | elapsed:    0.2s\n",
      "[Parallel(n_jobs=-1)]: Done   9 tasks      | elapsed:    0.3s\n",
      "[Parallel(n_jobs=-1)]: Done  10 out of  24 | elapsed:    0.3s remaining:    0.5s\n",
      "[Parallel(n_jobs=-1)]: Done  11 out of  24 | elapsed:    0.3s remaining:    0.4s\n",
      "[Parallel(n_jobs=-1)]: Done  12 out of  24 | elapsed:    0.4s remaining:    0.4s\n",
      "[Parallel(n_jobs=-1)]: Done  13 out of  24 | elapsed:    0.4s remaining:    0.3s\n",
      "[Parallel(n_jobs=-1)]: Done  14 out of  24 | elapsed:    0.4s remaining:    0.3s\n",
      "[Parallel(n_jobs=-1)]: Done  15 out of  24 | elapsed:    0.4s remaining:    0.2s\n",
      "[Parallel(n_jobs=-1)]: Done  16 out of  24 | elapsed:    0.4s remaining:    0.2s\n",
      "[Parallel(n_jobs=-1)]: Done  17 out of  24 | elapsed:    0.5s remaining:    0.2s\n",
      "[Parallel(n_jobs=-1)]: Done  18 out of  24 | elapsed:    0.5s remaining:    0.2s\n",
      "[Parallel(n_jobs=-1)]: Done  19 out of  24 | elapsed:    0.5s remaining:    0.1s\n",
      "[Parallel(n_jobs=-1)]: Done  20 out of  24 | elapsed:    0.5s remaining:    0.1s\n",
      "[Parallel(n_jobs=-1)]: Done  21 out of  24 | elapsed:    0.5s remaining:    0.1s\n",
      "[Parallel(n_jobs=-1)]: Done  22 out of  24 | elapsed:    0.6s remaining:    0.1s\n",
      "[Parallel(n_jobs=-1)]: Done  24 out of  24 | elapsed:    0.6s remaining:    0.0s\n",
      "[Parallel(n_jobs=-1)]: Done  24 out of  24 | elapsed:    0.6s finished\n",
      "Best score: 0.517632 using {'n_neighbors': 11}\n",
      "f1_score:  0.5240893066980024\n",
      "accuracy:  0.82\n",
      "[[3244  222]\n",
      " [ 588  446]]\n"
     ]
    },
    {
     "data": {
      "image/png": "[encoded data removed]",
      "text/plain": [
       "<Figure size 432x288 with 2 Axes>"
      ]
     },
     "metadata": {
      "needs_background": "light"
     },
     "output_type": "display_data"
    }
   ],
   "source": [
    "#DEFINE  PARAMETERS GRID\n",
    "from sklearn.neighbors import KNeighborsClassifier\n",
    "import numpy as np\n",
    "classifier = KNeighborsClassifier()\n",
    "parameters = {'n_neighbors':np.arange(1,40,5)}\n",
    "from sklearn.model_selection import GridSearchCV\n",
    "gs = GridSearchCV(classifier, parameters, cv=3, scoring = 'f1', verbose=50, n_jobs=-1)\n",
    "# We use just the two first PC\n",
    "gs = gs.fit(X_train_pca.iloc[:,:2], y_train) \n",
    "\n",
    "#Prediction\n",
    "print(\"Best score: %f using %s\" % (gs.best_score_, gs.best_params_))\n",
    "best_model = gs.best_estimator_\n",
    "y_pred = best_model.predict(X_test_pca.iloc[:,:2])\n",
    "\n",
    "print(\"f1_score: \", metrics.f1_score(y_test, y_pred))\n",
    "print(\"accuracy: \", metrics.accuracy_score(y_test, y_pred))\n",
    "\n",
    "from sklearn.metrics import confusion_matrix\n",
    "\n",
    "print(confusion_matrix(y_test, y_pred))\n",
    "\n",
    "sns.heatmap(confusion_matrix(y_test, y_pred), annot=True, fmt='d', cmap=\"Blues\"); #annot=True to annotate cells fmt: format\n"
   ]
  },
  {
   "cell_type": "code",
   "execution_count": 87,
   "metadata": {},
   "outputs": [
    {
     "data": {
      "image/png": "[encoded data removed]",
      "text/plain": [
       "<Figure size 432x288 with 1 Axes>"
      ]
     },
     "metadata": {
      "needs_background": "light"
     },
     "output_type": "display_data"
    },
    {
     "name": "stdout",
     "output_type": "stream",
     "text": [
      "AUC: 0.79\n"
     ]
    }
   ],
   "source": [
    "#Using the two first PC\n",
    "X_train_pca_2=X_train_pca.iloc[:,:2]\n",
    "X_test_pca_2=X_test_pca.iloc[:,:2]\n",
    "\n",
    "model = KNeighborsClassifier(n_neighbors=11)\n",
    "model.fit(X_train_pca_2, y_train)\n",
    "y_pred = model.predict(X_test_pca_2)\n",
    "\n",
    "y_probs = model.predict_proba(X_test_pca_2) #predict_proba gives the probabilities for the target (0 and 1 in your case) \n",
    "\n",
    "fpr, tpr, thresholds=metrics.roc_curve(y_test,  y_probs[:,1])\n",
    "\n",
    "import matplotlib.pyplot as plt\n",
    "plt.plot(fpr, tpr, label='ROC')\n",
    "plt.plot([0, 1], [0, 1], color='darkblue', linestyle='--')\n",
    "plt.xlabel('False Positive Rate')\n",
    "plt.ylabel('True Positive Rate')\n",
    "plt.title('Receiver Operating Characteristic (ROC) Curve')\n",
    "plt.legend()\n",
    "plt.show()\n",
    "\n",
    "auc = metrics.roc_auc_score(y_test, y_probs[:,1])\n",
    "print('AUC: %.2f' % auc)"
   ]
  },
  {
   "cell_type": "code",
   "execution_count": 88,
   "metadata": {},
   "outputs": [
    {
     "data": {
      "image/png": "[encoded data removed]",
      "text/plain": [
       "<Figure size 432x288 with 1 Axes>"
      ]
     },
     "metadata": {
      "needs_background": "light"
     },
     "output_type": "display_data"
    },
    {
     "name": "stdout",
     "output_type": "stream",
     "text": [
      "AUC: 0.91\n"
     ]
    }
   ],
   "source": [
    "# and with all PC\n",
    "\n",
    "model = KNeighborsClassifier(n_neighbors=11)\n",
    "model.fit(X_train_pca, y_train)\n",
    "y_pred = model.predict(X_test_pca)\n",
    "\n",
    "y_probs = model.predict_proba(X_test_pca) #predict_proba gives the probabilities for the target (0 and 1 in your case) \n",
    "\n",
    "fpr, tpr, thresholds=metrics.roc_curve(y_test,  y_probs[:,1])\n",
    "\n",
    "import matplotlib.pyplot as plt\n",
    "plt.plot(fpr, tpr, label='ROC')\n",
    "plt.plot([0, 1], [0, 1], color='darkblue', linestyle='--')\n",
    "plt.xlabel('False Positive Rate')\n",
    "plt.ylabel('True Positive Rate')\n",
    "plt.title('Receiver Operating Characteristic (ROC) Curve')\n",
    "plt.legend()\n",
    "plt.show()\n",
    "\n",
    "auc = metrics.roc_auc_score(y_test, y_probs[:,1])\n",
    "print('AUC: %.2f' % auc)"
   ]
  },
  {
   "cell_type": "code",
   "execution_count": null,
   "metadata": {},
   "outputs": [],
   "source": []
  }
 ],
 "metadata": {
  "kernelspec": {
   "display_name": "Python 3",
   "language": "python",
   "name": "python3"
  },
  "language_info": {
   "codemirror_mode": {
    "name": "ipython",
    "version": 3
   },
   "file_extension": ".py",
   "mimetype": "text/x-python",
   "name": "python",
   "nbconvert_exporter": "python",
   "pygments_lexer": "ipython3",
   "version": "3.7.6"
  }
 },
 "nbformat": 4,
 "nbformat_minor": 2
}
